{
  "nbformat": 4,
  "nbformat_minor": 0,
  "metadata": {
    "colab": {
      "provenance": [],
      "authorship_tag": "ABX9TyOOQP2NXQ6zPqn2UlutI7dG",
      "include_colab_link": true
    },
    "kernelspec": {
      "name": "python3",
      "display_name": "Python 3"
    },
    "language_info": {
      "name": "python"
    }
  },
  "cells": [
    {
      "cell_type": "markdown",
      "metadata": {
        "id": "view-in-github",
        "colab_type": "text"
      },
      "source": [
        "<a href=\"https://colab.research.google.com/github/chetools/CHE4071_Fall2024/blob/main/StabilityAnalysis.ipynb\" target=\"_parent\"><img src=\"https://colab.research.google.com/assets/colab-badge.svg\" alt=\"Open In Colab\"/></a>"
      ]
    },
    {
      "cell_type": "code",
      "execution_count": 1,
      "metadata": {
        "colab": {
          "base_uri": "https://localhost:8080/"
        },
        "id": "2IVvN85dWumt",
        "outputId": "a811540e-3afb-43fc-fadd-cc9c2d68df52"
      },
      "outputs": [
        {
          "output_type": "stream",
          "name": "stdout",
          "text": [
            "Collecting importnb\n",
            "  Downloading importnb-2023.11.1-py3-none-any.whl.metadata (9.4 kB)\n",
            "Downloading importnb-2023.11.1-py3-none-any.whl (45 kB)\n",
            "\u001b[2K   \u001b[90m━━━━━━━━━━━━━━━━━━━━━━━━━━━━━━━━━━━━━━━━\u001b[0m \u001b[32m46.0/46.0 kB\u001b[0m \u001b[31m1.8 MB/s\u001b[0m eta \u001b[36m0:00:00\u001b[0m\n",
            "\u001b[?25hInstalling collected packages: importnb\n",
            "Successfully installed importnb-2023.11.1\n"
          ]
        }
      ],
      "source": [
        "!wget -N -q https://raw.githubusercontent.com/chetools/chetools/main/tools/che5.ipynb -O che5.ipynb\n",
        "!pip install importnb"
      ]
    },
    {
      "cell_type": "code",
      "source": [
        "from importnb import Notebook\n",
        "with Notebook():\n",
        "    from che5 import sim, pid, TF1, TF2, shift\n",
        "\n",
        "import numpy as np\n",
        "import jax\n",
        "import jax.numpy as jnp\n",
        "jax.config.update(\"jax_enable_x64\", True)\n",
        "\n",
        "from plotly.subplots import make_subplots\n",
        "\n",
        "import sympy\n",
        "from sympy.abc import s\n",
        "from sympy import exp, Symbol, simplify\n",
        "import scipy as sp\n",
        "import scipy.signal as sig\n",
        "from scipy.integrate import solve_ivp\n",
        "from scipy.optimize import root, minimize"
      ],
      "metadata": {
        "id": "W0bo2gMdWwAr"
      },
      "execution_count": 2,
      "outputs": []
    },
    {
      "cell_type": "code",
      "source": [
        "Ac = 0.9\n",
        "b = 0.29\n",
        "Kc=1.\n",
        "qin_ss = 1.12\n",
        "h_initial_ss = np.full(3, qin_ss/b)\n",
        "h3sp_initial = h_initial_ss[-1]\n",
        "\n",
        "\n",
        "def rhs(t, v, h3sp):\n",
        "    h1, h2, h3 = v\n",
        "    err = h3sp - h3\n",
        "    q12 = b*h1\n",
        "    q23 = b*h2\n",
        "    q3 = b*h3\n",
        "    qin1 = qin_ss + Kc*err\n",
        "\n",
        "    dh1  = (qin1 - q12)/Ac\n",
        "    dh2 = (q12 - q23)/Ac\n",
        "    dh3 = (q23 - q3 )/Ac\n",
        "    return jnp.array([dh1, dh2, dh3])"
      ],
      "metadata": {
        "id": "-7L45cEz2nye"
      },
      "execution_count": 23,
      "outputs": []
    },
    {
      "cell_type": "code",
      "source": [
        "h3sp_initial"
      ],
      "metadata": {
        "colab": {
          "base_uri": "https://localhost:8080/"
        },
        "id": "K8piuanJk_5I",
        "outputId": "3316b3d4-ed33-4128-8063-f98963344c6f"
      },
      "execution_count": 24,
      "outputs": [
        {
          "output_type": "execute_result",
          "data": {
            "text/plain": [
              "3.862068965517242"
            ]
          },
          "metadata": {},
          "execution_count": 24
        }
      ]
    },
    {
      "cell_type": "code",
      "source": [
        "tend=100\n",
        "res=solve_ivp(lambda t, v: rhs(t, v, h3sp_initial+1.), (0,tend ), h_initial_ss, method='Radau', dense_output=True)\n",
        "res"
      ],
      "metadata": {
        "id": "gHLp2E2pPGZb",
        "colab": {
          "base_uri": "https://localhost:8080/"
        },
        "outputId": "0a73fe53-1287-41f3-928d-a8b4e31176f9"
      },
      "execution_count": 25,
      "outputs": [
        {
          "output_type": "execute_result",
          "data": {
            "text/plain": [
              "  message: The solver successfully reached the end of the integration interval.\n",
              "  success: True\n",
              "   status: 0\n",
              "        t: [ 0.000e+00  8.809e-02 ...  8.760e+01  1.000e+02]\n",
              "        y: [[ 3.862e+00  3.959e+00 ...  4.636e+00  4.638e+00]\n",
              "            [ 3.862e+00  3.863e+00 ...  4.637e+00  4.638e+00]\n",
              "            [ 3.862e+00  3.862e+00 ...  4.638e+00  4.637e+00]]\n",
              "      sol: <scipy.integrate._ivp.common.OdeSolution object at 0x7c7d242e34c0>\n",
              " t_events: None\n",
              " y_events: None\n",
              "     nfev: 170\n",
              "     njev: 1\n",
              "      nlu: 24"
            ]
          },
          "metadata": {},
          "execution_count": 25
        }
      ]
    },
    {
      "cell_type": "code",
      "source": [
        "tplot = np.linspace(0,tend,100)\n",
        "fig=make_subplots()\n",
        "# fig.add_scatter(x=t,y=h3_dev+h_initial_ss[2], name='linear')\n",
        "fig.add_scatter(x=tplot, y= res.sol(tplot)[2], name='solve_ivp')\n",
        "fig.update_layout(width=600, height=400, template='plotly_dark')"
      ],
      "metadata": {
        "colab": {
          "base_uri": "https://localhost:8080/",
          "height": 417
        },
        "id": "TJKk9CPfVQyt",
        "outputId": "5d3e7825-1362-4f9c-b220-765a6b59e2fe"
      },
      "execution_count": 26,
      "outputs": [
        {
          "output_type": "display_data",
          "data": {
            "text/html": [
              "<html>\n",
              "<head><meta charset=\"utf-8\" /></head>\n",
              "<body>\n",
              "    <div>            <script src=\"https://cdnjs.cloudflare.com/ajax/libs/mathjax/2.7.5/MathJax.js?config=TeX-AMS-MML_SVG\"></script><script type=\"text/javascript\">if (window.MathJax && window.MathJax.Hub && window.MathJax.Hub.Config) {window.MathJax.Hub.Config({SVG: {font: \"STIX-Web\"}});}</script>                <script type=\"text/javascript\">window.PlotlyConfig = {MathJaxConfig: 'local'};</script>\n",
              "        <script charset=\"utf-8\" src=\"https://cdn.plot.ly/plotly-2.35.2.min.js\"></script>                <div id=\"1c45a377-804d-4a57-9243-a14688008c70\" class=\"plotly-graph-div\" style=\"height:400px; width:600px;\"></div>            <script type=\"text/javascript\">                                    window.PLOTLYENV=window.PLOTLYENV || {};                                    if (document.getElementById(\"1c45a377-804d-4a57-9243-a14688008c70\")) {                    Plotly.newPlot(                        \"1c45a377-804d-4a57-9243-a14688008c70\",                        [{\"name\":\"solve_ivp\",\"x\":[0.0,1.0101010101010102,2.0202020202020203,3.0303030303030303,4.040404040404041,5.050505050505051,6.0606060606060606,7.070707070707071,8.080808080808081,9.090909090909092,10.101010101010102,11.111111111111112,12.121212121212121,13.131313131313131,14.141414141414142,15.151515151515152,16.161616161616163,17.171717171717173,18.181818181818183,19.191919191919194,20.202020202020204,21.212121212121215,22.222222222222225,23.232323232323235,24.242424242424242,25.252525252525253,26.262626262626263,27.272727272727273,28.282828282828284,29.292929292929294,30.303030303030305,31.313131313131315,32.323232323232325,33.333333333333336,34.343434343434346,35.35353535353536,36.36363636363637,37.37373737373738,38.38383838383839,39.3939393939394,40.40404040404041,41.41414141414142,42.42424242424243,43.43434343434344,44.44444444444445,45.45454545454546,46.46464646464647,47.47474747474748,48.484848484848484,49.494949494949495,50.505050505050505,51.515151515151516,52.525252525252526,53.535353535353536,54.54545454545455,55.55555555555556,56.56565656565657,57.57575757575758,58.58585858585859,59.5959595959596,60.60606060606061,61.61616161616162,62.62626262626263,63.63636363636364,64.64646464646465,65.65656565656566,66.66666666666667,67.67676767676768,68.68686868686869,69.6969696969697,70.70707070707071,71.71717171717172,72.72727272727273,73.73737373737374,74.74747474747475,75.75757575757576,76.76767676767678,77.77777777777779,78.7878787878788,79.7979797979798,80.80808080808082,81.81818181818183,82.82828282828284,83.83838383838385,84.84848484848486,85.85858585858587,86.86868686868688,87.87878787878789,88.8888888888889,89.89898989898991,90.90909090909092,91.91919191919193,92.92929292929294,93.93939393939395,94.94949494949496,95.95959595959597,96.96969696969697,97.97979797979798,98.98989898989899,100.0],\"y\":[3.862068965517242,3.8775218362478756,3.959659907572423,4.117991870232301,4.33000136323687,4.5581539978184855,4.763370958050521,4.91682921174514,4.998046680324006,5.0065936850657655,4.950357818165366,4.8489576503210525,4.726033985716474,4.606695646492803,4.509632262636162,4.4486654538845976,4.42922734180616,4.447753647834622,4.496167885859488,4.561422673280128,4.630174574205027,4.6897341278740186,4.732187017242553,4.751361403217869,4.748393319746754,4.727413067345188,4.693612127160596,4.6556490867708655,4.619859579945478,4.592028999121988,4.576676726445132,4.573580763724939,4.58170930887634,4.598255087296071,4.618903495809191,4.639739509816635,4.657377669613438,4.668246166567457,4.672510481878728,4.670505701235037,4.662726119722526,4.651978085440935,4.64036939760404,4.629778738576436,4.621831456033199,4.6180772089466124,4.618208618221373,4.621327989236922,4.6265376273727,4.633110603957412,4.63935636595537,4.644010596089783,4.646943799963836,4.648026483180716,4.647102071735943,4.644429472117827,4.641127480732355,4.637687253560962,4.6345999465850785,4.632356715786138,4.631471243044451,4.631684195991064,4.632701600395199,4.634248891169763,4.6360515032276615,4.6378348714818,4.639324430845084,4.640144368186618,4.640291317565959,4.639999431282968,4.639386285551912,4.638569456587057,4.63766652060267,4.636795053813014,4.636072632432356,4.635616832674962,4.635716292303864,4.636025087734585,4.636366702749957,4.63672164770574,4.637070432957702,4.6373935688616035,4.637671565773209,4.63788493404828,4.638014184042583,4.638039826111879,4.637942370611932,4.637682577524113,4.637372472732259,4.6371465396056335,4.636995314219722,4.63690933265001,4.63687913097198,4.63689524526112,4.636948211592913,4.637028566042845,4.6371268446864,4.637233583599064,4.637339318856322,4.637434586533657],\"type\":\"scatter\"}],                        {\"template\":{\"data\":{\"barpolar\":[{\"marker\":{\"line\":{\"color\":\"rgb(17,17,17)\",\"width\":0.5},\"pattern\":{\"fillmode\":\"overlay\",\"size\":10,\"solidity\":0.2}},\"type\":\"barpolar\"}],\"bar\":[{\"error_x\":{\"color\":\"#f2f5fa\"},\"error_y\":{\"color\":\"#f2f5fa\"},\"marker\":{\"line\":{\"color\":\"rgb(17,17,17)\",\"width\":0.5},\"pattern\":{\"fillmode\":\"overlay\",\"size\":10,\"solidity\":0.2}},\"type\":\"bar\"}],\"carpet\":[{\"aaxis\":{\"endlinecolor\":\"#A2B1C6\",\"gridcolor\":\"#506784\",\"linecolor\":\"#506784\",\"minorgridcolor\":\"#506784\",\"startlinecolor\":\"#A2B1C6\"},\"baxis\":{\"endlinecolor\":\"#A2B1C6\",\"gridcolor\":\"#506784\",\"linecolor\":\"#506784\",\"minorgridcolor\":\"#506784\",\"startlinecolor\":\"#A2B1C6\"},\"type\":\"carpet\"}],\"choropleth\":[{\"colorbar\":{\"outlinewidth\":0,\"ticks\":\"\"},\"type\":\"choropleth\"}],\"contourcarpet\":[{\"colorbar\":{\"outlinewidth\":0,\"ticks\":\"\"},\"type\":\"contourcarpet\"}],\"contour\":[{\"colorbar\":{\"outlinewidth\":0,\"ticks\":\"\"},\"colorscale\":[[0.0,\"#0d0887\"],[0.1111111111111111,\"#46039f\"],[0.2222222222222222,\"#7201a8\"],[0.3333333333333333,\"#9c179e\"],[0.4444444444444444,\"#bd3786\"],[0.5555555555555556,\"#d8576b\"],[0.6666666666666666,\"#ed7953\"],[0.7777777777777778,\"#fb9f3a\"],[0.8888888888888888,\"#fdca26\"],[1.0,\"#f0f921\"]],\"type\":\"contour\"}],\"heatmapgl\":[{\"colorbar\":{\"outlinewidth\":0,\"ticks\":\"\"},\"colorscale\":[[0.0,\"#0d0887\"],[0.1111111111111111,\"#46039f\"],[0.2222222222222222,\"#7201a8\"],[0.3333333333333333,\"#9c179e\"],[0.4444444444444444,\"#bd3786\"],[0.5555555555555556,\"#d8576b\"],[0.6666666666666666,\"#ed7953\"],[0.7777777777777778,\"#fb9f3a\"],[0.8888888888888888,\"#fdca26\"],[1.0,\"#f0f921\"]],\"type\":\"heatmapgl\"}],\"heatmap\":[{\"colorbar\":{\"outlinewidth\":0,\"ticks\":\"\"},\"colorscale\":[[0.0,\"#0d0887\"],[0.1111111111111111,\"#46039f\"],[0.2222222222222222,\"#7201a8\"],[0.3333333333333333,\"#9c179e\"],[0.4444444444444444,\"#bd3786\"],[0.5555555555555556,\"#d8576b\"],[0.6666666666666666,\"#ed7953\"],[0.7777777777777778,\"#fb9f3a\"],[0.8888888888888888,\"#fdca26\"],[1.0,\"#f0f921\"]],\"type\":\"heatmap\"}],\"histogram2dcontour\":[{\"colorbar\":{\"outlinewidth\":0,\"ticks\":\"\"},\"colorscale\":[[0.0,\"#0d0887\"],[0.1111111111111111,\"#46039f\"],[0.2222222222222222,\"#7201a8\"],[0.3333333333333333,\"#9c179e\"],[0.4444444444444444,\"#bd3786\"],[0.5555555555555556,\"#d8576b\"],[0.6666666666666666,\"#ed7953\"],[0.7777777777777778,\"#fb9f3a\"],[0.8888888888888888,\"#fdca26\"],[1.0,\"#f0f921\"]],\"type\":\"histogram2dcontour\"}],\"histogram2d\":[{\"colorbar\":{\"outlinewidth\":0,\"ticks\":\"\"},\"colorscale\":[[0.0,\"#0d0887\"],[0.1111111111111111,\"#46039f\"],[0.2222222222222222,\"#7201a8\"],[0.3333333333333333,\"#9c179e\"],[0.4444444444444444,\"#bd3786\"],[0.5555555555555556,\"#d8576b\"],[0.6666666666666666,\"#ed7953\"],[0.7777777777777778,\"#fb9f3a\"],[0.8888888888888888,\"#fdca26\"],[1.0,\"#f0f921\"]],\"type\":\"histogram2d\"}],\"histogram\":[{\"marker\":{\"pattern\":{\"fillmode\":\"overlay\",\"size\":10,\"solidity\":0.2}},\"type\":\"histogram\"}],\"mesh3d\":[{\"colorbar\":{\"outlinewidth\":0,\"ticks\":\"\"},\"type\":\"mesh3d\"}],\"parcoords\":[{\"line\":{\"colorbar\":{\"outlinewidth\":0,\"ticks\":\"\"}},\"type\":\"parcoords\"}],\"pie\":[{\"automargin\":true,\"type\":\"pie\"}],\"scatter3d\":[{\"line\":{\"colorbar\":{\"outlinewidth\":0,\"ticks\":\"\"}},\"marker\":{\"colorbar\":{\"outlinewidth\":0,\"ticks\":\"\"}},\"type\":\"scatter3d\"}],\"scattercarpet\":[{\"marker\":{\"colorbar\":{\"outlinewidth\":0,\"ticks\":\"\"}},\"type\":\"scattercarpet\"}],\"scattergeo\":[{\"marker\":{\"colorbar\":{\"outlinewidth\":0,\"ticks\":\"\"}},\"type\":\"scattergeo\"}],\"scattergl\":[{\"marker\":{\"line\":{\"color\":\"#283442\"}},\"type\":\"scattergl\"}],\"scattermapbox\":[{\"marker\":{\"colorbar\":{\"outlinewidth\":0,\"ticks\":\"\"}},\"type\":\"scattermapbox\"}],\"scatterpolargl\":[{\"marker\":{\"colorbar\":{\"outlinewidth\":0,\"ticks\":\"\"}},\"type\":\"scatterpolargl\"}],\"scatterpolar\":[{\"marker\":{\"colorbar\":{\"outlinewidth\":0,\"ticks\":\"\"}},\"type\":\"scatterpolar\"}],\"scatter\":[{\"marker\":{\"line\":{\"color\":\"#283442\"}},\"type\":\"scatter\"}],\"scatterternary\":[{\"marker\":{\"colorbar\":{\"outlinewidth\":0,\"ticks\":\"\"}},\"type\":\"scatterternary\"}],\"surface\":[{\"colorbar\":{\"outlinewidth\":0,\"ticks\":\"\"},\"colorscale\":[[0.0,\"#0d0887\"],[0.1111111111111111,\"#46039f\"],[0.2222222222222222,\"#7201a8\"],[0.3333333333333333,\"#9c179e\"],[0.4444444444444444,\"#bd3786\"],[0.5555555555555556,\"#d8576b\"],[0.6666666666666666,\"#ed7953\"],[0.7777777777777778,\"#fb9f3a\"],[0.8888888888888888,\"#fdca26\"],[1.0,\"#f0f921\"]],\"type\":\"surface\"}],\"table\":[{\"cells\":{\"fill\":{\"color\":\"#506784\"},\"line\":{\"color\":\"rgb(17,17,17)\"}},\"header\":{\"fill\":{\"color\":\"#2a3f5f\"},\"line\":{\"color\":\"rgb(17,17,17)\"}},\"type\":\"table\"}]},\"layout\":{\"annotationdefaults\":{\"arrowcolor\":\"#f2f5fa\",\"arrowhead\":0,\"arrowwidth\":1},\"autotypenumbers\":\"strict\",\"coloraxis\":{\"colorbar\":{\"outlinewidth\":0,\"ticks\":\"\"}},\"colorscale\":{\"diverging\":[[0,\"#8e0152\"],[0.1,\"#c51b7d\"],[0.2,\"#de77ae\"],[0.3,\"#f1b6da\"],[0.4,\"#fde0ef\"],[0.5,\"#f7f7f7\"],[0.6,\"#e6f5d0\"],[0.7,\"#b8e186\"],[0.8,\"#7fbc41\"],[0.9,\"#4d9221\"],[1,\"#276419\"]],\"sequential\":[[0.0,\"#0d0887\"],[0.1111111111111111,\"#46039f\"],[0.2222222222222222,\"#7201a8\"],[0.3333333333333333,\"#9c179e\"],[0.4444444444444444,\"#bd3786\"],[0.5555555555555556,\"#d8576b\"],[0.6666666666666666,\"#ed7953\"],[0.7777777777777778,\"#fb9f3a\"],[0.8888888888888888,\"#fdca26\"],[1.0,\"#f0f921\"]],\"sequentialminus\":[[0.0,\"#0d0887\"],[0.1111111111111111,\"#46039f\"],[0.2222222222222222,\"#7201a8\"],[0.3333333333333333,\"#9c179e\"],[0.4444444444444444,\"#bd3786\"],[0.5555555555555556,\"#d8576b\"],[0.6666666666666666,\"#ed7953\"],[0.7777777777777778,\"#fb9f3a\"],[0.8888888888888888,\"#fdca26\"],[1.0,\"#f0f921\"]]},\"colorway\":[\"#636efa\",\"#EF553B\",\"#00cc96\",\"#ab63fa\",\"#FFA15A\",\"#19d3f3\",\"#FF6692\",\"#B6E880\",\"#FF97FF\",\"#FECB52\"],\"font\":{\"color\":\"#f2f5fa\"},\"geo\":{\"bgcolor\":\"rgb(17,17,17)\",\"lakecolor\":\"rgb(17,17,17)\",\"landcolor\":\"rgb(17,17,17)\",\"showlakes\":true,\"showland\":true,\"subunitcolor\":\"#506784\"},\"hoverlabel\":{\"align\":\"left\"},\"hovermode\":\"closest\",\"mapbox\":{\"style\":\"dark\"},\"paper_bgcolor\":\"rgb(17,17,17)\",\"plot_bgcolor\":\"rgb(17,17,17)\",\"polar\":{\"angularaxis\":{\"gridcolor\":\"#506784\",\"linecolor\":\"#506784\",\"ticks\":\"\"},\"bgcolor\":\"rgb(17,17,17)\",\"radialaxis\":{\"gridcolor\":\"#506784\",\"linecolor\":\"#506784\",\"ticks\":\"\"}},\"scene\":{\"xaxis\":{\"backgroundcolor\":\"rgb(17,17,17)\",\"gridcolor\":\"#506784\",\"gridwidth\":2,\"linecolor\":\"#506784\",\"showbackground\":true,\"ticks\":\"\",\"zerolinecolor\":\"#C8D4E3\"},\"yaxis\":{\"backgroundcolor\":\"rgb(17,17,17)\",\"gridcolor\":\"#506784\",\"gridwidth\":2,\"linecolor\":\"#506784\",\"showbackground\":true,\"ticks\":\"\",\"zerolinecolor\":\"#C8D4E3\"},\"zaxis\":{\"backgroundcolor\":\"rgb(17,17,17)\",\"gridcolor\":\"#506784\",\"gridwidth\":2,\"linecolor\":\"#506784\",\"showbackground\":true,\"ticks\":\"\",\"zerolinecolor\":\"#C8D4E3\"}},\"shapedefaults\":{\"line\":{\"color\":\"#f2f5fa\"}},\"sliderdefaults\":{\"bgcolor\":\"#C8D4E3\",\"bordercolor\":\"rgb(17,17,17)\",\"borderwidth\":1,\"tickwidth\":0},\"ternary\":{\"aaxis\":{\"gridcolor\":\"#506784\",\"linecolor\":\"#506784\",\"ticks\":\"\"},\"baxis\":{\"gridcolor\":\"#506784\",\"linecolor\":\"#506784\",\"ticks\":\"\"},\"bgcolor\":\"rgb(17,17,17)\",\"caxis\":{\"gridcolor\":\"#506784\",\"linecolor\":\"#506784\",\"ticks\":\"\"}},\"title\":{\"x\":0.05},\"updatemenudefaults\":{\"bgcolor\":\"#506784\",\"borderwidth\":0},\"xaxis\":{\"automargin\":true,\"gridcolor\":\"#283442\",\"linecolor\":\"#506784\",\"ticks\":\"\",\"title\":{\"standoff\":15},\"zerolinecolor\":\"#283442\",\"zerolinewidth\":2},\"yaxis\":{\"automargin\":true,\"gridcolor\":\"#283442\",\"linecolor\":\"#506784\",\"ticks\":\"\",\"title\":{\"standoff\":15},\"zerolinecolor\":\"#283442\",\"zerolinewidth\":2}}},\"xaxis\":{\"anchor\":\"y\",\"domain\":[0.0,1.0]},\"yaxis\":{\"anchor\":\"x\",\"domain\":[0.0,1.0]},\"width\":600,\"height\":400},                        {\"responsive\": true}                    ).then(function(){\n",
              "                            \n",
              "var gd = document.getElementById('1c45a377-804d-4a57-9243-a14688008c70');\n",
              "var x = new MutationObserver(function (mutations, observer) {{\n",
              "        var display = window.getComputedStyle(gd).display;\n",
              "        if (!display || display === 'none') {{\n",
              "            console.log([gd, 'removed!']);\n",
              "            Plotly.purge(gd);\n",
              "            observer.disconnect();\n",
              "        }}\n",
              "}});\n",
              "\n",
              "// Listen for the removal of the full notebook cells\n",
              "var notebookContainer = gd.closest('#notebook-container');\n",
              "if (notebookContainer) {{\n",
              "    x.observe(notebookContainer, {childList: true});\n",
              "}}\n",
              "\n",
              "// Listen for the clearing of the current output cell\n",
              "var outputEl = gd.closest('.output');\n",
              "if (outputEl) {{\n",
              "    x.observe(outputEl, {childList: true});\n",
              "}}\n",
              "\n",
              "                        })                };                            </script>        </div>\n",
              "</body>\n",
              "</html>"
            ]
          },
          "metadata": {}
        }
      ]
    },
    {
      "cell_type": "code",
      "source": [
        "K=1/b\n",
        "Kc*K/(1+Kc*K)"
      ],
      "metadata": {
        "id": "MqpF4ziMXIim",
        "colab": {
          "base_uri": "https://localhost:8080/"
        },
        "outputId": "cb7eb7ee-9367-463c-8e3c-cd4ed57fe881"
      },
      "execution_count": 27,
      "outputs": [
        {
          "output_type": "execute_result",
          "data": {
            "text/plain": [
              "0.7751937984496123"
            ]
          },
          "metadata": {},
          "execution_count": 27
        }
      ]
    },
    {
      "cell_type": "code",
      "source": [
        "res.sol(tplot)[2][-1] - res.sol(tplot)[2][0]"
      ],
      "metadata": {
        "colab": {
          "base_uri": "https://localhost:8080/"
        },
        "id": "5g-Z5v3nmQvb",
        "outputId": "666c5c38-1aa5-4073-d8b8-3f12f84b95da"
      },
      "execution_count": 29,
      "outputs": [
        {
          "output_type": "execute_result",
          "data": {
            "text/plain": [
              "0.775365621016415"
            ]
          },
          "metadata": {},
          "execution_count": 29
        }
      ]
    },
    {
      "cell_type": "code",
      "source": [],
      "metadata": {
        "id": "ERHO_5g2mbnC"
      },
      "execution_count": null,
      "outputs": []
    }
  ]
}