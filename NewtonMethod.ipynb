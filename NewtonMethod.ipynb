{
  "nbformat": 4,
  "nbformat_minor": 0,
  "metadata": {
    "colab": {
      "provenance": [],
      "authorship_tag": "ABX9TyOqbhFMlAWwA7Zhxd6V9gsQ",
      "include_colab_link": true
    },
    "kernelspec": {
      "name": "python3",
      "display_name": "Python 3"
    },
    "language_info": {
      "name": "python"
    }
  },
  "cells": [
    {
      "cell_type": "markdown",
      "metadata": {
        "id": "view-in-github",
        "colab_type": "text"
      },
      "source": [
        "<a href=\"https://colab.research.google.com/github/chetools/CHE4071_Fall2024/blob/main/NewtonMethod.ipynb\" target=\"_parent\"><img src=\"https://colab.research.google.com/assets/colab-badge.svg\" alt=\"Open In Colab\"/></a>"
      ]
    },
    {
      "cell_type": "code",
      "execution_count": 11,
      "metadata": {
        "id": "68V6eDaJY2x1"
      },
      "outputs": [],
      "source": [
        "import numpy as np\n",
        "import jax.numpy as jnp\n",
        "import jax\n",
        "jax.config.update(\"jax_enable_x64\", True)"
      ]
    },
    {
      "cell_type": "code",
      "source": [
        "def my_func(x):\n",
        "    return (x-3.)*(x+2.5)*(x-5.)"
      ],
      "metadata": {
        "id": "58dYsDHLdUl-"
      },
      "execution_count": 3,
      "outputs": []
    },
    {
      "cell_type": "code",
      "source": [
        "def deriv(f, x, dx=1e-8):\n",
        "    return (f(x+dx)-f(x))/dx"
      ],
      "metadata": {
        "id": "iHqoCSaAd42l"
      },
      "execution_count": 4,
      "outputs": []
    },
    {
      "cell_type": "code",
      "source": [
        "def newton(f, x1, max_iter=100, tol=1e-12):\n",
        "    for i in range(max_iter):\n",
        "        x2 = x1 - f(x1)/deriv(f, x1)\n",
        "        print(i, x2, f(x2))\n",
        "        if np.abs(f(x2))<tol:\n",
        "            break\n",
        "        x1=x2\n",
        "    return x2, f(x2), i"
      ],
      "metadata": {
        "id": "M2oEJx6AddJV"
      },
      "execution_count": 7,
      "outputs": []
    },
    {
      "cell_type": "code",
      "source": [
        "newton(my_func, 2.8)"
      ],
      "metadata": {
        "colab": {
          "base_uri": "https://localhost:8080/"
        },
        "id": "VItMO5-6enjQ",
        "outputId": "e25f95a8-643a-40ad-a1e9-253d2a37a675"
      },
      "execution_count": 10,
      "outputs": [
        {
          "output_type": "stream",
          "name": "stdout",
          "text": [
            "0 2.9899022822733463 0.11143073905198199\n",
            "1 2.9999679492927167 0.0003525613754507317\n",
            "2 2.9999999996734577 3.5919658362539327e-09\n",
            "3 3.0 -0.0\n"
          ]
        },
        {
          "output_type": "execute_result",
          "data": {
            "text/plain": [
              "(3.0, -0.0, 3)"
            ]
          },
          "metadata": {},
          "execution_count": 10
        }
      ]
    },
    {
      "cell_type": "code",
      "source": [
        "def my_func2(x):\n",
        "    return jnp.array([x[0]  + 0.5 * (x[0] - x[1])**3 - 1.0,\n",
        "            0.5 * (x[1] - x[0])**3 + x[1]])"
      ],
      "metadata": {
        "id": "kBxZ7yPUerwf"
      },
      "execution_count": 12,
      "outputs": []
    },
    {
      "cell_type": "code",
      "source": [
        "my_func2_jac = jax.jacobian(my_func2)"
      ],
      "metadata": {
        "id": "k1ppuRgHjZkP"
      },
      "execution_count": 13,
      "outputs": []
    },
    {
      "cell_type": "code",
      "source": [
        "x0=jnp.array([0.1,0.2])"
      ],
      "metadata": {
        "id": "30o8dtJ3jddv"
      },
      "execution_count": 17,
      "outputs": []
    },
    {
      "cell_type": "code",
      "source": [
        "def root_solver(f, x1, max_iter=100, tol=1e-12):\n",
        "    f_jac = jax.jacobian(f)\n",
        "    for i in range(max_iter):\n",
        "        x2 = x1 - jnp.linalg.inv(f_jac(x1)) @ f(x1)\n",
        "        print(i, x2, f(x2))\n",
        "        if jnp.linalg.norm(f(x2))<tol:\n",
        "            break\n",
        "        x1=x2\n",
        "    return x2, f(x2), i\n"
      ],
      "metadata": {
        "id": "27JakaJLjuWf"
      },
      "execution_count": 23,
      "outputs": []
    },
    {
      "cell_type": "code",
      "source": [
        "root_solver(my_func2, x0)"
      ],
      "metadata": {
        "colab": {
          "base_uri": "https://localhost:8080/"
        },
        "id": "docSmRi7kpXR",
        "outputId": "e6702160-803c-44db-ef64-56750a5400b1"
      },
      "execution_count": 26,
      "outputs": [
        {
          "output_type": "stream",
          "name": "stdout",
          "text": [
            "0 [0.98446602 0.01553398] [ 0.43929691 -0.43929691]\n",
            "1 [0.869361 0.130639] [ 0.07092506 -0.07092506]\n",
            "2 [0.84246621 0.15753379] [ 0.00312822 -0.00312822]\n",
            "3 [0.84116679 0.15883321] [ 6.93024829e-06 -6.93024829e-06]\n",
            "4 [0.8411639 0.1588361] [ 3.42297302e-11 -3.42297579e-11]\n",
            "5 [0.8411639 0.1588361] [ 0.00000000e+00 -5.55111512e-17]\n"
          ]
        },
        {
          "output_type": "execute_result",
          "data": {
            "text/plain": [
              "(Array([0.8411639, 0.1588361], dtype=float64),\n",
              " Array([ 0.00000000e+00, -5.55111512e-17], dtype=float64),\n",
              " 5)"
            ]
          },
          "metadata": {},
          "execution_count": 26
        }
      ]
    },
    {
      "cell_type": "code",
      "source": [],
      "metadata": {
        "id": "9S7aABT4k2Zp"
      },
      "execution_count": null,
      "outputs": []
    }
  ]
}