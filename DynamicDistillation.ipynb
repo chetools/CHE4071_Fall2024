{
  "nbformat": 4,
  "nbformat_minor": 0,
  "metadata": {
    "colab": {
      "provenance": [],
      "authorship_tag": "ABX9TyM0RsJhphQsa9ThN52O4B4O",
      "include_colab_link": true
    },
    "kernelspec": {
      "name": "python3",
      "display_name": "Python 3"
    },
    "language_info": {
      "name": "python"
    }
  },
  "cells": [
    {
      "cell_type": "markdown",
      "metadata": {
        "id": "view-in-github",
        "colab_type": "text"
      },
      "source": [
        "<a href=\"https://colab.research.google.com/github/chetools/CHE4071_Fall2024/blob/main/DynamicDistillation.ipynb\" target=\"_parent\"><img src=\"https://colab.research.google.com/assets/colab-badge.svg\" alt=\"Open In Colab\"/></a>"
      ]
    },
    {
      "cell_type": "code",
      "execution_count": null,
      "metadata": {
        "id": "UI2HDYbE0HqE"
      },
      "outputs": [],
      "source": [
        "from scipy.integrate import solve_ivp\n",
        "import numpy as np\n",
        "from plotly.subplots import make_subplots"
      ]
    },
    {
      "cell_type": "code",
      "source": [
        "#0  Condenser\n",
        "#1\n",
        "#2  Nr-1: feed is injected\n",
        "#3  Nr\n",
        "#4\n",
        "#5  Nr+Ns-2\n",
        "#6  Nr+Ns-1:  Reboiler\n",
        "\n",
        "Nr = 3\n",
        "Ns = 4\n",
        "\n",
        "F=1.5\n",
        "z=0.4\n",
        "q = 0.7\n",
        "\n",
        "m_holdup=np.r_[2., np.full(Nr+Ns-2, 0.5) ,5.]\n",
        "W=1."
      ],
      "metadata": {
        "id": "itLEByj_Dkqm"
      },
      "execution_count": null,
      "outputs": []
    },
    {
      "cell_type": "code",
      "source": [
        "def rhs(t, v):\n",
        "    m,x = np.split(v,2)\n",
        "    L = W*(m-m_holdup)**1.5\n",
        "\n",
        "    #On the condenser, there is weir, the overflowing liquid is split into D and L[0]\n",
        "    D = L[0]/(R+1)\n",
        "    L[0]-=D\n",
        "\n",
        "    V = L0 + D\n",
        "    Vbar = V - F*(1-q)\n"
      ],
      "metadata": {
        "id": "i3QSqAqWCMov"
      },
      "execution_count": null,
      "outputs": []
    },
    {
      "cell_type": "code",
      "source": [],
      "metadata": {
        "id": "LoSsiR66F6lS"
      },
      "execution_count": null,
      "outputs": []
    },
    {
      "cell_type": "code",
      "source": [],
      "metadata": {
        "id": "d7keqdodDinN"
      },
      "execution_count": null,
      "outputs": []
    }
  ]
}