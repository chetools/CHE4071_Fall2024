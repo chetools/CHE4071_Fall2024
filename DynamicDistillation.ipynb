{
  "nbformat": 4,
  "nbformat_minor": 0,
  "metadata": {
    "colab": {
      "provenance": [],
      "authorship_tag": "ABX9TyNAV4Y42z/EQtp1IpZ8+/e/",
      "include_colab_link": true
    },
    "kernelspec": {
      "name": "python3",
      "display_name": "Python 3"
    },
    "language_info": {
      "name": "python"
    }
  },
  "cells": [
    {
      "cell_type": "markdown",
      "metadata": {
        "id": "view-in-github",
        "colab_type": "text"
      },
      "source": [
        "<a href=\"https://colab.research.google.com/github/chetools/CHE4071_Fall2024/blob/main/DynamicDistillation.ipynb\" target=\"_parent\"><img src=\"https://colab.research.google.com/assets/colab-badge.svg\" alt=\"Open In Colab\"/></a>"
      ]
    },
    {
      "cell_type": "code",
      "execution_count": 2,
      "metadata": {
        "id": "UI2HDYbE0HqE"
      },
      "outputs": [],
      "source": [
        "from scipy.integrate import solve_ivp\n",
        "import numpy as np\n",
        "from plotly.subplots import make_subplots"
      ]
    },
    {
      "cell_type": "code",
      "source": [
        "#0  Condenser\n",
        "#1\n",
        "#2  Nr-1\n",
        "#3  Feed Stage\n",
        "#4\n",
        "#5\n",
        "#6  Nr+Ns-1\n",
        "#7  Nr+Ns:  Reboiler\n",
        "\n",
        "Nr = 3\n",
        "Ns = 4\n",
        "\n",
        "F=1.5  #mol/s\n",
        "z=0.4\n",
        "q = 0.7\n",
        "\n",
        "alpha=2.\n",
        "stage_holdup=0.5\n",
        "feedstage_holdup = 0.75\n",
        "condenser_holdup = 5.\n",
        "reboiler_holdup = 5.\n",
        "m_holdup=np.r_[condenser_holdup, np.full(Nr-1, stage_holdup), feedstage_holdup, np.full(Ns-1, stage_holdup) ,reboiler_holdup]\n",
        "W=1.  # 1/(s mol**0.5)\n",
        "\n",
        "#initial conditions\n",
        "m0 = m_holdup*1.05  #initial number moles on each stage is set slightly higher than holdup to yield a little flow\n",
        "x0 = np.full_like(m0, z)  #fill each stage with feed composition\n"
      ],
      "metadata": {
        "id": "itLEByj_Dkqm"
      },
      "execution_count": 19,
      "outputs": []
    },
    {
      "cell_type": "code",
      "source": [
        "def rhs(t, v):\n",
        "    R=2.\n",
        "    m,x = np.split(v,2)\n",
        "    y=alpha*x/(1-x+alpha*x)\n",
        "    dm = np.zeros_like(m)\n",
        "    dmx = np.zeros_like(m)\n",
        "    V = np.zeros_like(m)\n",
        "\n",
        "    L =  np.where(m<m_holdup, 0., W*(m-m_holdup)**1.5)\n",
        "\n",
        "    #On the condenser, there is weir, the overflowing liquid is split into D and L[0]\n",
        "    D = L[0]/(R+1)\n",
        "    L[0]-=D\n",
        "\n",
        "    Vrec = L[0] + D\n",
        "\n",
        "    V[1:Nr+1] = Vrec  #constant vapor flow rate in rectifying section\n",
        "    V[Nr+1:] = Vrec - F*(1-q)  #constant vapor flow rate in stripping section\n",
        "\n",
        "    dm[1:-1] =  L[:-2] - L[1:-1] + V[2:] - V[1:-1]\n",
        "    #  1to6      0to5      1to6     2to7     1to6\n",
        "    dm[Nr]+=F\n",
        "    dm[0] = V[1] - L[0] - D\n",
        "    dm[-1] = L[-2] - V[-1] - L[-1]\n",
        "\n",
        "    dmx[1:-1] =  x[:-2]*L[:-2] - x[1:-1]*L[1:-1] + y[2:]*V[2:] - y[1:-1]*V[1:-1]\n",
        "    dmx[Nr]+=z*F\n",
        "    dmx[0] = y[1]*V[1] - x[0]*L[0] - x[0]*D\n",
        "    dmx[-1] = x[-2]*L[-2] - y[-1]*V[-1] - x[-1]*L[-1]\n",
        "\n",
        "    dx = (dmx - x*dm)/m\n",
        "    return np.r_[dm, dx]"
      ],
      "metadata": {
        "id": "i3QSqAqWCMov"
      },
      "execution_count": 24,
      "outputs": []
    },
    {
      "cell_type": "code",
      "source": [
        "tend=1000\n",
        "res=solve_ivp(rhs, (0, tend), np.r_[m0, x0], method='Radau', dense_output=True)\n",
        "res"
      ],
      "metadata": {
        "colab": {
          "base_uri": "https://localhost:8080/"
        },
        "id": "Di7qQA3buT-G",
        "outputId": "059cf28e-a431-4e96-d6eb-651281cfa7ea"
      },
      "execution_count": 28,
      "outputs": [
        {
          "output_type": "execute_result",
          "data": {
            "text/plain": [
              "  message: The solver successfully reached the end of the integration interval.\n",
              "  success: True\n",
              "   status: 0\n",
              "        t: [ 0.000e+00  7.366e-02 ...  7.063e+02  1.000e+03]\n",
              "        y: [[ 5.250e+00  5.250e+00 ...  5.250e+00  5.250e+00]\n",
              "            [ 5.250e-01  5.308e-01 ...  6.908e-01  6.908e-01]\n",
              "            ...\n",
              "            [ 4.000e-01  4.000e-01 ...  3.421e-01  3.421e-01]\n",
              "            [ 4.000e-01  4.008e-01 ...  3.912e-01  3.912e-01]]\n",
              "      sol: <scipy.integrate._ivp.common.OdeSolution object at 0x7d5d499fa8c0>\n",
              " t_events: None\n",
              " y_events: None\n",
              "     nfev: 163\n",
              "     njev: 6\n",
              "      nlu: 40"
            ]
          },
          "metadata": {},
          "execution_count": 28
        }
      ]
    },
    {
      "cell_type": "code",
      "source": [
        "tplot=np.linspace(0,tend,9)"
      ],
      "metadata": {
        "id": "LymlCg2W2UPN"
      },
      "execution_count": 29,
      "outputs": []
    },
    {
      "cell_type": "code",
      "source": [
        "res.sol(tplot).shape"
      ],
      "metadata": {
        "id": "oGFoVkX60jfu",
        "outputId": "4d956714-0b69-4a34-9e97-ed0fd617ab45",
        "colab": {
          "base_uri": "https://localhost:8080/"
        }
      },
      "execution_count": 30,
      "outputs": [
        {
          "output_type": "execute_result",
          "data": {
            "text/plain": [
              "(16, 9)"
            ]
          },
          "metadata": {},
          "execution_count": 30
        }
      ]
    },
    {
      "cell_type": "code",
      "source": [],
      "metadata": {
        "id": "xg4jBs2-2I2U"
      },
      "execution_count": null,
      "outputs": []
    }
  ]
}