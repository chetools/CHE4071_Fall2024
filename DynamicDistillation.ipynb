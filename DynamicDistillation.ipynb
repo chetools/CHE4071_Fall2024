{
  "nbformat": 4,
  "nbformat_minor": 0,
  "metadata": {
    "colab": {
      "provenance": [],
      "authorship_tag": "ABX9TyMjT3Ra6ABfvFVxzj8YjmYl",
      "include_colab_link": true
    },
    "kernelspec": {
      "name": "python3",
      "display_name": "Python 3"
    },
    "language_info": {
      "name": "python"
    }
  },
  "cells": [
    {
      "cell_type": "markdown",
      "metadata": {
        "id": "view-in-github",
        "colab_type": "text"
      },
      "source": [
        "<a href=\"https://colab.research.google.com/github/chetools/CHE4071_Fall2024/blob/main/DynamicDistillation.ipynb\" target=\"_parent\"><img src=\"https://colab.research.google.com/assets/colab-badge.svg\" alt=\"Open In Colab\"/></a>"
      ]
    },
    {
      "cell_type": "code",
      "execution_count": 2,
      "metadata": {
        "id": "UI2HDYbE0HqE"
      },
      "outputs": [],
      "source": [
        "from scipy.integrate import solve_ivp\n",
        "import numpy as np\n",
        "from plotly.subplots import make_subplots"
      ]
    },
    {
      "cell_type": "code",
      "source": [
        "#0  Condenser\n",
        "#1\n",
        "#2  Nr-1\n",
        "#3  Feed Stage\n",
        "#4\n",
        "#5\n",
        "#6  Nr+Ns-1\n",
        "#7  Nr+Ns:  Reboiler\n",
        "\n",
        "Nr = 3\n",
        "Ns = 4\n",
        "\n",
        "F=1.5\n",
        "z=0.4\n",
        "q = 0.7\n",
        "\n",
        "stage_holdup=0.5\n",
        "feedstage_holdup = 0.75\n",
        "condenser_holdup = 5.\n",
        "reboiler_holdup = 5.\n",
        "m_holdup=np.r_[condenser_holdup, np.full(Nr-1, stage_holdup), feedstage_holdup, np.full(Ns-1, stage_holdup) ,reboiler_holdup]\n",
        "W=1."
      ],
      "metadata": {
        "id": "itLEByj_Dkqm"
      },
      "execution_count": 9,
      "outputs": []
    },
    {
      "cell_type": "code",
      "source": [
        "def rhs(t, v):\n",
        "    R=2.\n",
        "    m,x = np.split(v,2)\n",
        "    dm = np.zeros_like(m)\n",
        "    dmx = np.zeros_like(m)\n",
        "    V = np.zeros_like(m)\n",
        "\n",
        "    L = 0. if m<m_holdup else W*(m-m_holdup)**1.5\n",
        "\n",
        "    #On the condenser, there is weir, the overflowing liquid is split into D and L[0]\n",
        "    D = L[0]/(R+1)\n",
        "    L[0]-=D\n",
        "\n",
        "    V[1:Nr+1] = L[0] + D  #constant vapor flow rate in rectifying section\n",
        "    V[Nr+1:] = V - F*(1-q)  #constant vapor flow rate in stripping section\n",
        "\n",
        "    dm[1:-1] =  L[:-2] - L[1:-1] + V[2:] - V[1:-1]\n",
        "    #  1to6      0to5      1to6     2to7     1to6\n",
        "    dm[Nr]+=F\n",
        "    dm[0] = V[1] - L[0] - D\n",
        "    dm[-1] = L[-2] - V[-1] - L[-1]\n",
        "\n",
        "    dmx[1:-1] =  x[:-2]*L[:-2] - x[1:-1]*L[1:-1] + y[2:]*V[2:] - y[1:-1]*V[1:-1]\n"
      ],
      "metadata": {
        "id": "i3QSqAqWCMov"
      },
      "execution_count": null,
      "outputs": []
    },
    {
      "cell_type": "code",
      "source": [],
      "metadata": {
        "id": "Di7qQA3buT-G"
      },
      "execution_count": null,
      "outputs": []
    }
  ]
}