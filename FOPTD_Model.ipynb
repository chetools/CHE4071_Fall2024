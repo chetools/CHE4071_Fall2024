{
  "nbformat": 4,
  "nbformat_minor": 0,
  "metadata": {
    "colab": {
      "provenance": [],
      "authorship_tag": "ABX9TyPO0Soky7Y5QV7bMU6yldFj",
      "include_colab_link": true
    },
    "kernelspec": {
      "name": "python3",
      "display_name": "Python 3"
    },
    "language_info": {
      "name": "python"
    }
  },
  "cells": [
    {
      "cell_type": "markdown",
      "metadata": {
        "id": "view-in-github",
        "colab_type": "text"
      },
      "source": [
        "<a href=\"https://colab.research.google.com/github/chetools/CHE4071_Fall2024/blob/main/FOPTD_Model.ipynb\" target=\"_parent\"><img src=\"https://colab.research.google.com/assets/colab-badge.svg\" alt=\"Open In Colab\"/></a>"
      ]
    },
    {
      "cell_type": "code",
      "execution_count": 1,
      "metadata": {
        "colab": {
          "base_uri": "https://localhost:8080/"
        },
        "id": "2IVvN85dWumt",
        "outputId": "20a3a07a-0af9-4b2c-c785-bce173819393"
      },
      "outputs": [
        {
          "output_type": "stream",
          "name": "stdout",
          "text": [
            "Collecting importnb\n",
            "  Downloading importnb-2023.11.1-py3-none-any.whl.metadata (9.4 kB)\n",
            "Downloading importnb-2023.11.1-py3-none-any.whl (45 kB)\n",
            "\u001b[?25l   \u001b[90m━━━━━━━━━━━━━━━━━━━━━━━━━━━━━━━━━━━━━━━━\u001b[0m \u001b[32m0.0/46.0 kB\u001b[0m \u001b[31m?\u001b[0m eta \u001b[36m-:--:--\u001b[0m\r\u001b[2K   \u001b[90m━━━━━━━━━━━━━━━━━━━━━━━━━━━━━━━━━━━━━━━━\u001b[0m \u001b[32m46.0/46.0 kB\u001b[0m \u001b[31m2.9 MB/s\u001b[0m eta \u001b[36m0:00:00\u001b[0m\n",
            "\u001b[?25hInstalling collected packages: importnb\n",
            "Successfully installed importnb-2023.11.1\n"
          ]
        }
      ],
      "source": [
        "!wget -N -q https://raw.githubusercontent.com/chetools/chetools/main/tools/che5.ipynb -O che5.ipynb\n",
        "!pip install importnb"
      ]
    },
    {
      "cell_type": "code",
      "source": [
        "from importnb import Notebook\n",
        "with Notebook():\n",
        "    from che5 import sim, pid, TF1, TF2, shift\n",
        "\n",
        "import numpy as np\n",
        "import jax\n",
        "import jax.numpy as jnp\n",
        "jax.config.update(\"jax_enable_x64\", True)\n",
        "\n",
        "from plotly.subplots import make_subplots\n",
        "\n",
        "from sympy.abc import s\n",
        "from sympy import exp, Symbol, simplify\n",
        "import scipy as sp\n",
        "import scipy.signal as sig"
      ],
      "metadata": {
        "id": "W0bo2gMdWwAr"
      },
      "execution_count": 2,
      "outputs": []
    },
    {
      "cell_type": "code",
      "source": [
        "import pandas as pd\n",
        "from scipy.optimize import minimize"
      ],
      "metadata": {
        "id": "4POPZTxRVnB0"
      },
      "execution_count": 3,
      "outputs": []
    },
    {
      "cell_type": "code",
      "source": [
        "K=1.1\n",
        "tau=1.5\n",
        "TF = K/((tau*s + 1))**4\n",
        "A = 2.5  # amplitude of step input"
      ],
      "metadata": {
        "id": "jtudOqQNgY2S"
      },
      "execution_count": 4,
      "outputs": []
    },
    {
      "cell_type": "code",
      "source": [
        "t,y=sim(TF, lambda t: A, N=50, dt=0.4)\n",
        "y = np.random.normal(loc = y, scale = 0.03)\n",
        "y = np.round(y,2)"
      ],
      "metadata": {
        "id": "9qVIFqzbUEoF"
      },
      "execution_count": 5,
      "outputs": []
    },
    {
      "cell_type": "code",
      "source": [
        "fig = make_subplots()\n",
        "fig.add_scatter(x=t, y=y, mode='markers')\n",
        "fig.update_layout(width=600, height=400, template='plotly_dark')"
      ],
      "metadata": {
        "colab": {
          "base_uri": "https://localhost:8080/",
          "height": 417
        },
        "id": "8K2MXhb5UW5N",
        "outputId": "c3807cb8-bbf4-46e4-b04d-055a87ba8236"
      },
      "execution_count": 6,
      "outputs": [
        {
          "output_type": "display_data",
          "data": {
            "text/html": [
              "<html>\n",
              "<head><meta charset=\"utf-8\" /></head>\n",
              "<body>\n",
              "    <div>            <script src=\"https://cdnjs.cloudflare.com/ajax/libs/mathjax/2.7.5/MathJax.js?config=TeX-AMS-MML_SVG\"></script><script type=\"text/javascript\">if (window.MathJax && window.MathJax.Hub && window.MathJax.Hub.Config) {window.MathJax.Hub.Config({SVG: {font: \"STIX-Web\"}});}</script>                <script type=\"text/javascript\">window.PlotlyConfig = {MathJaxConfig: 'local'};</script>\n",
              "        <script charset=\"utf-8\" src=\"https://cdn.plot.ly/plotly-2.35.2.min.js\"></script>                <div id=\"0af3ff0c-fa60-4ac5-b261-68ea71c7d7a5\" class=\"plotly-graph-div\" style=\"height:400px; width:600px;\"></div>            <script type=\"text/javascript\">                                    window.PLOTLYENV=window.PLOTLYENV || {};                                    if (document.getElementById(\"0af3ff0c-fa60-4ac5-b261-68ea71c7d7a5\")) {                    Plotly.newPlot(                        \"0af3ff0c-fa60-4ac5-b261-68ea71c7d7a5\",                        [{\"mode\":\"markers\",\"x\":[0.0,0.4,0.8,1.2000000000000002,1.6,2.0,2.4000000000000004,2.8000000000000003,3.2,3.6,4.0,4.4,4.800000000000001,5.2,5.6000000000000005,6.0,6.4,6.800000000000001,7.2,7.6000000000000005,8.0,8.4,8.8,9.200000000000001,9.600000000000001,10.0,10.4,10.8,11.200000000000001,11.600000000000001,12.0,12.4,12.8,13.200000000000001,13.600000000000001,14.0,14.4,14.8,15.200000000000001,15.600000000000001,16.0,16.400000000000002,16.8,17.2,17.6,18.0,18.400000000000002,18.8,19.200000000000003,19.6],\"y\":[0.05,0.03,0.01,0.06,0.04,0.08,0.23,0.35,0.44,0.59,0.75,0.91,1.09,1.25,1.49,1.53,1.71,1.74,1.94,2.07,2.15,2.22,2.27,2.41,2.43,2.43,2.46,2.56,2.59,2.66,2.64,2.69,2.64,2.68,2.75,2.65,2.66,2.7,2.77,2.72,2.77,2.8,2.78,2.76,2.74,2.74,2.71,2.76,2.72,2.72],\"type\":\"scatter\"}],                        {\"template\":{\"data\":{\"barpolar\":[{\"marker\":{\"line\":{\"color\":\"rgb(17,17,17)\",\"width\":0.5},\"pattern\":{\"fillmode\":\"overlay\",\"size\":10,\"solidity\":0.2}},\"type\":\"barpolar\"}],\"bar\":[{\"error_x\":{\"color\":\"#f2f5fa\"},\"error_y\":{\"color\":\"#f2f5fa\"},\"marker\":{\"line\":{\"color\":\"rgb(17,17,17)\",\"width\":0.5},\"pattern\":{\"fillmode\":\"overlay\",\"size\":10,\"solidity\":0.2}},\"type\":\"bar\"}],\"carpet\":[{\"aaxis\":{\"endlinecolor\":\"#A2B1C6\",\"gridcolor\":\"#506784\",\"linecolor\":\"#506784\",\"minorgridcolor\":\"#506784\",\"startlinecolor\":\"#A2B1C6\"},\"baxis\":{\"endlinecolor\":\"#A2B1C6\",\"gridcolor\":\"#506784\",\"linecolor\":\"#506784\",\"minorgridcolor\":\"#506784\",\"startlinecolor\":\"#A2B1C6\"},\"type\":\"carpet\"}],\"choropleth\":[{\"colorbar\":{\"outlinewidth\":0,\"ticks\":\"\"},\"type\":\"choropleth\"}],\"contourcarpet\":[{\"colorbar\":{\"outlinewidth\":0,\"ticks\":\"\"},\"type\":\"contourcarpet\"}],\"contour\":[{\"colorbar\":{\"outlinewidth\":0,\"ticks\":\"\"},\"colorscale\":[[0.0,\"#0d0887\"],[0.1111111111111111,\"#46039f\"],[0.2222222222222222,\"#7201a8\"],[0.3333333333333333,\"#9c179e\"],[0.4444444444444444,\"#bd3786\"],[0.5555555555555556,\"#d8576b\"],[0.6666666666666666,\"#ed7953\"],[0.7777777777777778,\"#fb9f3a\"],[0.8888888888888888,\"#fdca26\"],[1.0,\"#f0f921\"]],\"type\":\"contour\"}],\"heatmapgl\":[{\"colorbar\":{\"outlinewidth\":0,\"ticks\":\"\"},\"colorscale\":[[0.0,\"#0d0887\"],[0.1111111111111111,\"#46039f\"],[0.2222222222222222,\"#7201a8\"],[0.3333333333333333,\"#9c179e\"],[0.4444444444444444,\"#bd3786\"],[0.5555555555555556,\"#d8576b\"],[0.6666666666666666,\"#ed7953\"],[0.7777777777777778,\"#fb9f3a\"],[0.8888888888888888,\"#fdca26\"],[1.0,\"#f0f921\"]],\"type\":\"heatmapgl\"}],\"heatmap\":[{\"colorbar\":{\"outlinewidth\":0,\"ticks\":\"\"},\"colorscale\":[[0.0,\"#0d0887\"],[0.1111111111111111,\"#46039f\"],[0.2222222222222222,\"#7201a8\"],[0.3333333333333333,\"#9c179e\"],[0.4444444444444444,\"#bd3786\"],[0.5555555555555556,\"#d8576b\"],[0.6666666666666666,\"#ed7953\"],[0.7777777777777778,\"#fb9f3a\"],[0.8888888888888888,\"#fdca26\"],[1.0,\"#f0f921\"]],\"type\":\"heatmap\"}],\"histogram2dcontour\":[{\"colorbar\":{\"outlinewidth\":0,\"ticks\":\"\"},\"colorscale\":[[0.0,\"#0d0887\"],[0.1111111111111111,\"#46039f\"],[0.2222222222222222,\"#7201a8\"],[0.3333333333333333,\"#9c179e\"],[0.4444444444444444,\"#bd3786\"],[0.5555555555555556,\"#d8576b\"],[0.6666666666666666,\"#ed7953\"],[0.7777777777777778,\"#fb9f3a\"],[0.8888888888888888,\"#fdca26\"],[1.0,\"#f0f921\"]],\"type\":\"histogram2dcontour\"}],\"histogram2d\":[{\"colorbar\":{\"outlinewidth\":0,\"ticks\":\"\"},\"colorscale\":[[0.0,\"#0d0887\"],[0.1111111111111111,\"#46039f\"],[0.2222222222222222,\"#7201a8\"],[0.3333333333333333,\"#9c179e\"],[0.4444444444444444,\"#bd3786\"],[0.5555555555555556,\"#d8576b\"],[0.6666666666666666,\"#ed7953\"],[0.7777777777777778,\"#fb9f3a\"],[0.8888888888888888,\"#fdca26\"],[1.0,\"#f0f921\"]],\"type\":\"histogram2d\"}],\"histogram\":[{\"marker\":{\"pattern\":{\"fillmode\":\"overlay\",\"size\":10,\"solidity\":0.2}},\"type\":\"histogram\"}],\"mesh3d\":[{\"colorbar\":{\"outlinewidth\":0,\"ticks\":\"\"},\"type\":\"mesh3d\"}],\"parcoords\":[{\"line\":{\"colorbar\":{\"outlinewidth\":0,\"ticks\":\"\"}},\"type\":\"parcoords\"}],\"pie\":[{\"automargin\":true,\"type\":\"pie\"}],\"scatter3d\":[{\"line\":{\"colorbar\":{\"outlinewidth\":0,\"ticks\":\"\"}},\"marker\":{\"colorbar\":{\"outlinewidth\":0,\"ticks\":\"\"}},\"type\":\"scatter3d\"}],\"scattercarpet\":[{\"marker\":{\"colorbar\":{\"outlinewidth\":0,\"ticks\":\"\"}},\"type\":\"scattercarpet\"}],\"scattergeo\":[{\"marker\":{\"colorbar\":{\"outlinewidth\":0,\"ticks\":\"\"}},\"type\":\"scattergeo\"}],\"scattergl\":[{\"marker\":{\"line\":{\"color\":\"#283442\"}},\"type\":\"scattergl\"}],\"scattermapbox\":[{\"marker\":{\"colorbar\":{\"outlinewidth\":0,\"ticks\":\"\"}},\"type\":\"scattermapbox\"}],\"scatterpolargl\":[{\"marker\":{\"colorbar\":{\"outlinewidth\":0,\"ticks\":\"\"}},\"type\":\"scatterpolargl\"}],\"scatterpolar\":[{\"marker\":{\"colorbar\":{\"outlinewidth\":0,\"ticks\":\"\"}},\"type\":\"scatterpolar\"}],\"scatter\":[{\"marker\":{\"line\":{\"color\":\"#283442\"}},\"type\":\"scatter\"}],\"scatterternary\":[{\"marker\":{\"colorbar\":{\"outlinewidth\":0,\"ticks\":\"\"}},\"type\":\"scatterternary\"}],\"surface\":[{\"colorbar\":{\"outlinewidth\":0,\"ticks\":\"\"},\"colorscale\":[[0.0,\"#0d0887\"],[0.1111111111111111,\"#46039f\"],[0.2222222222222222,\"#7201a8\"],[0.3333333333333333,\"#9c179e\"],[0.4444444444444444,\"#bd3786\"],[0.5555555555555556,\"#d8576b\"],[0.6666666666666666,\"#ed7953\"],[0.7777777777777778,\"#fb9f3a\"],[0.8888888888888888,\"#fdca26\"],[1.0,\"#f0f921\"]],\"type\":\"surface\"}],\"table\":[{\"cells\":{\"fill\":{\"color\":\"#506784\"},\"line\":{\"color\":\"rgb(17,17,17)\"}},\"header\":{\"fill\":{\"color\":\"#2a3f5f\"},\"line\":{\"color\":\"rgb(17,17,17)\"}},\"type\":\"table\"}]},\"layout\":{\"annotationdefaults\":{\"arrowcolor\":\"#f2f5fa\",\"arrowhead\":0,\"arrowwidth\":1},\"autotypenumbers\":\"strict\",\"coloraxis\":{\"colorbar\":{\"outlinewidth\":0,\"ticks\":\"\"}},\"colorscale\":{\"diverging\":[[0,\"#8e0152\"],[0.1,\"#c51b7d\"],[0.2,\"#de77ae\"],[0.3,\"#f1b6da\"],[0.4,\"#fde0ef\"],[0.5,\"#f7f7f7\"],[0.6,\"#e6f5d0\"],[0.7,\"#b8e186\"],[0.8,\"#7fbc41\"],[0.9,\"#4d9221\"],[1,\"#276419\"]],\"sequential\":[[0.0,\"#0d0887\"],[0.1111111111111111,\"#46039f\"],[0.2222222222222222,\"#7201a8\"],[0.3333333333333333,\"#9c179e\"],[0.4444444444444444,\"#bd3786\"],[0.5555555555555556,\"#d8576b\"],[0.6666666666666666,\"#ed7953\"],[0.7777777777777778,\"#fb9f3a\"],[0.8888888888888888,\"#fdca26\"],[1.0,\"#f0f921\"]],\"sequentialminus\":[[0.0,\"#0d0887\"],[0.1111111111111111,\"#46039f\"],[0.2222222222222222,\"#7201a8\"],[0.3333333333333333,\"#9c179e\"],[0.4444444444444444,\"#bd3786\"],[0.5555555555555556,\"#d8576b\"],[0.6666666666666666,\"#ed7953\"],[0.7777777777777778,\"#fb9f3a\"],[0.8888888888888888,\"#fdca26\"],[1.0,\"#f0f921\"]]},\"colorway\":[\"#636efa\",\"#EF553B\",\"#00cc96\",\"#ab63fa\",\"#FFA15A\",\"#19d3f3\",\"#FF6692\",\"#B6E880\",\"#FF97FF\",\"#FECB52\"],\"font\":{\"color\":\"#f2f5fa\"},\"geo\":{\"bgcolor\":\"rgb(17,17,17)\",\"lakecolor\":\"rgb(17,17,17)\",\"landcolor\":\"rgb(17,17,17)\",\"showlakes\":true,\"showland\":true,\"subunitcolor\":\"#506784\"},\"hoverlabel\":{\"align\":\"left\"},\"hovermode\":\"closest\",\"mapbox\":{\"style\":\"dark\"},\"paper_bgcolor\":\"rgb(17,17,17)\",\"plot_bgcolor\":\"rgb(17,17,17)\",\"polar\":{\"angularaxis\":{\"gridcolor\":\"#506784\",\"linecolor\":\"#506784\",\"ticks\":\"\"},\"bgcolor\":\"rgb(17,17,17)\",\"radialaxis\":{\"gridcolor\":\"#506784\",\"linecolor\":\"#506784\",\"ticks\":\"\"}},\"scene\":{\"xaxis\":{\"backgroundcolor\":\"rgb(17,17,17)\",\"gridcolor\":\"#506784\",\"gridwidth\":2,\"linecolor\":\"#506784\",\"showbackground\":true,\"ticks\":\"\",\"zerolinecolor\":\"#C8D4E3\"},\"yaxis\":{\"backgroundcolor\":\"rgb(17,17,17)\",\"gridcolor\":\"#506784\",\"gridwidth\":2,\"linecolor\":\"#506784\",\"showbackground\":true,\"ticks\":\"\",\"zerolinecolor\":\"#C8D4E3\"},\"zaxis\":{\"backgroundcolor\":\"rgb(17,17,17)\",\"gridcolor\":\"#506784\",\"gridwidth\":2,\"linecolor\":\"#506784\",\"showbackground\":true,\"ticks\":\"\",\"zerolinecolor\":\"#C8D4E3\"}},\"shapedefaults\":{\"line\":{\"color\":\"#f2f5fa\"}},\"sliderdefaults\":{\"bgcolor\":\"#C8D4E3\",\"bordercolor\":\"rgb(17,17,17)\",\"borderwidth\":1,\"tickwidth\":0},\"ternary\":{\"aaxis\":{\"gridcolor\":\"#506784\",\"linecolor\":\"#506784\",\"ticks\":\"\"},\"baxis\":{\"gridcolor\":\"#506784\",\"linecolor\":\"#506784\",\"ticks\":\"\"},\"bgcolor\":\"rgb(17,17,17)\",\"caxis\":{\"gridcolor\":\"#506784\",\"linecolor\":\"#506784\",\"ticks\":\"\"}},\"title\":{\"x\":0.05},\"updatemenudefaults\":{\"bgcolor\":\"#506784\",\"borderwidth\":0},\"xaxis\":{\"automargin\":true,\"gridcolor\":\"#283442\",\"linecolor\":\"#506784\",\"ticks\":\"\",\"title\":{\"standoff\":15},\"zerolinecolor\":\"#283442\",\"zerolinewidth\":2},\"yaxis\":{\"automargin\":true,\"gridcolor\":\"#283442\",\"linecolor\":\"#506784\",\"ticks\":\"\",\"title\":{\"standoff\":15},\"zerolinecolor\":\"#283442\",\"zerolinewidth\":2}}},\"xaxis\":{\"anchor\":\"y\",\"domain\":[0.0,1.0]},\"yaxis\":{\"anchor\":\"x\",\"domain\":[0.0,1.0]},\"width\":600,\"height\":400},                        {\"responsive\": true}                    ).then(function(){\n",
              "                            \n",
              "var gd = document.getElementById('0af3ff0c-fa60-4ac5-b261-68ea71c7d7a5');\n",
              "var x = new MutationObserver(function (mutations, observer) {{\n",
              "        var display = window.getComputedStyle(gd).display;\n",
              "        if (!display || display === 'none') {{\n",
              "            console.log([gd, 'removed!']);\n",
              "            Plotly.purge(gd);\n",
              "            observer.disconnect();\n",
              "        }}\n",
              "}});\n",
              "\n",
              "// Listen for the removal of the full notebook cells\n",
              "var notebookContainer = gd.closest('#notebook-container');\n",
              "if (notebookContainer) {{\n",
              "    x.observe(notebookContainer, {childList: true});\n",
              "}}\n",
              "\n",
              "// Listen for the clearing of the current output cell\n",
              "var outputEl = gd.closest('.output');\n",
              "if (outputEl) {{\n",
              "    x.observe(outputEl, {childList: true});\n",
              "}}\n",
              "\n",
              "                        })                };                            </script>        </div>\n",
              "</body>\n",
              "</html>"
            ]
          },
          "metadata": {}
        }
      ]
    },
    {
      "cell_type": "code",
      "source": [
        "df=pd.DataFrame(dict(x=t,y=y))"
      ],
      "metadata": {
        "id": "ek_Wxq2PUp0u"
      },
      "execution_count": 7,
      "outputs": []
    },
    {
      "cell_type": "code",
      "source": [
        "df.to_excel('alex_data.xlsx', index=False)"
      ],
      "metadata": {
        "id": "w-xd-WQBV6vq"
      },
      "execution_count": 8,
      "outputs": []
    },
    {
      "cell_type": "code",
      "source": [
        "df2 = pd.read_excel('alex_data.xlsx')"
      ],
      "metadata": {
        "id": "IG4gczt8V7Py"
      },
      "execution_count": 9,
      "outputs": []
    },
    {
      "cell_type": "code",
      "source": [
        "t,y=df2.to_numpy().T"
      ],
      "metadata": {
        "id": "oa3e6utGXWCy"
      },
      "execution_count": 10,
      "outputs": []
    },
    {
      "cell_type": "code",
      "source": [
        "t,y"
      ],
      "metadata": {
        "colab": {
          "base_uri": "https://localhost:8080/"
        },
        "id": "AIVaktDtXW_p",
        "outputId": "97dc9b66-e082-438a-8976-cb606b75f95f"
      },
      "execution_count": 11,
      "outputs": [
        {
          "output_type": "execute_result",
          "data": {
            "text/plain": [
              "(array([ 0. ,  0.4,  0.8,  1.2,  1.6,  2. ,  2.4,  2.8,  3.2,  3.6,  4. ,\n",
              "         4.4,  4.8,  5.2,  5.6,  6. ,  6.4,  6.8,  7.2,  7.6,  8. ,  8.4,\n",
              "         8.8,  9.2,  9.6, 10. , 10.4, 10.8, 11.2, 11.6, 12. , 12.4, 12.8,\n",
              "        13.2, 13.6, 14. , 14.4, 14.8, 15.2, 15.6, 16. , 16.4, 16.8, 17.2,\n",
              "        17.6, 18. , 18.4, 18.8, 19.2, 19.6]),\n",
              " array([0.05, 0.03, 0.01, 0.06, 0.04, 0.08, 0.23, 0.35, 0.44, 0.59, 0.75,\n",
              "        0.91, 1.09, 1.25, 1.49, 1.53, 1.71, 1.74, 1.94, 2.07, 2.15, 2.22,\n",
              "        2.27, 2.41, 2.43, 2.43, 2.46, 2.56, 2.59, 2.66, 2.64, 2.69, 2.64,\n",
              "        2.68, 2.75, 2.65, 2.66, 2.7 , 2.77, 2.72, 2.77, 2.8 , 2.78, 2.76,\n",
              "        2.74, 2.74, 2.71, 2.76, 2.72, 2.72]))"
            ]
          },
          "metadata": {},
          "execution_count": 11
        }
      ]
    },
    {
      "cell_type": "code",
      "source": [
        "def FOPTD(KA, tau, theta, t):\n",
        "    y = np.where(t<theta, 0., KA*(1-np.exp(-(t-theta)/tau)))\n",
        "    return y"
      ],
      "metadata": {
        "id": "lEz9KkshYhS0"
      },
      "execution_count": 12,
      "outputs": []
    },
    {
      "cell_type": "code",
      "source": [
        "def sumsq(v):\n",
        "    KA, tau, theta = v\n",
        "    model_y = FOPTD(KA, tau, theta, t)\n",
        "    return np.sum((model_y - y)**2)"
      ],
      "metadata": {
        "id": "Gy68ndeWZTtz"
      },
      "execution_count": 13,
      "outputs": []
    },
    {
      "cell_type": "code",
      "source": [
        "fKA, ftau, ftheta = minimize(sumsq, (2.5, 3., 2.)).x\n",
        "fK = fKA/A"
      ],
      "metadata": {
        "id": "3l7spJFAZnsZ"
      },
      "execution_count": 14,
      "outputs": []
    },
    {
      "cell_type": "code",
      "source": [
        "model_y = FOPTD(2.5, 3., 2., t)"
      ],
      "metadata": {
        "id": "5B8dvnbTYiXb"
      },
      "execution_count": 15,
      "outputs": []
    },
    {
      "cell_type": "code",
      "source": [
        "fig2 = make_subplots()\n",
        "fig2.add_scatter(x=t, y=y, mode='markers')\n",
        "fig2.add_scatter(x=t, y=FOPTD(fKA, ftau, ftheta, t), mode='lines')\n",
        "fig2.update_layout(width=600, height=400, template='plotly_dark', showlegend=False)"
      ],
      "metadata": {
        "colab": {
          "base_uri": "https://localhost:8080/",
          "height": 417
        },
        "id": "bMqMoPAbXnhK",
        "outputId": "17b357d6-eb42-4444-c41f-7a19b734aa6d"
      },
      "execution_count": 16,
      "outputs": [
        {
          "output_type": "display_data",
          "data": {
            "text/html": [
              "<html>\n",
              "<head><meta charset=\"utf-8\" /></head>\n",
              "<body>\n",
              "    <div>            <script src=\"https://cdnjs.cloudflare.com/ajax/libs/mathjax/2.7.5/MathJax.js?config=TeX-AMS-MML_SVG\"></script><script type=\"text/javascript\">if (window.MathJax && window.MathJax.Hub && window.MathJax.Hub.Config) {window.MathJax.Hub.Config({SVG: {font: \"STIX-Web\"}});}</script>                <script type=\"text/javascript\">window.PlotlyConfig = {MathJaxConfig: 'local'};</script>\n",
              "        <script charset=\"utf-8\" src=\"https://cdn.plot.ly/plotly-2.35.2.min.js\"></script>                <div id=\"69678228-e80a-4289-a8d3-5555b35e2ff7\" class=\"plotly-graph-div\" style=\"height:400px; width:600px;\"></div>            <script type=\"text/javascript\">                                    window.PLOTLYENV=window.PLOTLYENV || {};                                    if (document.getElementById(\"69678228-e80a-4289-a8d3-5555b35e2ff7\")) {                    Plotly.newPlot(                        \"69678228-e80a-4289-a8d3-5555b35e2ff7\",                        [{\"mode\":\"markers\",\"x\":[0.0,0.4,0.8,1.2,1.6,2.0,2.4,2.8,3.2,3.6,4.0,4.4,4.800000000000001,5.2,5.600000000000001,6.0,6.4,6.800000000000001,7.2,7.600000000000001,8.0,8.4,8.8,9.200000000000001,9.600000000000001,10.0,10.4,10.8,11.2,11.6,12.0,12.4,12.8,13.2,13.6,14.0,14.4,14.8,15.2,15.6,16.0,16.4,16.8,17.2,17.6,18.0,18.4,18.8,19.2,19.6],\"y\":[0.05,0.03,0.01,0.06,0.04,0.08,0.23,0.35,0.44,0.59,0.75,0.91,1.09,1.25,1.49,1.53,1.71,1.74,1.94,2.07,2.15,2.22,2.27,2.41,2.43,2.43,2.46,2.56,2.59,2.66,2.64,2.69,2.64,2.68,2.75,2.65,2.66,2.7,2.77,2.72,2.77,2.8,2.78,2.76,2.74,2.74,2.71,2.76,2.72,2.72],\"type\":\"scatter\"},{\"mode\":\"lines\",\"x\":[0.0,0.4,0.8,1.2,1.6,2.0,2.4,2.8,3.2,3.6,4.0,4.4,4.800000000000001,5.2,5.600000000000001,6.0,6.4,6.800000000000001,7.2,7.600000000000001,8.0,8.4,8.8,9.200000000000001,9.600000000000001,10.0,10.4,10.8,11.2,11.6,12.0,12.4,12.8,13.2,13.6,14.0,14.4,14.8,15.2,15.6,16.0,16.4,16.8,17.2,17.6,18.0,18.4,18.8,19.2,19.6],\"y\":[0.0,0.0,0.0,0.0,0.0,0.0,0.0,0.13280382946114253,0.38999463013230157,0.6229190554374258,0.8338666778334953,1.0249110448476573,1.1979300613849193,1.354624448931568,1.4965344631023612,1.6250550338596204,1.7414494772277427,1.8468619132848696,1.9423285124966074,2.02878768093965,2.1070892845327864,2.1780030029465354,2.242225895307646,2.3003892520669385,2.353064800382125,2.4007703240125546,2.443974752967637,2.4831027729385595,2.5185389998225354,2.5506317603738173,2.5796965161440677,2.606018964368315,2.6298578462772215,2.6514474904404595,2.6710001161414625,2.6887079194249686,2.7047449623225512,2.7192688838266057,2.732422449431132,2.744334954470785,2.7551234950525814,2.7648941190731073,2.773742868635357,2.7817567241118253,2.789014459133699,2.795587414910403,2.8015402014908317,2.806931332859419,2.8118138021098575,2.8162356023502264],\"type\":\"scatter\"}],                        {\"template\":{\"data\":{\"barpolar\":[{\"marker\":{\"line\":{\"color\":\"rgb(17,17,17)\",\"width\":0.5},\"pattern\":{\"fillmode\":\"overlay\",\"size\":10,\"solidity\":0.2}},\"type\":\"barpolar\"}],\"bar\":[{\"error_x\":{\"color\":\"#f2f5fa\"},\"error_y\":{\"color\":\"#f2f5fa\"},\"marker\":{\"line\":{\"color\":\"rgb(17,17,17)\",\"width\":0.5},\"pattern\":{\"fillmode\":\"overlay\",\"size\":10,\"solidity\":0.2}},\"type\":\"bar\"}],\"carpet\":[{\"aaxis\":{\"endlinecolor\":\"#A2B1C6\",\"gridcolor\":\"#506784\",\"linecolor\":\"#506784\",\"minorgridcolor\":\"#506784\",\"startlinecolor\":\"#A2B1C6\"},\"baxis\":{\"endlinecolor\":\"#A2B1C6\",\"gridcolor\":\"#506784\",\"linecolor\":\"#506784\",\"minorgridcolor\":\"#506784\",\"startlinecolor\":\"#A2B1C6\"},\"type\":\"carpet\"}],\"choropleth\":[{\"colorbar\":{\"outlinewidth\":0,\"ticks\":\"\"},\"type\":\"choropleth\"}],\"contourcarpet\":[{\"colorbar\":{\"outlinewidth\":0,\"ticks\":\"\"},\"type\":\"contourcarpet\"}],\"contour\":[{\"colorbar\":{\"outlinewidth\":0,\"ticks\":\"\"},\"colorscale\":[[0.0,\"#0d0887\"],[0.1111111111111111,\"#46039f\"],[0.2222222222222222,\"#7201a8\"],[0.3333333333333333,\"#9c179e\"],[0.4444444444444444,\"#bd3786\"],[0.5555555555555556,\"#d8576b\"],[0.6666666666666666,\"#ed7953\"],[0.7777777777777778,\"#fb9f3a\"],[0.8888888888888888,\"#fdca26\"],[1.0,\"#f0f921\"]],\"type\":\"contour\"}],\"heatmapgl\":[{\"colorbar\":{\"outlinewidth\":0,\"ticks\":\"\"},\"colorscale\":[[0.0,\"#0d0887\"],[0.1111111111111111,\"#46039f\"],[0.2222222222222222,\"#7201a8\"],[0.3333333333333333,\"#9c179e\"],[0.4444444444444444,\"#bd3786\"],[0.5555555555555556,\"#d8576b\"],[0.6666666666666666,\"#ed7953\"],[0.7777777777777778,\"#fb9f3a\"],[0.8888888888888888,\"#fdca26\"],[1.0,\"#f0f921\"]],\"type\":\"heatmapgl\"}],\"heatmap\":[{\"colorbar\":{\"outlinewidth\":0,\"ticks\":\"\"},\"colorscale\":[[0.0,\"#0d0887\"],[0.1111111111111111,\"#46039f\"],[0.2222222222222222,\"#7201a8\"],[0.3333333333333333,\"#9c179e\"],[0.4444444444444444,\"#bd3786\"],[0.5555555555555556,\"#d8576b\"],[0.6666666666666666,\"#ed7953\"],[0.7777777777777778,\"#fb9f3a\"],[0.8888888888888888,\"#fdca26\"],[1.0,\"#f0f921\"]],\"type\":\"heatmap\"}],\"histogram2dcontour\":[{\"colorbar\":{\"outlinewidth\":0,\"ticks\":\"\"},\"colorscale\":[[0.0,\"#0d0887\"],[0.1111111111111111,\"#46039f\"],[0.2222222222222222,\"#7201a8\"],[0.3333333333333333,\"#9c179e\"],[0.4444444444444444,\"#bd3786\"],[0.5555555555555556,\"#d8576b\"],[0.6666666666666666,\"#ed7953\"],[0.7777777777777778,\"#fb9f3a\"],[0.8888888888888888,\"#fdca26\"],[1.0,\"#f0f921\"]],\"type\":\"histogram2dcontour\"}],\"histogram2d\":[{\"colorbar\":{\"outlinewidth\":0,\"ticks\":\"\"},\"colorscale\":[[0.0,\"#0d0887\"],[0.1111111111111111,\"#46039f\"],[0.2222222222222222,\"#7201a8\"],[0.3333333333333333,\"#9c179e\"],[0.4444444444444444,\"#bd3786\"],[0.5555555555555556,\"#d8576b\"],[0.6666666666666666,\"#ed7953\"],[0.7777777777777778,\"#fb9f3a\"],[0.8888888888888888,\"#fdca26\"],[1.0,\"#f0f921\"]],\"type\":\"histogram2d\"}],\"histogram\":[{\"marker\":{\"pattern\":{\"fillmode\":\"overlay\",\"size\":10,\"solidity\":0.2}},\"type\":\"histogram\"}],\"mesh3d\":[{\"colorbar\":{\"outlinewidth\":0,\"ticks\":\"\"},\"type\":\"mesh3d\"}],\"parcoords\":[{\"line\":{\"colorbar\":{\"outlinewidth\":0,\"ticks\":\"\"}},\"type\":\"parcoords\"}],\"pie\":[{\"automargin\":true,\"type\":\"pie\"}],\"scatter3d\":[{\"line\":{\"colorbar\":{\"outlinewidth\":0,\"ticks\":\"\"}},\"marker\":{\"colorbar\":{\"outlinewidth\":0,\"ticks\":\"\"}},\"type\":\"scatter3d\"}],\"scattercarpet\":[{\"marker\":{\"colorbar\":{\"outlinewidth\":0,\"ticks\":\"\"}},\"type\":\"scattercarpet\"}],\"scattergeo\":[{\"marker\":{\"colorbar\":{\"outlinewidth\":0,\"ticks\":\"\"}},\"type\":\"scattergeo\"}],\"scattergl\":[{\"marker\":{\"line\":{\"color\":\"#283442\"}},\"type\":\"scattergl\"}],\"scattermapbox\":[{\"marker\":{\"colorbar\":{\"outlinewidth\":0,\"ticks\":\"\"}},\"type\":\"scattermapbox\"}],\"scatterpolargl\":[{\"marker\":{\"colorbar\":{\"outlinewidth\":0,\"ticks\":\"\"}},\"type\":\"scatterpolargl\"}],\"scatterpolar\":[{\"marker\":{\"colorbar\":{\"outlinewidth\":0,\"ticks\":\"\"}},\"type\":\"scatterpolar\"}],\"scatter\":[{\"marker\":{\"line\":{\"color\":\"#283442\"}},\"type\":\"scatter\"}],\"scatterternary\":[{\"marker\":{\"colorbar\":{\"outlinewidth\":0,\"ticks\":\"\"}},\"type\":\"scatterternary\"}],\"surface\":[{\"colorbar\":{\"outlinewidth\":0,\"ticks\":\"\"},\"colorscale\":[[0.0,\"#0d0887\"],[0.1111111111111111,\"#46039f\"],[0.2222222222222222,\"#7201a8\"],[0.3333333333333333,\"#9c179e\"],[0.4444444444444444,\"#bd3786\"],[0.5555555555555556,\"#d8576b\"],[0.6666666666666666,\"#ed7953\"],[0.7777777777777778,\"#fb9f3a\"],[0.8888888888888888,\"#fdca26\"],[1.0,\"#f0f921\"]],\"type\":\"surface\"}],\"table\":[{\"cells\":{\"fill\":{\"color\":\"#506784\"},\"line\":{\"color\":\"rgb(17,17,17)\"}},\"header\":{\"fill\":{\"color\":\"#2a3f5f\"},\"line\":{\"color\":\"rgb(17,17,17)\"}},\"type\":\"table\"}]},\"layout\":{\"annotationdefaults\":{\"arrowcolor\":\"#f2f5fa\",\"arrowhead\":0,\"arrowwidth\":1},\"autotypenumbers\":\"strict\",\"coloraxis\":{\"colorbar\":{\"outlinewidth\":0,\"ticks\":\"\"}},\"colorscale\":{\"diverging\":[[0,\"#8e0152\"],[0.1,\"#c51b7d\"],[0.2,\"#de77ae\"],[0.3,\"#f1b6da\"],[0.4,\"#fde0ef\"],[0.5,\"#f7f7f7\"],[0.6,\"#e6f5d0\"],[0.7,\"#b8e186\"],[0.8,\"#7fbc41\"],[0.9,\"#4d9221\"],[1,\"#276419\"]],\"sequential\":[[0.0,\"#0d0887\"],[0.1111111111111111,\"#46039f\"],[0.2222222222222222,\"#7201a8\"],[0.3333333333333333,\"#9c179e\"],[0.4444444444444444,\"#bd3786\"],[0.5555555555555556,\"#d8576b\"],[0.6666666666666666,\"#ed7953\"],[0.7777777777777778,\"#fb9f3a\"],[0.8888888888888888,\"#fdca26\"],[1.0,\"#f0f921\"]],\"sequentialminus\":[[0.0,\"#0d0887\"],[0.1111111111111111,\"#46039f\"],[0.2222222222222222,\"#7201a8\"],[0.3333333333333333,\"#9c179e\"],[0.4444444444444444,\"#bd3786\"],[0.5555555555555556,\"#d8576b\"],[0.6666666666666666,\"#ed7953\"],[0.7777777777777778,\"#fb9f3a\"],[0.8888888888888888,\"#fdca26\"],[1.0,\"#f0f921\"]]},\"colorway\":[\"#636efa\",\"#EF553B\",\"#00cc96\",\"#ab63fa\",\"#FFA15A\",\"#19d3f3\",\"#FF6692\",\"#B6E880\",\"#FF97FF\",\"#FECB52\"],\"font\":{\"color\":\"#f2f5fa\"},\"geo\":{\"bgcolor\":\"rgb(17,17,17)\",\"lakecolor\":\"rgb(17,17,17)\",\"landcolor\":\"rgb(17,17,17)\",\"showlakes\":true,\"showland\":true,\"subunitcolor\":\"#506784\"},\"hoverlabel\":{\"align\":\"left\"},\"hovermode\":\"closest\",\"mapbox\":{\"style\":\"dark\"},\"paper_bgcolor\":\"rgb(17,17,17)\",\"plot_bgcolor\":\"rgb(17,17,17)\",\"polar\":{\"angularaxis\":{\"gridcolor\":\"#506784\",\"linecolor\":\"#506784\",\"ticks\":\"\"},\"bgcolor\":\"rgb(17,17,17)\",\"radialaxis\":{\"gridcolor\":\"#506784\",\"linecolor\":\"#506784\",\"ticks\":\"\"}},\"scene\":{\"xaxis\":{\"backgroundcolor\":\"rgb(17,17,17)\",\"gridcolor\":\"#506784\",\"gridwidth\":2,\"linecolor\":\"#506784\",\"showbackground\":true,\"ticks\":\"\",\"zerolinecolor\":\"#C8D4E3\"},\"yaxis\":{\"backgroundcolor\":\"rgb(17,17,17)\",\"gridcolor\":\"#506784\",\"gridwidth\":2,\"linecolor\":\"#506784\",\"showbackground\":true,\"ticks\":\"\",\"zerolinecolor\":\"#C8D4E3\"},\"zaxis\":{\"backgroundcolor\":\"rgb(17,17,17)\",\"gridcolor\":\"#506784\",\"gridwidth\":2,\"linecolor\":\"#506784\",\"showbackground\":true,\"ticks\":\"\",\"zerolinecolor\":\"#C8D4E3\"}},\"shapedefaults\":{\"line\":{\"color\":\"#f2f5fa\"}},\"sliderdefaults\":{\"bgcolor\":\"#C8D4E3\",\"bordercolor\":\"rgb(17,17,17)\",\"borderwidth\":1,\"tickwidth\":0},\"ternary\":{\"aaxis\":{\"gridcolor\":\"#506784\",\"linecolor\":\"#506784\",\"ticks\":\"\"},\"baxis\":{\"gridcolor\":\"#506784\",\"linecolor\":\"#506784\",\"ticks\":\"\"},\"bgcolor\":\"rgb(17,17,17)\",\"caxis\":{\"gridcolor\":\"#506784\",\"linecolor\":\"#506784\",\"ticks\":\"\"}},\"title\":{\"x\":0.05},\"updatemenudefaults\":{\"bgcolor\":\"#506784\",\"borderwidth\":0},\"xaxis\":{\"automargin\":true,\"gridcolor\":\"#283442\",\"linecolor\":\"#506784\",\"ticks\":\"\",\"title\":{\"standoff\":15},\"zerolinecolor\":\"#283442\",\"zerolinewidth\":2},\"yaxis\":{\"automargin\":true,\"gridcolor\":\"#283442\",\"linecolor\":\"#506784\",\"ticks\":\"\",\"title\":{\"standoff\":15},\"zerolinecolor\":\"#283442\",\"zerolinewidth\":2}}},\"xaxis\":{\"anchor\":\"y\",\"domain\":[0.0,1.0]},\"yaxis\":{\"anchor\":\"x\",\"domain\":[0.0,1.0]},\"width\":600,\"height\":400,\"showlegend\":false},                        {\"responsive\": true}                    ).then(function(){\n",
              "                            \n",
              "var gd = document.getElementById('69678228-e80a-4289-a8d3-5555b35e2ff7');\n",
              "var x = new MutationObserver(function (mutations, observer) {{\n",
              "        var display = window.getComputedStyle(gd).display;\n",
              "        if (!display || display === 'none') {{\n",
              "            console.log([gd, 'removed!']);\n",
              "            Plotly.purge(gd);\n",
              "            observer.disconnect();\n",
              "        }}\n",
              "}});\n",
              "\n",
              "// Listen for the removal of the full notebook cells\n",
              "var notebookContainer = gd.closest('#notebook-container');\n",
              "if (notebookContainer) {{\n",
              "    x.observe(notebookContainer, {childList: true});\n",
              "}}\n",
              "\n",
              "// Listen for the clearing of the current output cell\n",
              "var outputEl = gd.closest('.output');\n",
              "if (outputEl) {{\n",
              "    x.observe(outputEl, {childList: true});\n",
              "}}\n",
              "\n",
              "                        })                };                            </script>        </div>\n",
              "</body>\n",
              "</html>"
            ]
          },
          "metadata": {}
        }
      ]
    },
    {
      "cell_type": "code",
      "source": [
        "#ITAE\n",
        "PA, PB = 0.586, -0.916\n",
        "IA, IB = 1.03, -0.165\n",
        "Y = PA*(ftheta/ftau)**PB\n",
        "Kc = Y/fK\n",
        "taui = ftau/(IA + IB*(ftheta/ftau))\n",
        "\n",
        "#ZN method\n",
        "# Kc = 0.45 * Ku\n",
        "# taui = 0.83*Tu\n",
        "\n",
        "Gp = TF\n",
        "Gc = Kc*(1+1/(taui*s))\n",
        "Gm = 1.\n",
        "Gfb = Gc*Gp/(1+Gp*Gc*Gm)\n",
        "Gfb=simplify(Gfb)"
      ],
      "metadata": {
        "id": "6uwhq4S8XukS"
      },
      "execution_count": 17,
      "outputs": []
    },
    {
      "cell_type": "code",
      "source": [
        "t,y=sim(Gfb, lambda t: 1., N=500, dt=0.1)"
      ],
      "metadata": {
        "id": "dcvSGwJqYfkE"
      },
      "execution_count": 18,
      "outputs": []
    },
    {
      "cell_type": "code",
      "source": [
        "fig4=make_subplots()\n",
        "fig4.add_scatter(x=t, y= y)\n",
        "fig4.update_layout(width=600, height=400, template='plotly_dark')"
      ],
      "metadata": {
        "colab": {
          "base_uri": "https://localhost:8080/",
          "height": 417
        },
        "id": "J8BezOUObQ7r",
        "outputId": "a4455295-2b48-4c4c-d06a-baae5df1a344"
      },
      "execution_count": 19,
      "outputs": [
        {
          "output_type": "display_data",
          "data": {
            "text/html": [
              "<html>\n",
              "<head><meta charset=\"utf-8\" /></head>\n",
              "<body>\n",
              "    <div>            <script src=\"https://cdnjs.cloudflare.com/ajax/libs/mathjax/2.7.5/MathJax.js?config=TeX-AMS-MML_SVG\"></script><script type=\"text/javascript\">if (window.MathJax && window.MathJax.Hub && window.MathJax.Hub.Config) {window.MathJax.Hub.Config({SVG: {font: \"STIX-Web\"}});}</script>                <script type=\"text/javascript\">window.PlotlyConfig = {MathJaxConfig: 'local'};</script>\n",
              "        <script charset=\"utf-8\" src=\"https://cdn.plot.ly/plotly-2.35.2.min.js\"></script>                <div id=\"598012e9-d7fe-453e-9c1a-fa0bf6faf142\" class=\"plotly-graph-div\" style=\"height:400px; width:600px;\"></div>            <script type=\"text/javascript\">                                    window.PLOTLYENV=window.PLOTLYENV || {};                                    if (document.getElementById(\"598012e9-d7fe-453e-9c1a-fa0bf6faf142\")) {                    Plotly.newPlot(                        \"598012e9-d7fe-453e-9c1a-fa0bf6faf142\",                        [{\"x\":[0.0,0.1,0.2,0.30000000000000004,0.4,0.5,0.6000000000000001,0.7000000000000001,0.8,0.9,1.0,1.1,1.2000000000000002,1.3,1.4000000000000001,1.5,1.6,1.7000000000000002,1.8,1.9000000000000001,2.0,2.1,2.2,2.3000000000000003,2.4000000000000004,2.5,2.6,2.7,2.8000000000000003,2.9000000000000004,3.0,3.1,3.2,3.3000000000000003,3.4000000000000004,3.5,3.6,3.7,3.8000000000000003,3.9000000000000004,4.0,4.1000000000000005,4.2,4.3,4.4,4.5,4.6000000000000005,4.7,4.800000000000001,4.9,5.0,5.1000000000000005,5.2,5.300000000000001,5.4,5.5,5.6000000000000005,5.7,5.800000000000001,5.9,6.0,6.1000000000000005,6.2,6.300000000000001,6.4,6.5,6.6000000000000005,6.7,6.800000000000001,6.9,7.0,7.1000000000000005,7.2,7.300000000000001,7.4,7.5,7.6000000000000005,7.7,7.800000000000001,7.9,8.0,8.1,8.200000000000001,8.3,8.4,8.5,8.6,8.700000000000001,8.8,8.9,9.0,9.1,9.200000000000001,9.3,9.4,9.5,9.600000000000001,9.700000000000001,9.8,9.9,10.0,10.100000000000001,10.200000000000001,10.3,10.4,10.5,10.600000000000001,10.700000000000001,10.8,10.9,11.0,11.100000000000001,11.200000000000001,11.3,11.4,11.5,11.600000000000001,11.700000000000001,11.8,11.9,12.0,12.100000000000001,12.200000000000001,12.3,12.4,12.5,12.600000000000001,12.700000000000001,12.8,12.9,13.0,13.100000000000001,13.200000000000001,13.3,13.4,13.5,13.600000000000001,13.700000000000001,13.8,13.9,14.0,14.100000000000001,14.200000000000001,14.3,14.4,14.5,14.600000000000001,14.700000000000001,14.8,14.9,15.0,15.100000000000001,15.200000000000001,15.3,15.4,15.5,15.600000000000001,15.700000000000001,15.8,15.9,16.0,16.1,16.2,16.3,16.400000000000002,16.5,16.6,16.7,16.8,16.900000000000002,17.0,17.1,17.2,17.3,17.400000000000002,17.5,17.6,17.7,17.8,17.900000000000002,18.0,18.1,18.2,18.3,18.400000000000002,18.5,18.6,18.7,18.8,18.900000000000002,19.0,19.1,19.200000000000003,19.3,19.400000000000002,19.5,19.6,19.700000000000003,19.8,19.900000000000002,20.0,20.1,20.200000000000003,20.3,20.400000000000002,20.5,20.6,20.700000000000003,20.8,20.900000000000002,21.0,21.1,21.200000000000003,21.3,21.400000000000002,21.5,21.6,21.700000000000003,21.8,21.900000000000002,22.0,22.1,22.200000000000003,22.3,22.400000000000002,22.5,22.6,22.700000000000003,22.8,22.900000000000002,23.0,23.1,23.200000000000003,23.3,23.400000000000002,23.5,23.6,23.700000000000003,23.8,23.900000000000002,24.0,24.1,24.200000000000003,24.3,24.400000000000002,24.5,24.6,24.700000000000003,24.8,24.900000000000002,25.0,25.1,25.200000000000003,25.3,25.400000000000002,25.5,25.6,25.700000000000003,25.8,25.900000000000002,26.0,26.1,26.200000000000003,26.3,26.400000000000002,26.5,26.6,26.700000000000003,26.8,26.900000000000002,27.0,27.1,27.200000000000003,27.3,27.400000000000002,27.5,27.6,27.700000000000003,27.8,27.900000000000002,28.0,28.1,28.200000000000003,28.3,28.400000000000002,28.5,28.6,28.700000000000003,28.8,28.900000000000002,29.0,29.1,29.200000000000003,29.3,29.400000000000002,29.5,29.6,29.700000000000003,29.8,29.900000000000002,30.0,30.1,30.200000000000003,30.3,30.400000000000002,30.5,30.6,30.700000000000003,30.8,30.900000000000002,31.0,31.1,31.200000000000003,31.3,31.400000000000002,31.5,31.6,31.700000000000003,31.8,31.900000000000002,32.0,32.1,32.2,32.300000000000004,32.4,32.5,32.6,32.7,32.800000000000004,32.9,33.0,33.1,33.2,33.300000000000004,33.4,33.5,33.6,33.7,33.800000000000004,33.9,34.0,34.1,34.2,34.300000000000004,34.4,34.5,34.6,34.7,34.800000000000004,34.9,35.0,35.1,35.2,35.300000000000004,35.4,35.5,35.6,35.7,35.800000000000004,35.9,36.0,36.1,36.2,36.300000000000004,36.4,36.5,36.6,36.7,36.800000000000004,36.9,37.0,37.1,37.2,37.300000000000004,37.4,37.5,37.6,37.7,37.800000000000004,37.9,38.0,38.1,38.2,38.300000000000004,38.400000000000006,38.5,38.6,38.7,38.800000000000004,38.900000000000006,39.0,39.1,39.2,39.300000000000004,39.400000000000006,39.5,39.6,39.7,39.800000000000004,39.900000000000006,40.0,40.1,40.2,40.300000000000004,40.400000000000006,40.5,40.6,40.7,40.800000000000004,40.900000000000006,41.0,41.1,41.2,41.300000000000004,41.400000000000006,41.5,41.6,41.7,41.800000000000004,41.900000000000006,42.0,42.1,42.2,42.300000000000004,42.400000000000006,42.5,42.6,42.7,42.800000000000004,42.900000000000006,43.0,43.1,43.2,43.300000000000004,43.400000000000006,43.5,43.6,43.7,43.800000000000004,43.900000000000006,44.0,44.1,44.2,44.300000000000004,44.400000000000006,44.5,44.6,44.7,44.800000000000004,44.900000000000006,45.0,45.1,45.2,45.300000000000004,45.400000000000006,45.5,45.6,45.7,45.800000000000004,45.900000000000006,46.0,46.1,46.2,46.300000000000004,46.400000000000006,46.5,46.6,46.7,46.800000000000004,46.900000000000006,47.0,47.1,47.2,47.300000000000004,47.400000000000006,47.5,47.6,47.7,47.800000000000004,47.900000000000006,48.0,48.1,48.2,48.300000000000004,48.400000000000006,48.5,48.6,48.7,48.800000000000004,48.900000000000006,49.0,49.1,49.2,49.300000000000004,49.400000000000006,49.5,49.6,49.7,49.800000000000004,49.900000000000006],\"y\":[0.0,6.592974822617347e-7,0.000010049479920585311,0.00004847634701236537,0.00014601104461847301,0.00033978694550137843,0.0006717273033226716,0.0011866486193063156,0.0019306907630807506,0.002950030402116382,0.004289839265038943,0.005993453237560105,0.008101722307876803,0.010652514980603552,0.013680354001493833,0.017216163113724328,0.021287107132247508,0.02591650990518026,0.031123836757632257,0.03692472980886583,0.043331086141247074,0.0503511702001871,0.057989753037458534,0.06624827209348091,0.075125006163389,0.0846152610214498,0.09471156190182986,0.10540384966272986,0.11667967800623107,0.12852440959750716,0.140921409333035,0.15385223335588494,0.16729681271406982,0.18123363081151944,0.1956398940160896,0.2104916949700688,0.22576416830031049,0.24143163855129743,0.25746776026859397,0.2738456502453035,0.2905380120130148,0.30751725271364555,0.32475559253165176,0.3422251668990677,0.35989812171035956,0.377746701801489,0.39574333295907427,0.4138606977321482,0.43207180532161993,0.45035005582192156,0.46866929908610444,0.48700388848040965,0.5053287297875275,0.5236193255097897,0.5418518148147353,0.560003009356125,0.5780504251937834,0.595972311025812,0.6137476729368812,0.6313562958565955,0.6487787619124421,0.6659964658526237,0.6829916277052228,0.6997473028316603,0.7162473895243391,0.7324766342907016,0.7484206349586975,0.7640658417318386,0.7793995563156194,0.7944099292310766,0.809085955425644,0.8234174682862103,0.8373951321543884,0.8510104334394211,0.864255670419894,0.8771239418214294,0.8896091342538209,0.9017059085875947,0.9134096853467188,0.9247166291911431,0.9356236325599747,0.9461282985434067,0.9562289230489598,0.965924476325198,0.97521458390378,0.9840995070185374,0.9925801225581861,1.000657902607277,1.0083348936280863,1.0156136953342754,1.0224974393053796,1.028989767389429,1.0350948099393187,1.0408171639268986,1.0461618709771203,1.0511343953630157,1.0557406020006999,1.05998673448208,1.0638793931814274,1.0674255134704875,1.070632344075323,1.0735074256066395,1.076058569293897,1.0782938359520953,1.0802215152086974,1.0818501050167837,1.0831882914791322,1.0842449290065623,1.085029020832534,1.0855496999046574,1.0858162101724518,1.0858378882893902,1.0856241457459932,1.0851844514494544,1.0845283147640536,1.083665269025376,1.0826048555401537,1.0813566080823698,1.0799300378950958,1.078334619206406,1.0765797752665913,1.074674864912813,1.072629169666275,1.0704518813659554,1.0681520903419321,1.0657387741303566,1.0632207867311763,1.0606068484087885,1.0579055360349092,1.0551252739720782,1.0522743254953948,1.0493607847492659,1.0463925692351885,1.0433774128258346,1.0403228593000136,1.037236256392396,1.0341247503512472,1.0309952809967982,1.0278545772723051,1.0247091532792936,1.021565304787966,1.0184291062132662,1.0153064080466314,1.0122028347330454,1.0091237829826032,1.006074420505438,1.0030596851585218,1.0000842844925542,0.9971526956868642,0.9942691658600147,0.9914377127435741,0.9886621257063237,0.9859459671160131,0.9832925740256292,0.9807050601710349,0.9781863182667455,0.9757390225865461,0.9733656318156146,0.9710683921607999,0.9688493407057042,0.9667103089972579,0.9646529268505079,0.9626786263584253,0.9607886460936134,0.9589840354889106,0.9572656593840054,0.9556342027253215,0.9540901754065909,0.9526339172377053,0.9512656030296214,0.9499852477833045,0.9487927119709051,0.94768770689759,0.9466698001326957,0.9457384209991142,0.9448928661100845,0.9441323049428396,0.9434557854388231,0.9428622396204921,0.9423504892150018,0.9419192512753792,0.9415671437900923,0.9412926912722305,0.9410943303198362,0.9409704151392355,0.940919223023545,0.9409389597788551,0.9410277650909136,0.9411837178254651,0.9414048412557281,0.9416891082108205,0.9420344461392683,0.9424387420820707,0.9428998475501043,0.9434155833009905,0.9439837440108544,0.9446021028367348,0.9452684158657163,0.9459804264471617,0.9467358694047368,0.9475324751252199,0.9483679735213838,0.9492400978665377,0.9501465884985966,0.951085196391833,0.9520536865947402,0.9530498415327039,0.954071464174444,0.9551163810614454,0.9561824451998417,0.957267538814465,0.958369575965001,0.9594865050244239,0.9606163110201013,0.961757017838172,0.9629066902920033,0.9640634360557343,0.9652254074640934,0.9663908031798669,0.967557869730562,0.9687249029159717,0.9698902490885113,0.9710523063083385,0.9722095253754088,0.9733604107407564,0.9745035212994082,0.9756374710674561,0.9767609297459277,0.9778726231741818,0.9789713336756647,0.9800559002989353,0.9811252189569517,0.98217824246768,0.9832139804991481,0.9842314994221255,0.9852299220736579,0.9862084274347249,0.9871662502253306,0.9881026804203565,0.9890170626895395,0.9899087957649425,0.990777331739305,0.9916221752986586,0.9924428828925942,0.9932390618455603,0.9940103694125584,0.9947565117825836,0.9954772430331411,0.996172364039135,0.9968417213393983,0.9974852059640986,0.998102752226211,0.9986943364802037,0.9992599758510416,0.9997997269365556,1.0003136844861689,1.0008019800589245,1.0012647806636832,1.0017022873843076,1.0021147339925813,1.0025023855515371,1.0028655370118045,1.003204511803513,1.0035196604262082,1.0038113590391675,1.0040800080544237,1.0043260307347222,1.0045498717985624,1.0047519960343894,1.0049328869259213,1.0050930452905202,1.005232987932421,1.00535324631256,1.005454365236659,1.0055369015631315,1.0056014229323043,1.005648506518356,1.0056787378052967,1.0056927093882289,1.0056910198010491,1.005674272371669,1.005643074105752,1.0055980345998898,1.0055397649850537,1.0054688769010918,1.0053859815029564,1.0052916884992813,1.005186605223845,1.005071335740396,1.0049464799812364,1.0048126329198996,1.0046703837781856,1.0045203152677549,1.0043630028664186,1.0041990141292017,1.004028908034194,1.0038532343631508,1.003672533116742,1.0034873339643045,1.0032981557278906,1.0031055059003637,1.0029098801972396,1.0027117621419277,1.0025116226839834,1.0023099198499419,1.002107098426259,1.0019035896738546,1.001699811073712,1.0014961661029609,1.0012930440408254,1.0010908198038126,1.0008898538094637,1.000690491867984,1.0004930651010333,1.000297889886944,1.000105267831607,0.9999154857642553,0.9997288157573532,0.9995455151697867,0.9993658267125438,0.9991899785360481,0.9990181843383223,0.9988506434931258,0.9986875411972274,0.9985290486359539,0.998375323166163,0.9982265085157794,0.9980827349990438,0.9979441197466126,0.9978107669496651,0.9976827681171639,0.9975602023454317,0.9974431365992072,0.9973316260033541,0.9972257141444072,0.9971254333811457,0.9970308051633981,0.9969418403582957,0.9968585395832016,0.9967808935445588,0.9967088833819142,0.9966424810163909,0.9965816495028971,0.9965263433853784,0.996476509054434,0.9964320851066376,0.9963930027049236,0.9963591859394144,0.9963305521880869,0.9963070124766923,0.9962884718373712,0.9962748296654134,0.9962659800736451,0.9962618122439396,0.9962622107753699,0.9962670560285426,0.9962762244656742,0.9962895889859931,0.9963070192560661,0.9963283820346781,0.9963535414919046,0.9963823595220493,0.996414696050127,0.996450409331602,0.9964893562451103,0.9965313925779113,0.9965763733038387,0.9966241528535369,0.9966745853767904,0.9967275249967723,0.9967828260560582,0.9968403433542643,0.9968999323771986,0.9969614495174173,0.9970247522861062,0.9970896995162223,0.9971561515568397,0.9972239704586727,0.9972930201507513,0.9973631666082486,0.9974342780114729,0.9975062248960427,0.9975788802942931,0.9976521198679563,0.9977258220321871,0.9977998680710058,0.9978741422442494,0.9979485318861285,0.9980229274955006,0.9980972228179795,0.9981713149200082,0.9982451042550373,0.9983184947219517,0.9983913937159036,0.9984637121717097,0.9985353645999879,0.9986062691162023,0.998676347462803,0.9987455250246446,0.9988137308378779,0.9988808975925082,0.9989469616288233,0.9990118629278952,0.9990755450963588,0.9991379553456842,0.999199044466148,0.9992587667957231,0.9993170801840965,0.9993739459520399,0.9994293288463408,0.9994831969905186,0.999535521831539,0.9995862780827468,0.9996354436632285,0.9996829996338257,0.9997289301300055,0.9997732222918089,0.9998158661910758,0.9998568547561655,0.9998961836943684,0.9999338514122156,0.9999698589338843,1.0000042098178956,1.0000369100722946,1.0000679680685034,1.0000973944540312,1.0001252020642206,1.0001514058332084,1.000176022704271,1.000199071539724,1.000220573030534,1.000240549605808,1.0002590253423058,1.0002760258741272,1.000291578302719,1.0003057111073332,1.0003184540560772,1.0003298381176757,1.000339895374073,1.0003486589339872,1.0003561628475321,1.0003624420220103,1.0003675321389778,1.0003714695726793,1.0003742913099396,1.0003760348716018,1.0003767382355826,1.000376439761631,1.000375178117849,1.0003729922090459,1.0003699211069794,1.000366003982543,1.0003612800399433,1.000355788452915,1.0003495683030146,1.0003426585200204,1.000335097824477,1.0003269246724058,1.0003181772022052,1.0003088931837512,1.0002991099697223,1.000288864449147,1.0002781930031848,1.000267131463139,1.0002557150707014,1.0002439784404182,1.0002319555243735,1.0002196795790705,1.000207183134501,1.0001944979653785,1.0001816550645162,1.0001686846183222,1.0001556159843876,1.0001424776711338,1.0001292973194884,1.0001161016865532,1.0001029166312325,1.0000897671017719,1.0000766771251786,1.0000636697984733,1.0000507672817303,1.0000379907928625,1.0000253606041003,1.0000128960401198,1.000000615477768,0.9999885363473341,0.9999766751353181,0.9999650473886411,0.9999536677202461,0.9999425498160348,0.9999317064430874,0.9999211494591095,0.9999108898230513,0.9999009376068472,0.9998913020082161,0.999881991364471,0.9998730131672814,0.9998643740783352,0.9998560799458437,0.9998481358218384],\"type\":\"scatter\"}],                        {\"template\":{\"data\":{\"barpolar\":[{\"marker\":{\"line\":{\"color\":\"rgb(17,17,17)\",\"width\":0.5},\"pattern\":{\"fillmode\":\"overlay\",\"size\":10,\"solidity\":0.2}},\"type\":\"barpolar\"}],\"bar\":[{\"error_x\":{\"color\":\"#f2f5fa\"},\"error_y\":{\"color\":\"#f2f5fa\"},\"marker\":{\"line\":{\"color\":\"rgb(17,17,17)\",\"width\":0.5},\"pattern\":{\"fillmode\":\"overlay\",\"size\":10,\"solidity\":0.2}},\"type\":\"bar\"}],\"carpet\":[{\"aaxis\":{\"endlinecolor\":\"#A2B1C6\",\"gridcolor\":\"#506784\",\"linecolor\":\"#506784\",\"minorgridcolor\":\"#506784\",\"startlinecolor\":\"#A2B1C6\"},\"baxis\":{\"endlinecolor\":\"#A2B1C6\",\"gridcolor\":\"#506784\",\"linecolor\":\"#506784\",\"minorgridcolor\":\"#506784\",\"startlinecolor\":\"#A2B1C6\"},\"type\":\"carpet\"}],\"choropleth\":[{\"colorbar\":{\"outlinewidth\":0,\"ticks\":\"\"},\"type\":\"choropleth\"}],\"contourcarpet\":[{\"colorbar\":{\"outlinewidth\":0,\"ticks\":\"\"},\"type\":\"contourcarpet\"}],\"contour\":[{\"colorbar\":{\"outlinewidth\":0,\"ticks\":\"\"},\"colorscale\":[[0.0,\"#0d0887\"],[0.1111111111111111,\"#46039f\"],[0.2222222222222222,\"#7201a8\"],[0.3333333333333333,\"#9c179e\"],[0.4444444444444444,\"#bd3786\"],[0.5555555555555556,\"#d8576b\"],[0.6666666666666666,\"#ed7953\"],[0.7777777777777778,\"#fb9f3a\"],[0.8888888888888888,\"#fdca26\"],[1.0,\"#f0f921\"]],\"type\":\"contour\"}],\"heatmapgl\":[{\"colorbar\":{\"outlinewidth\":0,\"ticks\":\"\"},\"colorscale\":[[0.0,\"#0d0887\"],[0.1111111111111111,\"#46039f\"],[0.2222222222222222,\"#7201a8\"],[0.3333333333333333,\"#9c179e\"],[0.4444444444444444,\"#bd3786\"],[0.5555555555555556,\"#d8576b\"],[0.6666666666666666,\"#ed7953\"],[0.7777777777777778,\"#fb9f3a\"],[0.8888888888888888,\"#fdca26\"],[1.0,\"#f0f921\"]],\"type\":\"heatmapgl\"}],\"heatmap\":[{\"colorbar\":{\"outlinewidth\":0,\"ticks\":\"\"},\"colorscale\":[[0.0,\"#0d0887\"],[0.1111111111111111,\"#46039f\"],[0.2222222222222222,\"#7201a8\"],[0.3333333333333333,\"#9c179e\"],[0.4444444444444444,\"#bd3786\"],[0.5555555555555556,\"#d8576b\"],[0.6666666666666666,\"#ed7953\"],[0.7777777777777778,\"#fb9f3a\"],[0.8888888888888888,\"#fdca26\"],[1.0,\"#f0f921\"]],\"type\":\"heatmap\"}],\"histogram2dcontour\":[{\"colorbar\":{\"outlinewidth\":0,\"ticks\":\"\"},\"colorscale\":[[0.0,\"#0d0887\"],[0.1111111111111111,\"#46039f\"],[0.2222222222222222,\"#7201a8\"],[0.3333333333333333,\"#9c179e\"],[0.4444444444444444,\"#bd3786\"],[0.5555555555555556,\"#d8576b\"],[0.6666666666666666,\"#ed7953\"],[0.7777777777777778,\"#fb9f3a\"],[0.8888888888888888,\"#fdca26\"],[1.0,\"#f0f921\"]],\"type\":\"histogram2dcontour\"}],\"histogram2d\":[{\"colorbar\":{\"outlinewidth\":0,\"ticks\":\"\"},\"colorscale\":[[0.0,\"#0d0887\"],[0.1111111111111111,\"#46039f\"],[0.2222222222222222,\"#7201a8\"],[0.3333333333333333,\"#9c179e\"],[0.4444444444444444,\"#bd3786\"],[0.5555555555555556,\"#d8576b\"],[0.6666666666666666,\"#ed7953\"],[0.7777777777777778,\"#fb9f3a\"],[0.8888888888888888,\"#fdca26\"],[1.0,\"#f0f921\"]],\"type\":\"histogram2d\"}],\"histogram\":[{\"marker\":{\"pattern\":{\"fillmode\":\"overlay\",\"size\":10,\"solidity\":0.2}},\"type\":\"histogram\"}],\"mesh3d\":[{\"colorbar\":{\"outlinewidth\":0,\"ticks\":\"\"},\"type\":\"mesh3d\"}],\"parcoords\":[{\"line\":{\"colorbar\":{\"outlinewidth\":0,\"ticks\":\"\"}},\"type\":\"parcoords\"}],\"pie\":[{\"automargin\":true,\"type\":\"pie\"}],\"scatter3d\":[{\"line\":{\"colorbar\":{\"outlinewidth\":0,\"ticks\":\"\"}},\"marker\":{\"colorbar\":{\"outlinewidth\":0,\"ticks\":\"\"}},\"type\":\"scatter3d\"}],\"scattercarpet\":[{\"marker\":{\"colorbar\":{\"outlinewidth\":0,\"ticks\":\"\"}},\"type\":\"scattercarpet\"}],\"scattergeo\":[{\"marker\":{\"colorbar\":{\"outlinewidth\":0,\"ticks\":\"\"}},\"type\":\"scattergeo\"}],\"scattergl\":[{\"marker\":{\"line\":{\"color\":\"#283442\"}},\"type\":\"scattergl\"}],\"scattermapbox\":[{\"marker\":{\"colorbar\":{\"outlinewidth\":0,\"ticks\":\"\"}},\"type\":\"scattermapbox\"}],\"scatterpolargl\":[{\"marker\":{\"colorbar\":{\"outlinewidth\":0,\"ticks\":\"\"}},\"type\":\"scatterpolargl\"}],\"scatterpolar\":[{\"marker\":{\"colorbar\":{\"outlinewidth\":0,\"ticks\":\"\"}},\"type\":\"scatterpolar\"}],\"scatter\":[{\"marker\":{\"line\":{\"color\":\"#283442\"}},\"type\":\"scatter\"}],\"scatterternary\":[{\"marker\":{\"colorbar\":{\"outlinewidth\":0,\"ticks\":\"\"}},\"type\":\"scatterternary\"}],\"surface\":[{\"colorbar\":{\"outlinewidth\":0,\"ticks\":\"\"},\"colorscale\":[[0.0,\"#0d0887\"],[0.1111111111111111,\"#46039f\"],[0.2222222222222222,\"#7201a8\"],[0.3333333333333333,\"#9c179e\"],[0.4444444444444444,\"#bd3786\"],[0.5555555555555556,\"#d8576b\"],[0.6666666666666666,\"#ed7953\"],[0.7777777777777778,\"#fb9f3a\"],[0.8888888888888888,\"#fdca26\"],[1.0,\"#f0f921\"]],\"type\":\"surface\"}],\"table\":[{\"cells\":{\"fill\":{\"color\":\"#506784\"},\"line\":{\"color\":\"rgb(17,17,17)\"}},\"header\":{\"fill\":{\"color\":\"#2a3f5f\"},\"line\":{\"color\":\"rgb(17,17,17)\"}},\"type\":\"table\"}]},\"layout\":{\"annotationdefaults\":{\"arrowcolor\":\"#f2f5fa\",\"arrowhead\":0,\"arrowwidth\":1},\"autotypenumbers\":\"strict\",\"coloraxis\":{\"colorbar\":{\"outlinewidth\":0,\"ticks\":\"\"}},\"colorscale\":{\"diverging\":[[0,\"#8e0152\"],[0.1,\"#c51b7d\"],[0.2,\"#de77ae\"],[0.3,\"#f1b6da\"],[0.4,\"#fde0ef\"],[0.5,\"#f7f7f7\"],[0.6,\"#e6f5d0\"],[0.7,\"#b8e186\"],[0.8,\"#7fbc41\"],[0.9,\"#4d9221\"],[1,\"#276419\"]],\"sequential\":[[0.0,\"#0d0887\"],[0.1111111111111111,\"#46039f\"],[0.2222222222222222,\"#7201a8\"],[0.3333333333333333,\"#9c179e\"],[0.4444444444444444,\"#bd3786\"],[0.5555555555555556,\"#d8576b\"],[0.6666666666666666,\"#ed7953\"],[0.7777777777777778,\"#fb9f3a\"],[0.8888888888888888,\"#fdca26\"],[1.0,\"#f0f921\"]],\"sequentialminus\":[[0.0,\"#0d0887\"],[0.1111111111111111,\"#46039f\"],[0.2222222222222222,\"#7201a8\"],[0.3333333333333333,\"#9c179e\"],[0.4444444444444444,\"#bd3786\"],[0.5555555555555556,\"#d8576b\"],[0.6666666666666666,\"#ed7953\"],[0.7777777777777778,\"#fb9f3a\"],[0.8888888888888888,\"#fdca26\"],[1.0,\"#f0f921\"]]},\"colorway\":[\"#636efa\",\"#EF553B\",\"#00cc96\",\"#ab63fa\",\"#FFA15A\",\"#19d3f3\",\"#FF6692\",\"#B6E880\",\"#FF97FF\",\"#FECB52\"],\"font\":{\"color\":\"#f2f5fa\"},\"geo\":{\"bgcolor\":\"rgb(17,17,17)\",\"lakecolor\":\"rgb(17,17,17)\",\"landcolor\":\"rgb(17,17,17)\",\"showlakes\":true,\"showland\":true,\"subunitcolor\":\"#506784\"},\"hoverlabel\":{\"align\":\"left\"},\"hovermode\":\"closest\",\"mapbox\":{\"style\":\"dark\"},\"paper_bgcolor\":\"rgb(17,17,17)\",\"plot_bgcolor\":\"rgb(17,17,17)\",\"polar\":{\"angularaxis\":{\"gridcolor\":\"#506784\",\"linecolor\":\"#506784\",\"ticks\":\"\"},\"bgcolor\":\"rgb(17,17,17)\",\"radialaxis\":{\"gridcolor\":\"#506784\",\"linecolor\":\"#506784\",\"ticks\":\"\"}},\"scene\":{\"xaxis\":{\"backgroundcolor\":\"rgb(17,17,17)\",\"gridcolor\":\"#506784\",\"gridwidth\":2,\"linecolor\":\"#506784\",\"showbackground\":true,\"ticks\":\"\",\"zerolinecolor\":\"#C8D4E3\"},\"yaxis\":{\"backgroundcolor\":\"rgb(17,17,17)\",\"gridcolor\":\"#506784\",\"gridwidth\":2,\"linecolor\":\"#506784\",\"showbackground\":true,\"ticks\":\"\",\"zerolinecolor\":\"#C8D4E3\"},\"zaxis\":{\"backgroundcolor\":\"rgb(17,17,17)\",\"gridcolor\":\"#506784\",\"gridwidth\":2,\"linecolor\":\"#506784\",\"showbackground\":true,\"ticks\":\"\",\"zerolinecolor\":\"#C8D4E3\"}},\"shapedefaults\":{\"line\":{\"color\":\"#f2f5fa\"}},\"sliderdefaults\":{\"bgcolor\":\"#C8D4E3\",\"bordercolor\":\"rgb(17,17,17)\",\"borderwidth\":1,\"tickwidth\":0},\"ternary\":{\"aaxis\":{\"gridcolor\":\"#506784\",\"linecolor\":\"#506784\",\"ticks\":\"\"},\"baxis\":{\"gridcolor\":\"#506784\",\"linecolor\":\"#506784\",\"ticks\":\"\"},\"bgcolor\":\"rgb(17,17,17)\",\"caxis\":{\"gridcolor\":\"#506784\",\"linecolor\":\"#506784\",\"ticks\":\"\"}},\"title\":{\"x\":0.05},\"updatemenudefaults\":{\"bgcolor\":\"#506784\",\"borderwidth\":0},\"xaxis\":{\"automargin\":true,\"gridcolor\":\"#283442\",\"linecolor\":\"#506784\",\"ticks\":\"\",\"title\":{\"standoff\":15},\"zerolinecolor\":\"#283442\",\"zerolinewidth\":2},\"yaxis\":{\"automargin\":true,\"gridcolor\":\"#283442\",\"linecolor\":\"#506784\",\"ticks\":\"\",\"title\":{\"standoff\":15},\"zerolinecolor\":\"#283442\",\"zerolinewidth\":2}}},\"xaxis\":{\"anchor\":\"y\",\"domain\":[0.0,1.0]},\"yaxis\":{\"anchor\":\"x\",\"domain\":[0.0,1.0]},\"width\":600,\"height\":400},                        {\"responsive\": true}                    ).then(function(){\n",
              "                            \n",
              "var gd = document.getElementById('598012e9-d7fe-453e-9c1a-fa0bf6faf142');\n",
              "var x = new MutationObserver(function (mutations, observer) {{\n",
              "        var display = window.getComputedStyle(gd).display;\n",
              "        if (!display || display === 'none') {{\n",
              "            console.log([gd, 'removed!']);\n",
              "            Plotly.purge(gd);\n",
              "            observer.disconnect();\n",
              "        }}\n",
              "}});\n",
              "\n",
              "// Listen for the removal of the full notebook cells\n",
              "var notebookContainer = gd.closest('#notebook-container');\n",
              "if (notebookContainer) {{\n",
              "    x.observe(notebookContainer, {childList: true});\n",
              "}}\n",
              "\n",
              "// Listen for the clearing of the current output cell\n",
              "var outputEl = gd.closest('.output');\n",
              "if (outputEl) {{\n",
              "    x.observe(outputEl, {childList: true});\n",
              "}}\n",
              "\n",
              "                        })                };                            </script>        </div>\n",
              "</body>\n",
              "</html>"
            ]
          },
          "metadata": {}
        }
      ]
    },
    {
      "cell_type": "code",
      "source": [
        "Gp = fK*exp(-ftheta*s)/(ftau*s+1)\n",
        "Gc =2.8\n",
        "Gm = 1\n",
        "Gfb = Gc*Gp/(1+Gp*Gc*Gm)\n",
        "Gfb=simplify(Gfb)\n",
        "t,y=sim(Gfb, lambda t: 1., N=500, dt=0.1)\n",
        "fig4=make_subplots()\n",
        "fig4.add_scatter(x=t, y= y)\n",
        "fig4.update_layout(width=600, height=400, template='plotly_dark')"
      ],
      "metadata": {
        "colab": {
          "base_uri": "https://localhost:8080/",
          "height": 417
        },
        "id": "JkJZ8nVwbSqS",
        "outputId": "ae6e3f4b-adcf-4600-b79b-6739c7516bc3"
      },
      "execution_count": 32,
      "outputs": [
        {
          "output_type": "display_data",
          "data": {
            "text/html": [
              "<html>\n",
              "<head><meta charset=\"utf-8\" /></head>\n",
              "<body>\n",
              "    <div>            <script src=\"https://cdnjs.cloudflare.com/ajax/libs/mathjax/2.7.5/MathJax.js?config=TeX-AMS-MML_SVG\"></script><script type=\"text/javascript\">if (window.MathJax && window.MathJax.Hub && window.MathJax.Hub.Config) {window.MathJax.Hub.Config({SVG: {font: \"STIX-Web\"}});}</script>                <script type=\"text/javascript\">window.PlotlyConfig = {MathJaxConfig: 'local'};</script>\n",
              "        <script charset=\"utf-8\" src=\"https://cdn.plot.ly/plotly-2.35.2.min.js\"></script>                <div id=\"680845f6-3936-40c9-a382-30c80b17d2cd\" class=\"plotly-graph-div\" style=\"height:400px; width:600px;\"></div>            <script type=\"text/javascript\">                                    window.PLOTLYENV=window.PLOTLYENV || {};                                    if (document.getElementById(\"680845f6-3936-40c9-a382-30c80b17d2cd\")) {                    Plotly.newPlot(                        \"680845f6-3936-40c9-a382-30c80b17d2cd\",                        [{\"x\":[0.0,0.1,0.2,0.30000000000000004,0.4,0.5,0.6000000000000001,0.7000000000000001,0.8,0.9,1.0,1.1,1.2000000000000002,1.3,1.4000000000000001,1.5,1.6,1.7000000000000002,1.8,1.9000000000000001,2.0,2.1,2.2,2.3000000000000003,2.4000000000000004,2.5,2.6,2.7,2.8000000000000003,2.9000000000000004,3.0,3.1,3.2,3.3000000000000003,3.4000000000000004,3.5,3.6,3.7,3.8000000000000003,3.9000000000000004,4.0,4.1000000000000005,4.2,4.3,4.4,4.5,4.6000000000000005,4.7,4.800000000000001,4.9,5.0,5.1000000000000005,5.2,5.300000000000001,5.4,5.5,5.6000000000000005,5.7,5.800000000000001,5.9,6.0,6.1000000000000005,6.2,6.300000000000001,6.4,6.5,6.6000000000000005,6.7,6.800000000000001,6.9,7.0,7.1000000000000005,7.2,7.300000000000001,7.4,7.5,7.6000000000000005,7.7,7.800000000000001,7.9,8.0,8.1,8.200000000000001,8.3,8.4,8.5,8.6,8.700000000000001,8.8,8.9,9.0,9.1,9.200000000000001,9.3,9.4,9.5,9.600000000000001,9.700000000000001,9.8,9.9,10.0,10.100000000000001,10.200000000000001,10.3,10.4,10.5,10.600000000000001,10.700000000000001,10.8,10.9,11.0,11.100000000000001,11.200000000000001,11.3,11.4,11.5,11.600000000000001,11.700000000000001,11.8,11.9,12.0,12.100000000000001,12.200000000000001,12.3,12.4,12.5,12.600000000000001,12.700000000000001,12.8,12.9,13.0,13.100000000000001,13.200000000000001,13.3,13.4,13.5,13.600000000000001,13.700000000000001,13.8,13.9,14.0,14.100000000000001,14.200000000000001,14.3,14.4,14.5,14.600000000000001,14.700000000000001,14.8,14.9,15.0,15.100000000000001,15.200000000000001,15.3,15.4,15.5,15.600000000000001,15.700000000000001,15.8,15.9,16.0,16.1,16.2,16.3,16.400000000000002,16.5,16.6,16.7,16.8,16.900000000000002,17.0,17.1,17.2,17.3,17.400000000000002,17.5,17.6,17.7,17.8,17.900000000000002,18.0,18.1,18.2,18.3,18.400000000000002,18.5,18.6,18.7,18.8,18.900000000000002,19.0,19.1,19.200000000000003,19.3,19.400000000000002,19.5,19.6,19.700000000000003,19.8,19.900000000000002,20.0,20.1,20.200000000000003,20.3,20.400000000000002,20.5,20.6,20.700000000000003,20.8,20.900000000000002,21.0,21.1,21.200000000000003,21.3,21.400000000000002,21.5,21.6,21.700000000000003,21.8,21.900000000000002,22.0,22.1,22.200000000000003,22.3,22.400000000000002,22.5,22.6,22.700000000000003,22.8,22.900000000000002,23.0,23.1,23.200000000000003,23.3,23.400000000000002,23.5,23.6,23.700000000000003,23.8,23.900000000000002,24.0,24.1,24.200000000000003,24.3,24.400000000000002,24.5,24.6,24.700000000000003,24.8,24.900000000000002,25.0,25.1,25.200000000000003,25.3,25.400000000000002,25.5,25.6,25.700000000000003,25.8,25.900000000000002,26.0,26.1,26.200000000000003,26.3,26.400000000000002,26.5,26.6,26.700000000000003,26.8,26.900000000000002,27.0,27.1,27.200000000000003,27.3,27.400000000000002,27.5,27.6,27.700000000000003,27.8,27.900000000000002,28.0,28.1,28.200000000000003,28.3,28.400000000000002,28.5,28.6,28.700000000000003,28.8,28.900000000000002,29.0,29.1,29.200000000000003,29.3,29.400000000000002,29.5,29.6,29.700000000000003,29.8,29.900000000000002,30.0,30.1,30.200000000000003,30.3,30.400000000000002,30.5,30.6,30.700000000000003,30.8,30.900000000000002,31.0,31.1,31.200000000000003,31.3,31.400000000000002,31.5,31.6,31.700000000000003,31.8,31.900000000000002,32.0,32.1,32.2,32.300000000000004,32.4,32.5,32.6,32.7,32.800000000000004,32.9,33.0,33.1,33.2,33.300000000000004,33.4,33.5,33.6,33.7,33.800000000000004,33.9,34.0,34.1,34.2,34.300000000000004,34.4,34.5,34.6,34.7,34.800000000000004,34.9,35.0,35.1,35.2,35.300000000000004,35.4,35.5,35.6,35.7,35.800000000000004,35.9,36.0,36.1,36.2,36.300000000000004,36.4,36.5,36.6,36.7,36.800000000000004,36.9,37.0,37.1,37.2,37.300000000000004,37.4,37.5,37.6,37.7,37.800000000000004,37.9,38.0,38.1,38.2,38.300000000000004,38.400000000000006,38.5,38.6,38.7,38.800000000000004,38.900000000000006,39.0,39.1,39.2,39.300000000000004,39.400000000000006,39.5,39.6,39.7,39.800000000000004,39.900000000000006,40.0,40.1,40.2,40.300000000000004,40.400000000000006,40.5,40.6,40.7,40.800000000000004,40.900000000000006,41.0,41.1,41.2,41.300000000000004,41.400000000000006,41.5,41.6,41.7,41.800000000000004,41.900000000000006,42.0,42.1,42.2,42.300000000000004,42.400000000000006,42.5,42.6,42.7,42.800000000000004,42.900000000000006,43.0,43.1,43.2,43.300000000000004,43.400000000000006,43.5,43.6,43.7,43.800000000000004,43.900000000000006,44.0,44.1,44.2,44.300000000000004,44.400000000000006,44.5,44.6,44.7,44.800000000000004,44.900000000000006,45.0,45.1,45.2,45.300000000000004,45.400000000000006,45.5,45.6,45.7,45.800000000000004,45.900000000000006,46.0,46.1,46.2,46.300000000000004,46.400000000000006,46.5,46.6,46.7,46.800000000000004,46.900000000000006,47.0,47.1,47.2,47.300000000000004,47.400000000000006,47.5,47.6,47.7,47.800000000000004,47.900000000000006,48.0,48.1,48.2,48.300000000000004,48.400000000000006,48.5,48.6,48.7,48.800000000000004,48.900000000000006,49.0,49.1,49.2,49.300000000000004,49.400000000000006,49.5,49.6,49.7,49.800000000000004,49.900000000000006],\"y\":[0.0,0.0,0.0,0.0,0.0,0.0,0.0,0.0,0.0,0.0,0.0,0.0,0.0,0.0,0.0,0.0,0.0,0.0,0.0,0.0,0.0,0.0,0.0,0.0,0.0,0.0,0.0,0.07208350495151393,0.14867084442626785,0.22338396628420254,0.296268735699631,0.3673698954509425,0.4367310933874672,0.5043949092241846,0.5704028806807198,0.6347955289806757,0.6976123837269572,0.7588920071683509,0.8186720178722665,0.8769891138181645,0.933879094925851,0.9893768850324695,1.043516553331675,1.0963313352881636,1.1478536530403842,1.1981151353039603,1.247146636788052,1.2949782571365558,1.341639359405793,1.3871585880900092,1.4315638867057694,1.4748825149460276,1.517141065414409,1.5505607044378553,1.5768001857219498,1.5965855794516552,1.6102367800021244,1.618042166176724,1.6202796761050315,1.6172171455447764,1.6091126358786842,1.596214752108002,1.578762951135867,1.5569878406253415,1.5311114687087921,1.5013476048174101,1.4679020118919837,1.430972710228577,1.3907502332055108,1.347417875130996,1.3011519314439166,1.252121931493594,1.200490864117905,1.1464153962328019,1.090046084640217,1.0315275812553375,0.9709988319485013,0.9085932691913243,0.8444389986912159,0.7795040351171098,0.7143449027232349,0.6494458278259603,0.5852692116955293,0.5222457662302654,0.4607742978665287,0.4012232034493481,0.3439319693611562,0.2892126093809211,0.23735104352413317,0.188608420036975,0.14322238264342738,0.10140828507189378,0.0633603548181275,0.02925280803374347,-0.0007590826357158256,-0.026537965502332048,-0.0479634308772415,-0.06493107406127048,-0.0773515987012301,-0.08514995898354674,-0.08826453919033983,-0.08664636919468488,-0.08025837452174588,-0.06907465965073357,-0.05307982327932218,-0.03235980186559193,-0.0070323634360531006,0.0227531244329872,0.05681560025153628,0.09494570345929464,0.13690900429362085,0.18244895582567675,0.23128965081187147,0.2831384002455539,0.33768814273217906,0.3946196932098057,0.4536038391662877,0.5143032921486217,0.5763745020181824,0.6394693410773494,0.7032366648779275,0.7673237562192471,0.8313776585533882,0.8950464047362766,0.9579801467958341,1.0198321921317273,1.0802599513149322,1.1389258024190614,1.1954978765887847,1.249650769333267,1.3010661818241605,1.3494434030910731,1.3944995797197828,1.4359715290468922,1.4736177431384654,1.5072199743579346,1.536584523024545,1.5615432710973431,1.5819544812749828,1.5977033804566962,1.6087025457705606,1.6148921103043552,1.6162398046292945,1.612740849214197,1.604417711885519,1.5913197435948832,1.5735227049080545,1.551128194825673,1.5242629927844118,1.4930783239657157,1.4577490573559546,1.418472845355032,1.3754692131184347,1.3289786052388322,1.2792613968260718,1.2265968755272336,1.1712822005399532,1.11363027155994,1.0539679033656337,0.9926338889591857,0.9299769425251825,0.8663535804167954,0.8021259633388597,0.7376597188828088,0.6733217625558633,0.6094781336089348,0.5464918601658484,0.48472086649336993,0.42451593371118285,0.3662187238146716,0.3101598755638288,0.2566571795730417,0.2060138388125271,0.1585168196971586,0.11443529798720684,0.07401920285250865,0.03749786165244063,0.005078747253831665,-0.02305367095664236,-0.04673897181395625,-0.06584172286696363,-0.0802523171135549,-0.08988770691695551,-0.0946919203009224,-0.09463642730182104,-0.08972034322706911,-0.07997046182068675,-0.06544111935707139,-0.04621389163665348,-0.02239712707923142,0.005874679588902475,0.03844166744863942,0.07511953675770291,0.11570061624108569,0.15995506231255607,0.20763218170705502,0.25846186858611364,0.31215614686302334,0.36841080827187583,0.42690713656534907,0.48731370816221625,0.5492882595689216,0.6124796119629657,0.6765296434427913,0.7410752996126794,0.8057506333766022,0.8701888650563522,0.9340244542217365,0.9968951749199348,1.0584441737376078,1.1183220010315083,1.176188603025079,1.2317152621508394,1.2845864736666692,1.334501747075319,1.3811773214472347,1.4243477844085322,1.4637675852829377,1.4992124336537478,1.53048057542683,1.5573939393175966,1.5797991475436095,1.5975683853710136,1.6106001250298265,1.618819700372891,1.622179729500265,1.6206603833995514,1.6142694994585158,1.6030425394856234,1.5870423926232553,1.5663590242548617,1.5411089726886873,1.5114346960453942,1.477503772383312,1.4395079566623628,1.3976621000367095,1.3522029373013034,1.3033877491836297,1.2514929070146843,1.1968123080485649,1.1396557103793703,1.0803469770204075,1.0192222392573647,0.9566279898608538,0.8929191171436037,0.8284568911723421,0.7636069136942845,0.6987370435143156,0.6342153091622179,0.5704078207224835,0.5076766926642372,0.4463779894086489,0.38685970520946616,0.32945978970167494,0.2745042301982983,0.222305201489116,0.17315929352177126,0.1273458269295609,0.08512526591454184,0.04673773750418375,0.012401665678011289,-0.01768747183574897,-0.04335825695664412,-0.0644643084307529,-0.08088511715590564,-0.09252673482808511,-0.09932231192560707,-0.10123248191511595,-0.09824558945030293,-0.09037776123403311,-0.07767281912129671,-0.06020203594785236,-0.038063735471821826,-0.011382738707113982,0.019690340196914766,0.05497994452079754,0.09428656714813491,0.1373878787112037,0.18403998530979632,0.2339788086780286,0.2869215809890318,0.3425684458466981,0.40060415641917374,0.4606998611232448,0.5225149667732446,0.5856990686645079,0.6498939366706157,0.7147355461120727,0.7798561418922575,0.8448863241993421,0.9094571439431912,0.9732021960344861,1.0357596986197959,1.0967745464618899,1.155900326798042,1.212801286220228,1.2671542373983893,1.318650394809322,1.3669971290377165,1.411919629679111,1.4531624673947252,1.490491046241863,1.523692938027135,1.552579091099896,1.5769849067154846,1.5967711768484343,1.6118248781203222,1.6220598173208751,1.6274171248401934,1.6278655931896509,1.6234018586649581,1.6140504250923762,1.599863529493716,1.5809208504014984,1.5573290604479633,1.5292212257354236,1.4967560553655408,1.4601170053565744,1.4195112420053968,1.3751684705504814,1.3273396357583618,1.2762955017847726,1.222325119348814,1.1657341888996735,1.1068433290474768,1.0459862600688987,0.9835079127815687,0.9197624735059784,0.855111376197491,0.7899212531319483,0.7245618557646294,0.6594039575528323,0.5948172506359363,0.5311682483032215,0.4688182051486093,0.4081210667130087,0.34942146024985316,0.2930527380182463,0.23933508421241623,0.18857369627742016,0.1410570509411759,0.09705526481445835,0.056818558875886216,0.02057583557139792,-0.011466623379559462,-0.03912633106234118,-0.06224563464671035,-0.08069261394832408,-0.09436183415018021,-0.10317494838885083,-0.10708114676163248,-0.10605744918165902,-0.10010884039373744,-0.08926824635896931,-0.0735963521161955,-0.053181262127693106,-0.02813800501037626,0.0013921145632062382,0.035242313142311285,0.0732212704553624,0.11511421072729769,0.16068411724553522,0.209673073306473,0.2618037219562234,0.31678083626425574,0.37429299124015036,0.4340143279254441,0.49560639966819564,0.5587200901196832,0.6229975920841121,0.6880744360050297,0.7535815565884835,0.8191473858448546,0.8843999606791024,0.9489690330748204,1.0124881709007028,1.0745968374191202,1.1349424376956005,1.1931823202935599,1.2489857228906254,1.3020356507691229,1.3520306775122466,1.3986866576772512,1.4417383417144496,1.4809408839540021,1.5160712350875054,1.5469294112252976,1.573339632309265,1.595151323400905,1.612239973141231,1.6245078444884393,1.6318845336764667,1.6343273741979691,1.6318216834938906,1.6243808509237843,1.6120462664912365,1.5948870907021038,1.5729998668346485,1.5465079777948865,1.5155609506125962,1.4803336124983002,1.4410251032243486,1.3978577494091773,1.3510758070681776,1.3009440795430907,1.2477464186300116,1.191784117390059,1.1333742037426984,1.0728476445060806,1.0105474700584587,0.9468268302467538,0.8820469925601239,0.8165752939159039,0.7507830576700822,0.6850434876640071,0.6197295512510426,0.5552118633114667,0.4918565832604153,0.4300233369817123,0.37006317548132106,0.31231658184757505,0.25711153783330254,0.20476166103869198,0.1555644232748224,0.10979946022926636,0.06772698203867532,0.02958629380246494,-0.004405565550443646,-0.03405505830007642,-0.05919324985118514,-0.07967677125270713,-0.09538863683698963,-0.10623891231587393,-0.11216522951843534,-0.11313314482448678,-0.10913633923429673,-0.10019665891303185,-0.08636399595328467,-0.06771601000548551,-0.04435769232890237,-0.01642077471019112,0.015937013423049207,0.052532835504422074,0.09315978091922027,0.13758803484600338,0.18556617823529112,0.23682261057198373,0.29106708737022474,0.34799236369734055,0.4072759344203006,0.46858186131800195,0.5315626767081894,0.5958613528019012,0.6611133256238665,0.726948562025574,0.7929936580715432,0.8588739568993236,0.9242156740411785,0.9886480181513205,1.0518052951063133,1.1133289835388074,1.1728697700247723,1.2300895323712333,1.2846632597442535,1.3362808987330748,1.384649114864897,1.4294929595626342,1.4705574330726812,1.5076089344785295,1.5404365905549466,1.568853455903602,1.5926975775399468,1.6118329178689919,1.6261501307901125,1.6355671865032437,1.6400298414465468,1.639511950673597,1.6340156208715841,1.623571203125822,1.6082371254448422,1.5880995659694686,1.5632719686932348,1.5338944044153324,1.5001327805257016,1.4621779040801675,1.4202444034565505,1.3745695146858643,1.3254117393215445,1.2730493814394457,1.2177789720485175,1.1599135898320656,1.0997810877291776,1.0377222354017561,0.9740887881112867,0.9092414929489636,0.8435480437198554,0.7773809960750286,0.7111156547131093,0.6451279446329509,0.5797922785118576],\"type\":\"scatter\"}],                        {\"template\":{\"data\":{\"barpolar\":[{\"marker\":{\"line\":{\"color\":\"rgb(17,17,17)\",\"width\":0.5},\"pattern\":{\"fillmode\":\"overlay\",\"size\":10,\"solidity\":0.2}},\"type\":\"barpolar\"}],\"bar\":[{\"error_x\":{\"color\":\"#f2f5fa\"},\"error_y\":{\"color\":\"#f2f5fa\"},\"marker\":{\"line\":{\"color\":\"rgb(17,17,17)\",\"width\":0.5},\"pattern\":{\"fillmode\":\"overlay\",\"size\":10,\"solidity\":0.2}},\"type\":\"bar\"}],\"carpet\":[{\"aaxis\":{\"endlinecolor\":\"#A2B1C6\",\"gridcolor\":\"#506784\",\"linecolor\":\"#506784\",\"minorgridcolor\":\"#506784\",\"startlinecolor\":\"#A2B1C6\"},\"baxis\":{\"endlinecolor\":\"#A2B1C6\",\"gridcolor\":\"#506784\",\"linecolor\":\"#506784\",\"minorgridcolor\":\"#506784\",\"startlinecolor\":\"#A2B1C6\"},\"type\":\"carpet\"}],\"choropleth\":[{\"colorbar\":{\"outlinewidth\":0,\"ticks\":\"\"},\"type\":\"choropleth\"}],\"contourcarpet\":[{\"colorbar\":{\"outlinewidth\":0,\"ticks\":\"\"},\"type\":\"contourcarpet\"}],\"contour\":[{\"colorbar\":{\"outlinewidth\":0,\"ticks\":\"\"},\"colorscale\":[[0.0,\"#0d0887\"],[0.1111111111111111,\"#46039f\"],[0.2222222222222222,\"#7201a8\"],[0.3333333333333333,\"#9c179e\"],[0.4444444444444444,\"#bd3786\"],[0.5555555555555556,\"#d8576b\"],[0.6666666666666666,\"#ed7953\"],[0.7777777777777778,\"#fb9f3a\"],[0.8888888888888888,\"#fdca26\"],[1.0,\"#f0f921\"]],\"type\":\"contour\"}],\"heatmapgl\":[{\"colorbar\":{\"outlinewidth\":0,\"ticks\":\"\"},\"colorscale\":[[0.0,\"#0d0887\"],[0.1111111111111111,\"#46039f\"],[0.2222222222222222,\"#7201a8\"],[0.3333333333333333,\"#9c179e\"],[0.4444444444444444,\"#bd3786\"],[0.5555555555555556,\"#d8576b\"],[0.6666666666666666,\"#ed7953\"],[0.7777777777777778,\"#fb9f3a\"],[0.8888888888888888,\"#fdca26\"],[1.0,\"#f0f921\"]],\"type\":\"heatmapgl\"}],\"heatmap\":[{\"colorbar\":{\"outlinewidth\":0,\"ticks\":\"\"},\"colorscale\":[[0.0,\"#0d0887\"],[0.1111111111111111,\"#46039f\"],[0.2222222222222222,\"#7201a8\"],[0.3333333333333333,\"#9c179e\"],[0.4444444444444444,\"#bd3786\"],[0.5555555555555556,\"#d8576b\"],[0.6666666666666666,\"#ed7953\"],[0.7777777777777778,\"#fb9f3a\"],[0.8888888888888888,\"#fdca26\"],[1.0,\"#f0f921\"]],\"type\":\"heatmap\"}],\"histogram2dcontour\":[{\"colorbar\":{\"outlinewidth\":0,\"ticks\":\"\"},\"colorscale\":[[0.0,\"#0d0887\"],[0.1111111111111111,\"#46039f\"],[0.2222222222222222,\"#7201a8\"],[0.3333333333333333,\"#9c179e\"],[0.4444444444444444,\"#bd3786\"],[0.5555555555555556,\"#d8576b\"],[0.6666666666666666,\"#ed7953\"],[0.7777777777777778,\"#fb9f3a\"],[0.8888888888888888,\"#fdca26\"],[1.0,\"#f0f921\"]],\"type\":\"histogram2dcontour\"}],\"histogram2d\":[{\"colorbar\":{\"outlinewidth\":0,\"ticks\":\"\"},\"colorscale\":[[0.0,\"#0d0887\"],[0.1111111111111111,\"#46039f\"],[0.2222222222222222,\"#7201a8\"],[0.3333333333333333,\"#9c179e\"],[0.4444444444444444,\"#bd3786\"],[0.5555555555555556,\"#d8576b\"],[0.6666666666666666,\"#ed7953\"],[0.7777777777777778,\"#fb9f3a\"],[0.8888888888888888,\"#fdca26\"],[1.0,\"#f0f921\"]],\"type\":\"histogram2d\"}],\"histogram\":[{\"marker\":{\"pattern\":{\"fillmode\":\"overlay\",\"size\":10,\"solidity\":0.2}},\"type\":\"histogram\"}],\"mesh3d\":[{\"colorbar\":{\"outlinewidth\":0,\"ticks\":\"\"},\"type\":\"mesh3d\"}],\"parcoords\":[{\"line\":{\"colorbar\":{\"outlinewidth\":0,\"ticks\":\"\"}},\"type\":\"parcoords\"}],\"pie\":[{\"automargin\":true,\"type\":\"pie\"}],\"scatter3d\":[{\"line\":{\"colorbar\":{\"outlinewidth\":0,\"ticks\":\"\"}},\"marker\":{\"colorbar\":{\"outlinewidth\":0,\"ticks\":\"\"}},\"type\":\"scatter3d\"}],\"scattercarpet\":[{\"marker\":{\"colorbar\":{\"outlinewidth\":0,\"ticks\":\"\"}},\"type\":\"scattercarpet\"}],\"scattergeo\":[{\"marker\":{\"colorbar\":{\"outlinewidth\":0,\"ticks\":\"\"}},\"type\":\"scattergeo\"}],\"scattergl\":[{\"marker\":{\"line\":{\"color\":\"#283442\"}},\"type\":\"scattergl\"}],\"scattermapbox\":[{\"marker\":{\"colorbar\":{\"outlinewidth\":0,\"ticks\":\"\"}},\"type\":\"scattermapbox\"}],\"scatterpolargl\":[{\"marker\":{\"colorbar\":{\"outlinewidth\":0,\"ticks\":\"\"}},\"type\":\"scatterpolargl\"}],\"scatterpolar\":[{\"marker\":{\"colorbar\":{\"outlinewidth\":0,\"ticks\":\"\"}},\"type\":\"scatterpolar\"}],\"scatter\":[{\"marker\":{\"line\":{\"color\":\"#283442\"}},\"type\":\"scatter\"}],\"scatterternary\":[{\"marker\":{\"colorbar\":{\"outlinewidth\":0,\"ticks\":\"\"}},\"type\":\"scatterternary\"}],\"surface\":[{\"colorbar\":{\"outlinewidth\":0,\"ticks\":\"\"},\"colorscale\":[[0.0,\"#0d0887\"],[0.1111111111111111,\"#46039f\"],[0.2222222222222222,\"#7201a8\"],[0.3333333333333333,\"#9c179e\"],[0.4444444444444444,\"#bd3786\"],[0.5555555555555556,\"#d8576b\"],[0.6666666666666666,\"#ed7953\"],[0.7777777777777778,\"#fb9f3a\"],[0.8888888888888888,\"#fdca26\"],[1.0,\"#f0f921\"]],\"type\":\"surface\"}],\"table\":[{\"cells\":{\"fill\":{\"color\":\"#506784\"},\"line\":{\"color\":\"rgb(17,17,17)\"}},\"header\":{\"fill\":{\"color\":\"#2a3f5f\"},\"line\":{\"color\":\"rgb(17,17,17)\"}},\"type\":\"table\"}]},\"layout\":{\"annotationdefaults\":{\"arrowcolor\":\"#f2f5fa\",\"arrowhead\":0,\"arrowwidth\":1},\"autotypenumbers\":\"strict\",\"coloraxis\":{\"colorbar\":{\"outlinewidth\":0,\"ticks\":\"\"}},\"colorscale\":{\"diverging\":[[0,\"#8e0152\"],[0.1,\"#c51b7d\"],[0.2,\"#de77ae\"],[0.3,\"#f1b6da\"],[0.4,\"#fde0ef\"],[0.5,\"#f7f7f7\"],[0.6,\"#e6f5d0\"],[0.7,\"#b8e186\"],[0.8,\"#7fbc41\"],[0.9,\"#4d9221\"],[1,\"#276419\"]],\"sequential\":[[0.0,\"#0d0887\"],[0.1111111111111111,\"#46039f\"],[0.2222222222222222,\"#7201a8\"],[0.3333333333333333,\"#9c179e\"],[0.4444444444444444,\"#bd3786\"],[0.5555555555555556,\"#d8576b\"],[0.6666666666666666,\"#ed7953\"],[0.7777777777777778,\"#fb9f3a\"],[0.8888888888888888,\"#fdca26\"],[1.0,\"#f0f921\"]],\"sequentialminus\":[[0.0,\"#0d0887\"],[0.1111111111111111,\"#46039f\"],[0.2222222222222222,\"#7201a8\"],[0.3333333333333333,\"#9c179e\"],[0.4444444444444444,\"#bd3786\"],[0.5555555555555556,\"#d8576b\"],[0.6666666666666666,\"#ed7953\"],[0.7777777777777778,\"#fb9f3a\"],[0.8888888888888888,\"#fdca26\"],[1.0,\"#f0f921\"]]},\"colorway\":[\"#636efa\",\"#EF553B\",\"#00cc96\",\"#ab63fa\",\"#FFA15A\",\"#19d3f3\",\"#FF6692\",\"#B6E880\",\"#FF97FF\",\"#FECB52\"],\"font\":{\"color\":\"#f2f5fa\"},\"geo\":{\"bgcolor\":\"rgb(17,17,17)\",\"lakecolor\":\"rgb(17,17,17)\",\"landcolor\":\"rgb(17,17,17)\",\"showlakes\":true,\"showland\":true,\"subunitcolor\":\"#506784\"},\"hoverlabel\":{\"align\":\"left\"},\"hovermode\":\"closest\",\"mapbox\":{\"style\":\"dark\"},\"paper_bgcolor\":\"rgb(17,17,17)\",\"plot_bgcolor\":\"rgb(17,17,17)\",\"polar\":{\"angularaxis\":{\"gridcolor\":\"#506784\",\"linecolor\":\"#506784\",\"ticks\":\"\"},\"bgcolor\":\"rgb(17,17,17)\",\"radialaxis\":{\"gridcolor\":\"#506784\",\"linecolor\":\"#506784\",\"ticks\":\"\"}},\"scene\":{\"xaxis\":{\"backgroundcolor\":\"rgb(17,17,17)\",\"gridcolor\":\"#506784\",\"gridwidth\":2,\"linecolor\":\"#506784\",\"showbackground\":true,\"ticks\":\"\",\"zerolinecolor\":\"#C8D4E3\"},\"yaxis\":{\"backgroundcolor\":\"rgb(17,17,17)\",\"gridcolor\":\"#506784\",\"gridwidth\":2,\"linecolor\":\"#506784\",\"showbackground\":true,\"ticks\":\"\",\"zerolinecolor\":\"#C8D4E3\"},\"zaxis\":{\"backgroundcolor\":\"rgb(17,17,17)\",\"gridcolor\":\"#506784\",\"gridwidth\":2,\"linecolor\":\"#506784\",\"showbackground\":true,\"ticks\":\"\",\"zerolinecolor\":\"#C8D4E3\"}},\"shapedefaults\":{\"line\":{\"color\":\"#f2f5fa\"}},\"sliderdefaults\":{\"bgcolor\":\"#C8D4E3\",\"bordercolor\":\"rgb(17,17,17)\",\"borderwidth\":1,\"tickwidth\":0},\"ternary\":{\"aaxis\":{\"gridcolor\":\"#506784\",\"linecolor\":\"#506784\",\"ticks\":\"\"},\"baxis\":{\"gridcolor\":\"#506784\",\"linecolor\":\"#506784\",\"ticks\":\"\"},\"bgcolor\":\"rgb(17,17,17)\",\"caxis\":{\"gridcolor\":\"#506784\",\"linecolor\":\"#506784\",\"ticks\":\"\"}},\"title\":{\"x\":0.05},\"updatemenudefaults\":{\"bgcolor\":\"#506784\",\"borderwidth\":0},\"xaxis\":{\"automargin\":true,\"gridcolor\":\"#283442\",\"linecolor\":\"#506784\",\"ticks\":\"\",\"title\":{\"standoff\":15},\"zerolinecolor\":\"#283442\",\"zerolinewidth\":2},\"yaxis\":{\"automargin\":true,\"gridcolor\":\"#283442\",\"linecolor\":\"#506784\",\"ticks\":\"\",\"title\":{\"standoff\":15},\"zerolinecolor\":\"#283442\",\"zerolinewidth\":2}}},\"xaxis\":{\"anchor\":\"y\",\"domain\":[0.0,1.0]},\"yaxis\":{\"anchor\":\"x\",\"domain\":[0.0,1.0]},\"width\":600,\"height\":400},                        {\"responsive\": true}                    ).then(function(){\n",
              "                            \n",
              "var gd = document.getElementById('680845f6-3936-40c9-a382-30c80b17d2cd');\n",
              "var x = new MutationObserver(function (mutations, observer) {{\n",
              "        var display = window.getComputedStyle(gd).display;\n",
              "        if (!display || display === 'none') {{\n",
              "            console.log([gd, 'removed!']);\n",
              "            Plotly.purge(gd);\n",
              "            observer.disconnect();\n",
              "        }}\n",
              "}});\n",
              "\n",
              "// Listen for the removal of the full notebook cells\n",
              "var notebookContainer = gd.closest('#notebook-container');\n",
              "if (notebookContainer) {{\n",
              "    x.observe(notebookContainer, {childList: true});\n",
              "}}\n",
              "\n",
              "// Listen for the clearing of the current output cell\n",
              "var outputEl = gd.closest('.output');\n",
              "if (outputEl) {{\n",
              "    x.observe(outputEl, {childList: true});\n",
              "}}\n",
              "\n",
              "                        })                };                            </script>        </div>\n",
              "</body>\n",
              "</html>"
            ]
          },
          "metadata": {}
        }
      ]
    },
    {
      "cell_type": "code",
      "source": [
        "Ku = 2.8\n",
        "Tu = 19.5 - 12.4"
      ],
      "metadata": {
        "id": "eqHTqkvMb-pZ"
      },
      "execution_count": 33,
      "outputs": []
    },
    {
      "cell_type": "code",
      "source": [],
      "metadata": {
        "id": "ZzipEpaMcz40"
      },
      "execution_count": 21,
      "outputs": []
    }
  ]
}