{
  "nbformat": 4,
  "nbformat_minor": 0,
  "metadata": {
    "colab": {
      "provenance": [],
      "authorship_tag": "ABX9TyOr86om4Gj5owcY7eU9HSwq",
      "include_colab_link": true
    },
    "kernelspec": {
      "name": "python3",
      "display_name": "Python 3"
    },
    "language_info": {
      "name": "python"
    }
  },
  "cells": [
    {
      "cell_type": "markdown",
      "metadata": {
        "id": "view-in-github",
        "colab_type": "text"
      },
      "source": [
        "<a href=\"https://colab.research.google.com/github/chetools/CHE4071_Fall2024/blob/main/FOPTD_Model.ipynb\" target=\"_parent\"><img src=\"https://colab.research.google.com/assets/colab-badge.svg\" alt=\"Open In Colab\"/></a>"
      ]
    },
    {
      "cell_type": "code",
      "execution_count": 1,
      "metadata": {
        "colab": {
          "base_uri": "https://localhost:8080/"
        },
        "id": "2IVvN85dWumt",
        "outputId": "4a8d9c59-1d89-4117-81f2-6b5351d1c9e3"
      },
      "outputs": [
        {
          "output_type": "stream",
          "name": "stdout",
          "text": [
            "Collecting importnb\n",
            "  Downloading importnb-2023.11.1-py3-none-any.whl.metadata (9.4 kB)\n",
            "Downloading importnb-2023.11.1-py3-none-any.whl (45 kB)\n",
            "\u001b[?25l   \u001b[90m━━━━━━━━━━━━━━━━━━━━━━━━━━━━━━━━━━━━━━━━\u001b[0m \u001b[32m0.0/46.0 kB\u001b[0m \u001b[31m?\u001b[0m eta \u001b[36m-:--:--\u001b[0m\r\u001b[2K   \u001b[90m━━━━━━━━━━━━━━━━━━━━━━━━━━━━━━━━━━━━━━━━\u001b[0m \u001b[32m46.0/46.0 kB\u001b[0m \u001b[31m3.0 MB/s\u001b[0m eta \u001b[36m0:00:00\u001b[0m\n",
            "\u001b[?25hInstalling collected packages: importnb\n",
            "Successfully installed importnb-2023.11.1\n"
          ]
        }
      ],
      "source": [
        "!wget -N -q https://raw.githubusercontent.com/chetools/chetools/main/tools/che5.ipynb -O che5.ipynb\n",
        "!pip install importnb"
      ]
    },
    {
      "cell_type": "code",
      "source": [
        "from importnb import Notebook\n",
        "with Notebook():\n",
        "    from che5 import sim, pid, TF1, TF2, shift\n",
        "\n",
        "import numpy as np\n",
        "import jax\n",
        "import jax.numpy as jnp\n",
        "jax.config.update(\"jax_enable_x64\", True)\n",
        "\n",
        "from plotly.subplots import make_subplots\n",
        "\n",
        "from sympy.abc import s\n",
        "from sympy import exp, Symbol, simplify\n",
        "import scipy as sp\n",
        "import scipy.signal as sig"
      ],
      "metadata": {
        "id": "W0bo2gMdWwAr"
      },
      "execution_count": 2,
      "outputs": []
    },
    {
      "cell_type": "code",
      "source": [
        "import pandas as pd\n",
        "from scipy.optimize import minimize"
      ],
      "metadata": {
        "id": "4POPZTxRVnB0"
      },
      "execution_count": 3,
      "outputs": []
    },
    {
      "cell_type": "code",
      "source": [
        "K=1.1\n",
        "tau=1.5\n",
        "TF = K/((tau*s + 1))**4\n",
        "A = 2.5  # amplitude of step input"
      ],
      "metadata": {
        "id": "jtudOqQNgY2S"
      },
      "execution_count": 4,
      "outputs": []
    },
    {
      "cell_type": "code",
      "source": [
        "t,y=sim(TF, lambda t: A, N=50, dt=0.4)\n",
        "y = np.random.normal(loc = y, scale = 0.03)\n",
        "y = np.round(y,2)"
      ],
      "metadata": {
        "id": "9qVIFqzbUEoF"
      },
      "execution_count": 5,
      "outputs": []
    },
    {
      "cell_type": "code",
      "source": [
        "fig = make_subplots()\n",
        "fig.add_scatter(x=t, y=y, mode='markers')\n",
        "fig.update_layout(width=600, height=400, template='plotly_dark')"
      ],
      "metadata": {
        "colab": {
          "base_uri": "https://localhost:8080/",
          "height": 417
        },
        "id": "8K2MXhb5UW5N",
        "outputId": "8379dd4c-e463-48ee-dc03-feb8186754ea"
      },
      "execution_count": 6,
      "outputs": [
        {
          "output_type": "display_data",
          "data": {
            "text/html": [
              "<html>\n",
              "<head><meta charset=\"utf-8\" /></head>\n",
              "<body>\n",
              "    <div>            <script src=\"https://cdnjs.cloudflare.com/ajax/libs/mathjax/2.7.5/MathJax.js?config=TeX-AMS-MML_SVG\"></script><script type=\"text/javascript\">if (window.MathJax && window.MathJax.Hub && window.MathJax.Hub.Config) {window.MathJax.Hub.Config({SVG: {font: \"STIX-Web\"}});}</script>                <script type=\"text/javascript\">window.PlotlyConfig = {MathJaxConfig: 'local'};</script>\n",
              "        <script charset=\"utf-8\" src=\"https://cdn.plot.ly/plotly-2.35.2.min.js\"></script>                <div id=\"1d69aa85-629a-4dd7-a51d-9898aba8dc4f\" class=\"plotly-graph-div\" style=\"height:400px; width:600px;\"></div>            <script type=\"text/javascript\">                                    window.PLOTLYENV=window.PLOTLYENV || {};                                    if (document.getElementById(\"1d69aa85-629a-4dd7-a51d-9898aba8dc4f\")) {                    Plotly.newPlot(                        \"1d69aa85-629a-4dd7-a51d-9898aba8dc4f\",                        [{\"mode\":\"markers\",\"x\":[0.0,0.4,0.8,1.2000000000000002,1.6,2.0,2.4000000000000004,2.8000000000000003,3.2,3.6,4.0,4.4,4.800000000000001,5.2,5.6000000000000005,6.0,6.4,6.800000000000001,7.2,7.6000000000000005,8.0,8.4,8.8,9.200000000000001,9.600000000000001,10.0,10.4,10.8,11.200000000000001,11.600000000000001,12.0,12.4,12.8,13.200000000000001,13.600000000000001,14.0,14.4,14.8,15.200000000000001,15.600000000000001,16.0,16.400000000000002,16.8,17.2,17.6,18.0,18.400000000000002,18.8,19.200000000000003,19.6],\"y\":[0.02,0.02,0.03,0.02,0.04,0.13,0.15,0.28,0.44,0.62,0.77,0.95,1.02,1.23,1.44,1.57,1.7,1.81,1.99,2.04,2.11,2.19,2.27,2.35,2.38,2.46,2.55,2.55,2.61,2.6,2.59,2.59,2.68,2.72,2.7,2.74,2.76,2.69,2.73,2.71,2.66,2.71,2.76,2.76,2.77,2.77,2.78,2.77,2.73,2.75],\"type\":\"scatter\"}],                        {\"template\":{\"data\":{\"barpolar\":[{\"marker\":{\"line\":{\"color\":\"rgb(17,17,17)\",\"width\":0.5},\"pattern\":{\"fillmode\":\"overlay\",\"size\":10,\"solidity\":0.2}},\"type\":\"barpolar\"}],\"bar\":[{\"error_x\":{\"color\":\"#f2f5fa\"},\"error_y\":{\"color\":\"#f2f5fa\"},\"marker\":{\"line\":{\"color\":\"rgb(17,17,17)\",\"width\":0.5},\"pattern\":{\"fillmode\":\"overlay\",\"size\":10,\"solidity\":0.2}},\"type\":\"bar\"}],\"carpet\":[{\"aaxis\":{\"endlinecolor\":\"#A2B1C6\",\"gridcolor\":\"#506784\",\"linecolor\":\"#506784\",\"minorgridcolor\":\"#506784\",\"startlinecolor\":\"#A2B1C6\"},\"baxis\":{\"endlinecolor\":\"#A2B1C6\",\"gridcolor\":\"#506784\",\"linecolor\":\"#506784\",\"minorgridcolor\":\"#506784\",\"startlinecolor\":\"#A2B1C6\"},\"type\":\"carpet\"}],\"choropleth\":[{\"colorbar\":{\"outlinewidth\":0,\"ticks\":\"\"},\"type\":\"choropleth\"}],\"contourcarpet\":[{\"colorbar\":{\"outlinewidth\":0,\"ticks\":\"\"},\"type\":\"contourcarpet\"}],\"contour\":[{\"colorbar\":{\"outlinewidth\":0,\"ticks\":\"\"},\"colorscale\":[[0.0,\"#0d0887\"],[0.1111111111111111,\"#46039f\"],[0.2222222222222222,\"#7201a8\"],[0.3333333333333333,\"#9c179e\"],[0.4444444444444444,\"#bd3786\"],[0.5555555555555556,\"#d8576b\"],[0.6666666666666666,\"#ed7953\"],[0.7777777777777778,\"#fb9f3a\"],[0.8888888888888888,\"#fdca26\"],[1.0,\"#f0f921\"]],\"type\":\"contour\"}],\"heatmapgl\":[{\"colorbar\":{\"outlinewidth\":0,\"ticks\":\"\"},\"colorscale\":[[0.0,\"#0d0887\"],[0.1111111111111111,\"#46039f\"],[0.2222222222222222,\"#7201a8\"],[0.3333333333333333,\"#9c179e\"],[0.4444444444444444,\"#bd3786\"],[0.5555555555555556,\"#d8576b\"],[0.6666666666666666,\"#ed7953\"],[0.7777777777777778,\"#fb9f3a\"],[0.8888888888888888,\"#fdca26\"],[1.0,\"#f0f921\"]],\"type\":\"heatmapgl\"}],\"heatmap\":[{\"colorbar\":{\"outlinewidth\":0,\"ticks\":\"\"},\"colorscale\":[[0.0,\"#0d0887\"],[0.1111111111111111,\"#46039f\"],[0.2222222222222222,\"#7201a8\"],[0.3333333333333333,\"#9c179e\"],[0.4444444444444444,\"#bd3786\"],[0.5555555555555556,\"#d8576b\"],[0.6666666666666666,\"#ed7953\"],[0.7777777777777778,\"#fb9f3a\"],[0.8888888888888888,\"#fdca26\"],[1.0,\"#f0f921\"]],\"type\":\"heatmap\"}],\"histogram2dcontour\":[{\"colorbar\":{\"outlinewidth\":0,\"ticks\":\"\"},\"colorscale\":[[0.0,\"#0d0887\"],[0.1111111111111111,\"#46039f\"],[0.2222222222222222,\"#7201a8\"],[0.3333333333333333,\"#9c179e\"],[0.4444444444444444,\"#bd3786\"],[0.5555555555555556,\"#d8576b\"],[0.6666666666666666,\"#ed7953\"],[0.7777777777777778,\"#fb9f3a\"],[0.8888888888888888,\"#fdca26\"],[1.0,\"#f0f921\"]],\"type\":\"histogram2dcontour\"}],\"histogram2d\":[{\"colorbar\":{\"outlinewidth\":0,\"ticks\":\"\"},\"colorscale\":[[0.0,\"#0d0887\"],[0.1111111111111111,\"#46039f\"],[0.2222222222222222,\"#7201a8\"],[0.3333333333333333,\"#9c179e\"],[0.4444444444444444,\"#bd3786\"],[0.5555555555555556,\"#d8576b\"],[0.6666666666666666,\"#ed7953\"],[0.7777777777777778,\"#fb9f3a\"],[0.8888888888888888,\"#fdca26\"],[1.0,\"#f0f921\"]],\"type\":\"histogram2d\"}],\"histogram\":[{\"marker\":{\"pattern\":{\"fillmode\":\"overlay\",\"size\":10,\"solidity\":0.2}},\"type\":\"histogram\"}],\"mesh3d\":[{\"colorbar\":{\"outlinewidth\":0,\"ticks\":\"\"},\"type\":\"mesh3d\"}],\"parcoords\":[{\"line\":{\"colorbar\":{\"outlinewidth\":0,\"ticks\":\"\"}},\"type\":\"parcoords\"}],\"pie\":[{\"automargin\":true,\"type\":\"pie\"}],\"scatter3d\":[{\"line\":{\"colorbar\":{\"outlinewidth\":0,\"ticks\":\"\"}},\"marker\":{\"colorbar\":{\"outlinewidth\":0,\"ticks\":\"\"}},\"type\":\"scatter3d\"}],\"scattercarpet\":[{\"marker\":{\"colorbar\":{\"outlinewidth\":0,\"ticks\":\"\"}},\"type\":\"scattercarpet\"}],\"scattergeo\":[{\"marker\":{\"colorbar\":{\"outlinewidth\":0,\"ticks\":\"\"}},\"type\":\"scattergeo\"}],\"scattergl\":[{\"marker\":{\"line\":{\"color\":\"#283442\"}},\"type\":\"scattergl\"}],\"scattermapbox\":[{\"marker\":{\"colorbar\":{\"outlinewidth\":0,\"ticks\":\"\"}},\"type\":\"scattermapbox\"}],\"scatterpolargl\":[{\"marker\":{\"colorbar\":{\"outlinewidth\":0,\"ticks\":\"\"}},\"type\":\"scatterpolargl\"}],\"scatterpolar\":[{\"marker\":{\"colorbar\":{\"outlinewidth\":0,\"ticks\":\"\"}},\"type\":\"scatterpolar\"}],\"scatter\":[{\"marker\":{\"line\":{\"color\":\"#283442\"}},\"type\":\"scatter\"}],\"scatterternary\":[{\"marker\":{\"colorbar\":{\"outlinewidth\":0,\"ticks\":\"\"}},\"type\":\"scatterternary\"}],\"surface\":[{\"colorbar\":{\"outlinewidth\":0,\"ticks\":\"\"},\"colorscale\":[[0.0,\"#0d0887\"],[0.1111111111111111,\"#46039f\"],[0.2222222222222222,\"#7201a8\"],[0.3333333333333333,\"#9c179e\"],[0.4444444444444444,\"#bd3786\"],[0.5555555555555556,\"#d8576b\"],[0.6666666666666666,\"#ed7953\"],[0.7777777777777778,\"#fb9f3a\"],[0.8888888888888888,\"#fdca26\"],[1.0,\"#f0f921\"]],\"type\":\"surface\"}],\"table\":[{\"cells\":{\"fill\":{\"color\":\"#506784\"},\"line\":{\"color\":\"rgb(17,17,17)\"}},\"header\":{\"fill\":{\"color\":\"#2a3f5f\"},\"line\":{\"color\":\"rgb(17,17,17)\"}},\"type\":\"table\"}]},\"layout\":{\"annotationdefaults\":{\"arrowcolor\":\"#f2f5fa\",\"arrowhead\":0,\"arrowwidth\":1},\"autotypenumbers\":\"strict\",\"coloraxis\":{\"colorbar\":{\"outlinewidth\":0,\"ticks\":\"\"}},\"colorscale\":{\"diverging\":[[0,\"#8e0152\"],[0.1,\"#c51b7d\"],[0.2,\"#de77ae\"],[0.3,\"#f1b6da\"],[0.4,\"#fde0ef\"],[0.5,\"#f7f7f7\"],[0.6,\"#e6f5d0\"],[0.7,\"#b8e186\"],[0.8,\"#7fbc41\"],[0.9,\"#4d9221\"],[1,\"#276419\"]],\"sequential\":[[0.0,\"#0d0887\"],[0.1111111111111111,\"#46039f\"],[0.2222222222222222,\"#7201a8\"],[0.3333333333333333,\"#9c179e\"],[0.4444444444444444,\"#bd3786\"],[0.5555555555555556,\"#d8576b\"],[0.6666666666666666,\"#ed7953\"],[0.7777777777777778,\"#fb9f3a\"],[0.8888888888888888,\"#fdca26\"],[1.0,\"#f0f921\"]],\"sequentialminus\":[[0.0,\"#0d0887\"],[0.1111111111111111,\"#46039f\"],[0.2222222222222222,\"#7201a8\"],[0.3333333333333333,\"#9c179e\"],[0.4444444444444444,\"#bd3786\"],[0.5555555555555556,\"#d8576b\"],[0.6666666666666666,\"#ed7953\"],[0.7777777777777778,\"#fb9f3a\"],[0.8888888888888888,\"#fdca26\"],[1.0,\"#f0f921\"]]},\"colorway\":[\"#636efa\",\"#EF553B\",\"#00cc96\",\"#ab63fa\",\"#FFA15A\",\"#19d3f3\",\"#FF6692\",\"#B6E880\",\"#FF97FF\",\"#FECB52\"],\"font\":{\"color\":\"#f2f5fa\"},\"geo\":{\"bgcolor\":\"rgb(17,17,17)\",\"lakecolor\":\"rgb(17,17,17)\",\"landcolor\":\"rgb(17,17,17)\",\"showlakes\":true,\"showland\":true,\"subunitcolor\":\"#506784\"},\"hoverlabel\":{\"align\":\"left\"},\"hovermode\":\"closest\",\"mapbox\":{\"style\":\"dark\"},\"paper_bgcolor\":\"rgb(17,17,17)\",\"plot_bgcolor\":\"rgb(17,17,17)\",\"polar\":{\"angularaxis\":{\"gridcolor\":\"#506784\",\"linecolor\":\"#506784\",\"ticks\":\"\"},\"bgcolor\":\"rgb(17,17,17)\",\"radialaxis\":{\"gridcolor\":\"#506784\",\"linecolor\":\"#506784\",\"ticks\":\"\"}},\"scene\":{\"xaxis\":{\"backgroundcolor\":\"rgb(17,17,17)\",\"gridcolor\":\"#506784\",\"gridwidth\":2,\"linecolor\":\"#506784\",\"showbackground\":true,\"ticks\":\"\",\"zerolinecolor\":\"#C8D4E3\"},\"yaxis\":{\"backgroundcolor\":\"rgb(17,17,17)\",\"gridcolor\":\"#506784\",\"gridwidth\":2,\"linecolor\":\"#506784\",\"showbackground\":true,\"ticks\":\"\",\"zerolinecolor\":\"#C8D4E3\"},\"zaxis\":{\"backgroundcolor\":\"rgb(17,17,17)\",\"gridcolor\":\"#506784\",\"gridwidth\":2,\"linecolor\":\"#506784\",\"showbackground\":true,\"ticks\":\"\",\"zerolinecolor\":\"#C8D4E3\"}},\"shapedefaults\":{\"line\":{\"color\":\"#f2f5fa\"}},\"sliderdefaults\":{\"bgcolor\":\"#C8D4E3\",\"bordercolor\":\"rgb(17,17,17)\",\"borderwidth\":1,\"tickwidth\":0},\"ternary\":{\"aaxis\":{\"gridcolor\":\"#506784\",\"linecolor\":\"#506784\",\"ticks\":\"\"},\"baxis\":{\"gridcolor\":\"#506784\",\"linecolor\":\"#506784\",\"ticks\":\"\"},\"bgcolor\":\"rgb(17,17,17)\",\"caxis\":{\"gridcolor\":\"#506784\",\"linecolor\":\"#506784\",\"ticks\":\"\"}},\"title\":{\"x\":0.05},\"updatemenudefaults\":{\"bgcolor\":\"#506784\",\"borderwidth\":0},\"xaxis\":{\"automargin\":true,\"gridcolor\":\"#283442\",\"linecolor\":\"#506784\",\"ticks\":\"\",\"title\":{\"standoff\":15},\"zerolinecolor\":\"#283442\",\"zerolinewidth\":2},\"yaxis\":{\"automargin\":true,\"gridcolor\":\"#283442\",\"linecolor\":\"#506784\",\"ticks\":\"\",\"title\":{\"standoff\":15},\"zerolinecolor\":\"#283442\",\"zerolinewidth\":2}}},\"xaxis\":{\"anchor\":\"y\",\"domain\":[0.0,1.0]},\"yaxis\":{\"anchor\":\"x\",\"domain\":[0.0,1.0]},\"width\":600,\"height\":400},                        {\"responsive\": true}                    ).then(function(){\n",
              "                            \n",
              "var gd = document.getElementById('1d69aa85-629a-4dd7-a51d-9898aba8dc4f');\n",
              "var x = new MutationObserver(function (mutations, observer) {{\n",
              "        var display = window.getComputedStyle(gd).display;\n",
              "        if (!display || display === 'none') {{\n",
              "            console.log([gd, 'removed!']);\n",
              "            Plotly.purge(gd);\n",
              "            observer.disconnect();\n",
              "        }}\n",
              "}});\n",
              "\n",
              "// Listen for the removal of the full notebook cells\n",
              "var notebookContainer = gd.closest('#notebook-container');\n",
              "if (notebookContainer) {{\n",
              "    x.observe(notebookContainer, {childList: true});\n",
              "}}\n",
              "\n",
              "// Listen for the clearing of the current output cell\n",
              "var outputEl = gd.closest('.output');\n",
              "if (outputEl) {{\n",
              "    x.observe(outputEl, {childList: true});\n",
              "}}\n",
              "\n",
              "                        })                };                            </script>        </div>\n",
              "</body>\n",
              "</html>"
            ]
          },
          "metadata": {}
        }
      ]
    },
    {
      "cell_type": "code",
      "source": [
        "df=pd.DataFrame(dict(x=t,y=y))"
      ],
      "metadata": {
        "id": "ek_Wxq2PUp0u"
      },
      "execution_count": 7,
      "outputs": []
    },
    {
      "cell_type": "code",
      "source": [
        "df.to_excel('alex_data.xlsx', index=False)"
      ],
      "metadata": {
        "id": "w-xd-WQBV6vq"
      },
      "execution_count": 8,
      "outputs": []
    },
    {
      "cell_type": "code",
      "source": [
        "df2 = pd.read_excel('alex_data.xlsx')"
      ],
      "metadata": {
        "id": "IG4gczt8V7Py"
      },
      "execution_count": 9,
      "outputs": []
    },
    {
      "cell_type": "code",
      "source": [
        "t,y=df2.to_numpy().T"
      ],
      "metadata": {
        "id": "oa3e6utGXWCy"
      },
      "execution_count": 10,
      "outputs": []
    },
    {
      "cell_type": "code",
      "source": [
        "t,y"
      ],
      "metadata": {
        "colab": {
          "base_uri": "https://localhost:8080/"
        },
        "id": "AIVaktDtXW_p",
        "outputId": "2618a151-e9e6-4ea5-9d97-327df33823b9"
      },
      "execution_count": 11,
      "outputs": [
        {
          "output_type": "execute_result",
          "data": {
            "text/plain": [
              "(array([ 0. ,  0.4,  0.8,  1.2,  1.6,  2. ,  2.4,  2.8,  3.2,  3.6,  4. ,\n",
              "         4.4,  4.8,  5.2,  5.6,  6. ,  6.4,  6.8,  7.2,  7.6,  8. ,  8.4,\n",
              "         8.8,  9.2,  9.6, 10. , 10.4, 10.8, 11.2, 11.6, 12. , 12.4, 12.8,\n",
              "        13.2, 13.6, 14. , 14.4, 14.8, 15.2, 15.6, 16. , 16.4, 16.8, 17.2,\n",
              "        17.6, 18. , 18.4, 18.8, 19.2, 19.6]),\n",
              " array([0.02, 0.02, 0.03, 0.02, 0.04, 0.13, 0.15, 0.28, 0.44, 0.62, 0.77,\n",
              "        0.95, 1.02, 1.23, 1.44, 1.57, 1.7 , 1.81, 1.99, 2.04, 2.11, 2.19,\n",
              "        2.27, 2.35, 2.38, 2.46, 2.55, 2.55, 2.61, 2.6 , 2.59, 2.59, 2.68,\n",
              "        2.72, 2.7 , 2.74, 2.76, 2.69, 2.73, 2.71, 2.66, 2.71, 2.76, 2.76,\n",
              "        2.77, 2.77, 2.78, 2.77, 2.73, 2.75]))"
            ]
          },
          "metadata": {},
          "execution_count": 11
        }
      ]
    },
    {
      "cell_type": "code",
      "source": [
        "def FOPTD(KA, tau, theta, t):\n",
        "    y = np.where(t<theta, 0., KA*(1-np.exp(-(t-theta)/tau)))\n",
        "    return y"
      ],
      "metadata": {
        "id": "lEz9KkshYhS0"
      },
      "execution_count": 12,
      "outputs": []
    },
    {
      "cell_type": "code",
      "source": [
        "def sumsq(v):\n",
        "    KA, tau, theta = v\n",
        "    model_y = FOPTD(KA, tau, theta, t)\n",
        "    return np.sum((model_y - y)**2)"
      ],
      "metadata": {
        "id": "Gy68ndeWZTtz"
      },
      "execution_count": 13,
      "outputs": []
    },
    {
      "cell_type": "code",
      "source": [
        "fKA, ftau, ftheta = minimize(sumsq, (2.5, 3., 2.)).x\n",
        "fK = fKA/A"
      ],
      "metadata": {
        "id": "3l7spJFAZnsZ"
      },
      "execution_count": 14,
      "outputs": []
    },
    {
      "cell_type": "code",
      "source": [
        "model_y = FOPTD(2.5, 3., 2., t)"
      ],
      "metadata": {
        "id": "5B8dvnbTYiXb"
      },
      "execution_count": 15,
      "outputs": []
    },
    {
      "cell_type": "code",
      "source": [
        "fig2 = make_subplots()\n",
        "fig2.add_scatter(x=t, y=y, mode='markers')\n",
        "fig2.add_scatter(x=t, y=FOPTD(fKA, ftau, ftheta, t), mode='lines')\n",
        "fig2.update_layout(width=600, height=400, template='plotly_dark', showlegend=False)"
      ],
      "metadata": {
        "colab": {
          "base_uri": "https://localhost:8080/",
          "height": 417
        },
        "id": "bMqMoPAbXnhK",
        "outputId": "22e51685-a76e-4794-ec96-2424a61a6587"
      },
      "execution_count": 16,
      "outputs": [
        {
          "output_type": "display_data",
          "data": {
            "text/html": [
              "<html>\n",
              "<head><meta charset=\"utf-8\" /></head>\n",
              "<body>\n",
              "    <div>            <script src=\"https://cdnjs.cloudflare.com/ajax/libs/mathjax/2.7.5/MathJax.js?config=TeX-AMS-MML_SVG\"></script><script type=\"text/javascript\">if (window.MathJax && window.MathJax.Hub && window.MathJax.Hub.Config) {window.MathJax.Hub.Config({SVG: {font: \"STIX-Web\"}});}</script>                <script type=\"text/javascript\">window.PlotlyConfig = {MathJaxConfig: 'local'};</script>\n",
              "        <script charset=\"utf-8\" src=\"https://cdn.plot.ly/plotly-2.35.2.min.js\"></script>                <div id=\"0d4efacb-1e0d-4a2b-a2f3-a3690bf83f53\" class=\"plotly-graph-div\" style=\"height:400px; width:600px;\"></div>            <script type=\"text/javascript\">                                    window.PLOTLYENV=window.PLOTLYENV || {};                                    if (document.getElementById(\"0d4efacb-1e0d-4a2b-a2f3-a3690bf83f53\")) {                    Plotly.newPlot(                        \"0d4efacb-1e0d-4a2b-a2f3-a3690bf83f53\",                        [{\"mode\":\"markers\",\"x\":[0.0,0.4,0.8,1.2,1.6,2.0,2.4,2.8,3.2,3.6,4.0,4.4,4.800000000000001,5.2,5.600000000000001,6.0,6.4,6.800000000000001,7.2,7.600000000000001,8.0,8.4,8.8,9.200000000000001,9.600000000000001,10.0,10.4,10.8,11.2,11.6,12.0,12.4,12.8,13.2,13.6,14.0,14.4,14.8,15.2,15.6,16.0,16.4,16.8,17.2,17.6,18.0,18.4,18.8,19.2,19.6],\"y\":[0.02,0.02,0.03,0.02,0.04,0.13,0.15,0.28,0.44,0.62,0.77,0.95,1.02,1.23,1.44,1.57,1.7,1.81,1.99,2.04,2.11,2.19,2.27,2.35,2.38,2.46,2.55,2.55,2.61,2.6,2.59,2.59,2.68,2.72,2.7,2.74,2.76,2.69,2.73,2.71,2.66,2.71,2.76,2.76,2.77,2.77,2.78,2.77,2.73,2.75],\"type\":\"scatter\"},{\"mode\":\"lines\",\"x\":[0.0,0.4,0.8,1.2,1.6,2.0,2.4,2.8,3.2,3.6,4.0,4.4,4.800000000000001,5.2,5.600000000000001,6.0,6.4,6.800000000000001,7.2,7.600000000000001,8.0,8.4,8.8,9.200000000000001,9.600000000000001,10.0,10.4,10.8,11.2,11.6,12.0,12.4,12.8,13.2,13.6,14.0,14.4,14.8,15.2,15.6,16.0,16.4,16.8,17.2,17.6,18.0,18.4,18.8,19.2,19.6],\"y\":[0.0,0.0,0.0,0.0,0.0,0.0,0.0,0.1211437313691066,0.37931531893622333,0.6131369874100379,0.824905343343726,1.0167003846996965,1.1904059306796497,1.3477281246783543,1.4902121920979552,1.6192576176187836,1.7361318909984964,1.8419829564113577,1.9378504876056333,2.0246760996241657,2.1033125973881006,2.174532351983756,2.239034886924874,2.297453748902867,2.3503627305098562,2.398281506054359,2.4416807358248507,2.480986688935499,2.5165854301598642,2.5488266118758216,2.57802690836636,2.604473126208099,2.62842502129791,2.650117850186578,2.6697646807788358,2.687558485095548,2.703674034653256,2.7182696170775857,2.7314885908111557,2.7434607931864123,2.7543038156935307,2.7641241589691226,2.7730182788501008,2.7810735337670884,2.788369042782705,2.7949764627024267,2.8009606918908334,2.8063805077061557,2.8112891438140304,2.8157348130508737],\"type\":\"scatter\"}],                        {\"template\":{\"data\":{\"barpolar\":[{\"marker\":{\"line\":{\"color\":\"rgb(17,17,17)\",\"width\":0.5},\"pattern\":{\"fillmode\":\"overlay\",\"size\":10,\"solidity\":0.2}},\"type\":\"barpolar\"}],\"bar\":[{\"error_x\":{\"color\":\"#f2f5fa\"},\"error_y\":{\"color\":\"#f2f5fa\"},\"marker\":{\"line\":{\"color\":\"rgb(17,17,17)\",\"width\":0.5},\"pattern\":{\"fillmode\":\"overlay\",\"size\":10,\"solidity\":0.2}},\"type\":\"bar\"}],\"carpet\":[{\"aaxis\":{\"endlinecolor\":\"#A2B1C6\",\"gridcolor\":\"#506784\",\"linecolor\":\"#506784\",\"minorgridcolor\":\"#506784\",\"startlinecolor\":\"#A2B1C6\"},\"baxis\":{\"endlinecolor\":\"#A2B1C6\",\"gridcolor\":\"#506784\",\"linecolor\":\"#506784\",\"minorgridcolor\":\"#506784\",\"startlinecolor\":\"#A2B1C6\"},\"type\":\"carpet\"}],\"choropleth\":[{\"colorbar\":{\"outlinewidth\":0,\"ticks\":\"\"},\"type\":\"choropleth\"}],\"contourcarpet\":[{\"colorbar\":{\"outlinewidth\":0,\"ticks\":\"\"},\"type\":\"contourcarpet\"}],\"contour\":[{\"colorbar\":{\"outlinewidth\":0,\"ticks\":\"\"},\"colorscale\":[[0.0,\"#0d0887\"],[0.1111111111111111,\"#46039f\"],[0.2222222222222222,\"#7201a8\"],[0.3333333333333333,\"#9c179e\"],[0.4444444444444444,\"#bd3786\"],[0.5555555555555556,\"#d8576b\"],[0.6666666666666666,\"#ed7953\"],[0.7777777777777778,\"#fb9f3a\"],[0.8888888888888888,\"#fdca26\"],[1.0,\"#f0f921\"]],\"type\":\"contour\"}],\"heatmapgl\":[{\"colorbar\":{\"outlinewidth\":0,\"ticks\":\"\"},\"colorscale\":[[0.0,\"#0d0887\"],[0.1111111111111111,\"#46039f\"],[0.2222222222222222,\"#7201a8\"],[0.3333333333333333,\"#9c179e\"],[0.4444444444444444,\"#bd3786\"],[0.5555555555555556,\"#d8576b\"],[0.6666666666666666,\"#ed7953\"],[0.7777777777777778,\"#fb9f3a\"],[0.8888888888888888,\"#fdca26\"],[1.0,\"#f0f921\"]],\"type\":\"heatmapgl\"}],\"heatmap\":[{\"colorbar\":{\"outlinewidth\":0,\"ticks\":\"\"},\"colorscale\":[[0.0,\"#0d0887\"],[0.1111111111111111,\"#46039f\"],[0.2222222222222222,\"#7201a8\"],[0.3333333333333333,\"#9c179e\"],[0.4444444444444444,\"#bd3786\"],[0.5555555555555556,\"#d8576b\"],[0.6666666666666666,\"#ed7953\"],[0.7777777777777778,\"#fb9f3a\"],[0.8888888888888888,\"#fdca26\"],[1.0,\"#f0f921\"]],\"type\":\"heatmap\"}],\"histogram2dcontour\":[{\"colorbar\":{\"outlinewidth\":0,\"ticks\":\"\"},\"colorscale\":[[0.0,\"#0d0887\"],[0.1111111111111111,\"#46039f\"],[0.2222222222222222,\"#7201a8\"],[0.3333333333333333,\"#9c179e\"],[0.4444444444444444,\"#bd3786\"],[0.5555555555555556,\"#d8576b\"],[0.6666666666666666,\"#ed7953\"],[0.7777777777777778,\"#fb9f3a\"],[0.8888888888888888,\"#fdca26\"],[1.0,\"#f0f921\"]],\"type\":\"histogram2dcontour\"}],\"histogram2d\":[{\"colorbar\":{\"outlinewidth\":0,\"ticks\":\"\"},\"colorscale\":[[0.0,\"#0d0887\"],[0.1111111111111111,\"#46039f\"],[0.2222222222222222,\"#7201a8\"],[0.3333333333333333,\"#9c179e\"],[0.4444444444444444,\"#bd3786\"],[0.5555555555555556,\"#d8576b\"],[0.6666666666666666,\"#ed7953\"],[0.7777777777777778,\"#fb9f3a\"],[0.8888888888888888,\"#fdca26\"],[1.0,\"#f0f921\"]],\"type\":\"histogram2d\"}],\"histogram\":[{\"marker\":{\"pattern\":{\"fillmode\":\"overlay\",\"size\":10,\"solidity\":0.2}},\"type\":\"histogram\"}],\"mesh3d\":[{\"colorbar\":{\"outlinewidth\":0,\"ticks\":\"\"},\"type\":\"mesh3d\"}],\"parcoords\":[{\"line\":{\"colorbar\":{\"outlinewidth\":0,\"ticks\":\"\"}},\"type\":\"parcoords\"}],\"pie\":[{\"automargin\":true,\"type\":\"pie\"}],\"scatter3d\":[{\"line\":{\"colorbar\":{\"outlinewidth\":0,\"ticks\":\"\"}},\"marker\":{\"colorbar\":{\"outlinewidth\":0,\"ticks\":\"\"}},\"type\":\"scatter3d\"}],\"scattercarpet\":[{\"marker\":{\"colorbar\":{\"outlinewidth\":0,\"ticks\":\"\"}},\"type\":\"scattercarpet\"}],\"scattergeo\":[{\"marker\":{\"colorbar\":{\"outlinewidth\":0,\"ticks\":\"\"}},\"type\":\"scattergeo\"}],\"scattergl\":[{\"marker\":{\"line\":{\"color\":\"#283442\"}},\"type\":\"scattergl\"}],\"scattermapbox\":[{\"marker\":{\"colorbar\":{\"outlinewidth\":0,\"ticks\":\"\"}},\"type\":\"scattermapbox\"}],\"scatterpolargl\":[{\"marker\":{\"colorbar\":{\"outlinewidth\":0,\"ticks\":\"\"}},\"type\":\"scatterpolargl\"}],\"scatterpolar\":[{\"marker\":{\"colorbar\":{\"outlinewidth\":0,\"ticks\":\"\"}},\"type\":\"scatterpolar\"}],\"scatter\":[{\"marker\":{\"line\":{\"color\":\"#283442\"}},\"type\":\"scatter\"}],\"scatterternary\":[{\"marker\":{\"colorbar\":{\"outlinewidth\":0,\"ticks\":\"\"}},\"type\":\"scatterternary\"}],\"surface\":[{\"colorbar\":{\"outlinewidth\":0,\"ticks\":\"\"},\"colorscale\":[[0.0,\"#0d0887\"],[0.1111111111111111,\"#46039f\"],[0.2222222222222222,\"#7201a8\"],[0.3333333333333333,\"#9c179e\"],[0.4444444444444444,\"#bd3786\"],[0.5555555555555556,\"#d8576b\"],[0.6666666666666666,\"#ed7953\"],[0.7777777777777778,\"#fb9f3a\"],[0.8888888888888888,\"#fdca26\"],[1.0,\"#f0f921\"]],\"type\":\"surface\"}],\"table\":[{\"cells\":{\"fill\":{\"color\":\"#506784\"},\"line\":{\"color\":\"rgb(17,17,17)\"}},\"header\":{\"fill\":{\"color\":\"#2a3f5f\"},\"line\":{\"color\":\"rgb(17,17,17)\"}},\"type\":\"table\"}]},\"layout\":{\"annotationdefaults\":{\"arrowcolor\":\"#f2f5fa\",\"arrowhead\":0,\"arrowwidth\":1},\"autotypenumbers\":\"strict\",\"coloraxis\":{\"colorbar\":{\"outlinewidth\":0,\"ticks\":\"\"}},\"colorscale\":{\"diverging\":[[0,\"#8e0152\"],[0.1,\"#c51b7d\"],[0.2,\"#de77ae\"],[0.3,\"#f1b6da\"],[0.4,\"#fde0ef\"],[0.5,\"#f7f7f7\"],[0.6,\"#e6f5d0\"],[0.7,\"#b8e186\"],[0.8,\"#7fbc41\"],[0.9,\"#4d9221\"],[1,\"#276419\"]],\"sequential\":[[0.0,\"#0d0887\"],[0.1111111111111111,\"#46039f\"],[0.2222222222222222,\"#7201a8\"],[0.3333333333333333,\"#9c179e\"],[0.4444444444444444,\"#bd3786\"],[0.5555555555555556,\"#d8576b\"],[0.6666666666666666,\"#ed7953\"],[0.7777777777777778,\"#fb9f3a\"],[0.8888888888888888,\"#fdca26\"],[1.0,\"#f0f921\"]],\"sequentialminus\":[[0.0,\"#0d0887\"],[0.1111111111111111,\"#46039f\"],[0.2222222222222222,\"#7201a8\"],[0.3333333333333333,\"#9c179e\"],[0.4444444444444444,\"#bd3786\"],[0.5555555555555556,\"#d8576b\"],[0.6666666666666666,\"#ed7953\"],[0.7777777777777778,\"#fb9f3a\"],[0.8888888888888888,\"#fdca26\"],[1.0,\"#f0f921\"]]},\"colorway\":[\"#636efa\",\"#EF553B\",\"#00cc96\",\"#ab63fa\",\"#FFA15A\",\"#19d3f3\",\"#FF6692\",\"#B6E880\",\"#FF97FF\",\"#FECB52\"],\"font\":{\"color\":\"#f2f5fa\"},\"geo\":{\"bgcolor\":\"rgb(17,17,17)\",\"lakecolor\":\"rgb(17,17,17)\",\"landcolor\":\"rgb(17,17,17)\",\"showlakes\":true,\"showland\":true,\"subunitcolor\":\"#506784\"},\"hoverlabel\":{\"align\":\"left\"},\"hovermode\":\"closest\",\"mapbox\":{\"style\":\"dark\"},\"paper_bgcolor\":\"rgb(17,17,17)\",\"plot_bgcolor\":\"rgb(17,17,17)\",\"polar\":{\"angularaxis\":{\"gridcolor\":\"#506784\",\"linecolor\":\"#506784\",\"ticks\":\"\"},\"bgcolor\":\"rgb(17,17,17)\",\"radialaxis\":{\"gridcolor\":\"#506784\",\"linecolor\":\"#506784\",\"ticks\":\"\"}},\"scene\":{\"xaxis\":{\"backgroundcolor\":\"rgb(17,17,17)\",\"gridcolor\":\"#506784\",\"gridwidth\":2,\"linecolor\":\"#506784\",\"showbackground\":true,\"ticks\":\"\",\"zerolinecolor\":\"#C8D4E3\"},\"yaxis\":{\"backgroundcolor\":\"rgb(17,17,17)\",\"gridcolor\":\"#506784\",\"gridwidth\":2,\"linecolor\":\"#506784\",\"showbackground\":true,\"ticks\":\"\",\"zerolinecolor\":\"#C8D4E3\"},\"zaxis\":{\"backgroundcolor\":\"rgb(17,17,17)\",\"gridcolor\":\"#506784\",\"gridwidth\":2,\"linecolor\":\"#506784\",\"showbackground\":true,\"ticks\":\"\",\"zerolinecolor\":\"#C8D4E3\"}},\"shapedefaults\":{\"line\":{\"color\":\"#f2f5fa\"}},\"sliderdefaults\":{\"bgcolor\":\"#C8D4E3\",\"bordercolor\":\"rgb(17,17,17)\",\"borderwidth\":1,\"tickwidth\":0},\"ternary\":{\"aaxis\":{\"gridcolor\":\"#506784\",\"linecolor\":\"#506784\",\"ticks\":\"\"},\"baxis\":{\"gridcolor\":\"#506784\",\"linecolor\":\"#506784\",\"ticks\":\"\"},\"bgcolor\":\"rgb(17,17,17)\",\"caxis\":{\"gridcolor\":\"#506784\",\"linecolor\":\"#506784\",\"ticks\":\"\"}},\"title\":{\"x\":0.05},\"updatemenudefaults\":{\"bgcolor\":\"#506784\",\"borderwidth\":0},\"xaxis\":{\"automargin\":true,\"gridcolor\":\"#283442\",\"linecolor\":\"#506784\",\"ticks\":\"\",\"title\":{\"standoff\":15},\"zerolinecolor\":\"#283442\",\"zerolinewidth\":2},\"yaxis\":{\"automargin\":true,\"gridcolor\":\"#283442\",\"linecolor\":\"#506784\",\"ticks\":\"\",\"title\":{\"standoff\":15},\"zerolinecolor\":\"#283442\",\"zerolinewidth\":2}}},\"xaxis\":{\"anchor\":\"y\",\"domain\":[0.0,1.0]},\"yaxis\":{\"anchor\":\"x\",\"domain\":[0.0,1.0]},\"width\":600,\"height\":400,\"showlegend\":false},                        {\"responsive\": true}                    ).then(function(){\n",
              "                            \n",
              "var gd = document.getElementById('0d4efacb-1e0d-4a2b-a2f3-a3690bf83f53');\n",
              "var x = new MutationObserver(function (mutations, observer) {{\n",
              "        var display = window.getComputedStyle(gd).display;\n",
              "        if (!display || display === 'none') {{\n",
              "            console.log([gd, 'removed!']);\n",
              "            Plotly.purge(gd);\n",
              "            observer.disconnect();\n",
              "        }}\n",
              "}});\n",
              "\n",
              "// Listen for the removal of the full notebook cells\n",
              "var notebookContainer = gd.closest('#notebook-container');\n",
              "if (notebookContainer) {{\n",
              "    x.observe(notebookContainer, {childList: true});\n",
              "}}\n",
              "\n",
              "// Listen for the clearing of the current output cell\n",
              "var outputEl = gd.closest('.output');\n",
              "if (outputEl) {{\n",
              "    x.observe(outputEl, {childList: true});\n",
              "}}\n",
              "\n",
              "                        })                };                            </script>        </div>\n",
              "</body>\n",
              "</html>"
            ]
          },
          "metadata": {}
        }
      ]
    },
    {
      "cell_type": "code",
      "source": [
        "#ITAE\n",
        "PA, PB = 0.586, -0.916\n",
        "IA, IB = 1.03, -0.165\n",
        "Y = PA*(ftheta/ftau)**PB\n",
        "Kc = Y/fK\n",
        "taui = ftau/(IA + IB*(ftheta/ftau))\n",
        "\n",
        "#ZN method\n",
        "# Kc = 0.45 * Ku\n",
        "# taui = 0.83*Tu\n",
        "\n",
        "Gp = TF\n",
        "Gc = Kc*(1+1/(taui*s))\n",
        "Gm = 1.\n",
        "Gfb = Gc*Gp/(1+Gp*Gc*Gm)\n",
        "Gfb=simplify(Gfb)"
      ],
      "metadata": {
        "id": "6uwhq4S8XukS"
      },
      "execution_count": 17,
      "outputs": []
    },
    {
      "cell_type": "code",
      "source": [
        "t,y=sim(Gfb, lambda t: 1., N=500, dt=0.1)"
      ],
      "metadata": {
        "id": "dcvSGwJqYfkE"
      },
      "execution_count": 18,
      "outputs": []
    },
    {
      "cell_type": "code",
      "source": [
        "fig4=make_subplots()\n",
        "fig4.add_scatter(x=t, y= y)\n",
        "fig4.update_layout(width=600, height=400, template='plotly_dark')"
      ],
      "metadata": {
        "colab": {
          "base_uri": "https://localhost:8080/",
          "height": 417
        },
        "id": "J8BezOUObQ7r",
        "outputId": "1b6f125a-0da0-4e61-de11-2024045e76e3"
      },
      "execution_count": 19,
      "outputs": [
        {
          "output_type": "display_data",
          "data": {
            "text/html": [
              "<html>\n",
              "<head><meta charset=\"utf-8\" /></head>\n",
              "<body>\n",
              "    <div>            <script src=\"https://cdnjs.cloudflare.com/ajax/libs/mathjax/2.7.5/MathJax.js?config=TeX-AMS-MML_SVG\"></script><script type=\"text/javascript\">if (window.MathJax && window.MathJax.Hub && window.MathJax.Hub.Config) {window.MathJax.Hub.Config({SVG: {font: \"STIX-Web\"}});}</script>                <script type=\"text/javascript\">window.PlotlyConfig = {MathJaxConfig: 'local'};</script>\n",
              "        <script charset=\"utf-8\" src=\"https://cdn.plot.ly/plotly-2.35.2.min.js\"></script>                <div id=\"7f3ecd59-f348-4108-b32c-c0b7aa24666c\" class=\"plotly-graph-div\" style=\"height:400px; width:600px;\"></div>            <script type=\"text/javascript\">                                    window.PLOTLYENV=window.PLOTLYENV || {};                                    if (document.getElementById(\"7f3ecd59-f348-4108-b32c-c0b7aa24666c\")) {                    Plotly.newPlot(                        \"7f3ecd59-f348-4108-b32c-c0b7aa24666c\",                        [{\"x\":[0.0,0.1,0.2,0.30000000000000004,0.4,0.5,0.6000000000000001,0.7000000000000001,0.8,0.9,1.0,1.1,1.2000000000000002,1.3,1.4000000000000001,1.5,1.6,1.7000000000000002,1.8,1.9000000000000001,2.0,2.1,2.2,2.3000000000000003,2.4000000000000004,2.5,2.6,2.7,2.8000000000000003,2.9000000000000004,3.0,3.1,3.2,3.3000000000000003,3.4000000000000004,3.5,3.6,3.7,3.8000000000000003,3.9000000000000004,4.0,4.1000000000000005,4.2,4.3,4.4,4.5,4.6000000000000005,4.7,4.800000000000001,4.9,5.0,5.1000000000000005,5.2,5.300000000000001,5.4,5.5,5.6000000000000005,5.7,5.800000000000001,5.9,6.0,6.1000000000000005,6.2,6.300000000000001,6.4,6.5,6.6000000000000005,6.7,6.800000000000001,6.9,7.0,7.1000000000000005,7.2,7.300000000000001,7.4,7.5,7.6000000000000005,7.7,7.800000000000001,7.9,8.0,8.1,8.200000000000001,8.3,8.4,8.5,8.6,8.700000000000001,8.8,8.9,9.0,9.1,9.200000000000001,9.3,9.4,9.5,9.600000000000001,9.700000000000001,9.8,9.9,10.0,10.100000000000001,10.200000000000001,10.3,10.4,10.5,10.600000000000001,10.700000000000001,10.8,10.9,11.0,11.100000000000001,11.200000000000001,11.3,11.4,11.5,11.600000000000001,11.700000000000001,11.8,11.9,12.0,12.100000000000001,12.200000000000001,12.3,12.4,12.5,12.600000000000001,12.700000000000001,12.8,12.9,13.0,13.100000000000001,13.200000000000001,13.3,13.4,13.5,13.600000000000001,13.700000000000001,13.8,13.9,14.0,14.100000000000001,14.200000000000001,14.3,14.4,14.5,14.600000000000001,14.700000000000001,14.8,14.9,15.0,15.100000000000001,15.200000000000001,15.3,15.4,15.5,15.600000000000001,15.700000000000001,15.8,15.9,16.0,16.1,16.2,16.3,16.400000000000002,16.5,16.6,16.7,16.8,16.900000000000002,17.0,17.1,17.2,17.3,17.400000000000002,17.5,17.6,17.7,17.8,17.900000000000002,18.0,18.1,18.2,18.3,18.400000000000002,18.5,18.6,18.7,18.8,18.900000000000002,19.0,19.1,19.200000000000003,19.3,19.400000000000002,19.5,19.6,19.700000000000003,19.8,19.900000000000002,20.0,20.1,20.200000000000003,20.3,20.400000000000002,20.5,20.6,20.700000000000003,20.8,20.900000000000002,21.0,21.1,21.200000000000003,21.3,21.400000000000002,21.5,21.6,21.700000000000003,21.8,21.900000000000002,22.0,22.1,22.200000000000003,22.3,22.400000000000002,22.5,22.6,22.700000000000003,22.8,22.900000000000002,23.0,23.1,23.200000000000003,23.3,23.400000000000002,23.5,23.6,23.700000000000003,23.8,23.900000000000002,24.0,24.1,24.200000000000003,24.3,24.400000000000002,24.5,24.6,24.700000000000003,24.8,24.900000000000002,25.0,25.1,25.200000000000003,25.3,25.400000000000002,25.5,25.6,25.700000000000003,25.8,25.900000000000002,26.0,26.1,26.200000000000003,26.3,26.400000000000002,26.5,26.6,26.700000000000003,26.8,26.900000000000002,27.0,27.1,27.200000000000003,27.3,27.400000000000002,27.5,27.6,27.700000000000003,27.8,27.900000000000002,28.0,28.1,28.200000000000003,28.3,28.400000000000002,28.5,28.6,28.700000000000003,28.8,28.900000000000002,29.0,29.1,29.200000000000003,29.3,29.400000000000002,29.5,29.6,29.700000000000003,29.8,29.900000000000002,30.0,30.1,30.200000000000003,30.3,30.400000000000002,30.5,30.6,30.700000000000003,30.8,30.900000000000002,31.0,31.1,31.200000000000003,31.3,31.400000000000002,31.5,31.6,31.700000000000003,31.8,31.900000000000002,32.0,32.1,32.2,32.300000000000004,32.4,32.5,32.6,32.7,32.800000000000004,32.9,33.0,33.1,33.2,33.300000000000004,33.4,33.5,33.6,33.7,33.800000000000004,33.9,34.0,34.1,34.2,34.300000000000004,34.4,34.5,34.6,34.7,34.800000000000004,34.9,35.0,35.1,35.2,35.300000000000004,35.4,35.5,35.6,35.7,35.800000000000004,35.9,36.0,36.1,36.2,36.300000000000004,36.4,36.5,36.6,36.7,36.800000000000004,36.9,37.0,37.1,37.2,37.300000000000004,37.4,37.5,37.6,37.7,37.800000000000004,37.9,38.0,38.1,38.2,38.300000000000004,38.400000000000006,38.5,38.6,38.7,38.800000000000004,38.900000000000006,39.0,39.1,39.2,39.300000000000004,39.400000000000006,39.5,39.6,39.7,39.800000000000004,39.900000000000006,40.0,40.1,40.2,40.300000000000004,40.400000000000006,40.5,40.6,40.7,40.800000000000004,40.900000000000006,41.0,41.1,41.2,41.300000000000004,41.400000000000006,41.5,41.6,41.7,41.800000000000004,41.900000000000006,42.0,42.1,42.2,42.300000000000004,42.400000000000006,42.5,42.6,42.7,42.800000000000004,42.900000000000006,43.0,43.1,43.2,43.300000000000004,43.400000000000006,43.5,43.6,43.7,43.800000000000004,43.900000000000006,44.0,44.1,44.2,44.300000000000004,44.400000000000006,44.5,44.6,44.7,44.800000000000004,44.900000000000006,45.0,45.1,45.2,45.300000000000004,45.400000000000006,45.5,45.6,45.7,45.800000000000004,45.900000000000006,46.0,46.1,46.2,46.300000000000004,46.400000000000006,46.5,46.6,46.7,46.800000000000004,46.900000000000006,47.0,47.1,47.2,47.300000000000004,47.400000000000006,47.5,47.6,47.7,47.800000000000004,47.900000000000006,48.0,48.1,48.2,48.300000000000004,48.400000000000006,48.5,48.6,48.7,48.800000000000004,48.900000000000006,49.0,49.1,49.2,49.300000000000004,49.400000000000006,49.5,49.6,49.7,49.800000000000004,49.900000000000006],\"y\":[0.0,6.556404465392982e-7,9.993685764764137e-6,0.00004820696095957416,0.00014519889975542872,0.00033789521549056127,0.0006679840280490652,0.0011800296818781292,0.0019199115598298871,0.0029335446809822994,0.004265843814716752,0.005959897292616912,0.008056320696074827,0.010592764180121776,0.013603550399645734,0.017119422866994374,0.0211673871217211,0.0257706293632762,0.03094849921287745,0.03671654505655824,0.04308659200039023,0.0500668538620874,0.057662071849788374,0.06587367365626023,0.07469994764097129,0.08413622759787714,0.09417508432643383,0.10480652084912025,0.11601816866129178,0.12779548286811063,0.14012193446724583,0.15297919838276133,0.1663473361520537,0.18020497242006797,0.19452946460884404,0.20929706531065378,0.22448307710395848,0.24006199961702632,0.2560076687677375,0.2722933881928976,0.28889205294895476,0.30577626562071253,0.322918445017517,0.34029092766926095,0.3578660623589747,0.375616297946116,0.3935142647461243,0.41153284973838855,0.4296452658773753,0.447825115781034,0.4660464500673924,0.4842838206050183,0.5025123289362323,0.5207076701240013,0.5388461722646505,0.5569048318991854,0.5748613455463301,0.5926941375705637,0.6103823845886087,0.6279060366081232,0.6452458350828598,0.6623833280593546,0.6793008825813465,0.6959816945096432,0.7124097959070715,0.7285700601304744,0.7444482047644801,0.760030792524933,0.7753052302534631,0.7902597661186538,0.8048834851336317,0.8191663030946381,0.8330989590402202,0.8466730063260915,0.85988080240642,0.872715497408302,0.8851710215824454,0.897242071709585,0.9089240965388858,0.9202132813315214,0.9311065315797291,0.9416014559689402,0.9516963486480088,0.961390170870152,0.9706825320649072,0.9795736703992243,0.9880644328837191,0.9961562550781105,1.0038511404479353,1.0111516394227862,1.018060828204507,1.0245822873720518,1.0307200803280105,1.0364787316301531,1.041863205249725,1.046878882796649,1.0515315417502276,1.0558273337324129,1.0597727628592097,1.063374664204285,1.066640182407403,1.0695767504588471,1.0721920686895694,1.0744940839953896,1.076490969322173,1.0781911034375258,1.0796030510131935,1.080735543040985,1.0815974576037157,1.0821978010213447,1.082545689391181,1.082650330539741,1.0825210064025874,1.0821670558472183,1.0815978579528553,1.0808228157597755,1.0798513404996295,1.0786928363170494,1.0773566854916794,1.0758522341686714,1.0741887786045707,1.0723755519344689,1.0704217114652392,1.0683363264986678,1.0661283666873005,1.0638066909248562,1.0613800367721415,1.058857010418473,1.056246077177767,1.0535555525175861,1.05079359361863,1.0479681914613743,1.0450871634357988,1.0421581464694303,1.0391885906682323,1.0361857534642096,1.0331566942629706,1.030108269583888,1.027047128684935,1.0239797096637373,1.0209122360258742,1.0178507137109891,1.0148009285668305,1.0117684442609254,1.008758600619208,1.0057765123805704,1.0028270683559861,0.9999149309805485,0.9970445362465149,0.994220094005199,0.9914455886253464,0.988724779995446,0.9860612048572692,0.9834581784578023,0.9809187965066221,0.978445937425698,0.9760422648785282,0.9737102305654978,0.9714520772723259,0.9692698421584818,0.9671653602724818,0.9651402682810297,0.9631960083990285,0.9613338325075949,0.9595548064472996,0.9578598144739964,0.9562495638647329,0.9547245896614036,0.9532852595399754,0.9519317787932984,0.9506641954157234,0.9494824052779577,0.9483861573808152,0.947375059176756,0.946448581948357,0.9456060662331133,0.944846727284236,0.9441696605573862,0.9435738472135671,0.9430581596286873,0.9426213669006002,0.9422621403447284,0.9419790589696861,0.9417706149246227,0.9416352189103221,0.9415712055464136,0.9415768386873637,0.9416503166802386,0.9417897775575544,0.9419933041588451,0.9422589291749088,0.9425846401090086,0.9429683841496251,0.9434080729496825,0.9439015873074764,0.9444467817448589,0.9450414889785357,0.945683524280647,0.9463706897251051,0.9471007783164617,0.947871577998376,0.9486808755390438,0.9495264602912367,0.9504061278248774,0.9513176834303582,0.952258945491071,0.9532277487238894,0.9542219472865913,0.955239417751466,0.9562780619445927,0.9573358096505078,0.9584106211822159,0.9595004898167139,0.9606034440964146,0.9617175499970643,0.9628409129629425,0.9639716798103317,0.9651080405004195,0.9662482297829766,0.967390528712322,0.9685332660372412,0.9696748194666835,0.9708136168132018,0.9719481370162348,0.9730769110474675,0.9741985227006145,0.9753116092680929,0.976414862107156,0.9775070270981466,0.9785869049976362,0.9796533516892793,0.9807052783353044,0.9817416514316213,0.9827614927695866,0.9837638793075275,0.9847479429551672,0.9857128702741378,0.9866579020977988,0.9875823330736114,0.988485511131333,0.9893668368803186,0.9902257629392226,0.9910617932013981,0.9918744820392885,0.9926634334511019,0.9934283001530453,0.9941687826203761,0.9948846280805106,0.9955756294614,0.9962416242983563,0.996882493602469,0.997498160693726,0.9980885900018933,0.9986537858381794,0.9991937911406465,0.9997086861962808,1.000198587342585,1.0006636456514866,1.0011040455983025,1.0015200037184282,1.0019117672543623,1.0022796127956013,1.0026238449138702,1.0029447947960886,1.0032428188773845,1.0035182974764116,1.0037716334351294,1.0040032507651426,1.004213593302613,1.0044031233736737,1.0045723204722,1.0047216799517162,1.004851711733121,1.0049629390298498,1.005055897092006,1.0051311319709066,1.0051891993054154,1.0052306631313532,1.005256094715195,1.0052660714131845,1.0052611755569199,1.0052419933663868,1.0052091138913346,1.005163127981822,1.0051046272886803,1.0050342032945674,1.0049524463762192,1.0048599448984283,1.0047572843402166,1.0046450464535928,1.0045238084552295,1.0043941422513216,1.0042566136958266,1.0041117818822325,1.003960198468928,1.0038024070382021,1.0036389424888423,1.003470330462238,1.003297086801858,1.0031197170459072,1.002938715952931,1.0027545670600775,1.0025677422736943,1.002378701491887,1.0021878922586316,1.0019957494489866,1.0018026949849232,1.0016091375812544,1.0014154725211042,1.001222081460341,1.0010293322603587,1.0008375788485684,1.0006471611059362,1.0004584047808849,1.0002716214288452,1.0000871083767384,0.9999051487116402,0.9997260112928681,0.999549950786722,0.9993772077230881,0.999208008573114,0.999042565847148,0.9988810782121315,0.9987237306276279,0.9985706944996646,0.9984221278515668,0.9982781755109522,0.9981389693120689,0.9980046283126451,0.9978752590244354,0.9977509556566432,0.9976318003714106,0.9975178635505686,0.9974092040728485,0.9973058696007713,0.9972078968764289,0.9971153120253929,0.9970281308679935,0.9969463592372197,0.996869993302515,0.9967990198987458,0.9967334168596435,0.9966731533550294,0.9966181902311523,0.9965684803534858,0.9965239689513424,0.9964845939636888,0.9964502863855581,0.9964209706144751,0.9963965647963299,0.9963769811701544,0.996362126411275,0.9963519019723337,0.9963462044216934,0.9963449257787561,0.9963479538457519,0.9963551725355695,0.9963664621952204,0.9963816999245555,0.996400759889862,0.9964235136320003,0.9964498303687521,0.996479577291075,0.996512619852976,0.9965488220547424,0.9965880467192773,0.9966301557613158,0.9966750104493138,0.9967224716598173,0.9967724001241409,0.9968246566672055,0.9968791024383955,0.9969355991343192,0.9969940092133724,0.997054196102018,0.9971160243927161,0.9971793600334514,0.9972440705088189,0.997310025012651,0.9973770946121719,0.9974451524036925,0.9975140736598613,0.9975837359685069,0.9976540193631188,0.9977248064450217,0.9977959824973185,0.9978674355906765,0.9979390566810544,0.9980107396994696,0.9980823816339164,0.9981538826035588,0.9982251459253259,0.9982960781730482,0.9983665892292799,0.9984365923299608,0.998506004102077,0.9985747445944863,0.9986427373020799,0.9987099091834586,0.9987761906723039,0.9988415156826298,0.998905821608108,0.9989690493156588,0.9990311431335042,0.999092050833884,0.9991517236106361,0.9992101160518442,0.9992671861077591,0.9993228950542006,0.9993772074516437,0.9994300911002004,0.9994815169907015,0.9995314592520882,0.9995798950953162,0.9996268047539812,0.9996721714218678,0.9997159811876246,0.9997582229667674,0.9997988884312065,0.9998379719364965,0.9998754704470025,0.9999113834591703,0.9999457129230904,0.9999784631625404,1.000009640793686,1.000039254642617,1.000067315661892,1.0000938368462629,1.0001188331477406,1.0001423213901677,1.0001643201834485,1.0001848498375963,1.0002039322767362,1.000221590953214,1.0002378507619438,1.0002527379551311,1.0002662800574953,1.0002785057821182,1.0002894449470365,1.0002991283926874,1.0003075879003211,1.0003148561114772,1.0003209664486281,1.0003259530370792,1.000329850628212,1.0003326945241577,1.000334520503975,1.0003353647514046,1.00033526378427,1.000334254385588,1.0003323735364436,1.0003296583506847,1.0003261460114865,1.0003218737098243,1.000316878584902,1.0003111976665606,1.0003048678197113,1.0002979256908024,1.0002904076563564,1.0002823497735875,1.000273787733116,1.0002647568137881,1.0002552918396084,1.0002454271387882,1.0002351965049063,1.0002246331601816,1.0002137697208437,1.0002026381645988,1.000191269800169,1.0001796952388924,1.0001679443683646,1.0001560463280958,1.0001440294871606,1.0001319214238142,1.0001197489070417,1.000107537880011,1.0000953134453965,1.0000830998525305,1.0000709204863554,1.0000587978581263,1.0000467535978295,1.000034808448271,1.0000229822607936,1.0000112939925736,0.9999997617054533,0.9999884025662628,0.9999772328485778,0.9999662679358701,0.9999555223259989,0.9999450096369881,0.9999347426140471,0.9999247331377757,0.9999149922335071,0.9999055300817327,0.9998963560295624,0.9998874786031623,0.9998789055211218,0.9998706437086983,0.9998626993128857,0.9998550777182589],\"type\":\"scatter\"}],                        {\"template\":{\"data\":{\"barpolar\":[{\"marker\":{\"line\":{\"color\":\"rgb(17,17,17)\",\"width\":0.5},\"pattern\":{\"fillmode\":\"overlay\",\"size\":10,\"solidity\":0.2}},\"type\":\"barpolar\"}],\"bar\":[{\"error_x\":{\"color\":\"#f2f5fa\"},\"error_y\":{\"color\":\"#f2f5fa\"},\"marker\":{\"line\":{\"color\":\"rgb(17,17,17)\",\"width\":0.5},\"pattern\":{\"fillmode\":\"overlay\",\"size\":10,\"solidity\":0.2}},\"type\":\"bar\"}],\"carpet\":[{\"aaxis\":{\"endlinecolor\":\"#A2B1C6\",\"gridcolor\":\"#506784\",\"linecolor\":\"#506784\",\"minorgridcolor\":\"#506784\",\"startlinecolor\":\"#A2B1C6\"},\"baxis\":{\"endlinecolor\":\"#A2B1C6\",\"gridcolor\":\"#506784\",\"linecolor\":\"#506784\",\"minorgridcolor\":\"#506784\",\"startlinecolor\":\"#A2B1C6\"},\"type\":\"carpet\"}],\"choropleth\":[{\"colorbar\":{\"outlinewidth\":0,\"ticks\":\"\"},\"type\":\"choropleth\"}],\"contourcarpet\":[{\"colorbar\":{\"outlinewidth\":0,\"ticks\":\"\"},\"type\":\"contourcarpet\"}],\"contour\":[{\"colorbar\":{\"outlinewidth\":0,\"ticks\":\"\"},\"colorscale\":[[0.0,\"#0d0887\"],[0.1111111111111111,\"#46039f\"],[0.2222222222222222,\"#7201a8\"],[0.3333333333333333,\"#9c179e\"],[0.4444444444444444,\"#bd3786\"],[0.5555555555555556,\"#d8576b\"],[0.6666666666666666,\"#ed7953\"],[0.7777777777777778,\"#fb9f3a\"],[0.8888888888888888,\"#fdca26\"],[1.0,\"#f0f921\"]],\"type\":\"contour\"}],\"heatmapgl\":[{\"colorbar\":{\"outlinewidth\":0,\"ticks\":\"\"},\"colorscale\":[[0.0,\"#0d0887\"],[0.1111111111111111,\"#46039f\"],[0.2222222222222222,\"#7201a8\"],[0.3333333333333333,\"#9c179e\"],[0.4444444444444444,\"#bd3786\"],[0.5555555555555556,\"#d8576b\"],[0.6666666666666666,\"#ed7953\"],[0.7777777777777778,\"#fb9f3a\"],[0.8888888888888888,\"#fdca26\"],[1.0,\"#f0f921\"]],\"type\":\"heatmapgl\"}],\"heatmap\":[{\"colorbar\":{\"outlinewidth\":0,\"ticks\":\"\"},\"colorscale\":[[0.0,\"#0d0887\"],[0.1111111111111111,\"#46039f\"],[0.2222222222222222,\"#7201a8\"],[0.3333333333333333,\"#9c179e\"],[0.4444444444444444,\"#bd3786\"],[0.5555555555555556,\"#d8576b\"],[0.6666666666666666,\"#ed7953\"],[0.7777777777777778,\"#fb9f3a\"],[0.8888888888888888,\"#fdca26\"],[1.0,\"#f0f921\"]],\"type\":\"heatmap\"}],\"histogram2dcontour\":[{\"colorbar\":{\"outlinewidth\":0,\"ticks\":\"\"},\"colorscale\":[[0.0,\"#0d0887\"],[0.1111111111111111,\"#46039f\"],[0.2222222222222222,\"#7201a8\"],[0.3333333333333333,\"#9c179e\"],[0.4444444444444444,\"#bd3786\"],[0.5555555555555556,\"#d8576b\"],[0.6666666666666666,\"#ed7953\"],[0.7777777777777778,\"#fb9f3a\"],[0.8888888888888888,\"#fdca26\"],[1.0,\"#f0f921\"]],\"type\":\"histogram2dcontour\"}],\"histogram2d\":[{\"colorbar\":{\"outlinewidth\":0,\"ticks\":\"\"},\"colorscale\":[[0.0,\"#0d0887\"],[0.1111111111111111,\"#46039f\"],[0.2222222222222222,\"#7201a8\"],[0.3333333333333333,\"#9c179e\"],[0.4444444444444444,\"#bd3786\"],[0.5555555555555556,\"#d8576b\"],[0.6666666666666666,\"#ed7953\"],[0.7777777777777778,\"#fb9f3a\"],[0.8888888888888888,\"#fdca26\"],[1.0,\"#f0f921\"]],\"type\":\"histogram2d\"}],\"histogram\":[{\"marker\":{\"pattern\":{\"fillmode\":\"overlay\",\"size\":10,\"solidity\":0.2}},\"type\":\"histogram\"}],\"mesh3d\":[{\"colorbar\":{\"outlinewidth\":0,\"ticks\":\"\"},\"type\":\"mesh3d\"}],\"parcoords\":[{\"line\":{\"colorbar\":{\"outlinewidth\":0,\"ticks\":\"\"}},\"type\":\"parcoords\"}],\"pie\":[{\"automargin\":true,\"type\":\"pie\"}],\"scatter3d\":[{\"line\":{\"colorbar\":{\"outlinewidth\":0,\"ticks\":\"\"}},\"marker\":{\"colorbar\":{\"outlinewidth\":0,\"ticks\":\"\"}},\"type\":\"scatter3d\"}],\"scattercarpet\":[{\"marker\":{\"colorbar\":{\"outlinewidth\":0,\"ticks\":\"\"}},\"type\":\"scattercarpet\"}],\"scattergeo\":[{\"marker\":{\"colorbar\":{\"outlinewidth\":0,\"ticks\":\"\"}},\"type\":\"scattergeo\"}],\"scattergl\":[{\"marker\":{\"line\":{\"color\":\"#283442\"}},\"type\":\"scattergl\"}],\"scattermapbox\":[{\"marker\":{\"colorbar\":{\"outlinewidth\":0,\"ticks\":\"\"}},\"type\":\"scattermapbox\"}],\"scatterpolargl\":[{\"marker\":{\"colorbar\":{\"outlinewidth\":0,\"ticks\":\"\"}},\"type\":\"scatterpolargl\"}],\"scatterpolar\":[{\"marker\":{\"colorbar\":{\"outlinewidth\":0,\"ticks\":\"\"}},\"type\":\"scatterpolar\"}],\"scatter\":[{\"marker\":{\"line\":{\"color\":\"#283442\"}},\"type\":\"scatter\"}],\"scatterternary\":[{\"marker\":{\"colorbar\":{\"outlinewidth\":0,\"ticks\":\"\"}},\"type\":\"scatterternary\"}],\"surface\":[{\"colorbar\":{\"outlinewidth\":0,\"ticks\":\"\"},\"colorscale\":[[0.0,\"#0d0887\"],[0.1111111111111111,\"#46039f\"],[0.2222222222222222,\"#7201a8\"],[0.3333333333333333,\"#9c179e\"],[0.4444444444444444,\"#bd3786\"],[0.5555555555555556,\"#d8576b\"],[0.6666666666666666,\"#ed7953\"],[0.7777777777777778,\"#fb9f3a\"],[0.8888888888888888,\"#fdca26\"],[1.0,\"#f0f921\"]],\"type\":\"surface\"}],\"table\":[{\"cells\":{\"fill\":{\"color\":\"#506784\"},\"line\":{\"color\":\"rgb(17,17,17)\"}},\"header\":{\"fill\":{\"color\":\"#2a3f5f\"},\"line\":{\"color\":\"rgb(17,17,17)\"}},\"type\":\"table\"}]},\"layout\":{\"annotationdefaults\":{\"arrowcolor\":\"#f2f5fa\",\"arrowhead\":0,\"arrowwidth\":1},\"autotypenumbers\":\"strict\",\"coloraxis\":{\"colorbar\":{\"outlinewidth\":0,\"ticks\":\"\"}},\"colorscale\":{\"diverging\":[[0,\"#8e0152\"],[0.1,\"#c51b7d\"],[0.2,\"#de77ae\"],[0.3,\"#f1b6da\"],[0.4,\"#fde0ef\"],[0.5,\"#f7f7f7\"],[0.6,\"#e6f5d0\"],[0.7,\"#b8e186\"],[0.8,\"#7fbc41\"],[0.9,\"#4d9221\"],[1,\"#276419\"]],\"sequential\":[[0.0,\"#0d0887\"],[0.1111111111111111,\"#46039f\"],[0.2222222222222222,\"#7201a8\"],[0.3333333333333333,\"#9c179e\"],[0.4444444444444444,\"#bd3786\"],[0.5555555555555556,\"#d8576b\"],[0.6666666666666666,\"#ed7953\"],[0.7777777777777778,\"#fb9f3a\"],[0.8888888888888888,\"#fdca26\"],[1.0,\"#f0f921\"]],\"sequentialminus\":[[0.0,\"#0d0887\"],[0.1111111111111111,\"#46039f\"],[0.2222222222222222,\"#7201a8\"],[0.3333333333333333,\"#9c179e\"],[0.4444444444444444,\"#bd3786\"],[0.5555555555555556,\"#d8576b\"],[0.6666666666666666,\"#ed7953\"],[0.7777777777777778,\"#fb9f3a\"],[0.8888888888888888,\"#fdca26\"],[1.0,\"#f0f921\"]]},\"colorway\":[\"#636efa\",\"#EF553B\",\"#00cc96\",\"#ab63fa\",\"#FFA15A\",\"#19d3f3\",\"#FF6692\",\"#B6E880\",\"#FF97FF\",\"#FECB52\"],\"font\":{\"color\":\"#f2f5fa\"},\"geo\":{\"bgcolor\":\"rgb(17,17,17)\",\"lakecolor\":\"rgb(17,17,17)\",\"landcolor\":\"rgb(17,17,17)\",\"showlakes\":true,\"showland\":true,\"subunitcolor\":\"#506784\"},\"hoverlabel\":{\"align\":\"left\"},\"hovermode\":\"closest\",\"mapbox\":{\"style\":\"dark\"},\"paper_bgcolor\":\"rgb(17,17,17)\",\"plot_bgcolor\":\"rgb(17,17,17)\",\"polar\":{\"angularaxis\":{\"gridcolor\":\"#506784\",\"linecolor\":\"#506784\",\"ticks\":\"\"},\"bgcolor\":\"rgb(17,17,17)\",\"radialaxis\":{\"gridcolor\":\"#506784\",\"linecolor\":\"#506784\",\"ticks\":\"\"}},\"scene\":{\"xaxis\":{\"backgroundcolor\":\"rgb(17,17,17)\",\"gridcolor\":\"#506784\",\"gridwidth\":2,\"linecolor\":\"#506784\",\"showbackground\":true,\"ticks\":\"\",\"zerolinecolor\":\"#C8D4E3\"},\"yaxis\":{\"backgroundcolor\":\"rgb(17,17,17)\",\"gridcolor\":\"#506784\",\"gridwidth\":2,\"linecolor\":\"#506784\",\"showbackground\":true,\"ticks\":\"\",\"zerolinecolor\":\"#C8D4E3\"},\"zaxis\":{\"backgroundcolor\":\"rgb(17,17,17)\",\"gridcolor\":\"#506784\",\"gridwidth\":2,\"linecolor\":\"#506784\",\"showbackground\":true,\"ticks\":\"\",\"zerolinecolor\":\"#C8D4E3\"}},\"shapedefaults\":{\"line\":{\"color\":\"#f2f5fa\"}},\"sliderdefaults\":{\"bgcolor\":\"#C8D4E3\",\"bordercolor\":\"rgb(17,17,17)\",\"borderwidth\":1,\"tickwidth\":0},\"ternary\":{\"aaxis\":{\"gridcolor\":\"#506784\",\"linecolor\":\"#506784\",\"ticks\":\"\"},\"baxis\":{\"gridcolor\":\"#506784\",\"linecolor\":\"#506784\",\"ticks\":\"\"},\"bgcolor\":\"rgb(17,17,17)\",\"caxis\":{\"gridcolor\":\"#506784\",\"linecolor\":\"#506784\",\"ticks\":\"\"}},\"title\":{\"x\":0.05},\"updatemenudefaults\":{\"bgcolor\":\"#506784\",\"borderwidth\":0},\"xaxis\":{\"automargin\":true,\"gridcolor\":\"#283442\",\"linecolor\":\"#506784\",\"ticks\":\"\",\"title\":{\"standoff\":15},\"zerolinecolor\":\"#283442\",\"zerolinewidth\":2},\"yaxis\":{\"automargin\":true,\"gridcolor\":\"#283442\",\"linecolor\":\"#506784\",\"ticks\":\"\",\"title\":{\"standoff\":15},\"zerolinecolor\":\"#283442\",\"zerolinewidth\":2}}},\"xaxis\":{\"anchor\":\"y\",\"domain\":[0.0,1.0]},\"yaxis\":{\"anchor\":\"x\",\"domain\":[0.0,1.0]},\"width\":600,\"height\":400},                        {\"responsive\": true}                    ).then(function(){\n",
              "                            \n",
              "var gd = document.getElementById('7f3ecd59-f348-4108-b32c-c0b7aa24666c');\n",
              "var x = new MutationObserver(function (mutations, observer) {{\n",
              "        var display = window.getComputedStyle(gd).display;\n",
              "        if (!display || display === 'none') {{\n",
              "            console.log([gd, 'removed!']);\n",
              "            Plotly.purge(gd);\n",
              "            observer.disconnect();\n",
              "        }}\n",
              "}});\n",
              "\n",
              "// Listen for the removal of the full notebook cells\n",
              "var notebookContainer = gd.closest('#notebook-container');\n",
              "if (notebookContainer) {{\n",
              "    x.observe(notebookContainer, {childList: true});\n",
              "}}\n",
              "\n",
              "// Listen for the clearing of the current output cell\n",
              "var outputEl = gd.closest('.output');\n",
              "if (outputEl) {{\n",
              "    x.observe(outputEl, {childList: true});\n",
              "}}\n",
              "\n",
              "                        })                };                            </script>        </div>\n",
              "</body>\n",
              "</html>"
            ]
          },
          "metadata": {}
        }
      ]
    },
    {
      "cell_type": "code",
      "source": [
        "Gp = fK*exp(-ftheta*s)/(ftau*s+1)\n",
        "Gc =2.78\n",
        "Gm = 1\n",
        "Gfb = Gc*Gp/(1+Gp*Gc*Gm)\n",
        "Gfb=simplify(Gfb)\n",
        "t,y=sim(Gfb, lambda t: 1., N=500, dt=0.1)\n",
        "fig4=make_subplots()\n",
        "fig4.add_scatter(x=t, y= y)\n",
        "fig4.update_layout(width=600, height=400, template='plotly_dark')"
      ],
      "metadata": {
        "colab": {
          "base_uri": "https://localhost:8080/",
          "height": 417
        },
        "id": "JkJZ8nVwbSqS",
        "outputId": "567bc492-11d3-4785-ac4d-0e3ce65c67a5"
      },
      "execution_count": 25,
      "outputs": [
        {
          "output_type": "display_data",
          "data": {
            "text/html": [
              "<html>\n",
              "<head><meta charset=\"utf-8\" /></head>\n",
              "<body>\n",
              "    <div>            <script src=\"https://cdnjs.cloudflare.com/ajax/libs/mathjax/2.7.5/MathJax.js?config=TeX-AMS-MML_SVG\"></script><script type=\"text/javascript\">if (window.MathJax && window.MathJax.Hub && window.MathJax.Hub.Config) {window.MathJax.Hub.Config({SVG: {font: \"STIX-Web\"}});}</script>                <script type=\"text/javascript\">window.PlotlyConfig = {MathJaxConfig: 'local'};</script>\n",
              "        <script charset=\"utf-8\" src=\"https://cdn.plot.ly/plotly-2.35.2.min.js\"></script>                <div id=\"4fe1571d-ac40-47e3-8d0e-667c259ccc01\" class=\"plotly-graph-div\" style=\"height:400px; width:600px;\"></div>            <script type=\"text/javascript\">                                    window.PLOTLYENV=window.PLOTLYENV || {};                                    if (document.getElementById(\"4fe1571d-ac40-47e3-8d0e-667c259ccc01\")) {                    Plotly.newPlot(                        \"4fe1571d-ac40-47e3-8d0e-667c259ccc01\",                        [{\"x\":[0.0,0.1,0.2,0.30000000000000004,0.4,0.5,0.6000000000000001,0.7000000000000001,0.8,0.9,1.0,1.1,1.2000000000000002,1.3,1.4000000000000001,1.5,1.6,1.7000000000000002,1.8,1.9000000000000001,2.0,2.1,2.2,2.3000000000000003,2.4000000000000004,2.5,2.6,2.7,2.8000000000000003,2.9000000000000004,3.0,3.1,3.2,3.3000000000000003,3.4000000000000004,3.5,3.6,3.7,3.8000000000000003,3.9000000000000004,4.0,4.1000000000000005,4.2,4.3,4.4,4.5,4.6000000000000005,4.7,4.800000000000001,4.9,5.0,5.1000000000000005,5.2,5.300000000000001,5.4,5.5,5.6000000000000005,5.7,5.800000000000001,5.9,6.0,6.1000000000000005,6.2,6.300000000000001,6.4,6.5,6.6000000000000005,6.7,6.800000000000001,6.9,7.0,7.1000000000000005,7.2,7.300000000000001,7.4,7.5,7.6000000000000005,7.7,7.800000000000001,7.9,8.0,8.1,8.200000000000001,8.3,8.4,8.5,8.6,8.700000000000001,8.8,8.9,9.0,9.1,9.200000000000001,9.3,9.4,9.5,9.600000000000001,9.700000000000001,9.8,9.9,10.0,10.100000000000001,10.200000000000001,10.3,10.4,10.5,10.600000000000001,10.700000000000001,10.8,10.9,11.0,11.100000000000001,11.200000000000001,11.3,11.4,11.5,11.600000000000001,11.700000000000001,11.8,11.9,12.0,12.100000000000001,12.200000000000001,12.3,12.4,12.5,12.600000000000001,12.700000000000001,12.8,12.9,13.0,13.100000000000001,13.200000000000001,13.3,13.4,13.5,13.600000000000001,13.700000000000001,13.8,13.9,14.0,14.100000000000001,14.200000000000001,14.3,14.4,14.5,14.600000000000001,14.700000000000001,14.8,14.9,15.0,15.100000000000001,15.200000000000001,15.3,15.4,15.5,15.600000000000001,15.700000000000001,15.8,15.9,16.0,16.1,16.2,16.3,16.400000000000002,16.5,16.6,16.7,16.8,16.900000000000002,17.0,17.1,17.2,17.3,17.400000000000002,17.5,17.6,17.7,17.8,17.900000000000002,18.0,18.1,18.2,18.3,18.400000000000002,18.5,18.6,18.7,18.8,18.900000000000002,19.0,19.1,19.200000000000003,19.3,19.400000000000002,19.5,19.6,19.700000000000003,19.8,19.900000000000002,20.0,20.1,20.200000000000003,20.3,20.400000000000002,20.5,20.6,20.700000000000003,20.8,20.900000000000002,21.0,21.1,21.200000000000003,21.3,21.400000000000002,21.5,21.6,21.700000000000003,21.8,21.900000000000002,22.0,22.1,22.200000000000003,22.3,22.400000000000002,22.5,22.6,22.700000000000003,22.8,22.900000000000002,23.0,23.1,23.200000000000003,23.3,23.400000000000002,23.5,23.6,23.700000000000003,23.8,23.900000000000002,24.0,24.1,24.200000000000003,24.3,24.400000000000002,24.5,24.6,24.700000000000003,24.8,24.900000000000002,25.0,25.1,25.200000000000003,25.3,25.400000000000002,25.5,25.6,25.700000000000003,25.8,25.900000000000002,26.0,26.1,26.200000000000003,26.3,26.400000000000002,26.5,26.6,26.700000000000003,26.8,26.900000000000002,27.0,27.1,27.200000000000003,27.3,27.400000000000002,27.5,27.6,27.700000000000003,27.8,27.900000000000002,28.0,28.1,28.200000000000003,28.3,28.400000000000002,28.5,28.6,28.700000000000003,28.8,28.900000000000002,29.0,29.1,29.200000000000003,29.3,29.400000000000002,29.5,29.6,29.700000000000003,29.8,29.900000000000002,30.0,30.1,30.200000000000003,30.3,30.400000000000002,30.5,30.6,30.700000000000003,30.8,30.900000000000002,31.0,31.1,31.200000000000003,31.3,31.400000000000002,31.5,31.6,31.700000000000003,31.8,31.900000000000002,32.0,32.1,32.2,32.300000000000004,32.4,32.5,32.6,32.7,32.800000000000004,32.9,33.0,33.1,33.2,33.300000000000004,33.4,33.5,33.6,33.7,33.800000000000004,33.9,34.0,34.1,34.2,34.300000000000004,34.4,34.5,34.6,34.7,34.800000000000004,34.9,35.0,35.1,35.2,35.300000000000004,35.4,35.5,35.6,35.7,35.800000000000004,35.9,36.0,36.1,36.2,36.300000000000004,36.4,36.5,36.6,36.7,36.800000000000004,36.9,37.0,37.1,37.2,37.300000000000004,37.4,37.5,37.6,37.7,37.800000000000004,37.9,38.0,38.1,38.2,38.300000000000004,38.400000000000006,38.5,38.6,38.7,38.800000000000004,38.900000000000006,39.0,39.1,39.2,39.300000000000004,39.400000000000006,39.5,39.6,39.7,39.800000000000004,39.900000000000006,40.0,40.1,40.2,40.300000000000004,40.400000000000006,40.5,40.6,40.7,40.800000000000004,40.900000000000006,41.0,41.1,41.2,41.300000000000004,41.400000000000006,41.5,41.6,41.7,41.800000000000004,41.900000000000006,42.0,42.1,42.2,42.300000000000004,42.400000000000006,42.5,42.6,42.7,42.800000000000004,42.900000000000006,43.0,43.1,43.2,43.300000000000004,43.400000000000006,43.5,43.6,43.7,43.800000000000004,43.900000000000006,44.0,44.1,44.2,44.300000000000004,44.400000000000006,44.5,44.6,44.7,44.800000000000004,44.900000000000006,45.0,45.1,45.2,45.300000000000004,45.400000000000006,45.5,45.6,45.7,45.800000000000004,45.900000000000006,46.0,46.1,46.2,46.300000000000004,46.400000000000006,46.5,46.6,46.7,46.800000000000004,46.900000000000006,47.0,47.1,47.2,47.300000000000004,47.400000000000006,47.5,47.6,47.7,47.800000000000004,47.900000000000006,48.0,48.1,48.2,48.300000000000004,48.400000000000006,48.5,48.6,48.7,48.800000000000004,48.900000000000006,49.0,49.1,49.2,49.300000000000004,49.400000000000006,49.5,49.6,49.7,49.800000000000004,49.900000000000006],\"y\":[0.0,0.0,0.0,0.0,0.0,0.0,0.0,0.0,0.0,0.0,0.0,0.0,0.0,0.0,0.0,0.0,0.0,0.0,0.0,0.0,0.0,0.0,0.0,0.0,0.0,0.0,0.0,0.05820426128619104,0.13453540030301056,0.2089993075156153,0.2816416596249632,0.3525070159768963,0.42163884589516537,0.48907955534582936,0.5548705129493824,0.6190520753565653,0.6816636120034296,0.7427435292608332,0.802329293993188,0.8604574565409062,0.9171636731406442,0.9724827277970978,1.0264485536197605,1.0790942536377421,1.1304521211054062,1.180553659311284,1.2294296009024244,1.2771099267360184,1.323623884269879,1.3690000055030391,1.4132661244774907,1.4564493943517867,1.4985763040569842,1.5345840987257466,1.5630293074136474,1.5848288762344533,1.6004828217069662,1.6102787705408368,1.614493955002631,1.613395549342489,1.6072409959813354,1.5962783217582681,1.580746444529251,1.560875470399914,1.5368869818672175,1.508994317136897,1.4774028408759798,1.4423102066522722,1.4039066113054952,1.3623750414877835,1.3178915126044264,1.2706253003791383,1.220739165261727,1.1683895698897537,1.1137268898097539,1.056895617657635,0.9980345609921846,0.9372770339700152,0.8747510430448587,0.8110243450761051,0.7467779956085637,0.6825467382201238,0.6187942199335164,0.5559565281157803,0.4944397115570113,0.43461931136410475,0.37684185748834687,0.3214263042514052,0.2686654071064394,0.21882704279449489,0.17215547498231887,0.12887256739608574,0.08917894639623895,0.05325511487163607,0.021262519266343666,-0.006655428510257304,-0.030372372600053536,-0.04977807650810697,-0.06477752663525568,-0.07529007451160745,-0.08124861626418704,-0.08259880790326755,-0.07929831506151515,-0.07131609586801935,-0.05863171568563556,-0.04127358663688279,-0.01932779348797915,0.007080408825506058,0.03779490230531452,0.07263044440865779,0.11137531277845501,0.1537943539919074,0.19963180262888908,0.24861390105625109,0.30045134924342476,0.3548415931255928,0.4114709596616357,0.47001664637952545,0.5301485728613646,0.5915311012932298,0.6538246328909867,0.7166870867117556,0.7797752670712351,0.8427461255092847,0.9052579229794401,0.966971297682164,1.0275502437160284,1.0866630054854054,1.1439828925772495,1.1991890196026929,1.251966975291305,1.3020128253066707,1.3490378009978539,1.392770881771141,1.432960498730958,1.4693762250706686,1.5018102751824898,1.5300787172379215,1.5540224351648688,1.573507867573297,1.5884275417197982,1.5987004197084826,1.6042720732791667,1.605114702534987,1.6012270130133393,1.5926339646041843,1.57938640496607,1.5615605992805983,1.5392576674185143,1.512602938863217,1.4817452350483802,1.4468560881138424,1.4081289044662262,1.3657780809462683,1.3200380808521002,1.2711624765450888,1.2194229648710724,1.1651080638800198,1.108521437496377,1.049980074018656,0.9898124058847955,0.9283563527495573,0.8659572978495065,0.8029660242352613,0.7397366319259252,0.6766244531765689,0.6139839813962882,0.5521668276385903,0.4915197169908142,0.43238253571214236,0.3750864386032217,0.31995202482653334,0.2672875892290438,0.21738745514163613,0.1705303936381671,0.12697813332511018,0.08697396389619523,0.050741435920276676,0.018483158630521,-0.009620303155083734,-0.03341143243220934,-0.052756663703903396,-0.06754718742110831,-0.07769963005909009,-0.08315658056590691,-0.08388695723647986,-0.07988621741172985,-0.07117640856937865,-0.05780605941936089,-0.03984991215216476,-0.017408498706991328,0.00939243489843356,0.0404026510792026,0.07544828401265816,0.11433283698292875,0.15683830629039944,0.20272642374854052,0.25174000937217544,0.3036044255421811,0.35802912370198636,0.4147092744928748,0.47332747215950727,0.5335555040468555,0.595056176058135,0.6574851850432979,0.7204930292338748,0.7837269480263696,0.8468328826380418,0.9094574494113139,0.9712499155489311,1.0318641647456304,1.090960640211012,1.1482082533803262,1.2032862468297378,1.2558860000483147,1.3057127671109954,1.3524873358291525,1.3959475985528131,1.4358500254571631,1.4719710318577062,1.5041082318509698,1.532081571359305,1.5557343344592942,1.5749340176851865,1.5895730678133393,1.5995694794445015,1.6048672495015581,1.6054366865459468,1.6012745735818186,1.5924041837591028,1.5788751491017883,1.5607631830730164,1.5381696584418199,1.5112210425355477,1.4800681925459098,1.444885514302583,1.4058699888613628,1.3632400721423956,1.3172344736277748,1.2681108208637997,1.2161442172270018,1.1616257010772932,1.1048606150244655,1.0461668945736344,0.9858732858893188,0.9243175028236112,0.8618443336903863,0.7988037085344487,0.735548737841847,0.6724337337670652,0.6098122250153459,0.5480349765164553,0.48744802496234185,0.42839074115763914,0.37119392995270334,0.3161779782964072,0.26365106166410424,0.21390741878869055,0.16722570425268346,0.12386742809117758,0.08407549111243337,0.048072824151468914,0.016061138916806408,-0.011780202521847616,-0.03529519321293072,-0.05435205607294171,-0.06884398294397646,-0.07868973376233275,-0.08383409243522463,-0.08424817683739994,-0.07992960116999995,-0.07090248976441665,-0.05721734225860925,-0.03895075091677188,-0.01620497170004739,0.010892648478964153,0.04219038507675851,0.07751298578612417,0.11666265215989999,0.15942014746878586,0.20554602457138282,0.25478196691155425,0.3068522351341112,0.36146521122766223,0.4183150315648603,0.4770832997175919,0.5374408694791378,0.5990496881295659,0.6615646896391402,0.7246357272197937,0.7879095344092126,0.8510317037069058,0.913648671678135,0.9754096994012453,1.0359688371564666,1.0949868623403587,1.1521331797389405,1.207087673503182,1.2595425004422163,1.3092038145798455,1.3557934133073537,1.399050295907485,1.4387321257179182,1.4746165877451356,1.5065026341272727,1.534211610474551,1.5575882567841506,1.5765015773291176,1.5908455746544128,1.6005398435730442,1.6055300218376851,1.6057880949638608,1.601312553495615,1.5921284018293318,1.5782870185414646,1.5598658689967961,1.5369680718407719,1.5097218217978545,1.4782796720030316,1.4428176798810934,1.4035344213534795,1.3606498788910228,1.314404209638695,1.2650564005110951,1.212882817791563,1.158175659359356,1.101241318215322,1.042398666473552,0.9819772694321234,0.9203155397275167,0.8577588419125701,0.7946575580751581,0.7313651253324258,0.6682360561925427,0.6056239528714682,0.5438795266857527,0.48334863361390673,0.4243703370282479,0.36727500844723265,0.31238247694562704,0.2600002375877229,0.21042172891874286,0.16392468916317274,0.12076960033845367,0.08119822900043461,0.04543227179606865,0.013672113412108796,-0.013904296120873337,-0.03714243847821168,-0.05591209285745607,-0.07010806570925249,-0.07965078029309076,-0.08448672275358075,-0.08458874221665999,-0.07995620322301537,-0.07061498964320598,-0.05661736005097537,-0.03804165536331299,-0.01499186038335053,0.012402978299514545,0.04398947479335725,0.07959076272610432,0.11900748559783292,0.162018913117495,0.20838417727301392,0.2578436212130574,0.31012025338679877,0.36492129879850377,0.4219398386895371,0.4808565294650656,0.5413413912386921,0.6030556559780165,0.6656536649002865,0.7287848044909995,0.7920954703019226,0.8552310475291768,0.9178378972777312,0.97956533738685,1.040067606721086,1.0990058019240514,1.1560497757862749,1.2108799865932458,1.263189288094418,1.31268465006621,1.359088799830861,1.4021417755355936,1.4416023824907014,1.4772495444080451,1.5088835419700786,1.5363271317904414,1.5594265394970603,1.5780523213736355,1.5921000897315358,1.601491097947316,1.6061726818870257,1.6061185552428345,1.601328957125708,1.5918306510853926,1.5776767755611267,1.5589465465986723,1.535744814496769,1.5082014768643044,1.476470751373844,1.440730312283052,1.4011802955587116,1.3580421781740963,1.3115575378553044,1.2619867002219345,1.2096072808982425,1.1547126307593873,1.097610193019994,1.0386197813661688,0.9780717887745565,0.9163053370502025,0.8536663774473806,0.7905057530115226,0.7271772334949558,0.6640355338530292,0.6014343274190976,0.5397242648870464,0.479251010197484,0.42035330432923934,0.3633610678417506,0.30859355279681955,0.2563575544120082,0.20694569246336883,0.1606347720646887,0.11768423300604484,0.07833469633837341,0.04280661634638031,0.011299045461788119,-0.016011480963552652,-0.03897193377637793,-0.05745364749063182,-0.07135304130127747,-0.08059219960292098,-0.08511930875973449,-0.08490894767827767,-0.07996223055370641,-0.07030680098779865,-0.055996677509753616,-0.03711195136302318,-0.013758338248962918,0.013933413463910003,0.04580825475222028,0.0816877040733351,0.1213708467635001,0.16463546010238736,0.21123925774409122,0.26092124654579407,0.313403188195746,0.36839115745509793,0.4255771882867623,0.48464099865226445,0.5452517843165826,0.6070700716144475,0.6697496188011595,0.7329393553386055,0.796285348254737,0.8594327845627413,0.9220279586361975,0.9837202534085673,1.0441641042997067,1.1030209348689044,1.1599610533519176,1.214665499458603,1.2668278310861565,1.316155840939291,1.3623731934413514,1.4052209727664755,1.4444591333207766,1.4798678445467652,1.5112487225169782,1.538425941416935,1.5612472186900583,1.579584668324867,1.5933355175032071,1.6024226825935382,1.606795201261147,1.6064285182729552,1.601324623394103,1.5915120406019192,1.577045668675674,1.5580064740529984,1.5345010376713533,1.506660958330812,1.474642115918111,1.4386237986169441,1.3988076989913085,1.3554167845633283,1.3086940492099948,1.2589011523708953,1.2063169536875775,1.1512359512808599,1.0939666324124182,1.0348297457677473,0.9741565050367472,0.9122867338532287,0.8495669624830368,0.7863484869211178],\"type\":\"scatter\"}],                        {\"template\":{\"data\":{\"barpolar\":[{\"marker\":{\"line\":{\"color\":\"rgb(17,17,17)\",\"width\":0.5},\"pattern\":{\"fillmode\":\"overlay\",\"size\":10,\"solidity\":0.2}},\"type\":\"barpolar\"}],\"bar\":[{\"error_x\":{\"color\":\"#f2f5fa\"},\"error_y\":{\"color\":\"#f2f5fa\"},\"marker\":{\"line\":{\"color\":\"rgb(17,17,17)\",\"width\":0.5},\"pattern\":{\"fillmode\":\"overlay\",\"size\":10,\"solidity\":0.2}},\"type\":\"bar\"}],\"carpet\":[{\"aaxis\":{\"endlinecolor\":\"#A2B1C6\",\"gridcolor\":\"#506784\",\"linecolor\":\"#506784\",\"minorgridcolor\":\"#506784\",\"startlinecolor\":\"#A2B1C6\"},\"baxis\":{\"endlinecolor\":\"#A2B1C6\",\"gridcolor\":\"#506784\",\"linecolor\":\"#506784\",\"minorgridcolor\":\"#506784\",\"startlinecolor\":\"#A2B1C6\"},\"type\":\"carpet\"}],\"choropleth\":[{\"colorbar\":{\"outlinewidth\":0,\"ticks\":\"\"},\"type\":\"choropleth\"}],\"contourcarpet\":[{\"colorbar\":{\"outlinewidth\":0,\"ticks\":\"\"},\"type\":\"contourcarpet\"}],\"contour\":[{\"colorbar\":{\"outlinewidth\":0,\"ticks\":\"\"},\"colorscale\":[[0.0,\"#0d0887\"],[0.1111111111111111,\"#46039f\"],[0.2222222222222222,\"#7201a8\"],[0.3333333333333333,\"#9c179e\"],[0.4444444444444444,\"#bd3786\"],[0.5555555555555556,\"#d8576b\"],[0.6666666666666666,\"#ed7953\"],[0.7777777777777778,\"#fb9f3a\"],[0.8888888888888888,\"#fdca26\"],[1.0,\"#f0f921\"]],\"type\":\"contour\"}],\"heatmapgl\":[{\"colorbar\":{\"outlinewidth\":0,\"ticks\":\"\"},\"colorscale\":[[0.0,\"#0d0887\"],[0.1111111111111111,\"#46039f\"],[0.2222222222222222,\"#7201a8\"],[0.3333333333333333,\"#9c179e\"],[0.4444444444444444,\"#bd3786\"],[0.5555555555555556,\"#d8576b\"],[0.6666666666666666,\"#ed7953\"],[0.7777777777777778,\"#fb9f3a\"],[0.8888888888888888,\"#fdca26\"],[1.0,\"#f0f921\"]],\"type\":\"heatmapgl\"}],\"heatmap\":[{\"colorbar\":{\"outlinewidth\":0,\"ticks\":\"\"},\"colorscale\":[[0.0,\"#0d0887\"],[0.1111111111111111,\"#46039f\"],[0.2222222222222222,\"#7201a8\"],[0.3333333333333333,\"#9c179e\"],[0.4444444444444444,\"#bd3786\"],[0.5555555555555556,\"#d8576b\"],[0.6666666666666666,\"#ed7953\"],[0.7777777777777778,\"#fb9f3a\"],[0.8888888888888888,\"#fdca26\"],[1.0,\"#f0f921\"]],\"type\":\"heatmap\"}],\"histogram2dcontour\":[{\"colorbar\":{\"outlinewidth\":0,\"ticks\":\"\"},\"colorscale\":[[0.0,\"#0d0887\"],[0.1111111111111111,\"#46039f\"],[0.2222222222222222,\"#7201a8\"],[0.3333333333333333,\"#9c179e\"],[0.4444444444444444,\"#bd3786\"],[0.5555555555555556,\"#d8576b\"],[0.6666666666666666,\"#ed7953\"],[0.7777777777777778,\"#fb9f3a\"],[0.8888888888888888,\"#fdca26\"],[1.0,\"#f0f921\"]],\"type\":\"histogram2dcontour\"}],\"histogram2d\":[{\"colorbar\":{\"outlinewidth\":0,\"ticks\":\"\"},\"colorscale\":[[0.0,\"#0d0887\"],[0.1111111111111111,\"#46039f\"],[0.2222222222222222,\"#7201a8\"],[0.3333333333333333,\"#9c179e\"],[0.4444444444444444,\"#bd3786\"],[0.5555555555555556,\"#d8576b\"],[0.6666666666666666,\"#ed7953\"],[0.7777777777777778,\"#fb9f3a\"],[0.8888888888888888,\"#fdca26\"],[1.0,\"#f0f921\"]],\"type\":\"histogram2d\"}],\"histogram\":[{\"marker\":{\"pattern\":{\"fillmode\":\"overlay\",\"size\":10,\"solidity\":0.2}},\"type\":\"histogram\"}],\"mesh3d\":[{\"colorbar\":{\"outlinewidth\":0,\"ticks\":\"\"},\"type\":\"mesh3d\"}],\"parcoords\":[{\"line\":{\"colorbar\":{\"outlinewidth\":0,\"ticks\":\"\"}},\"type\":\"parcoords\"}],\"pie\":[{\"automargin\":true,\"type\":\"pie\"}],\"scatter3d\":[{\"line\":{\"colorbar\":{\"outlinewidth\":0,\"ticks\":\"\"}},\"marker\":{\"colorbar\":{\"outlinewidth\":0,\"ticks\":\"\"}},\"type\":\"scatter3d\"}],\"scattercarpet\":[{\"marker\":{\"colorbar\":{\"outlinewidth\":0,\"ticks\":\"\"}},\"type\":\"scattercarpet\"}],\"scattergeo\":[{\"marker\":{\"colorbar\":{\"outlinewidth\":0,\"ticks\":\"\"}},\"type\":\"scattergeo\"}],\"scattergl\":[{\"marker\":{\"line\":{\"color\":\"#283442\"}},\"type\":\"scattergl\"}],\"scattermapbox\":[{\"marker\":{\"colorbar\":{\"outlinewidth\":0,\"ticks\":\"\"}},\"type\":\"scattermapbox\"}],\"scatterpolargl\":[{\"marker\":{\"colorbar\":{\"outlinewidth\":0,\"ticks\":\"\"}},\"type\":\"scatterpolargl\"}],\"scatterpolar\":[{\"marker\":{\"colorbar\":{\"outlinewidth\":0,\"ticks\":\"\"}},\"type\":\"scatterpolar\"}],\"scatter\":[{\"marker\":{\"line\":{\"color\":\"#283442\"}},\"type\":\"scatter\"}],\"scatterternary\":[{\"marker\":{\"colorbar\":{\"outlinewidth\":0,\"ticks\":\"\"}},\"type\":\"scatterternary\"}],\"surface\":[{\"colorbar\":{\"outlinewidth\":0,\"ticks\":\"\"},\"colorscale\":[[0.0,\"#0d0887\"],[0.1111111111111111,\"#46039f\"],[0.2222222222222222,\"#7201a8\"],[0.3333333333333333,\"#9c179e\"],[0.4444444444444444,\"#bd3786\"],[0.5555555555555556,\"#d8576b\"],[0.6666666666666666,\"#ed7953\"],[0.7777777777777778,\"#fb9f3a\"],[0.8888888888888888,\"#fdca26\"],[1.0,\"#f0f921\"]],\"type\":\"surface\"}],\"table\":[{\"cells\":{\"fill\":{\"color\":\"#506784\"},\"line\":{\"color\":\"rgb(17,17,17)\"}},\"header\":{\"fill\":{\"color\":\"#2a3f5f\"},\"line\":{\"color\":\"rgb(17,17,17)\"}},\"type\":\"table\"}]},\"layout\":{\"annotationdefaults\":{\"arrowcolor\":\"#f2f5fa\",\"arrowhead\":0,\"arrowwidth\":1},\"autotypenumbers\":\"strict\",\"coloraxis\":{\"colorbar\":{\"outlinewidth\":0,\"ticks\":\"\"}},\"colorscale\":{\"diverging\":[[0,\"#8e0152\"],[0.1,\"#c51b7d\"],[0.2,\"#de77ae\"],[0.3,\"#f1b6da\"],[0.4,\"#fde0ef\"],[0.5,\"#f7f7f7\"],[0.6,\"#e6f5d0\"],[0.7,\"#b8e186\"],[0.8,\"#7fbc41\"],[0.9,\"#4d9221\"],[1,\"#276419\"]],\"sequential\":[[0.0,\"#0d0887\"],[0.1111111111111111,\"#46039f\"],[0.2222222222222222,\"#7201a8\"],[0.3333333333333333,\"#9c179e\"],[0.4444444444444444,\"#bd3786\"],[0.5555555555555556,\"#d8576b\"],[0.6666666666666666,\"#ed7953\"],[0.7777777777777778,\"#fb9f3a\"],[0.8888888888888888,\"#fdca26\"],[1.0,\"#f0f921\"]],\"sequentialminus\":[[0.0,\"#0d0887\"],[0.1111111111111111,\"#46039f\"],[0.2222222222222222,\"#7201a8\"],[0.3333333333333333,\"#9c179e\"],[0.4444444444444444,\"#bd3786\"],[0.5555555555555556,\"#d8576b\"],[0.6666666666666666,\"#ed7953\"],[0.7777777777777778,\"#fb9f3a\"],[0.8888888888888888,\"#fdca26\"],[1.0,\"#f0f921\"]]},\"colorway\":[\"#636efa\",\"#EF553B\",\"#00cc96\",\"#ab63fa\",\"#FFA15A\",\"#19d3f3\",\"#FF6692\",\"#B6E880\",\"#FF97FF\",\"#FECB52\"],\"font\":{\"color\":\"#f2f5fa\"},\"geo\":{\"bgcolor\":\"rgb(17,17,17)\",\"lakecolor\":\"rgb(17,17,17)\",\"landcolor\":\"rgb(17,17,17)\",\"showlakes\":true,\"showland\":true,\"subunitcolor\":\"#506784\"},\"hoverlabel\":{\"align\":\"left\"},\"hovermode\":\"closest\",\"mapbox\":{\"style\":\"dark\"},\"paper_bgcolor\":\"rgb(17,17,17)\",\"plot_bgcolor\":\"rgb(17,17,17)\",\"polar\":{\"angularaxis\":{\"gridcolor\":\"#506784\",\"linecolor\":\"#506784\",\"ticks\":\"\"},\"bgcolor\":\"rgb(17,17,17)\",\"radialaxis\":{\"gridcolor\":\"#506784\",\"linecolor\":\"#506784\",\"ticks\":\"\"}},\"scene\":{\"xaxis\":{\"backgroundcolor\":\"rgb(17,17,17)\",\"gridcolor\":\"#506784\",\"gridwidth\":2,\"linecolor\":\"#506784\",\"showbackground\":true,\"ticks\":\"\",\"zerolinecolor\":\"#C8D4E3\"},\"yaxis\":{\"backgroundcolor\":\"rgb(17,17,17)\",\"gridcolor\":\"#506784\",\"gridwidth\":2,\"linecolor\":\"#506784\",\"showbackground\":true,\"ticks\":\"\",\"zerolinecolor\":\"#C8D4E3\"},\"zaxis\":{\"backgroundcolor\":\"rgb(17,17,17)\",\"gridcolor\":\"#506784\",\"gridwidth\":2,\"linecolor\":\"#506784\",\"showbackground\":true,\"ticks\":\"\",\"zerolinecolor\":\"#C8D4E3\"}},\"shapedefaults\":{\"line\":{\"color\":\"#f2f5fa\"}},\"sliderdefaults\":{\"bgcolor\":\"#C8D4E3\",\"bordercolor\":\"rgb(17,17,17)\",\"borderwidth\":1,\"tickwidth\":0},\"ternary\":{\"aaxis\":{\"gridcolor\":\"#506784\",\"linecolor\":\"#506784\",\"ticks\":\"\"},\"baxis\":{\"gridcolor\":\"#506784\",\"linecolor\":\"#506784\",\"ticks\":\"\"},\"bgcolor\":\"rgb(17,17,17)\",\"caxis\":{\"gridcolor\":\"#506784\",\"linecolor\":\"#506784\",\"ticks\":\"\"}},\"title\":{\"x\":0.05},\"updatemenudefaults\":{\"bgcolor\":\"#506784\",\"borderwidth\":0},\"xaxis\":{\"automargin\":true,\"gridcolor\":\"#283442\",\"linecolor\":\"#506784\",\"ticks\":\"\",\"title\":{\"standoff\":15},\"zerolinecolor\":\"#283442\",\"zerolinewidth\":2},\"yaxis\":{\"automargin\":true,\"gridcolor\":\"#283442\",\"linecolor\":\"#506784\",\"ticks\":\"\",\"title\":{\"standoff\":15},\"zerolinecolor\":\"#283442\",\"zerolinewidth\":2}}},\"xaxis\":{\"anchor\":\"y\",\"domain\":[0.0,1.0]},\"yaxis\":{\"anchor\":\"x\",\"domain\":[0.0,1.0]},\"width\":600,\"height\":400},                        {\"responsive\": true}                    ).then(function(){\n",
              "                            \n",
              "var gd = document.getElementById('4fe1571d-ac40-47e3-8d0e-667c259ccc01');\n",
              "var x = new MutationObserver(function (mutations, observer) {{\n",
              "        var display = window.getComputedStyle(gd).display;\n",
              "        if (!display || display === 'none') {{\n",
              "            console.log([gd, 'removed!']);\n",
              "            Plotly.purge(gd);\n",
              "            observer.disconnect();\n",
              "        }}\n",
              "}});\n",
              "\n",
              "// Listen for the removal of the full notebook cells\n",
              "var notebookContainer = gd.closest('#notebook-container');\n",
              "if (notebookContainer) {{\n",
              "    x.observe(notebookContainer, {childList: true});\n",
              "}}\n",
              "\n",
              "// Listen for the clearing of the current output cell\n",
              "var outputEl = gd.closest('.output');\n",
              "if (outputEl) {{\n",
              "    x.observe(outputEl, {childList: true});\n",
              "}}\n",
              "\n",
              "                        })                };                            </script>        </div>\n",
              "</body>\n",
              "</html>"
            ]
          },
          "metadata": {}
        }
      ]
    },
    {
      "cell_type": "code",
      "source": [
        "Ku = 2.78\n",
        "Tu = 19.5 - 12.4"
      ],
      "metadata": {
        "id": "eqHTqkvMb-pZ"
      },
      "execution_count": 21,
      "outputs": []
    },
    {
      "cell_type": "code",
      "source": [],
      "metadata": {
        "id": "ZzipEpaMcz40"
      },
      "execution_count": 21,
      "outputs": []
    }
  ]
}