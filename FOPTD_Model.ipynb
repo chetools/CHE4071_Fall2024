{
  "nbformat": 4,
  "nbformat_minor": 0,
  "metadata": {
    "colab": {
      "provenance": [],
      "authorship_tag": "ABX9TyNnHiynrDI/wYijbVQkuUIG",
      "include_colab_link": true
    },
    "kernelspec": {
      "name": "python3",
      "display_name": "Python 3"
    },
    "language_info": {
      "name": "python"
    }
  },
  "cells": [
    {
      "cell_type": "markdown",
      "metadata": {
        "id": "view-in-github",
        "colab_type": "text"
      },
      "source": [
        "<a href=\"https://colab.research.google.com/github/chetools/CHE4071_Fall2024/blob/main/FOPTD_Model.ipynb\" target=\"_parent\"><img src=\"https://colab.research.google.com/assets/colab-badge.svg\" alt=\"Open In Colab\"/></a>"
      ]
    },
    {
      "cell_type": "code",
      "execution_count": 1,
      "metadata": {
        "colab": {
          "base_uri": "https://localhost:8080/"
        },
        "id": "2IVvN85dWumt",
        "outputId": "d59e97c9-8c06-4880-bd24-5eb9df73f27f"
      },
      "outputs": [
        {
          "output_type": "stream",
          "name": "stdout",
          "text": [
            "Collecting importnb\n",
            "  Downloading importnb-2023.11.1-py3-none-any.whl.metadata (9.4 kB)\n",
            "Downloading importnb-2023.11.1-py3-none-any.whl (45 kB)\n",
            "\u001b[?25l   \u001b[90m━━━━━━━━━━━━━━━━━━━━━━━━━━━━━━━━━━━━━━━━\u001b[0m \u001b[32m0.0/46.0 kB\u001b[0m \u001b[31m?\u001b[0m eta \u001b[36m-:--:--\u001b[0m\r\u001b[2K   \u001b[90m━━━━━━━━━━━━━━━━━━━━━━━━━━━━━━━━━━━━━━━━\u001b[0m \u001b[32m46.0/46.0 kB\u001b[0m \u001b[31m1.7 MB/s\u001b[0m eta \u001b[36m0:00:00\u001b[0m\n",
            "\u001b[?25hInstalling collected packages: importnb\n",
            "Successfully installed importnb-2023.11.1\n"
          ]
        }
      ],
      "source": [
        "!wget -N -q https://raw.githubusercontent.com/chetools/chetools/main/tools/che5.ipynb -O che5.ipynb\n",
        "!pip install importnb"
      ]
    },
    {
      "cell_type": "code",
      "source": [
        "from importnb import Notebook\n",
        "with Notebook():\n",
        "    from che5 import sim, pid, TF1, TF2, shift\n",
        "\n",
        "import numpy as np\n",
        "import jax\n",
        "import jax.numpy as jnp\n",
        "jax.config.update(\"jax_enable_x64\", True)\n",
        "\n",
        "from plotly.subplots import make_subplots\n",
        "\n",
        "from sympy.abc import s\n",
        "from sympy import exp, Symbol, simplify\n",
        "import scipy as sp\n",
        "import scipy.signal as sig"
      ],
      "metadata": {
        "id": "W0bo2gMdWwAr"
      },
      "execution_count": 2,
      "outputs": []
    },
    {
      "cell_type": "code",
      "source": [
        "import pandas as pd\n",
        "from scipy.optimize import minimize"
      ],
      "metadata": {
        "id": "4POPZTxRVnB0"
      },
      "execution_count": 3,
      "outputs": []
    },
    {
      "cell_type": "code",
      "source": [
        "K=1.1\n",
        "tau=1.5\n",
        "TF = K/((tau*s + 1))**4\n",
        "A = 2.5  # amplitude of step input"
      ],
      "metadata": {
        "id": "jtudOqQNgY2S"
      },
      "execution_count": 4,
      "outputs": []
    },
    {
      "cell_type": "code",
      "source": [
        "t,y=sim(TF, lambda t: A, N=50, dt=0.4)\n",
        "y = np.random.normal(loc = y, scale = 0.03)\n",
        "y = np.round(y,2)"
      ],
      "metadata": {
        "id": "9qVIFqzbUEoF"
      },
      "execution_count": 5,
      "outputs": []
    },
    {
      "cell_type": "code",
      "source": [
        "fig = make_subplots()\n",
        "fig.add_scatter(x=t, y=y, mode='markers')\n",
        "fig.update_layout(width=600, height=400, template='plotly_dark')"
      ],
      "metadata": {
        "colab": {
          "base_uri": "https://localhost:8080/",
          "height": 417
        },
        "id": "8K2MXhb5UW5N",
        "outputId": "06b283d6-180a-41f1-8df6-efc2246a4c1a"
      },
      "execution_count": 6,
      "outputs": [
        {
          "output_type": "display_data",
          "data": {
            "text/html": [
              "<html>\n",
              "<head><meta charset=\"utf-8\" /></head>\n",
              "<body>\n",
              "    <div>            <script src=\"https://cdnjs.cloudflare.com/ajax/libs/mathjax/2.7.5/MathJax.js?config=TeX-AMS-MML_SVG\"></script><script type=\"text/javascript\">if (window.MathJax && window.MathJax.Hub && window.MathJax.Hub.Config) {window.MathJax.Hub.Config({SVG: {font: \"STIX-Web\"}});}</script>                <script type=\"text/javascript\">window.PlotlyConfig = {MathJaxConfig: 'local'};</script>\n",
              "        <script charset=\"utf-8\" src=\"https://cdn.plot.ly/plotly-2.35.2.min.js\"></script>                <div id=\"a53fa25d-9e08-42f8-a405-7c0474a00f0d\" class=\"plotly-graph-div\" style=\"height:400px; width:600px;\"></div>            <script type=\"text/javascript\">                                    window.PLOTLYENV=window.PLOTLYENV || {};                                    if (document.getElementById(\"a53fa25d-9e08-42f8-a405-7c0474a00f0d\")) {                    Plotly.newPlot(                        \"a53fa25d-9e08-42f8-a405-7c0474a00f0d\",                        [{\"mode\":\"markers\",\"x\":[0.0,0.4,0.8,1.2000000000000002,1.6,2.0,2.4000000000000004,2.8000000000000003,3.2,3.6,4.0,4.4,4.800000000000001,5.2,5.6000000000000005,6.0,6.4,6.800000000000001,7.2,7.6000000000000005,8.0,8.4,8.8,9.200000000000001,9.600000000000001,10.0,10.4,10.8,11.200000000000001,11.600000000000001,12.0,12.4,12.8,13.200000000000001,13.600000000000001,14.0,14.4,14.8,15.200000000000001,15.600000000000001,16.0,16.400000000000002,16.8,17.2,17.6,18.0,18.400000000000002,18.8,19.200000000000003,19.6],\"y\":[0.01,0.02,-0.0,0.02,0.09,0.11,0.23,0.3,0.44,0.63,0.81,0.91,1.1,1.23,1.35,1.59,1.65,1.84,1.95,2.07,2.14,2.24,2.26,2.33,2.42,2.49,2.51,2.52,2.53,2.58,2.59,2.65,2.65,2.72,2.71,2.74,2.75,2.71,2.74,2.71,2.73,2.74,2.78,2.75,2.74,2.73,2.78,2.78,2.67,2.75],\"type\":\"scatter\"}],                        {\"template\":{\"data\":{\"barpolar\":[{\"marker\":{\"line\":{\"color\":\"rgb(17,17,17)\",\"width\":0.5},\"pattern\":{\"fillmode\":\"overlay\",\"size\":10,\"solidity\":0.2}},\"type\":\"barpolar\"}],\"bar\":[{\"error_x\":{\"color\":\"#f2f5fa\"},\"error_y\":{\"color\":\"#f2f5fa\"},\"marker\":{\"line\":{\"color\":\"rgb(17,17,17)\",\"width\":0.5},\"pattern\":{\"fillmode\":\"overlay\",\"size\":10,\"solidity\":0.2}},\"type\":\"bar\"}],\"carpet\":[{\"aaxis\":{\"endlinecolor\":\"#A2B1C6\",\"gridcolor\":\"#506784\",\"linecolor\":\"#506784\",\"minorgridcolor\":\"#506784\",\"startlinecolor\":\"#A2B1C6\"},\"baxis\":{\"endlinecolor\":\"#A2B1C6\",\"gridcolor\":\"#506784\",\"linecolor\":\"#506784\",\"minorgridcolor\":\"#506784\",\"startlinecolor\":\"#A2B1C6\"},\"type\":\"carpet\"}],\"choropleth\":[{\"colorbar\":{\"outlinewidth\":0,\"ticks\":\"\"},\"type\":\"choropleth\"}],\"contourcarpet\":[{\"colorbar\":{\"outlinewidth\":0,\"ticks\":\"\"},\"type\":\"contourcarpet\"}],\"contour\":[{\"colorbar\":{\"outlinewidth\":0,\"ticks\":\"\"},\"colorscale\":[[0.0,\"#0d0887\"],[0.1111111111111111,\"#46039f\"],[0.2222222222222222,\"#7201a8\"],[0.3333333333333333,\"#9c179e\"],[0.4444444444444444,\"#bd3786\"],[0.5555555555555556,\"#d8576b\"],[0.6666666666666666,\"#ed7953\"],[0.7777777777777778,\"#fb9f3a\"],[0.8888888888888888,\"#fdca26\"],[1.0,\"#f0f921\"]],\"type\":\"contour\"}],\"heatmapgl\":[{\"colorbar\":{\"outlinewidth\":0,\"ticks\":\"\"},\"colorscale\":[[0.0,\"#0d0887\"],[0.1111111111111111,\"#46039f\"],[0.2222222222222222,\"#7201a8\"],[0.3333333333333333,\"#9c179e\"],[0.4444444444444444,\"#bd3786\"],[0.5555555555555556,\"#d8576b\"],[0.6666666666666666,\"#ed7953\"],[0.7777777777777778,\"#fb9f3a\"],[0.8888888888888888,\"#fdca26\"],[1.0,\"#f0f921\"]],\"type\":\"heatmapgl\"}],\"heatmap\":[{\"colorbar\":{\"outlinewidth\":0,\"ticks\":\"\"},\"colorscale\":[[0.0,\"#0d0887\"],[0.1111111111111111,\"#46039f\"],[0.2222222222222222,\"#7201a8\"],[0.3333333333333333,\"#9c179e\"],[0.4444444444444444,\"#bd3786\"],[0.5555555555555556,\"#d8576b\"],[0.6666666666666666,\"#ed7953\"],[0.7777777777777778,\"#fb9f3a\"],[0.8888888888888888,\"#fdca26\"],[1.0,\"#f0f921\"]],\"type\":\"heatmap\"}],\"histogram2dcontour\":[{\"colorbar\":{\"outlinewidth\":0,\"ticks\":\"\"},\"colorscale\":[[0.0,\"#0d0887\"],[0.1111111111111111,\"#46039f\"],[0.2222222222222222,\"#7201a8\"],[0.3333333333333333,\"#9c179e\"],[0.4444444444444444,\"#bd3786\"],[0.5555555555555556,\"#d8576b\"],[0.6666666666666666,\"#ed7953\"],[0.7777777777777778,\"#fb9f3a\"],[0.8888888888888888,\"#fdca26\"],[1.0,\"#f0f921\"]],\"type\":\"histogram2dcontour\"}],\"histogram2d\":[{\"colorbar\":{\"outlinewidth\":0,\"ticks\":\"\"},\"colorscale\":[[0.0,\"#0d0887\"],[0.1111111111111111,\"#46039f\"],[0.2222222222222222,\"#7201a8\"],[0.3333333333333333,\"#9c179e\"],[0.4444444444444444,\"#bd3786\"],[0.5555555555555556,\"#d8576b\"],[0.6666666666666666,\"#ed7953\"],[0.7777777777777778,\"#fb9f3a\"],[0.8888888888888888,\"#fdca26\"],[1.0,\"#f0f921\"]],\"type\":\"histogram2d\"}],\"histogram\":[{\"marker\":{\"pattern\":{\"fillmode\":\"overlay\",\"size\":10,\"solidity\":0.2}},\"type\":\"histogram\"}],\"mesh3d\":[{\"colorbar\":{\"outlinewidth\":0,\"ticks\":\"\"},\"type\":\"mesh3d\"}],\"parcoords\":[{\"line\":{\"colorbar\":{\"outlinewidth\":0,\"ticks\":\"\"}},\"type\":\"parcoords\"}],\"pie\":[{\"automargin\":true,\"type\":\"pie\"}],\"scatter3d\":[{\"line\":{\"colorbar\":{\"outlinewidth\":0,\"ticks\":\"\"}},\"marker\":{\"colorbar\":{\"outlinewidth\":0,\"ticks\":\"\"}},\"type\":\"scatter3d\"}],\"scattercarpet\":[{\"marker\":{\"colorbar\":{\"outlinewidth\":0,\"ticks\":\"\"}},\"type\":\"scattercarpet\"}],\"scattergeo\":[{\"marker\":{\"colorbar\":{\"outlinewidth\":0,\"ticks\":\"\"}},\"type\":\"scattergeo\"}],\"scattergl\":[{\"marker\":{\"line\":{\"color\":\"#283442\"}},\"type\":\"scattergl\"}],\"scattermapbox\":[{\"marker\":{\"colorbar\":{\"outlinewidth\":0,\"ticks\":\"\"}},\"type\":\"scattermapbox\"}],\"scatterpolargl\":[{\"marker\":{\"colorbar\":{\"outlinewidth\":0,\"ticks\":\"\"}},\"type\":\"scatterpolargl\"}],\"scatterpolar\":[{\"marker\":{\"colorbar\":{\"outlinewidth\":0,\"ticks\":\"\"}},\"type\":\"scatterpolar\"}],\"scatter\":[{\"marker\":{\"line\":{\"color\":\"#283442\"}},\"type\":\"scatter\"}],\"scatterternary\":[{\"marker\":{\"colorbar\":{\"outlinewidth\":0,\"ticks\":\"\"}},\"type\":\"scatterternary\"}],\"surface\":[{\"colorbar\":{\"outlinewidth\":0,\"ticks\":\"\"},\"colorscale\":[[0.0,\"#0d0887\"],[0.1111111111111111,\"#46039f\"],[0.2222222222222222,\"#7201a8\"],[0.3333333333333333,\"#9c179e\"],[0.4444444444444444,\"#bd3786\"],[0.5555555555555556,\"#d8576b\"],[0.6666666666666666,\"#ed7953\"],[0.7777777777777778,\"#fb9f3a\"],[0.8888888888888888,\"#fdca26\"],[1.0,\"#f0f921\"]],\"type\":\"surface\"}],\"table\":[{\"cells\":{\"fill\":{\"color\":\"#506784\"},\"line\":{\"color\":\"rgb(17,17,17)\"}},\"header\":{\"fill\":{\"color\":\"#2a3f5f\"},\"line\":{\"color\":\"rgb(17,17,17)\"}},\"type\":\"table\"}]},\"layout\":{\"annotationdefaults\":{\"arrowcolor\":\"#f2f5fa\",\"arrowhead\":0,\"arrowwidth\":1},\"autotypenumbers\":\"strict\",\"coloraxis\":{\"colorbar\":{\"outlinewidth\":0,\"ticks\":\"\"}},\"colorscale\":{\"diverging\":[[0,\"#8e0152\"],[0.1,\"#c51b7d\"],[0.2,\"#de77ae\"],[0.3,\"#f1b6da\"],[0.4,\"#fde0ef\"],[0.5,\"#f7f7f7\"],[0.6,\"#e6f5d0\"],[0.7,\"#b8e186\"],[0.8,\"#7fbc41\"],[0.9,\"#4d9221\"],[1,\"#276419\"]],\"sequential\":[[0.0,\"#0d0887\"],[0.1111111111111111,\"#46039f\"],[0.2222222222222222,\"#7201a8\"],[0.3333333333333333,\"#9c179e\"],[0.4444444444444444,\"#bd3786\"],[0.5555555555555556,\"#d8576b\"],[0.6666666666666666,\"#ed7953\"],[0.7777777777777778,\"#fb9f3a\"],[0.8888888888888888,\"#fdca26\"],[1.0,\"#f0f921\"]],\"sequentialminus\":[[0.0,\"#0d0887\"],[0.1111111111111111,\"#46039f\"],[0.2222222222222222,\"#7201a8\"],[0.3333333333333333,\"#9c179e\"],[0.4444444444444444,\"#bd3786\"],[0.5555555555555556,\"#d8576b\"],[0.6666666666666666,\"#ed7953\"],[0.7777777777777778,\"#fb9f3a\"],[0.8888888888888888,\"#fdca26\"],[1.0,\"#f0f921\"]]},\"colorway\":[\"#636efa\",\"#EF553B\",\"#00cc96\",\"#ab63fa\",\"#FFA15A\",\"#19d3f3\",\"#FF6692\",\"#B6E880\",\"#FF97FF\",\"#FECB52\"],\"font\":{\"color\":\"#f2f5fa\"},\"geo\":{\"bgcolor\":\"rgb(17,17,17)\",\"lakecolor\":\"rgb(17,17,17)\",\"landcolor\":\"rgb(17,17,17)\",\"showlakes\":true,\"showland\":true,\"subunitcolor\":\"#506784\"},\"hoverlabel\":{\"align\":\"left\"},\"hovermode\":\"closest\",\"mapbox\":{\"style\":\"dark\"},\"paper_bgcolor\":\"rgb(17,17,17)\",\"plot_bgcolor\":\"rgb(17,17,17)\",\"polar\":{\"angularaxis\":{\"gridcolor\":\"#506784\",\"linecolor\":\"#506784\",\"ticks\":\"\"},\"bgcolor\":\"rgb(17,17,17)\",\"radialaxis\":{\"gridcolor\":\"#506784\",\"linecolor\":\"#506784\",\"ticks\":\"\"}},\"scene\":{\"xaxis\":{\"backgroundcolor\":\"rgb(17,17,17)\",\"gridcolor\":\"#506784\",\"gridwidth\":2,\"linecolor\":\"#506784\",\"showbackground\":true,\"ticks\":\"\",\"zerolinecolor\":\"#C8D4E3\"},\"yaxis\":{\"backgroundcolor\":\"rgb(17,17,17)\",\"gridcolor\":\"#506784\",\"gridwidth\":2,\"linecolor\":\"#506784\",\"showbackground\":true,\"ticks\":\"\",\"zerolinecolor\":\"#C8D4E3\"},\"zaxis\":{\"backgroundcolor\":\"rgb(17,17,17)\",\"gridcolor\":\"#506784\",\"gridwidth\":2,\"linecolor\":\"#506784\",\"showbackground\":true,\"ticks\":\"\",\"zerolinecolor\":\"#C8D4E3\"}},\"shapedefaults\":{\"line\":{\"color\":\"#f2f5fa\"}},\"sliderdefaults\":{\"bgcolor\":\"#C8D4E3\",\"bordercolor\":\"rgb(17,17,17)\",\"borderwidth\":1,\"tickwidth\":0},\"ternary\":{\"aaxis\":{\"gridcolor\":\"#506784\",\"linecolor\":\"#506784\",\"ticks\":\"\"},\"baxis\":{\"gridcolor\":\"#506784\",\"linecolor\":\"#506784\",\"ticks\":\"\"},\"bgcolor\":\"rgb(17,17,17)\",\"caxis\":{\"gridcolor\":\"#506784\",\"linecolor\":\"#506784\",\"ticks\":\"\"}},\"title\":{\"x\":0.05},\"updatemenudefaults\":{\"bgcolor\":\"#506784\",\"borderwidth\":0},\"xaxis\":{\"automargin\":true,\"gridcolor\":\"#283442\",\"linecolor\":\"#506784\",\"ticks\":\"\",\"title\":{\"standoff\":15},\"zerolinecolor\":\"#283442\",\"zerolinewidth\":2},\"yaxis\":{\"automargin\":true,\"gridcolor\":\"#283442\",\"linecolor\":\"#506784\",\"ticks\":\"\",\"title\":{\"standoff\":15},\"zerolinecolor\":\"#283442\",\"zerolinewidth\":2}}},\"xaxis\":{\"anchor\":\"y\",\"domain\":[0.0,1.0]},\"yaxis\":{\"anchor\":\"x\",\"domain\":[0.0,1.0]},\"width\":600,\"height\":400},                        {\"responsive\": true}                    ).then(function(){\n",
              "                            \n",
              "var gd = document.getElementById('a53fa25d-9e08-42f8-a405-7c0474a00f0d');\n",
              "var x = new MutationObserver(function (mutations, observer) {{\n",
              "        var display = window.getComputedStyle(gd).display;\n",
              "        if (!display || display === 'none') {{\n",
              "            console.log([gd, 'removed!']);\n",
              "            Plotly.purge(gd);\n",
              "            observer.disconnect();\n",
              "        }}\n",
              "}});\n",
              "\n",
              "// Listen for the removal of the full notebook cells\n",
              "var notebookContainer = gd.closest('#notebook-container');\n",
              "if (notebookContainer) {{\n",
              "    x.observe(notebookContainer, {childList: true});\n",
              "}}\n",
              "\n",
              "// Listen for the clearing of the current output cell\n",
              "var outputEl = gd.closest('.output');\n",
              "if (outputEl) {{\n",
              "    x.observe(outputEl, {childList: true});\n",
              "}}\n",
              "\n",
              "                        })                };                            </script>        </div>\n",
              "</body>\n",
              "</html>"
            ]
          },
          "metadata": {}
        }
      ]
    },
    {
      "cell_type": "code",
      "source": [
        "df=pd.DataFrame(dict(x=t,y=y))"
      ],
      "metadata": {
        "id": "ek_Wxq2PUp0u"
      },
      "execution_count": 7,
      "outputs": []
    },
    {
      "cell_type": "code",
      "source": [
        "df.to_excel('alex_data.xlsx', index=False)"
      ],
      "metadata": {
        "id": "w-xd-WQBV6vq"
      },
      "execution_count": 8,
      "outputs": []
    },
    {
      "cell_type": "code",
      "source": [
        "df2 = pd.read_excel('alex_data.xlsx')"
      ],
      "metadata": {
        "id": "IG4gczt8V7Py"
      },
      "execution_count": 9,
      "outputs": []
    },
    {
      "cell_type": "code",
      "source": [
        "t,y=df2.to_numpy().T"
      ],
      "metadata": {
        "id": "oa3e6utGXWCy"
      },
      "execution_count": 10,
      "outputs": []
    },
    {
      "cell_type": "code",
      "source": [
        "t,y"
      ],
      "metadata": {
        "colab": {
          "base_uri": "https://localhost:8080/"
        },
        "id": "AIVaktDtXW_p",
        "outputId": "1f2173c5-6873-4ca4-a8ca-ce18e526dea6"
      },
      "execution_count": 11,
      "outputs": [
        {
          "output_type": "execute_result",
          "data": {
            "text/plain": [
              "(array([ 0. ,  0.4,  0.8,  1.2,  1.6,  2. ,  2.4,  2.8,  3.2,  3.6,  4. ,\n",
              "         4.4,  4.8,  5.2,  5.6,  6. ,  6.4,  6.8,  7.2,  7.6,  8. ,  8.4,\n",
              "         8.8,  9.2,  9.6, 10. , 10.4, 10.8, 11.2, 11.6, 12. , 12.4, 12.8,\n",
              "        13.2, 13.6, 14. , 14.4, 14.8, 15.2, 15.6, 16. , 16.4, 16.8, 17.2,\n",
              "        17.6, 18. , 18.4, 18.8, 19.2, 19.6]),\n",
              " array([0.01, 0.02, 0.  , 0.02, 0.09, 0.11, 0.23, 0.3 , 0.44, 0.63, 0.81,\n",
              "        0.91, 1.1 , 1.23, 1.35, 1.59, 1.65, 1.84, 1.95, 2.07, 2.14, 2.24,\n",
              "        2.26, 2.33, 2.42, 2.49, 2.51, 2.52, 2.53, 2.58, 2.59, 2.65, 2.65,\n",
              "        2.72, 2.71, 2.74, 2.75, 2.71, 2.74, 2.71, 2.73, 2.74, 2.78, 2.75,\n",
              "        2.74, 2.73, 2.78, 2.78, 2.67, 2.75]))"
            ]
          },
          "metadata": {},
          "execution_count": 11
        }
      ]
    },
    {
      "cell_type": "code",
      "source": [
        "def FOPTD(KA, tau, theta, t):\n",
        "    y = np.where(t<theta, 0., KA*(1-np.exp(-(t-theta)/tau)))\n",
        "    return y"
      ],
      "metadata": {
        "id": "lEz9KkshYhS0"
      },
      "execution_count": 12,
      "outputs": []
    },
    {
      "cell_type": "code",
      "source": [
        "def sumsq(v):\n",
        "    KA, tau, theta = v\n",
        "    model_y = FOPTD(KA, tau, theta, t)\n",
        "    return np.sum((model_y - y)**2)"
      ],
      "metadata": {
        "id": "Gy68ndeWZTtz"
      },
      "execution_count": 13,
      "outputs": []
    },
    {
      "cell_type": "code",
      "source": [
        "fKA, ftau, ftheta = minimize(sumsq, (2.5, 3., 2.)).x\n",
        "fK = fKA/A"
      ],
      "metadata": {
        "id": "3l7spJFAZnsZ"
      },
      "execution_count": 14,
      "outputs": []
    },
    {
      "cell_type": "code",
      "source": [
        "model_y = FOPTD(2.5, 3., 2., t)"
      ],
      "metadata": {
        "id": "5B8dvnbTYiXb"
      },
      "execution_count": 15,
      "outputs": []
    },
    {
      "cell_type": "code",
      "source": [
        "fig2 = make_subplots()\n",
        "fig2.add_scatter(x=t, y=y, mode='markers')\n",
        "fig2.add_scatter(x=t, y=FOPTD(fKA, ftau, ftheta, t), mode='lines')\n",
        "fig2.update_layout(width=600, height=400, template='plotly_dark', showlegend=False)"
      ],
      "metadata": {
        "colab": {
          "base_uri": "https://localhost:8080/",
          "height": 417
        },
        "id": "bMqMoPAbXnhK",
        "outputId": "17cc1502-9157-4336-f2a0-45ea5337d432"
      },
      "execution_count": 16,
      "outputs": [
        {
          "output_type": "display_data",
          "data": {
            "text/html": [
              "<html>\n",
              "<head><meta charset=\"utf-8\" /></head>\n",
              "<body>\n",
              "    <div>            <script src=\"https://cdnjs.cloudflare.com/ajax/libs/mathjax/2.7.5/MathJax.js?config=TeX-AMS-MML_SVG\"></script><script type=\"text/javascript\">if (window.MathJax && window.MathJax.Hub && window.MathJax.Hub.Config) {window.MathJax.Hub.Config({SVG: {font: \"STIX-Web\"}});}</script>                <script type=\"text/javascript\">window.PlotlyConfig = {MathJaxConfig: 'local'};</script>\n",
              "        <script charset=\"utf-8\" src=\"https://cdn.plot.ly/plotly-2.35.2.min.js\"></script>                <div id=\"b2fe0a30-da2a-4c2c-a541-c5ece4c56c10\" class=\"plotly-graph-div\" style=\"height:400px; width:600px;\"></div>            <script type=\"text/javascript\">                                    window.PLOTLYENV=window.PLOTLYENV || {};                                    if (document.getElementById(\"b2fe0a30-da2a-4c2c-a541-c5ece4c56c10\")) {                    Plotly.newPlot(                        \"b2fe0a30-da2a-4c2c-a541-c5ece4c56c10\",                        [{\"mode\":\"markers\",\"x\":[0.0,0.4,0.8,1.2,1.6,2.0,2.4,2.8,3.2,3.6,4.0,4.4,4.800000000000001,5.2,5.600000000000001,6.0,6.4,6.800000000000001,7.2,7.600000000000001,8.0,8.4,8.8,9.200000000000001,9.600000000000001,10.0,10.4,10.8,11.2,11.6,12.0,12.4,12.8,13.2,13.6,14.0,14.4,14.8,15.2,15.6,16.0,16.4,16.8,17.2,17.6,18.0,18.4,18.8,19.2,19.6],\"y\":[0.01,0.02,0.0,0.02,0.09,0.11,0.23,0.3,0.44,0.63,0.81,0.91,1.1,1.23,1.35,1.59,1.65,1.84,1.95,2.07,2.14,2.24,2.26,2.33,2.42,2.49,2.51,2.52,2.53,2.58,2.59,2.65,2.65,2.72,2.71,2.74,2.75,2.71,2.74,2.71,2.73,2.74,2.78,2.75,2.74,2.73,2.78,2.78,2.67,2.75],\"type\":\"scatter\"},{\"mode\":\"lines\",\"x\":[0.0,0.4,0.8,1.2,1.6,2.0,2.4,2.8,3.2,3.6,4.0,4.4,4.800000000000001,5.2,5.600000000000001,6.0,6.4,6.800000000000001,7.2,7.600000000000001,8.0,8.4,8.8,9.200000000000001,9.600000000000001,10.0,10.4,10.8,11.2,11.6,12.0,12.4,12.8,13.2,13.6,14.0,14.4,14.8,15.2,15.6,16.0,16.4,16.8,17.2,17.6,18.0,18.4,18.8,19.2,19.6],\"y\":[0.0,0.0,0.0,0.0,0.0,0.0,0.0,0.13463744400614366,0.39032998578210865,0.6220175634003994,0.831953814375075,1.0221807998974208,1.194548868074859,1.350734652366394,1.4922573802863384,1.6204936510119567,1.7366908256376228,1.8419791603231854,1.9373828003563613,2.023829742068964,2.1021608595070758,2.17313808365807,2.237451813794254,2.295727633023681,2.3485323933706512,2.3963797295758007,2.4397350552488204,2.479020089971637,2.514616961387444,2.546871922176814,2.576098718076125,2.602581639699191,2.6265782878473383,2.6483220792062356,2.6680245168025367,2.685877247305181,2.702053925182841,2.716711901850265,2.729993756233943,2.7420286816449844,2.7529337424493936,2.7628150127594506,2.7717686082222963,2.7798816209419956,2.7872329666291162,2.79389415221808,2.7999299714189587,2.805399134969372,2.8103548417169852,2.8148452960875594],\"type\":\"scatter\"}],                        {\"template\":{\"data\":{\"barpolar\":[{\"marker\":{\"line\":{\"color\":\"rgb(17,17,17)\",\"width\":0.5},\"pattern\":{\"fillmode\":\"overlay\",\"size\":10,\"solidity\":0.2}},\"type\":\"barpolar\"}],\"bar\":[{\"error_x\":{\"color\":\"#f2f5fa\"},\"error_y\":{\"color\":\"#f2f5fa\"},\"marker\":{\"line\":{\"color\":\"rgb(17,17,17)\",\"width\":0.5},\"pattern\":{\"fillmode\":\"overlay\",\"size\":10,\"solidity\":0.2}},\"type\":\"bar\"}],\"carpet\":[{\"aaxis\":{\"endlinecolor\":\"#A2B1C6\",\"gridcolor\":\"#506784\",\"linecolor\":\"#506784\",\"minorgridcolor\":\"#506784\",\"startlinecolor\":\"#A2B1C6\"},\"baxis\":{\"endlinecolor\":\"#A2B1C6\",\"gridcolor\":\"#506784\",\"linecolor\":\"#506784\",\"minorgridcolor\":\"#506784\",\"startlinecolor\":\"#A2B1C6\"},\"type\":\"carpet\"}],\"choropleth\":[{\"colorbar\":{\"outlinewidth\":0,\"ticks\":\"\"},\"type\":\"choropleth\"}],\"contourcarpet\":[{\"colorbar\":{\"outlinewidth\":0,\"ticks\":\"\"},\"type\":\"contourcarpet\"}],\"contour\":[{\"colorbar\":{\"outlinewidth\":0,\"ticks\":\"\"},\"colorscale\":[[0.0,\"#0d0887\"],[0.1111111111111111,\"#46039f\"],[0.2222222222222222,\"#7201a8\"],[0.3333333333333333,\"#9c179e\"],[0.4444444444444444,\"#bd3786\"],[0.5555555555555556,\"#d8576b\"],[0.6666666666666666,\"#ed7953\"],[0.7777777777777778,\"#fb9f3a\"],[0.8888888888888888,\"#fdca26\"],[1.0,\"#f0f921\"]],\"type\":\"contour\"}],\"heatmapgl\":[{\"colorbar\":{\"outlinewidth\":0,\"ticks\":\"\"},\"colorscale\":[[0.0,\"#0d0887\"],[0.1111111111111111,\"#46039f\"],[0.2222222222222222,\"#7201a8\"],[0.3333333333333333,\"#9c179e\"],[0.4444444444444444,\"#bd3786\"],[0.5555555555555556,\"#d8576b\"],[0.6666666666666666,\"#ed7953\"],[0.7777777777777778,\"#fb9f3a\"],[0.8888888888888888,\"#fdca26\"],[1.0,\"#f0f921\"]],\"type\":\"heatmapgl\"}],\"heatmap\":[{\"colorbar\":{\"outlinewidth\":0,\"ticks\":\"\"},\"colorscale\":[[0.0,\"#0d0887\"],[0.1111111111111111,\"#46039f\"],[0.2222222222222222,\"#7201a8\"],[0.3333333333333333,\"#9c179e\"],[0.4444444444444444,\"#bd3786\"],[0.5555555555555556,\"#d8576b\"],[0.6666666666666666,\"#ed7953\"],[0.7777777777777778,\"#fb9f3a\"],[0.8888888888888888,\"#fdca26\"],[1.0,\"#f0f921\"]],\"type\":\"heatmap\"}],\"histogram2dcontour\":[{\"colorbar\":{\"outlinewidth\":0,\"ticks\":\"\"},\"colorscale\":[[0.0,\"#0d0887\"],[0.1111111111111111,\"#46039f\"],[0.2222222222222222,\"#7201a8\"],[0.3333333333333333,\"#9c179e\"],[0.4444444444444444,\"#bd3786\"],[0.5555555555555556,\"#d8576b\"],[0.6666666666666666,\"#ed7953\"],[0.7777777777777778,\"#fb9f3a\"],[0.8888888888888888,\"#fdca26\"],[1.0,\"#f0f921\"]],\"type\":\"histogram2dcontour\"}],\"histogram2d\":[{\"colorbar\":{\"outlinewidth\":0,\"ticks\":\"\"},\"colorscale\":[[0.0,\"#0d0887\"],[0.1111111111111111,\"#46039f\"],[0.2222222222222222,\"#7201a8\"],[0.3333333333333333,\"#9c179e\"],[0.4444444444444444,\"#bd3786\"],[0.5555555555555556,\"#d8576b\"],[0.6666666666666666,\"#ed7953\"],[0.7777777777777778,\"#fb9f3a\"],[0.8888888888888888,\"#fdca26\"],[1.0,\"#f0f921\"]],\"type\":\"histogram2d\"}],\"histogram\":[{\"marker\":{\"pattern\":{\"fillmode\":\"overlay\",\"size\":10,\"solidity\":0.2}},\"type\":\"histogram\"}],\"mesh3d\":[{\"colorbar\":{\"outlinewidth\":0,\"ticks\":\"\"},\"type\":\"mesh3d\"}],\"parcoords\":[{\"line\":{\"colorbar\":{\"outlinewidth\":0,\"ticks\":\"\"}},\"type\":\"parcoords\"}],\"pie\":[{\"automargin\":true,\"type\":\"pie\"}],\"scatter3d\":[{\"line\":{\"colorbar\":{\"outlinewidth\":0,\"ticks\":\"\"}},\"marker\":{\"colorbar\":{\"outlinewidth\":0,\"ticks\":\"\"}},\"type\":\"scatter3d\"}],\"scattercarpet\":[{\"marker\":{\"colorbar\":{\"outlinewidth\":0,\"ticks\":\"\"}},\"type\":\"scattercarpet\"}],\"scattergeo\":[{\"marker\":{\"colorbar\":{\"outlinewidth\":0,\"ticks\":\"\"}},\"type\":\"scattergeo\"}],\"scattergl\":[{\"marker\":{\"line\":{\"color\":\"#283442\"}},\"type\":\"scattergl\"}],\"scattermapbox\":[{\"marker\":{\"colorbar\":{\"outlinewidth\":0,\"ticks\":\"\"}},\"type\":\"scattermapbox\"}],\"scatterpolargl\":[{\"marker\":{\"colorbar\":{\"outlinewidth\":0,\"ticks\":\"\"}},\"type\":\"scatterpolargl\"}],\"scatterpolar\":[{\"marker\":{\"colorbar\":{\"outlinewidth\":0,\"ticks\":\"\"}},\"type\":\"scatterpolar\"}],\"scatter\":[{\"marker\":{\"line\":{\"color\":\"#283442\"}},\"type\":\"scatter\"}],\"scatterternary\":[{\"marker\":{\"colorbar\":{\"outlinewidth\":0,\"ticks\":\"\"}},\"type\":\"scatterternary\"}],\"surface\":[{\"colorbar\":{\"outlinewidth\":0,\"ticks\":\"\"},\"colorscale\":[[0.0,\"#0d0887\"],[0.1111111111111111,\"#46039f\"],[0.2222222222222222,\"#7201a8\"],[0.3333333333333333,\"#9c179e\"],[0.4444444444444444,\"#bd3786\"],[0.5555555555555556,\"#d8576b\"],[0.6666666666666666,\"#ed7953\"],[0.7777777777777778,\"#fb9f3a\"],[0.8888888888888888,\"#fdca26\"],[1.0,\"#f0f921\"]],\"type\":\"surface\"}],\"table\":[{\"cells\":{\"fill\":{\"color\":\"#506784\"},\"line\":{\"color\":\"rgb(17,17,17)\"}},\"header\":{\"fill\":{\"color\":\"#2a3f5f\"},\"line\":{\"color\":\"rgb(17,17,17)\"}},\"type\":\"table\"}]},\"layout\":{\"annotationdefaults\":{\"arrowcolor\":\"#f2f5fa\",\"arrowhead\":0,\"arrowwidth\":1},\"autotypenumbers\":\"strict\",\"coloraxis\":{\"colorbar\":{\"outlinewidth\":0,\"ticks\":\"\"}},\"colorscale\":{\"diverging\":[[0,\"#8e0152\"],[0.1,\"#c51b7d\"],[0.2,\"#de77ae\"],[0.3,\"#f1b6da\"],[0.4,\"#fde0ef\"],[0.5,\"#f7f7f7\"],[0.6,\"#e6f5d0\"],[0.7,\"#b8e186\"],[0.8,\"#7fbc41\"],[0.9,\"#4d9221\"],[1,\"#276419\"]],\"sequential\":[[0.0,\"#0d0887\"],[0.1111111111111111,\"#46039f\"],[0.2222222222222222,\"#7201a8\"],[0.3333333333333333,\"#9c179e\"],[0.4444444444444444,\"#bd3786\"],[0.5555555555555556,\"#d8576b\"],[0.6666666666666666,\"#ed7953\"],[0.7777777777777778,\"#fb9f3a\"],[0.8888888888888888,\"#fdca26\"],[1.0,\"#f0f921\"]],\"sequentialminus\":[[0.0,\"#0d0887\"],[0.1111111111111111,\"#46039f\"],[0.2222222222222222,\"#7201a8\"],[0.3333333333333333,\"#9c179e\"],[0.4444444444444444,\"#bd3786\"],[0.5555555555555556,\"#d8576b\"],[0.6666666666666666,\"#ed7953\"],[0.7777777777777778,\"#fb9f3a\"],[0.8888888888888888,\"#fdca26\"],[1.0,\"#f0f921\"]]},\"colorway\":[\"#636efa\",\"#EF553B\",\"#00cc96\",\"#ab63fa\",\"#FFA15A\",\"#19d3f3\",\"#FF6692\",\"#B6E880\",\"#FF97FF\",\"#FECB52\"],\"font\":{\"color\":\"#f2f5fa\"},\"geo\":{\"bgcolor\":\"rgb(17,17,17)\",\"lakecolor\":\"rgb(17,17,17)\",\"landcolor\":\"rgb(17,17,17)\",\"showlakes\":true,\"showland\":true,\"subunitcolor\":\"#506784\"},\"hoverlabel\":{\"align\":\"left\"},\"hovermode\":\"closest\",\"mapbox\":{\"style\":\"dark\"},\"paper_bgcolor\":\"rgb(17,17,17)\",\"plot_bgcolor\":\"rgb(17,17,17)\",\"polar\":{\"angularaxis\":{\"gridcolor\":\"#506784\",\"linecolor\":\"#506784\",\"ticks\":\"\"},\"bgcolor\":\"rgb(17,17,17)\",\"radialaxis\":{\"gridcolor\":\"#506784\",\"linecolor\":\"#506784\",\"ticks\":\"\"}},\"scene\":{\"xaxis\":{\"backgroundcolor\":\"rgb(17,17,17)\",\"gridcolor\":\"#506784\",\"gridwidth\":2,\"linecolor\":\"#506784\",\"showbackground\":true,\"ticks\":\"\",\"zerolinecolor\":\"#C8D4E3\"},\"yaxis\":{\"backgroundcolor\":\"rgb(17,17,17)\",\"gridcolor\":\"#506784\",\"gridwidth\":2,\"linecolor\":\"#506784\",\"showbackground\":true,\"ticks\":\"\",\"zerolinecolor\":\"#C8D4E3\"},\"zaxis\":{\"backgroundcolor\":\"rgb(17,17,17)\",\"gridcolor\":\"#506784\",\"gridwidth\":2,\"linecolor\":\"#506784\",\"showbackground\":true,\"ticks\":\"\",\"zerolinecolor\":\"#C8D4E3\"}},\"shapedefaults\":{\"line\":{\"color\":\"#f2f5fa\"}},\"sliderdefaults\":{\"bgcolor\":\"#C8D4E3\",\"bordercolor\":\"rgb(17,17,17)\",\"borderwidth\":1,\"tickwidth\":0},\"ternary\":{\"aaxis\":{\"gridcolor\":\"#506784\",\"linecolor\":\"#506784\",\"ticks\":\"\"},\"baxis\":{\"gridcolor\":\"#506784\",\"linecolor\":\"#506784\",\"ticks\":\"\"},\"bgcolor\":\"rgb(17,17,17)\",\"caxis\":{\"gridcolor\":\"#506784\",\"linecolor\":\"#506784\",\"ticks\":\"\"}},\"title\":{\"x\":0.05},\"updatemenudefaults\":{\"bgcolor\":\"#506784\",\"borderwidth\":0},\"xaxis\":{\"automargin\":true,\"gridcolor\":\"#283442\",\"linecolor\":\"#506784\",\"ticks\":\"\",\"title\":{\"standoff\":15},\"zerolinecolor\":\"#283442\",\"zerolinewidth\":2},\"yaxis\":{\"automargin\":true,\"gridcolor\":\"#283442\",\"linecolor\":\"#506784\",\"ticks\":\"\",\"title\":{\"standoff\":15},\"zerolinecolor\":\"#283442\",\"zerolinewidth\":2}}},\"xaxis\":{\"anchor\":\"y\",\"domain\":[0.0,1.0]},\"yaxis\":{\"anchor\":\"x\",\"domain\":[0.0,1.0]},\"width\":600,\"height\":400,\"showlegend\":false},                        {\"responsive\": true}                    ).then(function(){\n",
              "                            \n",
              "var gd = document.getElementById('b2fe0a30-da2a-4c2c-a541-c5ece4c56c10');\n",
              "var x = new MutationObserver(function (mutations, observer) {{\n",
              "        var display = window.getComputedStyle(gd).display;\n",
              "        if (!display || display === 'none') {{\n",
              "            console.log([gd, 'removed!']);\n",
              "            Plotly.purge(gd);\n",
              "            observer.disconnect();\n",
              "        }}\n",
              "}});\n",
              "\n",
              "// Listen for the removal of the full notebook cells\n",
              "var notebookContainer = gd.closest('#notebook-container');\n",
              "if (notebookContainer) {{\n",
              "    x.observe(notebookContainer, {childList: true});\n",
              "}}\n",
              "\n",
              "// Listen for the clearing of the current output cell\n",
              "var outputEl = gd.closest('.output');\n",
              "if (outputEl) {{\n",
              "    x.observe(outputEl, {childList: true});\n",
              "}}\n",
              "\n",
              "                        })                };                            </script>        </div>\n",
              "</body>\n",
              "</html>"
            ]
          },
          "metadata": {}
        }
      ]
    },
    {
      "cell_type": "code",
      "source": [
        "#ITAE\n",
        "PA, PB = 0.586, -0.916\n",
        "IA, IB = 1.03, -0.165\n",
        "Y = PA*(ftheta/ftau)**PB\n",
        "Kc = Y/fK\n",
        "taui = ftau/(IA + IB*(ftheta/ftau))\n",
        "\n",
        "#ZN method\n",
        "# Kc = 0.45 * Ku\n",
        "# taui = 0.83*Tu\n",
        "\n",
        "Gp = TF\n",
        "Gc = Kc*(1+1/(taui*s))\n",
        "Gm = 1.\n",
        "Gfb = Gc*Gp/(1+Gp*Gc*Gm)\n",
        "Gfb=simplify(Gfb)"
      ],
      "metadata": {
        "id": "6uwhq4S8XukS"
      },
      "execution_count": 17,
      "outputs": []
    },
    {
      "cell_type": "code",
      "source": [
        "t,y=sim(Gfb, lambda t: 1., N=500, dt=0.1)"
      ],
      "metadata": {
        "id": "dcvSGwJqYfkE"
      },
      "execution_count": 18,
      "outputs": []
    },
    {
      "cell_type": "code",
      "source": [
        "fig4=make_subplots()\n",
        "fig4.add_scatter(x=t, y= y)\n",
        "fig4.update_layout(width=600, height=400, template='plotly_dark')"
      ],
      "metadata": {
        "colab": {
          "base_uri": "https://localhost:8080/",
          "height": 417
        },
        "id": "J8BezOUObQ7r",
        "outputId": "c1ec095a-df67-4cd1-b941-fb243beeacdf"
      },
      "execution_count": 19,
      "outputs": [
        {
          "output_type": "display_data",
          "data": {
            "text/html": [
              "<html>\n",
              "<head><meta charset=\"utf-8\" /></head>\n",
              "<body>\n",
              "    <div>            <script src=\"https://cdnjs.cloudflare.com/ajax/libs/mathjax/2.7.5/MathJax.js?config=TeX-AMS-MML_SVG\"></script><script type=\"text/javascript\">if (window.MathJax && window.MathJax.Hub && window.MathJax.Hub.Config) {window.MathJax.Hub.Config({SVG: {font: \"STIX-Web\"}});}</script>                <script type=\"text/javascript\">window.PlotlyConfig = {MathJaxConfig: 'local'};</script>\n",
              "        <script charset=\"utf-8\" src=\"https://cdn.plot.ly/plotly-2.35.2.min.js\"></script>                <div id=\"3a3e3080-7564-4089-9471-320fa68e75ba\" class=\"plotly-graph-div\" style=\"height:400px; width:600px;\"></div>            <script type=\"text/javascript\">                                    window.PLOTLYENV=window.PLOTLYENV || {};                                    if (document.getElementById(\"3a3e3080-7564-4089-9471-320fa68e75ba\")) {                    Plotly.newPlot(                        \"3a3e3080-7564-4089-9471-320fa68e75ba\",                        [{\"x\":[0.0,0.1,0.2,0.30000000000000004,0.4,0.5,0.6000000000000001,0.7000000000000001,0.8,0.9,1.0,1.1,1.2000000000000002,1.3,1.4000000000000001,1.5,1.6,1.7000000000000002,1.8,1.9000000000000001,2.0,2.1,2.2,2.3000000000000003,2.4000000000000004,2.5,2.6,2.7,2.8000000000000003,2.9000000000000004,3.0,3.1,3.2,3.3000000000000003,3.4000000000000004,3.5,3.6,3.7,3.8000000000000003,3.9000000000000004,4.0,4.1000000000000005,4.2,4.3,4.4,4.5,4.6000000000000005,4.7,4.800000000000001,4.9,5.0,5.1000000000000005,5.2,5.300000000000001,5.4,5.5,5.6000000000000005,5.7,5.800000000000001,5.9,6.0,6.1000000000000005,6.2,6.300000000000001,6.4,6.5,6.6000000000000005,6.7,6.800000000000001,6.9,7.0,7.1000000000000005,7.2,7.300000000000001,7.4,7.5,7.6000000000000005,7.7,7.800000000000001,7.9,8.0,8.1,8.200000000000001,8.3,8.4,8.5,8.6,8.700000000000001,8.8,8.9,9.0,9.1,9.200000000000001,9.3,9.4,9.5,9.600000000000001,9.700000000000001,9.8,9.9,10.0,10.100000000000001,10.200000000000001,10.3,10.4,10.5,10.600000000000001,10.700000000000001,10.8,10.9,11.0,11.100000000000001,11.200000000000001,11.3,11.4,11.5,11.600000000000001,11.700000000000001,11.8,11.9,12.0,12.100000000000001,12.200000000000001,12.3,12.4,12.5,12.600000000000001,12.700000000000001,12.8,12.9,13.0,13.100000000000001,13.200000000000001,13.3,13.4,13.5,13.600000000000001,13.700000000000001,13.8,13.9,14.0,14.100000000000001,14.200000000000001,14.3,14.4,14.5,14.600000000000001,14.700000000000001,14.8,14.9,15.0,15.100000000000001,15.200000000000001,15.3,15.4,15.5,15.600000000000001,15.700000000000001,15.8,15.9,16.0,16.1,16.2,16.3,16.400000000000002,16.5,16.6,16.7,16.8,16.900000000000002,17.0,17.1,17.2,17.3,17.400000000000002,17.5,17.6,17.7,17.8,17.900000000000002,18.0,18.1,18.2,18.3,18.400000000000002,18.5,18.6,18.7,18.8,18.900000000000002,19.0,19.1,19.200000000000003,19.3,19.400000000000002,19.5,19.6,19.700000000000003,19.8,19.900000000000002,20.0,20.1,20.200000000000003,20.3,20.400000000000002,20.5,20.6,20.700000000000003,20.8,20.900000000000002,21.0,21.1,21.200000000000003,21.3,21.400000000000002,21.5,21.6,21.700000000000003,21.8,21.900000000000002,22.0,22.1,22.200000000000003,22.3,22.400000000000002,22.5,22.6,22.700000000000003,22.8,22.900000000000002,23.0,23.1,23.200000000000003,23.3,23.400000000000002,23.5,23.6,23.700000000000003,23.8,23.900000000000002,24.0,24.1,24.200000000000003,24.3,24.400000000000002,24.5,24.6,24.700000000000003,24.8,24.900000000000002,25.0,25.1,25.200000000000003,25.3,25.400000000000002,25.5,25.6,25.700000000000003,25.8,25.900000000000002,26.0,26.1,26.200000000000003,26.3,26.400000000000002,26.5,26.6,26.700000000000003,26.8,26.900000000000002,27.0,27.1,27.200000000000003,27.3,27.400000000000002,27.5,27.6,27.700000000000003,27.8,27.900000000000002,28.0,28.1,28.200000000000003,28.3,28.400000000000002,28.5,28.6,28.700000000000003,28.8,28.900000000000002,29.0,29.1,29.200000000000003,29.3,29.400000000000002,29.5,29.6,29.700000000000003,29.8,29.900000000000002,30.0,30.1,30.200000000000003,30.3,30.400000000000002,30.5,30.6,30.700000000000003,30.8,30.900000000000002,31.0,31.1,31.200000000000003,31.3,31.400000000000002,31.5,31.6,31.700000000000003,31.8,31.900000000000002,32.0,32.1,32.2,32.300000000000004,32.4,32.5,32.6,32.7,32.800000000000004,32.9,33.0,33.1,33.2,33.300000000000004,33.4,33.5,33.6,33.7,33.800000000000004,33.9,34.0,34.1,34.2,34.300000000000004,34.4,34.5,34.6,34.7,34.800000000000004,34.9,35.0,35.1,35.2,35.300000000000004,35.4,35.5,35.6,35.7,35.800000000000004,35.9,36.0,36.1,36.2,36.300000000000004,36.4,36.5,36.6,36.7,36.800000000000004,36.9,37.0,37.1,37.2,37.300000000000004,37.4,37.5,37.6,37.7,37.800000000000004,37.9,38.0,38.1,38.2,38.300000000000004,38.400000000000006,38.5,38.6,38.7,38.800000000000004,38.900000000000006,39.0,39.1,39.2,39.300000000000004,39.400000000000006,39.5,39.6,39.7,39.800000000000004,39.900000000000006,40.0,40.1,40.2,40.300000000000004,40.400000000000006,40.5,40.6,40.7,40.800000000000004,40.900000000000006,41.0,41.1,41.2,41.300000000000004,41.400000000000006,41.5,41.6,41.7,41.800000000000004,41.900000000000006,42.0,42.1,42.2,42.300000000000004,42.400000000000006,42.5,42.6,42.7,42.800000000000004,42.900000000000006,43.0,43.1,43.2,43.300000000000004,43.400000000000006,43.5,43.6,43.7,43.800000000000004,43.900000000000006,44.0,44.1,44.2,44.300000000000004,44.400000000000006,44.5,44.6,44.7,44.800000000000004,44.900000000000006,45.0,45.1,45.2,45.300000000000004,45.400000000000006,45.5,45.6,45.7,45.800000000000004,45.900000000000006,46.0,46.1,46.2,46.300000000000004,46.400000000000006,46.5,46.6,46.7,46.800000000000004,46.900000000000006,47.0,47.1,47.2,47.300000000000004,47.400000000000006,47.5,47.6,47.7,47.800000000000004,47.900000000000006,48.0,48.1,48.2,48.300000000000004,48.400000000000006,48.5,48.6,48.7,48.800000000000004,48.900000000000006,49.0,49.1,49.2,49.300000000000004,49.400000000000006,49.5,49.6,49.7,49.800000000000004,49.900000000000006],\"y\":[0.0,6.634519294100516e-7,0.000010112595739484417,0.00004877978519525113,0.00014692191032222458,0.0003418993925072911,0.0006758889416091928,0.0011939746172237112,0.0019425678834828087,0.002968112900518448,0.004316038303448685,0.00602992122637369,0.00815083337673933,0.010716842594264753,0.013762646575577981,0.017319318345357576,0.02141414563926419,0.02607054866300194,0.03130806273292725,0.03714237411199365,0.043585398953691054,0.050645396677263546,0.058327110339297376,0.06663192765747418,0.07555805729799912,0.08510071587357297,0.09525232182703772,0.10600269300897665,0.11733924530640728,0.1292471901540156,0.14170972916789715,0.15470824449235573,0.16822248374999543,0.18223073874041687,0.1967100172488997,0.2116362075085132,0.22698423501157988,0.2427282114932514,0.25884157601462876,0.2752972281584251,0.2920676534193502,0.30912504092655435,0.32644139367869657,0.3439886315053169,0.36173868699278444,0.3796635946305449,0.39773557344489885,0.4159271033941461,0.4342109958015198,0.45256045810167184,0.47094915317322505,0.48935125352461145,0.5077414905935722,0.5260951994126704,0.5443883588843241,0.5625976278994551,0.5807003775241163,0.5986747194685872,0.6164995310435537,0.6341544767982557,0.651620027025964,0.6688774733129291,0.6859089412980606,0.7026974008021079,0.7192266734770207,0.7354814381185009,0.7514472337775171,0.7671104607997319,0.7824583799153877,0.7974791094961913,0.8121616210901266,0.8264957333398695,0.8404721043855858,0.8540822228483178,0.8673183974859019,0.8801737456093759,0.892642180344122,0.9047183968165118,0.9163978573435726,0.9276767757001381,0.9385521005350885,0.9490214980055796,0.9590833336956182,0.9687366538829264,0.9779811662157425,0.9868172198590315,0.9952457851674786,1.003268432940652,1.0108873133137792,1.0181051343357304,1.0249251402840038,1.0313510897647418,1.0373872336441214,1.0430382928557798,1.0483094361273166,1.053206257667303,1.0577347548526654,1.0619013059547506,1.0657126479408578,1.069175854386511,1.0722983135322535,1.075087706517271,1.0775519858206906,1.0796993539399575,1.0815382423342603,1.0830772906595616,1.0843253263203816,1.0852913443621088,1.0859844877262212,1.0864140278894618,1.0865893459066573,1.0865199138755566,1.0862152768407467,1.0856850351524283,1.0849388272945522,1.0839863131955747,1.0828371580338672,1.0815010165485937,1.0799875178657028,1.078306250847512,1.0764667499732274,1.074478481756636,1.072350831706118,1.0700930918310783,1.0677144486978547,1.0652239720371741,1.0626306039042428,1.0599431483916233,1.0571702618941348,1.0543204439241292,1.0514020284746537,1.0484231759271765,1.0453918654997818,1.0423158882309647,1.0392028404934537,1.0360601180317788,1.0328949105166558,1.0297141966086245,1.0265247395227857,1.023333083085922,1.020145548276753,1.0169682302395815,1.0138069957611215,1.0106674811998602,1.0075550908569066,1.0044749957769106,1.0014321329672842,0.9984312050236598,0.9954766801492257,0.9925727925553359,0.9897235432305636,0.9869327010651733,0.9842038043178204,0.9815401624111428,0.9789448580428026,0.9764207495984348,0.9739704738529127,0.971596448946285,0.9693008776207367,0.9670857507049258,0.9649528508320813,0.9629037563782978,0.9609398456075349,0.9590623010099204,0.9572721138200676,0.9555700887022475,0.9539568485894006,0.9524328396631399,0.9509983364620723,0.9496534471059637,0.9483981186234803,0.9472321423714588,0.9461551595338961,0.9451666666890963,0.944266021433668,0.9434524480523342,0.9427250432227957,0.9420827817451776,0.9415245222858766,0.9410490131259375,0.9406548979043889,0.9403407213472861,0.9401049349735281,0.9399459027688399,0.9398619068196389,0.9398511528988327,0.9399117759959379,0.9400418457842306,0.9402393720179891,0.9405023098532208,0.9408285650855999,0.9412159992996871,0.9416624349238282,0.9421656601854729,0.9427234339619804,0.9433334905223096,0.94399354415532,0.9447012936807315,0.9454544268391096,0.9462506245575614,0.9470875650881317,0.9479629280162017,0.948874398136488,0.9498196691945323,0.9507964474918706,0.9518024553533374,0.9528354344552523,0.9538931490134926,0.9549733888307269,0.9560739722023309,0.9571927486807631,0.9583276016984091,0.959476451049144,0.9606372552290764,0.9618080136371666,0.962986768636607,0.9641716074780633,0.9653606640860586,0.9665521207099741,0.967744209441309,0.9689352135990121,0.9701234689848566,0.9713073650109785,0.9724853457018431,0.9736559105730352,0.9748176153893967,0.9759690728051504,0.9771089528887621,0.978235983535387,0.9793489507698487,0.9804466989431784,0.9815281308258188,0.9825922076006767,0.9836379487592541,0.9846644319041662,0.9856707924613762,0.9866562233055418,0.9876199743018858,0.9885613517680417,0.9894797178593372,0.9903744898810012,0.9912451395307814,0.9920911920754687,0.9929122254648121,0.9937078693863107,0.9944778042643433,0.9952217602070823,0.9959395159046163,0.9966308974816678,0.997295777308267,0.9979340727716983,0.9985457450129955,0.9991307976312147,0.9996892753586624,1.0002212627102034,1.0007268826097147,1.0012062949966856,1.0016596954159156,1.002087313593173,1.0024894119996277,1.002866284407789,1.0032182544416055,1.0035456741233166,1.0038489224195584,1.0041284037891487,1.0043845467349028,1.0046178023617407,1.0048286429432656,1.0050175604989142,1.0051850653836878,1.005331684892393,1.0054579618802317,1.0055644534014962,1.0056517293680354,1.0057203712290796,1.0057709706739164,1.0058041283588266,1.0058204526596122,1.0058205584509494,1.0058050659137296,1.005774599371456,1.0057297861566912,1.0056712555084626,1.005599637501456,1.0055155620077474,1.0054196576917456,1.0053125510389398,1.0051948654189782,1.0050672201835205,1.0049302297992417,1.0047845030162978,1.0046306420724838,1.004469241933261,1.0043008895677599,1.0041261632607983,1.0039456319609057,1.003759854664269,1.003569379834475,1.0033747448578576,1.0031764755342145,1.0029750856025959,1.002771076301834,1.0025649359654234,1.0023571396503226,1.002148148799207,1.0019384109356604,1.0017283593917559,1.0015184130674393,1.0013089762210974,1.0011004382906608,1.000893173744559,1.0006875419618233,1.0004838871406008,1.000282538234328,1.000083808914781,0.9998879975612113,0.9996953872747472,0.9995062459172344,0.9993208261736719,0.9991393656373857,0.9989620869170772,0.9987891977648705,0.9986208912244801,0.9984573457986118,0.9982987256347098,0.9981451807281567,0.9979968471420411,0.9978538472425954,0.9977162899494267,0.9975842709996476,0.9974578732250395,0.9973371668413697,0.9972222097490042,0.9971130478439612,0.99700971533856,0.9969122350908353,0.9968206189418948,0.9967348680604137,0.9966549732934734,0.9965809155229653,0.9965126660267993,0.9964501868441683,0.9963934311441435,0.9963423435968862,0.996296860746787,0.9962569113868571,0.996222416933718,0.9961932918025562,0.9961694437814285,0.9961507744043274,0.9961371793224318,0.9961285486729928,0.9961247674453279,0.9961257158434143,0.9961312696445956,0.99614130055394,0.9961556765538055,0.9961742622481969,0.996196919201511,0.9962235062713017,0.9962538799347032,0.9962878946081862,0.9963254029603326,0.9963662562173409,0.9964103044609948,0.9964573969188462,0.9965073822463905,0.9965601088010233,0.9966154249075978,0.9966731791154118,0.9967332204464833,0.9967953986349828,0.9968595643577155,0.9969255694555627,0.9969932671458083,0.997062512225296,0.9971331612643783,0.9972050727916335,0.9972781074693464,0.9973521282597599,0.9974270005821219,0.9975025924605653,0.9975787746628748,0.9976554208302012,0.9977324075978082,0.9978096147069349,0.9978869251078817,0.9979642250544288,0.9980414041897131,0.9981183556236981,0.9981949760023756,0.9982711655688598,0.9983468282165245,0.9984218715343619,0.9984962068447314,0.9985697492336856,0.9986424175740622,0.9987141345415355,0.9987848266238285,0.9988544241232934,0.9989228611530642,0.9989900756270012,0.9990560092436407,0.9991206074643688,0.9991838194860447,0.9992455982082944,0.9993059001957015,0.9993646856351238,0.9994219182883587,0.9994775654403916,0.9995315978434482,0.999583989657085,0.999634718384538,0.9996837648055601,0.9997311129059704,0.9997767498041342,0.9998206656745979,0.9998628536690959,0.9999033098351416,0.9999420330324189,0.9999790248471796,1.0000142895048552,1.000047833781082,1.0000796669113405,1.0001098004994002,1.000138248424763,1.0001650267492845,1.0001901536231619,1.0002136491904572,1.0002355354943298,1.000255836382145,1.000274577410618,1.0002917857511495,1.0003074900955018,1.0003217205619634,1.0003345086021387,1.0003458869084982,1.0003558893228153,1.0003645507456171,1.0003719070467612,1.0003779949772529,1.0003828520824092,1.0003865166164676,1.000389027458736,1.0003904240313726,1.0003907462188795,1.0003900342893874,1.000388328817804,1.0003856706108942,1.000382100634354,1.0003776599419323,1.0003723896066559,1.0003663306541997,1.0003595239984473,1.0003520103792753,1.0003438303025953,1.0003350239826763,1.0003256312867752,1.00031569168209,1.0003052441850453,1.000294327312929,1.000282979037872,1.0002712367431847,1.000259137182036,1.0002467164384758,1.0002340098907858,1.0002210521771475,1.0002078771636085,1.0001945179143241,1.0001810066640575,1.0001673747929043,1.0001536528032147,1.0001398702986835,1.0001260559655696,1.0001122375560105,1.000098441873389,1.0000846947597157,1.00007102108498,1.000057444738424,1.000043988621695,1.0000306746438268,1.000017523717997,1.000004555760014,0.9999917896884765,0.9999792434265544,0.9999669339053353,0.9999548770686814,0.999943087879541,0.9999315803276576,0.9999203674386188,0.9999094612841876,0.9998988729938594,0.9998886127675854,0.999878689889603,0.9998691127433184,0.9998598888271809,0.999851024771492,0.999842526356091,0.9998343985288632,0.9998266454250083],\"type\":\"scatter\"}],                        {\"template\":{\"data\":{\"barpolar\":[{\"marker\":{\"line\":{\"color\":\"rgb(17,17,17)\",\"width\":0.5},\"pattern\":{\"fillmode\":\"overlay\",\"size\":10,\"solidity\":0.2}},\"type\":\"barpolar\"}],\"bar\":[{\"error_x\":{\"color\":\"#f2f5fa\"},\"error_y\":{\"color\":\"#f2f5fa\"},\"marker\":{\"line\":{\"color\":\"rgb(17,17,17)\",\"width\":0.5},\"pattern\":{\"fillmode\":\"overlay\",\"size\":10,\"solidity\":0.2}},\"type\":\"bar\"}],\"carpet\":[{\"aaxis\":{\"endlinecolor\":\"#A2B1C6\",\"gridcolor\":\"#506784\",\"linecolor\":\"#506784\",\"minorgridcolor\":\"#506784\",\"startlinecolor\":\"#A2B1C6\"},\"baxis\":{\"endlinecolor\":\"#A2B1C6\",\"gridcolor\":\"#506784\",\"linecolor\":\"#506784\",\"minorgridcolor\":\"#506784\",\"startlinecolor\":\"#A2B1C6\"},\"type\":\"carpet\"}],\"choropleth\":[{\"colorbar\":{\"outlinewidth\":0,\"ticks\":\"\"},\"type\":\"choropleth\"}],\"contourcarpet\":[{\"colorbar\":{\"outlinewidth\":0,\"ticks\":\"\"},\"type\":\"contourcarpet\"}],\"contour\":[{\"colorbar\":{\"outlinewidth\":0,\"ticks\":\"\"},\"colorscale\":[[0.0,\"#0d0887\"],[0.1111111111111111,\"#46039f\"],[0.2222222222222222,\"#7201a8\"],[0.3333333333333333,\"#9c179e\"],[0.4444444444444444,\"#bd3786\"],[0.5555555555555556,\"#d8576b\"],[0.6666666666666666,\"#ed7953\"],[0.7777777777777778,\"#fb9f3a\"],[0.8888888888888888,\"#fdca26\"],[1.0,\"#f0f921\"]],\"type\":\"contour\"}],\"heatmapgl\":[{\"colorbar\":{\"outlinewidth\":0,\"ticks\":\"\"},\"colorscale\":[[0.0,\"#0d0887\"],[0.1111111111111111,\"#46039f\"],[0.2222222222222222,\"#7201a8\"],[0.3333333333333333,\"#9c179e\"],[0.4444444444444444,\"#bd3786\"],[0.5555555555555556,\"#d8576b\"],[0.6666666666666666,\"#ed7953\"],[0.7777777777777778,\"#fb9f3a\"],[0.8888888888888888,\"#fdca26\"],[1.0,\"#f0f921\"]],\"type\":\"heatmapgl\"}],\"heatmap\":[{\"colorbar\":{\"outlinewidth\":0,\"ticks\":\"\"},\"colorscale\":[[0.0,\"#0d0887\"],[0.1111111111111111,\"#46039f\"],[0.2222222222222222,\"#7201a8\"],[0.3333333333333333,\"#9c179e\"],[0.4444444444444444,\"#bd3786\"],[0.5555555555555556,\"#d8576b\"],[0.6666666666666666,\"#ed7953\"],[0.7777777777777778,\"#fb9f3a\"],[0.8888888888888888,\"#fdca26\"],[1.0,\"#f0f921\"]],\"type\":\"heatmap\"}],\"histogram2dcontour\":[{\"colorbar\":{\"outlinewidth\":0,\"ticks\":\"\"},\"colorscale\":[[0.0,\"#0d0887\"],[0.1111111111111111,\"#46039f\"],[0.2222222222222222,\"#7201a8\"],[0.3333333333333333,\"#9c179e\"],[0.4444444444444444,\"#bd3786\"],[0.5555555555555556,\"#d8576b\"],[0.6666666666666666,\"#ed7953\"],[0.7777777777777778,\"#fb9f3a\"],[0.8888888888888888,\"#fdca26\"],[1.0,\"#f0f921\"]],\"type\":\"histogram2dcontour\"}],\"histogram2d\":[{\"colorbar\":{\"outlinewidth\":0,\"ticks\":\"\"},\"colorscale\":[[0.0,\"#0d0887\"],[0.1111111111111111,\"#46039f\"],[0.2222222222222222,\"#7201a8\"],[0.3333333333333333,\"#9c179e\"],[0.4444444444444444,\"#bd3786\"],[0.5555555555555556,\"#d8576b\"],[0.6666666666666666,\"#ed7953\"],[0.7777777777777778,\"#fb9f3a\"],[0.8888888888888888,\"#fdca26\"],[1.0,\"#f0f921\"]],\"type\":\"histogram2d\"}],\"histogram\":[{\"marker\":{\"pattern\":{\"fillmode\":\"overlay\",\"size\":10,\"solidity\":0.2}},\"type\":\"histogram\"}],\"mesh3d\":[{\"colorbar\":{\"outlinewidth\":0,\"ticks\":\"\"},\"type\":\"mesh3d\"}],\"parcoords\":[{\"line\":{\"colorbar\":{\"outlinewidth\":0,\"ticks\":\"\"}},\"type\":\"parcoords\"}],\"pie\":[{\"automargin\":true,\"type\":\"pie\"}],\"scatter3d\":[{\"line\":{\"colorbar\":{\"outlinewidth\":0,\"ticks\":\"\"}},\"marker\":{\"colorbar\":{\"outlinewidth\":0,\"ticks\":\"\"}},\"type\":\"scatter3d\"}],\"scattercarpet\":[{\"marker\":{\"colorbar\":{\"outlinewidth\":0,\"ticks\":\"\"}},\"type\":\"scattercarpet\"}],\"scattergeo\":[{\"marker\":{\"colorbar\":{\"outlinewidth\":0,\"ticks\":\"\"}},\"type\":\"scattergeo\"}],\"scattergl\":[{\"marker\":{\"line\":{\"color\":\"#283442\"}},\"type\":\"scattergl\"}],\"scattermapbox\":[{\"marker\":{\"colorbar\":{\"outlinewidth\":0,\"ticks\":\"\"}},\"type\":\"scattermapbox\"}],\"scatterpolargl\":[{\"marker\":{\"colorbar\":{\"outlinewidth\":0,\"ticks\":\"\"}},\"type\":\"scatterpolargl\"}],\"scatterpolar\":[{\"marker\":{\"colorbar\":{\"outlinewidth\":0,\"ticks\":\"\"}},\"type\":\"scatterpolar\"}],\"scatter\":[{\"marker\":{\"line\":{\"color\":\"#283442\"}},\"type\":\"scatter\"}],\"scatterternary\":[{\"marker\":{\"colorbar\":{\"outlinewidth\":0,\"ticks\":\"\"}},\"type\":\"scatterternary\"}],\"surface\":[{\"colorbar\":{\"outlinewidth\":0,\"ticks\":\"\"},\"colorscale\":[[0.0,\"#0d0887\"],[0.1111111111111111,\"#46039f\"],[0.2222222222222222,\"#7201a8\"],[0.3333333333333333,\"#9c179e\"],[0.4444444444444444,\"#bd3786\"],[0.5555555555555556,\"#d8576b\"],[0.6666666666666666,\"#ed7953\"],[0.7777777777777778,\"#fb9f3a\"],[0.8888888888888888,\"#fdca26\"],[1.0,\"#f0f921\"]],\"type\":\"surface\"}],\"table\":[{\"cells\":{\"fill\":{\"color\":\"#506784\"},\"line\":{\"color\":\"rgb(17,17,17)\"}},\"header\":{\"fill\":{\"color\":\"#2a3f5f\"},\"line\":{\"color\":\"rgb(17,17,17)\"}},\"type\":\"table\"}]},\"layout\":{\"annotationdefaults\":{\"arrowcolor\":\"#f2f5fa\",\"arrowhead\":0,\"arrowwidth\":1},\"autotypenumbers\":\"strict\",\"coloraxis\":{\"colorbar\":{\"outlinewidth\":0,\"ticks\":\"\"}},\"colorscale\":{\"diverging\":[[0,\"#8e0152\"],[0.1,\"#c51b7d\"],[0.2,\"#de77ae\"],[0.3,\"#f1b6da\"],[0.4,\"#fde0ef\"],[0.5,\"#f7f7f7\"],[0.6,\"#e6f5d0\"],[0.7,\"#b8e186\"],[0.8,\"#7fbc41\"],[0.9,\"#4d9221\"],[1,\"#276419\"]],\"sequential\":[[0.0,\"#0d0887\"],[0.1111111111111111,\"#46039f\"],[0.2222222222222222,\"#7201a8\"],[0.3333333333333333,\"#9c179e\"],[0.4444444444444444,\"#bd3786\"],[0.5555555555555556,\"#d8576b\"],[0.6666666666666666,\"#ed7953\"],[0.7777777777777778,\"#fb9f3a\"],[0.8888888888888888,\"#fdca26\"],[1.0,\"#f0f921\"]],\"sequentialminus\":[[0.0,\"#0d0887\"],[0.1111111111111111,\"#46039f\"],[0.2222222222222222,\"#7201a8\"],[0.3333333333333333,\"#9c179e\"],[0.4444444444444444,\"#bd3786\"],[0.5555555555555556,\"#d8576b\"],[0.6666666666666666,\"#ed7953\"],[0.7777777777777778,\"#fb9f3a\"],[0.8888888888888888,\"#fdca26\"],[1.0,\"#f0f921\"]]},\"colorway\":[\"#636efa\",\"#EF553B\",\"#00cc96\",\"#ab63fa\",\"#FFA15A\",\"#19d3f3\",\"#FF6692\",\"#B6E880\",\"#FF97FF\",\"#FECB52\"],\"font\":{\"color\":\"#f2f5fa\"},\"geo\":{\"bgcolor\":\"rgb(17,17,17)\",\"lakecolor\":\"rgb(17,17,17)\",\"landcolor\":\"rgb(17,17,17)\",\"showlakes\":true,\"showland\":true,\"subunitcolor\":\"#506784\"},\"hoverlabel\":{\"align\":\"left\"},\"hovermode\":\"closest\",\"mapbox\":{\"style\":\"dark\"},\"paper_bgcolor\":\"rgb(17,17,17)\",\"plot_bgcolor\":\"rgb(17,17,17)\",\"polar\":{\"angularaxis\":{\"gridcolor\":\"#506784\",\"linecolor\":\"#506784\",\"ticks\":\"\"},\"bgcolor\":\"rgb(17,17,17)\",\"radialaxis\":{\"gridcolor\":\"#506784\",\"linecolor\":\"#506784\",\"ticks\":\"\"}},\"scene\":{\"xaxis\":{\"backgroundcolor\":\"rgb(17,17,17)\",\"gridcolor\":\"#506784\",\"gridwidth\":2,\"linecolor\":\"#506784\",\"showbackground\":true,\"ticks\":\"\",\"zerolinecolor\":\"#C8D4E3\"},\"yaxis\":{\"backgroundcolor\":\"rgb(17,17,17)\",\"gridcolor\":\"#506784\",\"gridwidth\":2,\"linecolor\":\"#506784\",\"showbackground\":true,\"ticks\":\"\",\"zerolinecolor\":\"#C8D4E3\"},\"zaxis\":{\"backgroundcolor\":\"rgb(17,17,17)\",\"gridcolor\":\"#506784\",\"gridwidth\":2,\"linecolor\":\"#506784\",\"showbackground\":true,\"ticks\":\"\",\"zerolinecolor\":\"#C8D4E3\"}},\"shapedefaults\":{\"line\":{\"color\":\"#f2f5fa\"}},\"sliderdefaults\":{\"bgcolor\":\"#C8D4E3\",\"bordercolor\":\"rgb(17,17,17)\",\"borderwidth\":1,\"tickwidth\":0},\"ternary\":{\"aaxis\":{\"gridcolor\":\"#506784\",\"linecolor\":\"#506784\",\"ticks\":\"\"},\"baxis\":{\"gridcolor\":\"#506784\",\"linecolor\":\"#506784\",\"ticks\":\"\"},\"bgcolor\":\"rgb(17,17,17)\",\"caxis\":{\"gridcolor\":\"#506784\",\"linecolor\":\"#506784\",\"ticks\":\"\"}},\"title\":{\"x\":0.05},\"updatemenudefaults\":{\"bgcolor\":\"#506784\",\"borderwidth\":0},\"xaxis\":{\"automargin\":true,\"gridcolor\":\"#283442\",\"linecolor\":\"#506784\",\"ticks\":\"\",\"title\":{\"standoff\":15},\"zerolinecolor\":\"#283442\",\"zerolinewidth\":2},\"yaxis\":{\"automargin\":true,\"gridcolor\":\"#283442\",\"linecolor\":\"#506784\",\"ticks\":\"\",\"title\":{\"standoff\":15},\"zerolinecolor\":\"#283442\",\"zerolinewidth\":2}}},\"xaxis\":{\"anchor\":\"y\",\"domain\":[0.0,1.0]},\"yaxis\":{\"anchor\":\"x\",\"domain\":[0.0,1.0]},\"width\":600,\"height\":400},                        {\"responsive\": true}                    ).then(function(){\n",
              "                            \n",
              "var gd = document.getElementById('3a3e3080-7564-4089-9471-320fa68e75ba');\n",
              "var x = new MutationObserver(function (mutations, observer) {{\n",
              "        var display = window.getComputedStyle(gd).display;\n",
              "        if (!display || display === 'none') {{\n",
              "            console.log([gd, 'removed!']);\n",
              "            Plotly.purge(gd);\n",
              "            observer.disconnect();\n",
              "        }}\n",
              "}});\n",
              "\n",
              "// Listen for the removal of the full notebook cells\n",
              "var notebookContainer = gd.closest('#notebook-container');\n",
              "if (notebookContainer) {{\n",
              "    x.observe(notebookContainer, {childList: true});\n",
              "}}\n",
              "\n",
              "// Listen for the clearing of the current output cell\n",
              "var outputEl = gd.closest('.output');\n",
              "if (outputEl) {{\n",
              "    x.observe(outputEl, {childList: true});\n",
              "}}\n",
              "\n",
              "                        })                };                            </script>        </div>\n",
              "</body>\n",
              "</html>"
            ]
          },
          "metadata": {}
        }
      ]
    },
    {
      "cell_type": "code",
      "source": [
        "Gp = fK*exp(-ftheta*s)/(ftau*s+1)\n",
        "Gc =3.87\n",
        "Gm = 1\n",
        "Gfb = Gc*Gp/(1+Gp*Gc*Gm)\n",
        "Gfb=simplify(Gfb)\n",
        "t,y=sim(Gfb, lambda t: 1., N=500, dt=0.1)\n",
        "fig4=make_subplots()\n",
        "fig4.add_scatter(x=t, y= y)\n",
        "fig4.update_layout(width=600, height=400, template='plotly_dark')"
      ],
      "metadata": {
        "colab": {
          "base_uri": "https://localhost:8080/",
          "height": 417
        },
        "id": "JkJZ8nVwbSqS",
        "outputId": "4efe05af-2270-419d-80cf-9afa304aeac3"
      },
      "execution_count": 20,
      "outputs": [
        {
          "output_type": "display_data",
          "data": {
            "text/html": [
              "<html>\n",
              "<head><meta charset=\"utf-8\" /></head>\n",
              "<body>\n",
              "    <div>            <script src=\"https://cdnjs.cloudflare.com/ajax/libs/mathjax/2.7.5/MathJax.js?config=TeX-AMS-MML_SVG\"></script><script type=\"text/javascript\">if (window.MathJax && window.MathJax.Hub && window.MathJax.Hub.Config) {window.MathJax.Hub.Config({SVG: {font: \"STIX-Web\"}});}</script>                <script type=\"text/javascript\">window.PlotlyConfig = {MathJaxConfig: 'local'};</script>\n",
              "        <script charset=\"utf-8\" src=\"https://cdn.plot.ly/plotly-2.35.2.min.js\"></script>                <div id=\"b6aa51ad-851c-4964-90f9-5981b5fe662d\" class=\"plotly-graph-div\" style=\"height:400px; width:600px;\"></div>            <script type=\"text/javascript\">                                    window.PLOTLYENV=window.PLOTLYENV || {};                                    if (document.getElementById(\"b6aa51ad-851c-4964-90f9-5981b5fe662d\")) {                    Plotly.newPlot(                        \"b6aa51ad-851c-4964-90f9-5981b5fe662d\",                        [{\"x\":[0.0,0.1,0.2,0.30000000000000004,0.4,0.5,0.6000000000000001,0.7000000000000001,0.8,0.9,1.0,1.1,1.2000000000000002,1.3,1.4000000000000001,1.5,1.6,1.7000000000000002,1.8,1.9000000000000001,2.0,2.1,2.2,2.3000000000000003,2.4000000000000004,2.5,2.6,2.7,2.8000000000000003,2.9000000000000004,3.0,3.1,3.2,3.3000000000000003,3.4000000000000004,3.5,3.6,3.7,3.8000000000000003,3.9000000000000004,4.0,4.1000000000000005,4.2,4.3,4.4,4.5,4.6000000000000005,4.7,4.800000000000001,4.9,5.0,5.1000000000000005,5.2,5.300000000000001,5.4,5.5,5.6000000000000005,5.7,5.800000000000001,5.9,6.0,6.1000000000000005,6.2,6.300000000000001,6.4,6.5,6.6000000000000005,6.7,6.800000000000001,6.9,7.0,7.1000000000000005,7.2,7.300000000000001,7.4,7.5,7.6000000000000005,7.7,7.800000000000001,7.9,8.0,8.1,8.200000000000001,8.3,8.4,8.5,8.6,8.700000000000001,8.8,8.9,9.0,9.1,9.200000000000001,9.3,9.4,9.5,9.600000000000001,9.700000000000001,9.8,9.9,10.0,10.100000000000001,10.200000000000001,10.3,10.4,10.5,10.600000000000001,10.700000000000001,10.8,10.9,11.0,11.100000000000001,11.200000000000001,11.3,11.4,11.5,11.600000000000001,11.700000000000001,11.8,11.9,12.0,12.100000000000001,12.200000000000001,12.3,12.4,12.5,12.600000000000001,12.700000000000001,12.8,12.9,13.0,13.100000000000001,13.200000000000001,13.3,13.4,13.5,13.600000000000001,13.700000000000001,13.8,13.9,14.0,14.100000000000001,14.200000000000001,14.3,14.4,14.5,14.600000000000001,14.700000000000001,14.8,14.9,15.0,15.100000000000001,15.200000000000001,15.3,15.4,15.5,15.600000000000001,15.700000000000001,15.8,15.9,16.0,16.1,16.2,16.3,16.400000000000002,16.5,16.6,16.7,16.8,16.900000000000002,17.0,17.1,17.2,17.3,17.400000000000002,17.5,17.6,17.7,17.8,17.900000000000002,18.0,18.1,18.2,18.3,18.400000000000002,18.5,18.6,18.7,18.8,18.900000000000002,19.0,19.1,19.200000000000003,19.3,19.400000000000002,19.5,19.6,19.700000000000003,19.8,19.900000000000002,20.0,20.1,20.200000000000003,20.3,20.400000000000002,20.5,20.6,20.700000000000003,20.8,20.900000000000002,21.0,21.1,21.200000000000003,21.3,21.400000000000002,21.5,21.6,21.700000000000003,21.8,21.900000000000002,22.0,22.1,22.200000000000003,22.3,22.400000000000002,22.5,22.6,22.700000000000003,22.8,22.900000000000002,23.0,23.1,23.200000000000003,23.3,23.400000000000002,23.5,23.6,23.700000000000003,23.8,23.900000000000002,24.0,24.1,24.200000000000003,24.3,24.400000000000002,24.5,24.6,24.700000000000003,24.8,24.900000000000002,25.0,25.1,25.200000000000003,25.3,25.400000000000002,25.5,25.6,25.700000000000003,25.8,25.900000000000002,26.0,26.1,26.200000000000003,26.3,26.400000000000002,26.5,26.6,26.700000000000003,26.8,26.900000000000002,27.0,27.1,27.200000000000003,27.3,27.400000000000002,27.5,27.6,27.700000000000003,27.8,27.900000000000002,28.0,28.1,28.200000000000003,28.3,28.400000000000002,28.5,28.6,28.700000000000003,28.8,28.900000000000002,29.0,29.1,29.200000000000003,29.3,29.400000000000002,29.5,29.6,29.700000000000003,29.8,29.900000000000002,30.0,30.1,30.200000000000003,30.3,30.400000000000002,30.5,30.6,30.700000000000003,30.8,30.900000000000002,31.0,31.1,31.200000000000003,31.3,31.400000000000002,31.5,31.6,31.700000000000003,31.8,31.900000000000002,32.0,32.1,32.2,32.300000000000004,32.4,32.5,32.6,32.7,32.800000000000004,32.9,33.0,33.1,33.2,33.300000000000004,33.4,33.5,33.6,33.7,33.800000000000004,33.9,34.0,34.1,34.2,34.300000000000004,34.4,34.5,34.6,34.7,34.800000000000004,34.9,35.0,35.1,35.2,35.300000000000004,35.4,35.5,35.6,35.7,35.800000000000004,35.9,36.0,36.1,36.2,36.300000000000004,36.4,36.5,36.6,36.7,36.800000000000004,36.9,37.0,37.1,37.2,37.300000000000004,37.4,37.5,37.6,37.7,37.800000000000004,37.9,38.0,38.1,38.2,38.300000000000004,38.400000000000006,38.5,38.6,38.7,38.800000000000004,38.900000000000006,39.0,39.1,39.2,39.300000000000004,39.400000000000006,39.5,39.6,39.7,39.800000000000004,39.900000000000006,40.0,40.1,40.2,40.300000000000004,40.400000000000006,40.5,40.6,40.7,40.800000000000004,40.900000000000006,41.0,41.1,41.2,41.300000000000004,41.400000000000006,41.5,41.6,41.7,41.800000000000004,41.900000000000006,42.0,42.1,42.2,42.300000000000004,42.400000000000006,42.5,42.6,42.7,42.800000000000004,42.900000000000006,43.0,43.1,43.2,43.300000000000004,43.400000000000006,43.5,43.6,43.7,43.800000000000004,43.900000000000006,44.0,44.1,44.2,44.300000000000004,44.400000000000006,44.5,44.6,44.7,44.800000000000004,44.900000000000006,45.0,45.1,45.2,45.300000000000004,45.400000000000006,45.5,45.6,45.7,45.800000000000004,45.900000000000006,46.0,46.1,46.2,46.300000000000004,46.400000000000006,46.5,46.6,46.7,46.800000000000004,46.900000000000006,47.0,47.1,47.2,47.300000000000004,47.400000000000006,47.5,47.6,47.7,47.800000000000004,47.900000000000006,48.0,48.1,48.2,48.300000000000004,48.400000000000006,48.5,48.6,48.7,48.800000000000004,48.900000000000006,49.0,49.1,49.2,49.300000000000004,49.400000000000006,49.5,49.6,49.7,49.800000000000004,49.900000000000006],\"y\":[0.0,0.0,0.0,0.0,0.0,0.0,0.0,0.0,0.0,0.0,0.0,0.0,0.0,0.0,0.0,0.0,0.0,0.0,0.0,0.0,0.0,0.0,0.0,0.0,0.0,0.0,0.0,0.10115867998073615,0.20049149515989856,0.2936489388555507,0.3810149246101663,0.4629494986396167,0.5397903236289092,0.6118540702825842,0.6794377223645175,0.7428198006053639,0.8022615105215217,0.8580078188759174,0.9102884632168466,0.9593188986553082,1.005301185782613,1.0484248233874987,1.0888675294044676,1.126795973311753,1.1623664629971986,1.1957255889227243,1.2270108282420595,1.2563511113613817,1.2838673532777403,1.3096729518849648,1.3338742553006504,1.356571000140125,1.3778567225435858,1.3824147954458772,1.3760548380976692,1.3605430668694452,1.3370520372592074,1.3066338179936658,1.27024050595178,1.2287325901999748,1.182886662451759,1.1334025228890474,1.0809097267237562,1.0259736135728983,0.969100858650653,0.9107445819301722,0.8513090487809203,0.7911539931297406,0.7305985919123014,0.6699251174637753,0.6093822925318377,0.5491883707708567,0.4895339638832396,0.43058463500319366,0.3724832764609511,0.3153522887136904,0.2592955759756474,0.20440037291706442,0.15073891572342432,0.100715729395977,0.055021292325650485,0.014257612932422345,-0.021097755570051568,-0.050701109492739996,-0.0743257386106164,-0.0918454135952424,-0.10321965650166219,-0.10848064781096725,-0.10772161144398221,-0.10108653330209096,-0.08876108184001466,-0.07096461102880068,-0.047943136914234644,-0.01996318889822646,0.012693554056143025,0.04973492380179408,0.09086229389524719,0.1357740480020053,0.1841685465088545,0.23574664626665828,0.2902138231285015,0.3472819421537873,0.40667071598034427,0.4681088878879986,0.5313351724554785,0.5957417733641276,0.6607604632667695,0.7258027491025111,0.790272289840588,0.8535800412652913,0.9151553941207836,0.9744548325507663,1.030968582467112,1.084225544077875,1.1337967636221629,1.1792976688795396,1.2203892658079103,1.256778469340096,1.288217719654061,1.3145040158690189,1.3354774818773663,1.3510195636896507,1.361050944055484,1.3655292480541423,1.3644466026674578,1.3578271039123637,1.345724236792288,1.3282182860091427,1.3054137689556127,1.2774369168857322,1.244433225254494,1.2066194855564516,1.164257964152467,1.1176576366367565,1.067171668480899,1.0131931624913748,0.9561501750002224,0.8965002521055052,0.8347247027507524,0.7713227914465235,0.7068059973577945,0.6416924551505963,0.5765016663110772,0.5117495470555,0.4479438599251331,0.38558006024754804,0.3251375754396611,0.26707652426823103,0.21183487435248768,0.1598260291104301,0.11143682976732,0.06702595374441192,0.02692268753639717,-0.00857395010030928,-0.039195760336192,-0.06470561838361595,-0.08489745641247273,-0.09960428533783434,-0.10869948108963713,-0.1120992080448213,-0.10976431158139066,-0.10170155448251207,-0.08796421204885871,-0.06865202907966166,-0.04391056128024967,-0.013929939895863271,0.021056890303400518,0.06077640203294123,0.10491712337547024,0.153132618403357,0.20504474636203232,0.2602471367167549,0.3183088200163338,0.37877795804535686,0.4411856208683454,0.5050495629065116,0.569877954958502,0.6351730339417351,0.7004346369789832,0.7651635911972222,0.8288649351747843,0.8910509523165718,0.9512440005186861,1.0089803876528072,1.0638138458447273,1.1153190835951194,1.1630952947604403,1.2067695481653056,1.2459999979437293,1.2804788585346416,1.309935095004531,1.3341367873362047,1.3528931357533605,1.3660560826641928,1.3735215351123309,1.3752301795024358,1.3711678876651205,1.3613657199372056,1.3458995367956335,1.3248892356665347,1.2984976338311263,1.2669290218833984,1.2304274149925227,1.1892745313280515,1.143787528468879,1.094316529492867,1.0412419707912886,0.9849718035300774,0.9259385801467696,0.8645962643045826,0.8014168885681275,0.7368870419583021,0.671504207083348,0.605772972635012,0.5402011508999909,0.47529583380068924,0.41155942378240146,0.34948567758802357,0.28955580166315414,0.2322346376887028,0.17796697563980846,0.12717402992797416,0.08025011171353003,0.03755952749391426,-0.000566269305312461,-0.0338312506774245,-0.06197709111565312,-0.08478513417594374,-0.10207803723420103,-0.11372108705784925,-0.11962318259876929,-0.11973748503009404,-0.11406173845064405,-0.1026382678347127,-0.08555366368615214,-0.06293813619693356,-0.03496454880610273,-0.00184713256968746,0.03616011382422724,0.07876533076875225,0.1256410007018076,0.17642643376479947,0.23073051946827294,0.28813472460935796,0.34819631478513097,0.41045177419828605,0.474420396126354,0.5396080144759982,0.6055108453076548,0.6716194061148576,0.7374224799868622,0.8024110915700198,0.8660824619597831,0.9279439102808817,0.9875166707192363,1.0443395951229026,1.0979727129531915,1.1480006223008592,1.1940356878450529,1.2357210239817538,1.272733243842748,1.3047849530707494,1.33162697077937,1.3530502610333648,1.3688875598716606,1.3790146847703981,1.3833515155038363,1.3818626376291483,1.374557642282382,1.3614910786020127,1.342762057860765,1.3185135112461803,1.2889311061424737,1.2542418286848354,1.2147122432367126,1.1706464422359981,1.1223837025250678,1.0702958667837723,1.01478447098878,0.9562776408978467,0.8952267823786443,0.8321030919495537,0.767393915160603,0.7015989814072272,0.635226544434703,0.5687894581573816,0.502801217489674,0.4377719943529239,0.3742046988406489,0.3125910953706631,0.2534080032993158,0.19711361093323188,0.1441439311411825,0.09490942583142034,0.04979182541175877,0.009141167986775667,-0.026726918530276377,-0.057533669998665826,-0.08303935591723555,-0.10304514833999816,-0.11739467494049158,-0.12597524380852546,-0.1287187301677155,-0.1256021179016851,-0.11664769154203287,-0.10192287717260791,-0.08153973351182797,-0.05565409721765275,-0.024464389188794962,0.011789908717472472,0.052830094592724315,0.09834039064775923,0.14797037403559996,0.20133767554159737,0.2580309253634988,0.3176129233531084,0.3796240094016255,0.4435856081321647,0.5090039207259784,0.5753737355636451,0.6421823284202028,0.7089134222239852,0.7750511758817594,0.8400841713963538,0.9035093684627313,0.9648359959293631,1.0235893499550366,1.0793144693766403,1.1315796597272363,1.1799798384999276,1.224139675632753,1.2637165047814094,1.298402982736207,1.3279294763106961,1.3520661581636473,1.370624795293218,1.3834602163404706,1.3904714463361147,1.3916025000956773,1.3868428281057723,1.3762274114192965,1.3598365047747596,1.3377950298552592,1.31027162328707,1.2774773466277798,1.2396640681906879,1.1971225290771916,1.1501801082235148,1.099198303594121,1.0445699488535358,0.9867161869035269,0.926083223567267,0.8631388864199523,0.7983690152926561,0.7322737122988432,0.665363480340165,0.5981552799298548,0.531168534820107,0.4649211173293972,0.3999253444321898,0.33668401559647076,0.27568652303479824,0.21740506447505759,0.16229098776436535,0.11077129560028103,0.06324533744605461,0.020081714241661542,-0.018384580119056373,-0.05185475839917543,-0.08006856056559482,-0.10280627726843418,-0.1198904605356873,-0.13118730837350656,-0.13660771247296066,-0.13610796081914137,-0.12969008965819553,-0.11740188198233972,-0.0993365124215458,-0.07563184116242015,-0.04646936222882212,-0.012072814133771015,0.02729353647260491,0.07132692499975149,0.11968841736438829,0.17200551878129103,0.22787504281292292,0.28686621857278416,0.34852401212771494,0.41237263648058975,0.4779192230496065,0.5446576263050148,0.6120723321881779,0.679642440129124,0.7468456879032888,0.8131624882301309,0.8780799459182692,0.9410958245043087,1.0017224317144684,1.059490393696599,1.1139522888204194,1.1646861129194666,1.2112985491411699,1.253428017071889,1.290747477500334,1.3229669710626288,1.349835871061108,1.371144832951044,1.3867274253280868,1.396461429706169,1.4002697989321364,1.3981212667195335,1.3900306034794325,1.3760585163599408,1.3563111941568728,1.3309395005045388,1.3001378214764545,1.264142576399762,1.2232304032937162,1.177716032861256,1.127949867374384,1.0743152830797273,1.0172256768929335,0.9571212801329215,0.8944657638537717,0.8297426619500421,0.7634516396271136,0.6961046360315595,0.6282219108179585,0.5603280251799687,0.4929477883899233,0.42660220116743597,0.3618044272321974,0.2990558241885532,0.23884206444072195,0.18162937615188315,0.12786093334188686,0.07795342307489922,0.032293816328293985,-0.008763632432297603,-0.04490013370686084,-0.07583483811982278,-0.10132701906604118,-0.121177945881644,-0.13523243296487136,-0.14338005277262175,-0.1455560032132993,-0.1417416226252541,-0.13196454825226028,-0.11629851688198682,-0.09486280907894529,-0.06782134119871455,-0.03538141209391471,0.0022078859064404662,0.04465757956482166,0.0916410361662784,0.14279647673697385,0.1977297617137672,0.2560174276164465,0.31720995132757257,0.3808352168180256,0.4464021575837627,0.5134045466926439,0.5813249051902466,0.6496384986897427,0.7178173912795143,0.7853345254297003,0.8516677963680872,0.9163040894286334,0.978743249152674,1.0385019494404901,1.0951174348066328,1.1481511037795242,1.1971919066971486,1.2418595315771146,1.2818073533692405,1.3167251237205055,1.34634138038096,1.370425557539858,1.388789780687445,1.4012903320311416,1.4078287750372334,1.4083527293004603,1.4028562896440309,1.3913800861007548,1.3740109842007737,1.3508814277715975,1.3221684292200941,1.2880922149925789,1.248914536576885,1.2049366599989264,1.1564970492554365,1.1039687614952145,1.0477565739949861,0.9882938650552511,0.9260392728507246,0.8614731579936727,0.7950938970937202,0.7274140359126169,0.6589563318063549,0.5902497160122508],\"type\":\"scatter\"}],                        {\"template\":{\"data\":{\"barpolar\":[{\"marker\":{\"line\":{\"color\":\"rgb(17,17,17)\",\"width\":0.5},\"pattern\":{\"fillmode\":\"overlay\",\"size\":10,\"solidity\":0.2}},\"type\":\"barpolar\"}],\"bar\":[{\"error_x\":{\"color\":\"#f2f5fa\"},\"error_y\":{\"color\":\"#f2f5fa\"},\"marker\":{\"line\":{\"color\":\"rgb(17,17,17)\",\"width\":0.5},\"pattern\":{\"fillmode\":\"overlay\",\"size\":10,\"solidity\":0.2}},\"type\":\"bar\"}],\"carpet\":[{\"aaxis\":{\"endlinecolor\":\"#A2B1C6\",\"gridcolor\":\"#506784\",\"linecolor\":\"#506784\",\"minorgridcolor\":\"#506784\",\"startlinecolor\":\"#A2B1C6\"},\"baxis\":{\"endlinecolor\":\"#A2B1C6\",\"gridcolor\":\"#506784\",\"linecolor\":\"#506784\",\"minorgridcolor\":\"#506784\",\"startlinecolor\":\"#A2B1C6\"},\"type\":\"carpet\"}],\"choropleth\":[{\"colorbar\":{\"outlinewidth\":0,\"ticks\":\"\"},\"type\":\"choropleth\"}],\"contourcarpet\":[{\"colorbar\":{\"outlinewidth\":0,\"ticks\":\"\"},\"type\":\"contourcarpet\"}],\"contour\":[{\"colorbar\":{\"outlinewidth\":0,\"ticks\":\"\"},\"colorscale\":[[0.0,\"#0d0887\"],[0.1111111111111111,\"#46039f\"],[0.2222222222222222,\"#7201a8\"],[0.3333333333333333,\"#9c179e\"],[0.4444444444444444,\"#bd3786\"],[0.5555555555555556,\"#d8576b\"],[0.6666666666666666,\"#ed7953\"],[0.7777777777777778,\"#fb9f3a\"],[0.8888888888888888,\"#fdca26\"],[1.0,\"#f0f921\"]],\"type\":\"contour\"}],\"heatmapgl\":[{\"colorbar\":{\"outlinewidth\":0,\"ticks\":\"\"},\"colorscale\":[[0.0,\"#0d0887\"],[0.1111111111111111,\"#46039f\"],[0.2222222222222222,\"#7201a8\"],[0.3333333333333333,\"#9c179e\"],[0.4444444444444444,\"#bd3786\"],[0.5555555555555556,\"#d8576b\"],[0.6666666666666666,\"#ed7953\"],[0.7777777777777778,\"#fb9f3a\"],[0.8888888888888888,\"#fdca26\"],[1.0,\"#f0f921\"]],\"type\":\"heatmapgl\"}],\"heatmap\":[{\"colorbar\":{\"outlinewidth\":0,\"ticks\":\"\"},\"colorscale\":[[0.0,\"#0d0887\"],[0.1111111111111111,\"#46039f\"],[0.2222222222222222,\"#7201a8\"],[0.3333333333333333,\"#9c179e\"],[0.4444444444444444,\"#bd3786\"],[0.5555555555555556,\"#d8576b\"],[0.6666666666666666,\"#ed7953\"],[0.7777777777777778,\"#fb9f3a\"],[0.8888888888888888,\"#fdca26\"],[1.0,\"#f0f921\"]],\"type\":\"heatmap\"}],\"histogram2dcontour\":[{\"colorbar\":{\"outlinewidth\":0,\"ticks\":\"\"},\"colorscale\":[[0.0,\"#0d0887\"],[0.1111111111111111,\"#46039f\"],[0.2222222222222222,\"#7201a8\"],[0.3333333333333333,\"#9c179e\"],[0.4444444444444444,\"#bd3786\"],[0.5555555555555556,\"#d8576b\"],[0.6666666666666666,\"#ed7953\"],[0.7777777777777778,\"#fb9f3a\"],[0.8888888888888888,\"#fdca26\"],[1.0,\"#f0f921\"]],\"type\":\"histogram2dcontour\"}],\"histogram2d\":[{\"colorbar\":{\"outlinewidth\":0,\"ticks\":\"\"},\"colorscale\":[[0.0,\"#0d0887\"],[0.1111111111111111,\"#46039f\"],[0.2222222222222222,\"#7201a8\"],[0.3333333333333333,\"#9c179e\"],[0.4444444444444444,\"#bd3786\"],[0.5555555555555556,\"#d8576b\"],[0.6666666666666666,\"#ed7953\"],[0.7777777777777778,\"#fb9f3a\"],[0.8888888888888888,\"#fdca26\"],[1.0,\"#f0f921\"]],\"type\":\"histogram2d\"}],\"histogram\":[{\"marker\":{\"pattern\":{\"fillmode\":\"overlay\",\"size\":10,\"solidity\":0.2}},\"type\":\"histogram\"}],\"mesh3d\":[{\"colorbar\":{\"outlinewidth\":0,\"ticks\":\"\"},\"type\":\"mesh3d\"}],\"parcoords\":[{\"line\":{\"colorbar\":{\"outlinewidth\":0,\"ticks\":\"\"}},\"type\":\"parcoords\"}],\"pie\":[{\"automargin\":true,\"type\":\"pie\"}],\"scatter3d\":[{\"line\":{\"colorbar\":{\"outlinewidth\":0,\"ticks\":\"\"}},\"marker\":{\"colorbar\":{\"outlinewidth\":0,\"ticks\":\"\"}},\"type\":\"scatter3d\"}],\"scattercarpet\":[{\"marker\":{\"colorbar\":{\"outlinewidth\":0,\"ticks\":\"\"}},\"type\":\"scattercarpet\"}],\"scattergeo\":[{\"marker\":{\"colorbar\":{\"outlinewidth\":0,\"ticks\":\"\"}},\"type\":\"scattergeo\"}],\"scattergl\":[{\"marker\":{\"line\":{\"color\":\"#283442\"}},\"type\":\"scattergl\"}],\"scattermapbox\":[{\"marker\":{\"colorbar\":{\"outlinewidth\":0,\"ticks\":\"\"}},\"type\":\"scattermapbox\"}],\"scatterpolargl\":[{\"marker\":{\"colorbar\":{\"outlinewidth\":0,\"ticks\":\"\"}},\"type\":\"scatterpolargl\"}],\"scatterpolar\":[{\"marker\":{\"colorbar\":{\"outlinewidth\":0,\"ticks\":\"\"}},\"type\":\"scatterpolar\"}],\"scatter\":[{\"marker\":{\"line\":{\"color\":\"#283442\"}},\"type\":\"scatter\"}],\"scatterternary\":[{\"marker\":{\"colorbar\":{\"outlinewidth\":0,\"ticks\":\"\"}},\"type\":\"scatterternary\"}],\"surface\":[{\"colorbar\":{\"outlinewidth\":0,\"ticks\":\"\"},\"colorscale\":[[0.0,\"#0d0887\"],[0.1111111111111111,\"#46039f\"],[0.2222222222222222,\"#7201a8\"],[0.3333333333333333,\"#9c179e\"],[0.4444444444444444,\"#bd3786\"],[0.5555555555555556,\"#d8576b\"],[0.6666666666666666,\"#ed7953\"],[0.7777777777777778,\"#fb9f3a\"],[0.8888888888888888,\"#fdca26\"],[1.0,\"#f0f921\"]],\"type\":\"surface\"}],\"table\":[{\"cells\":{\"fill\":{\"color\":\"#506784\"},\"line\":{\"color\":\"rgb(17,17,17)\"}},\"header\":{\"fill\":{\"color\":\"#2a3f5f\"},\"line\":{\"color\":\"rgb(17,17,17)\"}},\"type\":\"table\"}]},\"layout\":{\"annotationdefaults\":{\"arrowcolor\":\"#f2f5fa\",\"arrowhead\":0,\"arrowwidth\":1},\"autotypenumbers\":\"strict\",\"coloraxis\":{\"colorbar\":{\"outlinewidth\":0,\"ticks\":\"\"}},\"colorscale\":{\"diverging\":[[0,\"#8e0152\"],[0.1,\"#c51b7d\"],[0.2,\"#de77ae\"],[0.3,\"#f1b6da\"],[0.4,\"#fde0ef\"],[0.5,\"#f7f7f7\"],[0.6,\"#e6f5d0\"],[0.7,\"#b8e186\"],[0.8,\"#7fbc41\"],[0.9,\"#4d9221\"],[1,\"#276419\"]],\"sequential\":[[0.0,\"#0d0887\"],[0.1111111111111111,\"#46039f\"],[0.2222222222222222,\"#7201a8\"],[0.3333333333333333,\"#9c179e\"],[0.4444444444444444,\"#bd3786\"],[0.5555555555555556,\"#d8576b\"],[0.6666666666666666,\"#ed7953\"],[0.7777777777777778,\"#fb9f3a\"],[0.8888888888888888,\"#fdca26\"],[1.0,\"#f0f921\"]],\"sequentialminus\":[[0.0,\"#0d0887\"],[0.1111111111111111,\"#46039f\"],[0.2222222222222222,\"#7201a8\"],[0.3333333333333333,\"#9c179e\"],[0.4444444444444444,\"#bd3786\"],[0.5555555555555556,\"#d8576b\"],[0.6666666666666666,\"#ed7953\"],[0.7777777777777778,\"#fb9f3a\"],[0.8888888888888888,\"#fdca26\"],[1.0,\"#f0f921\"]]},\"colorway\":[\"#636efa\",\"#EF553B\",\"#00cc96\",\"#ab63fa\",\"#FFA15A\",\"#19d3f3\",\"#FF6692\",\"#B6E880\",\"#FF97FF\",\"#FECB52\"],\"font\":{\"color\":\"#f2f5fa\"},\"geo\":{\"bgcolor\":\"rgb(17,17,17)\",\"lakecolor\":\"rgb(17,17,17)\",\"landcolor\":\"rgb(17,17,17)\",\"showlakes\":true,\"showland\":true,\"subunitcolor\":\"#506784\"},\"hoverlabel\":{\"align\":\"left\"},\"hovermode\":\"closest\",\"mapbox\":{\"style\":\"dark\"},\"paper_bgcolor\":\"rgb(17,17,17)\",\"plot_bgcolor\":\"rgb(17,17,17)\",\"polar\":{\"angularaxis\":{\"gridcolor\":\"#506784\",\"linecolor\":\"#506784\",\"ticks\":\"\"},\"bgcolor\":\"rgb(17,17,17)\",\"radialaxis\":{\"gridcolor\":\"#506784\",\"linecolor\":\"#506784\",\"ticks\":\"\"}},\"scene\":{\"xaxis\":{\"backgroundcolor\":\"rgb(17,17,17)\",\"gridcolor\":\"#506784\",\"gridwidth\":2,\"linecolor\":\"#506784\",\"showbackground\":true,\"ticks\":\"\",\"zerolinecolor\":\"#C8D4E3\"},\"yaxis\":{\"backgroundcolor\":\"rgb(17,17,17)\",\"gridcolor\":\"#506784\",\"gridwidth\":2,\"linecolor\":\"#506784\",\"showbackground\":true,\"ticks\":\"\",\"zerolinecolor\":\"#C8D4E3\"},\"zaxis\":{\"backgroundcolor\":\"rgb(17,17,17)\",\"gridcolor\":\"#506784\",\"gridwidth\":2,\"linecolor\":\"#506784\",\"showbackground\":true,\"ticks\":\"\",\"zerolinecolor\":\"#C8D4E3\"}},\"shapedefaults\":{\"line\":{\"color\":\"#f2f5fa\"}},\"sliderdefaults\":{\"bgcolor\":\"#C8D4E3\",\"bordercolor\":\"rgb(17,17,17)\",\"borderwidth\":1,\"tickwidth\":0},\"ternary\":{\"aaxis\":{\"gridcolor\":\"#506784\",\"linecolor\":\"#506784\",\"ticks\":\"\"},\"baxis\":{\"gridcolor\":\"#506784\",\"linecolor\":\"#506784\",\"ticks\":\"\"},\"bgcolor\":\"rgb(17,17,17)\",\"caxis\":{\"gridcolor\":\"#506784\",\"linecolor\":\"#506784\",\"ticks\":\"\"}},\"title\":{\"x\":0.05},\"updatemenudefaults\":{\"bgcolor\":\"#506784\",\"borderwidth\":0},\"xaxis\":{\"automargin\":true,\"gridcolor\":\"#283442\",\"linecolor\":\"#506784\",\"ticks\":\"\",\"title\":{\"standoff\":15},\"zerolinecolor\":\"#283442\",\"zerolinewidth\":2},\"yaxis\":{\"automargin\":true,\"gridcolor\":\"#283442\",\"linecolor\":\"#506784\",\"ticks\":\"\",\"title\":{\"standoff\":15},\"zerolinecolor\":\"#283442\",\"zerolinewidth\":2}}},\"xaxis\":{\"anchor\":\"y\",\"domain\":[0.0,1.0]},\"yaxis\":{\"anchor\":\"x\",\"domain\":[0.0,1.0]},\"width\":600,\"height\":400},                        {\"responsive\": true}                    ).then(function(){\n",
              "                            \n",
              "var gd = document.getElementById('b6aa51ad-851c-4964-90f9-5981b5fe662d');\n",
              "var x = new MutationObserver(function (mutations, observer) {{\n",
              "        var display = window.getComputedStyle(gd).display;\n",
              "        if (!display || display === 'none') {{\n",
              "            console.log([gd, 'removed!']);\n",
              "            Plotly.purge(gd);\n",
              "            observer.disconnect();\n",
              "        }}\n",
              "}});\n",
              "\n",
              "// Listen for the removal of the full notebook cells\n",
              "var notebookContainer = gd.closest('#notebook-container');\n",
              "if (notebookContainer) {{\n",
              "    x.observe(notebookContainer, {childList: true});\n",
              "}}\n",
              "\n",
              "// Listen for the clearing of the current output cell\n",
              "var outputEl = gd.closest('.output');\n",
              "if (outputEl) {{\n",
              "    x.observe(outputEl, {childList: true});\n",
              "}}\n",
              "\n",
              "                        })                };                            </script>        </div>\n",
              "</body>\n",
              "</html>"
            ]
          },
          "metadata": {}
        }
      ]
    },
    {
      "cell_type": "code",
      "source": [
        "Ku = 3.87\n",
        "Tu = 19.5 - 12.4"
      ],
      "metadata": {
        "id": "eqHTqkvMb-pZ"
      },
      "execution_count": 21,
      "outputs": []
    },
    {
      "cell_type": "code",
      "source": [],
      "metadata": {
        "id": "ZzipEpaMcz40"
      },
      "execution_count": 21,
      "outputs": []
    }
  ]
}