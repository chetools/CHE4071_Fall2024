{
  "nbformat": 4,
  "nbformat_minor": 0,
  "metadata": {
    "colab": {
      "provenance": [],
      "authorship_tag": "ABX9TyPO0Soky7Y5QV7bMU6yldFj",
      "include_colab_link": true
    },
    "kernelspec": {
      "name": "python3",
      "display_name": "Python 3"
    },
    "language_info": {
      "name": "python"
    }
  },
  "cells": [
    {
      "cell_type": "markdown",
      "metadata": {
        "id": "view-in-github",
        "colab_type": "text"
      },
      "source": [
        "<a href=\"https://colab.research.google.com/github/chetools/CHE4071_Fall2024/blob/main/FOPTD_Model.ipynb\" target=\"_parent\"><img src=\"https://colab.research.google.com/assets/colab-badge.svg\" alt=\"Open In Colab\"/></a>"
      ]
    },
    {
      "cell_type": "code",
      "execution_count": 1,
      "metadata": {
        "colab": {
          "base_uri": "https://localhost:8080/"
        },
        "id": "2IVvN85dWumt",
        "outputId": "5ee27603-0ac0-4060-9305-8a755e6ed8cf"
      },
      "outputs": [
        {
          "output_type": "stream",
          "name": "stdout",
          "text": [
            "Collecting importnb\n",
            "  Downloading importnb-2023.11.1-py3-none-any.whl.metadata (9.4 kB)\n",
            "Downloading importnb-2023.11.1-py3-none-any.whl (45 kB)\n",
            "\u001b[?25l   \u001b[90m━━━━━━━━━━━━━━━━━━━━━━━━━━━━━━━━━━━━━━━━\u001b[0m \u001b[32m0.0/46.0 kB\u001b[0m \u001b[31m?\u001b[0m eta \u001b[36m-:--:--\u001b[0m\r\u001b[2K   \u001b[90m━━━━━━━━━━━━━━━━━━━━━━━━━━━━━━━━━━━━━━━━\u001b[0m \u001b[32m46.0/46.0 kB\u001b[0m \u001b[31m1.6 MB/s\u001b[0m eta \u001b[36m0:00:00\u001b[0m\n",
            "\u001b[?25hInstalling collected packages: importnb\n",
            "Successfully installed importnb-2023.11.1\n"
          ]
        }
      ],
      "source": [
        "!wget -N -q https://raw.githubusercontent.com/chetools/chetools/main/tools/che5.ipynb -O che5.ipynb\n",
        "!pip install importnb"
      ]
    },
    {
      "cell_type": "code",
      "source": [
        "from importnb import Notebook\n",
        "with Notebook():\n",
        "    from che5 import sim, pid, TF1, TF2, shift\n",
        "\n",
        "import numpy as np\n",
        "import jax\n",
        "import jax.numpy as jnp\n",
        "jax.config.update(\"jax_enable_x64\", True)\n",
        "\n",
        "from plotly.subplots import make_subplots\n",
        "\n",
        "from sympy.abc import s\n",
        "from sympy import exp, Symbol, simplify\n",
        "import scipy as sp\n",
        "import scipy.signal as sig"
      ],
      "metadata": {
        "id": "W0bo2gMdWwAr"
      },
      "execution_count": 2,
      "outputs": []
    },
    {
      "cell_type": "code",
      "source": [
        "import pandas as pd\n",
        "from scipy.optimize import minimize"
      ],
      "metadata": {
        "id": "4POPZTxRVnB0"
      },
      "execution_count": 3,
      "outputs": []
    },
    {
      "cell_type": "code",
      "source": [
        "K=1.1\n",
        "tau=1.5\n",
        "TF = K/((tau*s + 1))**4\n",
        "A = 2.5  # amplitude of step input"
      ],
      "metadata": {
        "id": "jtudOqQNgY2S"
      },
      "execution_count": 4,
      "outputs": []
    },
    {
      "cell_type": "code",
      "source": [
        "t,y=sim(TF, lambda t: A, N=50, dt=0.4)\n",
        "y = np.random.normal(loc = y, scale = 0.03)\n",
        "y = np.round(y,2)"
      ],
      "metadata": {
        "id": "9qVIFqzbUEoF"
      },
      "execution_count": 5,
      "outputs": []
    },
    {
      "cell_type": "code",
      "source": [
        "fig = make_subplots()\n",
        "fig.add_scatter(x=t, y=y, mode='markers')\n",
        "fig.update_layout(width=600, height=400, template='plotly_dark')"
      ],
      "metadata": {
        "colab": {
          "base_uri": "https://localhost:8080/",
          "height": 417
        },
        "id": "8K2MXhb5UW5N",
        "outputId": "4065424a-8d32-4cfe-f07b-2ec29d43b935"
      },
      "execution_count": 6,
      "outputs": [
        {
          "output_type": "display_data",
          "data": {
            "text/html": [
              "<html>\n",
              "<head><meta charset=\"utf-8\" /></head>\n",
              "<body>\n",
              "    <div>            <script src=\"https://cdnjs.cloudflare.com/ajax/libs/mathjax/2.7.5/MathJax.js?config=TeX-AMS-MML_SVG\"></script><script type=\"text/javascript\">if (window.MathJax && window.MathJax.Hub && window.MathJax.Hub.Config) {window.MathJax.Hub.Config({SVG: {font: \"STIX-Web\"}});}</script>                <script type=\"text/javascript\">window.PlotlyConfig = {MathJaxConfig: 'local'};</script>\n",
              "        <script charset=\"utf-8\" src=\"https://cdn.plot.ly/plotly-2.35.2.min.js\"></script>                <div id=\"ec167d15-f1c0-430e-86b4-736d53ea0e4c\" class=\"plotly-graph-div\" style=\"height:400px; width:600px;\"></div>            <script type=\"text/javascript\">                                    window.PLOTLYENV=window.PLOTLYENV || {};                                    if (document.getElementById(\"ec167d15-f1c0-430e-86b4-736d53ea0e4c\")) {                    Plotly.newPlot(                        \"ec167d15-f1c0-430e-86b4-736d53ea0e4c\",                        [{\"mode\":\"markers\",\"x\":[0.0,0.4,0.8,1.2000000000000002,1.6,2.0,2.4000000000000004,2.8000000000000003,3.2,3.6,4.0,4.4,4.800000000000001,5.2,5.6000000000000005,6.0,6.4,6.800000000000001,7.2,7.6000000000000005,8.0,8.4,8.8,9.200000000000001,9.600000000000001,10.0,10.4,10.8,11.200000000000001,11.600000000000001,12.0,12.4,12.8,13.200000000000001,13.600000000000001,14.0,14.4,14.8,15.200000000000001,15.600000000000001,16.0,16.400000000000002,16.8,17.2,17.6,18.0,18.400000000000002,18.8,19.200000000000003,19.6],\"y\":[0.03,-0.01,-0.0,0.01,0.03,0.13,0.17,0.37,0.44,0.58,0.78,0.89,1.08,1.26,1.4,1.58,1.71,1.83,1.94,2.04,2.14,2.19,2.3,2.42,2.38,2.46,2.49,2.58,2.62,2.59,2.67,2.69,2.71,2.68,2.72,2.72,2.7,2.74,2.69,2.74,2.71,2.74,2.72,2.72,2.77,2.79,2.78,2.75,2.82,2.72],\"type\":\"scatter\"}],                        {\"template\":{\"data\":{\"barpolar\":[{\"marker\":{\"line\":{\"color\":\"rgb(17,17,17)\",\"width\":0.5},\"pattern\":{\"fillmode\":\"overlay\",\"size\":10,\"solidity\":0.2}},\"type\":\"barpolar\"}],\"bar\":[{\"error_x\":{\"color\":\"#f2f5fa\"},\"error_y\":{\"color\":\"#f2f5fa\"},\"marker\":{\"line\":{\"color\":\"rgb(17,17,17)\",\"width\":0.5},\"pattern\":{\"fillmode\":\"overlay\",\"size\":10,\"solidity\":0.2}},\"type\":\"bar\"}],\"carpet\":[{\"aaxis\":{\"endlinecolor\":\"#A2B1C6\",\"gridcolor\":\"#506784\",\"linecolor\":\"#506784\",\"minorgridcolor\":\"#506784\",\"startlinecolor\":\"#A2B1C6\"},\"baxis\":{\"endlinecolor\":\"#A2B1C6\",\"gridcolor\":\"#506784\",\"linecolor\":\"#506784\",\"minorgridcolor\":\"#506784\",\"startlinecolor\":\"#A2B1C6\"},\"type\":\"carpet\"}],\"choropleth\":[{\"colorbar\":{\"outlinewidth\":0,\"ticks\":\"\"},\"type\":\"choropleth\"}],\"contourcarpet\":[{\"colorbar\":{\"outlinewidth\":0,\"ticks\":\"\"},\"type\":\"contourcarpet\"}],\"contour\":[{\"colorbar\":{\"outlinewidth\":0,\"ticks\":\"\"},\"colorscale\":[[0.0,\"#0d0887\"],[0.1111111111111111,\"#46039f\"],[0.2222222222222222,\"#7201a8\"],[0.3333333333333333,\"#9c179e\"],[0.4444444444444444,\"#bd3786\"],[0.5555555555555556,\"#d8576b\"],[0.6666666666666666,\"#ed7953\"],[0.7777777777777778,\"#fb9f3a\"],[0.8888888888888888,\"#fdca26\"],[1.0,\"#f0f921\"]],\"type\":\"contour\"}],\"heatmapgl\":[{\"colorbar\":{\"outlinewidth\":0,\"ticks\":\"\"},\"colorscale\":[[0.0,\"#0d0887\"],[0.1111111111111111,\"#46039f\"],[0.2222222222222222,\"#7201a8\"],[0.3333333333333333,\"#9c179e\"],[0.4444444444444444,\"#bd3786\"],[0.5555555555555556,\"#d8576b\"],[0.6666666666666666,\"#ed7953\"],[0.7777777777777778,\"#fb9f3a\"],[0.8888888888888888,\"#fdca26\"],[1.0,\"#f0f921\"]],\"type\":\"heatmapgl\"}],\"heatmap\":[{\"colorbar\":{\"outlinewidth\":0,\"ticks\":\"\"},\"colorscale\":[[0.0,\"#0d0887\"],[0.1111111111111111,\"#46039f\"],[0.2222222222222222,\"#7201a8\"],[0.3333333333333333,\"#9c179e\"],[0.4444444444444444,\"#bd3786\"],[0.5555555555555556,\"#d8576b\"],[0.6666666666666666,\"#ed7953\"],[0.7777777777777778,\"#fb9f3a\"],[0.8888888888888888,\"#fdca26\"],[1.0,\"#f0f921\"]],\"type\":\"heatmap\"}],\"histogram2dcontour\":[{\"colorbar\":{\"outlinewidth\":0,\"ticks\":\"\"},\"colorscale\":[[0.0,\"#0d0887\"],[0.1111111111111111,\"#46039f\"],[0.2222222222222222,\"#7201a8\"],[0.3333333333333333,\"#9c179e\"],[0.4444444444444444,\"#bd3786\"],[0.5555555555555556,\"#d8576b\"],[0.6666666666666666,\"#ed7953\"],[0.7777777777777778,\"#fb9f3a\"],[0.8888888888888888,\"#fdca26\"],[1.0,\"#f0f921\"]],\"type\":\"histogram2dcontour\"}],\"histogram2d\":[{\"colorbar\":{\"outlinewidth\":0,\"ticks\":\"\"},\"colorscale\":[[0.0,\"#0d0887\"],[0.1111111111111111,\"#46039f\"],[0.2222222222222222,\"#7201a8\"],[0.3333333333333333,\"#9c179e\"],[0.4444444444444444,\"#bd3786\"],[0.5555555555555556,\"#d8576b\"],[0.6666666666666666,\"#ed7953\"],[0.7777777777777778,\"#fb9f3a\"],[0.8888888888888888,\"#fdca26\"],[1.0,\"#f0f921\"]],\"type\":\"histogram2d\"}],\"histogram\":[{\"marker\":{\"pattern\":{\"fillmode\":\"overlay\",\"size\":10,\"solidity\":0.2}},\"type\":\"histogram\"}],\"mesh3d\":[{\"colorbar\":{\"outlinewidth\":0,\"ticks\":\"\"},\"type\":\"mesh3d\"}],\"parcoords\":[{\"line\":{\"colorbar\":{\"outlinewidth\":0,\"ticks\":\"\"}},\"type\":\"parcoords\"}],\"pie\":[{\"automargin\":true,\"type\":\"pie\"}],\"scatter3d\":[{\"line\":{\"colorbar\":{\"outlinewidth\":0,\"ticks\":\"\"}},\"marker\":{\"colorbar\":{\"outlinewidth\":0,\"ticks\":\"\"}},\"type\":\"scatter3d\"}],\"scattercarpet\":[{\"marker\":{\"colorbar\":{\"outlinewidth\":0,\"ticks\":\"\"}},\"type\":\"scattercarpet\"}],\"scattergeo\":[{\"marker\":{\"colorbar\":{\"outlinewidth\":0,\"ticks\":\"\"}},\"type\":\"scattergeo\"}],\"scattergl\":[{\"marker\":{\"line\":{\"color\":\"#283442\"}},\"type\":\"scattergl\"}],\"scattermapbox\":[{\"marker\":{\"colorbar\":{\"outlinewidth\":0,\"ticks\":\"\"}},\"type\":\"scattermapbox\"}],\"scatterpolargl\":[{\"marker\":{\"colorbar\":{\"outlinewidth\":0,\"ticks\":\"\"}},\"type\":\"scatterpolargl\"}],\"scatterpolar\":[{\"marker\":{\"colorbar\":{\"outlinewidth\":0,\"ticks\":\"\"}},\"type\":\"scatterpolar\"}],\"scatter\":[{\"marker\":{\"line\":{\"color\":\"#283442\"}},\"type\":\"scatter\"}],\"scatterternary\":[{\"marker\":{\"colorbar\":{\"outlinewidth\":0,\"ticks\":\"\"}},\"type\":\"scatterternary\"}],\"surface\":[{\"colorbar\":{\"outlinewidth\":0,\"ticks\":\"\"},\"colorscale\":[[0.0,\"#0d0887\"],[0.1111111111111111,\"#46039f\"],[0.2222222222222222,\"#7201a8\"],[0.3333333333333333,\"#9c179e\"],[0.4444444444444444,\"#bd3786\"],[0.5555555555555556,\"#d8576b\"],[0.6666666666666666,\"#ed7953\"],[0.7777777777777778,\"#fb9f3a\"],[0.8888888888888888,\"#fdca26\"],[1.0,\"#f0f921\"]],\"type\":\"surface\"}],\"table\":[{\"cells\":{\"fill\":{\"color\":\"#506784\"},\"line\":{\"color\":\"rgb(17,17,17)\"}},\"header\":{\"fill\":{\"color\":\"#2a3f5f\"},\"line\":{\"color\":\"rgb(17,17,17)\"}},\"type\":\"table\"}]},\"layout\":{\"annotationdefaults\":{\"arrowcolor\":\"#f2f5fa\",\"arrowhead\":0,\"arrowwidth\":1},\"autotypenumbers\":\"strict\",\"coloraxis\":{\"colorbar\":{\"outlinewidth\":0,\"ticks\":\"\"}},\"colorscale\":{\"diverging\":[[0,\"#8e0152\"],[0.1,\"#c51b7d\"],[0.2,\"#de77ae\"],[0.3,\"#f1b6da\"],[0.4,\"#fde0ef\"],[0.5,\"#f7f7f7\"],[0.6,\"#e6f5d0\"],[0.7,\"#b8e186\"],[0.8,\"#7fbc41\"],[0.9,\"#4d9221\"],[1,\"#276419\"]],\"sequential\":[[0.0,\"#0d0887\"],[0.1111111111111111,\"#46039f\"],[0.2222222222222222,\"#7201a8\"],[0.3333333333333333,\"#9c179e\"],[0.4444444444444444,\"#bd3786\"],[0.5555555555555556,\"#d8576b\"],[0.6666666666666666,\"#ed7953\"],[0.7777777777777778,\"#fb9f3a\"],[0.8888888888888888,\"#fdca26\"],[1.0,\"#f0f921\"]],\"sequentialminus\":[[0.0,\"#0d0887\"],[0.1111111111111111,\"#46039f\"],[0.2222222222222222,\"#7201a8\"],[0.3333333333333333,\"#9c179e\"],[0.4444444444444444,\"#bd3786\"],[0.5555555555555556,\"#d8576b\"],[0.6666666666666666,\"#ed7953\"],[0.7777777777777778,\"#fb9f3a\"],[0.8888888888888888,\"#fdca26\"],[1.0,\"#f0f921\"]]},\"colorway\":[\"#636efa\",\"#EF553B\",\"#00cc96\",\"#ab63fa\",\"#FFA15A\",\"#19d3f3\",\"#FF6692\",\"#B6E880\",\"#FF97FF\",\"#FECB52\"],\"font\":{\"color\":\"#f2f5fa\"},\"geo\":{\"bgcolor\":\"rgb(17,17,17)\",\"lakecolor\":\"rgb(17,17,17)\",\"landcolor\":\"rgb(17,17,17)\",\"showlakes\":true,\"showland\":true,\"subunitcolor\":\"#506784\"},\"hoverlabel\":{\"align\":\"left\"},\"hovermode\":\"closest\",\"mapbox\":{\"style\":\"dark\"},\"paper_bgcolor\":\"rgb(17,17,17)\",\"plot_bgcolor\":\"rgb(17,17,17)\",\"polar\":{\"angularaxis\":{\"gridcolor\":\"#506784\",\"linecolor\":\"#506784\",\"ticks\":\"\"},\"bgcolor\":\"rgb(17,17,17)\",\"radialaxis\":{\"gridcolor\":\"#506784\",\"linecolor\":\"#506784\",\"ticks\":\"\"}},\"scene\":{\"xaxis\":{\"backgroundcolor\":\"rgb(17,17,17)\",\"gridcolor\":\"#506784\",\"gridwidth\":2,\"linecolor\":\"#506784\",\"showbackground\":true,\"ticks\":\"\",\"zerolinecolor\":\"#C8D4E3\"},\"yaxis\":{\"backgroundcolor\":\"rgb(17,17,17)\",\"gridcolor\":\"#506784\",\"gridwidth\":2,\"linecolor\":\"#506784\",\"showbackground\":true,\"ticks\":\"\",\"zerolinecolor\":\"#C8D4E3\"},\"zaxis\":{\"backgroundcolor\":\"rgb(17,17,17)\",\"gridcolor\":\"#506784\",\"gridwidth\":2,\"linecolor\":\"#506784\",\"showbackground\":true,\"ticks\":\"\",\"zerolinecolor\":\"#C8D4E3\"}},\"shapedefaults\":{\"line\":{\"color\":\"#f2f5fa\"}},\"sliderdefaults\":{\"bgcolor\":\"#C8D4E3\",\"bordercolor\":\"rgb(17,17,17)\",\"borderwidth\":1,\"tickwidth\":0},\"ternary\":{\"aaxis\":{\"gridcolor\":\"#506784\",\"linecolor\":\"#506784\",\"ticks\":\"\"},\"baxis\":{\"gridcolor\":\"#506784\",\"linecolor\":\"#506784\",\"ticks\":\"\"},\"bgcolor\":\"rgb(17,17,17)\",\"caxis\":{\"gridcolor\":\"#506784\",\"linecolor\":\"#506784\",\"ticks\":\"\"}},\"title\":{\"x\":0.05},\"updatemenudefaults\":{\"bgcolor\":\"#506784\",\"borderwidth\":0},\"xaxis\":{\"automargin\":true,\"gridcolor\":\"#283442\",\"linecolor\":\"#506784\",\"ticks\":\"\",\"title\":{\"standoff\":15},\"zerolinecolor\":\"#283442\",\"zerolinewidth\":2},\"yaxis\":{\"automargin\":true,\"gridcolor\":\"#283442\",\"linecolor\":\"#506784\",\"ticks\":\"\",\"title\":{\"standoff\":15},\"zerolinecolor\":\"#283442\",\"zerolinewidth\":2}}},\"xaxis\":{\"anchor\":\"y\",\"domain\":[0.0,1.0]},\"yaxis\":{\"anchor\":\"x\",\"domain\":[0.0,1.0]},\"width\":600,\"height\":400},                        {\"responsive\": true}                    ).then(function(){\n",
              "                            \n",
              "var gd = document.getElementById('ec167d15-f1c0-430e-86b4-736d53ea0e4c');\n",
              "var x = new MutationObserver(function (mutations, observer) {{\n",
              "        var display = window.getComputedStyle(gd).display;\n",
              "        if (!display || display === 'none') {{\n",
              "            console.log([gd, 'removed!']);\n",
              "            Plotly.purge(gd);\n",
              "            observer.disconnect();\n",
              "        }}\n",
              "}});\n",
              "\n",
              "// Listen for the removal of the full notebook cells\n",
              "var notebookContainer = gd.closest('#notebook-container');\n",
              "if (notebookContainer) {{\n",
              "    x.observe(notebookContainer, {childList: true});\n",
              "}}\n",
              "\n",
              "// Listen for the clearing of the current output cell\n",
              "var outputEl = gd.closest('.output');\n",
              "if (outputEl) {{\n",
              "    x.observe(outputEl, {childList: true});\n",
              "}}\n",
              "\n",
              "                        })                };                            </script>        </div>\n",
              "</body>\n",
              "</html>"
            ]
          },
          "metadata": {}
        }
      ]
    },
    {
      "cell_type": "code",
      "source": [
        "df=pd.DataFrame(dict(x=t,y=y))"
      ],
      "metadata": {
        "id": "ek_Wxq2PUp0u"
      },
      "execution_count": 7,
      "outputs": []
    },
    {
      "cell_type": "code",
      "source": [
        "df.to_excel('alex_data.xlsx', index=False)"
      ],
      "metadata": {
        "id": "w-xd-WQBV6vq"
      },
      "execution_count": 8,
      "outputs": []
    },
    {
      "cell_type": "code",
      "source": [
        "df2 = pd.read_excel('alex_data.xlsx')"
      ],
      "metadata": {
        "id": "IG4gczt8V7Py"
      },
      "execution_count": 9,
      "outputs": []
    },
    {
      "cell_type": "code",
      "source": [
        "t,y=df2.to_numpy().T"
      ],
      "metadata": {
        "id": "oa3e6utGXWCy"
      },
      "execution_count": 10,
      "outputs": []
    },
    {
      "cell_type": "code",
      "source": [
        "t,y"
      ],
      "metadata": {
        "colab": {
          "base_uri": "https://localhost:8080/"
        },
        "id": "AIVaktDtXW_p",
        "outputId": "6420be86-c904-463a-8127-3f26fa363b51"
      },
      "execution_count": 11,
      "outputs": [
        {
          "output_type": "execute_result",
          "data": {
            "text/plain": [
              "(array([ 0. ,  0.4,  0.8,  1.2,  1.6,  2. ,  2.4,  2.8,  3.2,  3.6,  4. ,\n",
              "         4.4,  4.8,  5.2,  5.6,  6. ,  6.4,  6.8,  7.2,  7.6,  8. ,  8.4,\n",
              "         8.8,  9.2,  9.6, 10. , 10.4, 10.8, 11.2, 11.6, 12. , 12.4, 12.8,\n",
              "        13.2, 13.6, 14. , 14.4, 14.8, 15.2, 15.6, 16. , 16.4, 16.8, 17.2,\n",
              "        17.6, 18. , 18.4, 18.8, 19.2, 19.6]),\n",
              " array([ 0.03, -0.01,  0.  ,  0.01,  0.03,  0.13,  0.17,  0.37,  0.44,\n",
              "         0.58,  0.78,  0.89,  1.08,  1.26,  1.4 ,  1.58,  1.71,  1.83,\n",
              "         1.94,  2.04,  2.14,  2.19,  2.3 ,  2.42,  2.38,  2.46,  2.49,\n",
              "         2.58,  2.62,  2.59,  2.67,  2.69,  2.71,  2.68,  2.72,  2.72,\n",
              "         2.7 ,  2.74,  2.69,  2.74,  2.71,  2.74,  2.72,  2.72,  2.77,\n",
              "         2.79,  2.78,  2.75,  2.82,  2.72]))"
            ]
          },
          "metadata": {},
          "execution_count": 11
        }
      ]
    },
    {
      "cell_type": "code",
      "source": [
        "def FOPTD(KA, tau, theta, t):\n",
        "    y = np.where(t<theta, 0., KA*(1-np.exp(-(t-theta)/tau)))\n",
        "    return y"
      ],
      "metadata": {
        "id": "lEz9KkshYhS0"
      },
      "execution_count": 12,
      "outputs": []
    },
    {
      "cell_type": "code",
      "source": [
        "def sumsq(v):\n",
        "    KA, tau, theta = v\n",
        "    model_y = FOPTD(KA, tau, theta, t)\n",
        "    return np.sum((model_y - y)**2)"
      ],
      "metadata": {
        "id": "Gy68ndeWZTtz"
      },
      "execution_count": 13,
      "outputs": []
    },
    {
      "cell_type": "code",
      "source": [
        "fKA, ftau, ftheta = minimize(sumsq, (2.5, 3., 2.)).x\n",
        "fK = fKA/A"
      ],
      "metadata": {
        "id": "3l7spJFAZnsZ"
      },
      "execution_count": 14,
      "outputs": []
    },
    {
      "cell_type": "code",
      "source": [
        "model_y = FOPTD(2.5, 3., 2., t)"
      ],
      "metadata": {
        "id": "5B8dvnbTYiXb"
      },
      "execution_count": 15,
      "outputs": []
    },
    {
      "cell_type": "code",
      "source": [
        "fig2 = make_subplots()\n",
        "fig2.add_scatter(x=t, y=y, mode='markers')\n",
        "fig2.add_scatter(x=t, y=FOPTD(fKA, ftau, ftheta, t), mode='lines')\n",
        "fig2.update_layout(width=600, height=400, template='plotly_dark', showlegend=False)"
      ],
      "metadata": {
        "colab": {
          "base_uri": "https://localhost:8080/",
          "height": 417
        },
        "id": "bMqMoPAbXnhK",
        "outputId": "06b8ed96-b713-4294-91f3-1b82080ea6c2"
      },
      "execution_count": 16,
      "outputs": [
        {
          "output_type": "display_data",
          "data": {
            "text/html": [
              "<html>\n",
              "<head><meta charset=\"utf-8\" /></head>\n",
              "<body>\n",
              "    <div>            <script src=\"https://cdnjs.cloudflare.com/ajax/libs/mathjax/2.7.5/MathJax.js?config=TeX-AMS-MML_SVG\"></script><script type=\"text/javascript\">if (window.MathJax && window.MathJax.Hub && window.MathJax.Hub.Config) {window.MathJax.Hub.Config({SVG: {font: \"STIX-Web\"}});}</script>                <script type=\"text/javascript\">window.PlotlyConfig = {MathJaxConfig: 'local'};</script>\n",
              "        <script charset=\"utf-8\" src=\"https://cdn.plot.ly/plotly-2.35.2.min.js\"></script>                <div id=\"06913139-12ec-4df7-b49a-48c07eb7ea22\" class=\"plotly-graph-div\" style=\"height:400px; width:600px;\"></div>            <script type=\"text/javascript\">                                    window.PLOTLYENV=window.PLOTLYENV || {};                                    if (document.getElementById(\"06913139-12ec-4df7-b49a-48c07eb7ea22\")) {                    Plotly.newPlot(                        \"06913139-12ec-4df7-b49a-48c07eb7ea22\",                        [{\"mode\":\"markers\",\"x\":[0.0,0.4,0.8,1.2,1.6,2.0,2.4,2.8,3.2,3.6,4.0,4.4,4.800000000000001,5.2,5.600000000000001,6.0,6.4,6.800000000000001,7.2,7.600000000000001,8.0,8.4,8.8,9.200000000000001,9.600000000000001,10.0,10.4,10.8,11.2,11.6,12.0,12.4,12.8,13.2,13.6,14.0,14.4,14.8,15.2,15.6,16.0,16.4,16.8,17.2,17.6,18.0,18.4,18.8,19.2,19.6],\"y\":[0.03,-0.01,0.0,0.01,0.03,0.13,0.17,0.37,0.44,0.58,0.78,0.89,1.08,1.26,1.4,1.58,1.71,1.83,1.94,2.04,2.14,2.19,2.3,2.42,2.38,2.46,2.49,2.58,2.62,2.59,2.67,2.69,2.71,2.68,2.72,2.72,2.7,2.74,2.69,2.74,2.71,2.74,2.72,2.72,2.77,2.79,2.78,2.75,2.82,2.72],\"type\":\"scatter\"},{\"mode\":\"lines\",\"x\":[0.0,0.4,0.8,1.2,1.6,2.0,2.4,2.8,3.2,3.6,4.0,4.4,4.800000000000001,5.2,5.600000000000001,6.0,6.4,6.800000000000001,7.2,7.600000000000001,8.0,8.4,8.8,9.200000000000001,9.600000000000001,10.0,10.4,10.8,11.2,11.6,12.0,12.4,12.8,13.2,13.6,14.0,14.4,14.8,15.2,15.6,16.0,16.4,16.8,17.2,17.6,18.0,18.4,18.8,19.2,19.6],\"y\":[0.0,0.0,0.0,0.0,0.0,0.0,0.0,0.13828266848466128,0.394066518980497,0.6258956527144611,0.8360134812781346,1.0264533158632785,1.1990580436235725,1.3554979613020621,1.4972869387004124,1.6257970684039265,1.7422719435277967,1.8478386919733873,1.9435188836501136,2.030238416212144,2.1088364749742516,2.180073653711958,2.2446393149309922,2.303158260831421,2.356196779521412,2.404268124989852,2.4478374838675587,2.487326477040438,2.523117239676737,2.55555611915082,2.584957026648299,2.611604474886021,2.6357563313429333,2.657646313644862,2.67748625125105,2.6954681353288077,2.711765976652918,2.726537489508705,2.7399256178938987,2.752059918788352,2.7630578158775365,2.77302573586208,2.78206013834944,2.7902484492939683,2.797669907018272,2.8043963290028238,2.8104928068640525,2.8160183362462132,2.8210263877225077,2.825565424230066],\"type\":\"scatter\"}],                        {\"template\":{\"data\":{\"barpolar\":[{\"marker\":{\"line\":{\"color\":\"rgb(17,17,17)\",\"width\":0.5},\"pattern\":{\"fillmode\":\"overlay\",\"size\":10,\"solidity\":0.2}},\"type\":\"barpolar\"}],\"bar\":[{\"error_x\":{\"color\":\"#f2f5fa\"},\"error_y\":{\"color\":\"#f2f5fa\"},\"marker\":{\"line\":{\"color\":\"rgb(17,17,17)\",\"width\":0.5},\"pattern\":{\"fillmode\":\"overlay\",\"size\":10,\"solidity\":0.2}},\"type\":\"bar\"}],\"carpet\":[{\"aaxis\":{\"endlinecolor\":\"#A2B1C6\",\"gridcolor\":\"#506784\",\"linecolor\":\"#506784\",\"minorgridcolor\":\"#506784\",\"startlinecolor\":\"#A2B1C6\"},\"baxis\":{\"endlinecolor\":\"#A2B1C6\",\"gridcolor\":\"#506784\",\"linecolor\":\"#506784\",\"minorgridcolor\":\"#506784\",\"startlinecolor\":\"#A2B1C6\"},\"type\":\"carpet\"}],\"choropleth\":[{\"colorbar\":{\"outlinewidth\":0,\"ticks\":\"\"},\"type\":\"choropleth\"}],\"contourcarpet\":[{\"colorbar\":{\"outlinewidth\":0,\"ticks\":\"\"},\"type\":\"contourcarpet\"}],\"contour\":[{\"colorbar\":{\"outlinewidth\":0,\"ticks\":\"\"},\"colorscale\":[[0.0,\"#0d0887\"],[0.1111111111111111,\"#46039f\"],[0.2222222222222222,\"#7201a8\"],[0.3333333333333333,\"#9c179e\"],[0.4444444444444444,\"#bd3786\"],[0.5555555555555556,\"#d8576b\"],[0.6666666666666666,\"#ed7953\"],[0.7777777777777778,\"#fb9f3a\"],[0.8888888888888888,\"#fdca26\"],[1.0,\"#f0f921\"]],\"type\":\"contour\"}],\"heatmapgl\":[{\"colorbar\":{\"outlinewidth\":0,\"ticks\":\"\"},\"colorscale\":[[0.0,\"#0d0887\"],[0.1111111111111111,\"#46039f\"],[0.2222222222222222,\"#7201a8\"],[0.3333333333333333,\"#9c179e\"],[0.4444444444444444,\"#bd3786\"],[0.5555555555555556,\"#d8576b\"],[0.6666666666666666,\"#ed7953\"],[0.7777777777777778,\"#fb9f3a\"],[0.8888888888888888,\"#fdca26\"],[1.0,\"#f0f921\"]],\"type\":\"heatmapgl\"}],\"heatmap\":[{\"colorbar\":{\"outlinewidth\":0,\"ticks\":\"\"},\"colorscale\":[[0.0,\"#0d0887\"],[0.1111111111111111,\"#46039f\"],[0.2222222222222222,\"#7201a8\"],[0.3333333333333333,\"#9c179e\"],[0.4444444444444444,\"#bd3786\"],[0.5555555555555556,\"#d8576b\"],[0.6666666666666666,\"#ed7953\"],[0.7777777777777778,\"#fb9f3a\"],[0.8888888888888888,\"#fdca26\"],[1.0,\"#f0f921\"]],\"type\":\"heatmap\"}],\"histogram2dcontour\":[{\"colorbar\":{\"outlinewidth\":0,\"ticks\":\"\"},\"colorscale\":[[0.0,\"#0d0887\"],[0.1111111111111111,\"#46039f\"],[0.2222222222222222,\"#7201a8\"],[0.3333333333333333,\"#9c179e\"],[0.4444444444444444,\"#bd3786\"],[0.5555555555555556,\"#d8576b\"],[0.6666666666666666,\"#ed7953\"],[0.7777777777777778,\"#fb9f3a\"],[0.8888888888888888,\"#fdca26\"],[1.0,\"#f0f921\"]],\"type\":\"histogram2dcontour\"}],\"histogram2d\":[{\"colorbar\":{\"outlinewidth\":0,\"ticks\":\"\"},\"colorscale\":[[0.0,\"#0d0887\"],[0.1111111111111111,\"#46039f\"],[0.2222222222222222,\"#7201a8\"],[0.3333333333333333,\"#9c179e\"],[0.4444444444444444,\"#bd3786\"],[0.5555555555555556,\"#d8576b\"],[0.6666666666666666,\"#ed7953\"],[0.7777777777777778,\"#fb9f3a\"],[0.8888888888888888,\"#fdca26\"],[1.0,\"#f0f921\"]],\"type\":\"histogram2d\"}],\"histogram\":[{\"marker\":{\"pattern\":{\"fillmode\":\"overlay\",\"size\":10,\"solidity\":0.2}},\"type\":\"histogram\"}],\"mesh3d\":[{\"colorbar\":{\"outlinewidth\":0,\"ticks\":\"\"},\"type\":\"mesh3d\"}],\"parcoords\":[{\"line\":{\"colorbar\":{\"outlinewidth\":0,\"ticks\":\"\"}},\"type\":\"parcoords\"}],\"pie\":[{\"automargin\":true,\"type\":\"pie\"}],\"scatter3d\":[{\"line\":{\"colorbar\":{\"outlinewidth\":0,\"ticks\":\"\"}},\"marker\":{\"colorbar\":{\"outlinewidth\":0,\"ticks\":\"\"}},\"type\":\"scatter3d\"}],\"scattercarpet\":[{\"marker\":{\"colorbar\":{\"outlinewidth\":0,\"ticks\":\"\"}},\"type\":\"scattercarpet\"}],\"scattergeo\":[{\"marker\":{\"colorbar\":{\"outlinewidth\":0,\"ticks\":\"\"}},\"type\":\"scattergeo\"}],\"scattergl\":[{\"marker\":{\"line\":{\"color\":\"#283442\"}},\"type\":\"scattergl\"}],\"scattermapbox\":[{\"marker\":{\"colorbar\":{\"outlinewidth\":0,\"ticks\":\"\"}},\"type\":\"scattermapbox\"}],\"scatterpolargl\":[{\"marker\":{\"colorbar\":{\"outlinewidth\":0,\"ticks\":\"\"}},\"type\":\"scatterpolargl\"}],\"scatterpolar\":[{\"marker\":{\"colorbar\":{\"outlinewidth\":0,\"ticks\":\"\"}},\"type\":\"scatterpolar\"}],\"scatter\":[{\"marker\":{\"line\":{\"color\":\"#283442\"}},\"type\":\"scatter\"}],\"scatterternary\":[{\"marker\":{\"colorbar\":{\"outlinewidth\":0,\"ticks\":\"\"}},\"type\":\"scatterternary\"}],\"surface\":[{\"colorbar\":{\"outlinewidth\":0,\"ticks\":\"\"},\"colorscale\":[[0.0,\"#0d0887\"],[0.1111111111111111,\"#46039f\"],[0.2222222222222222,\"#7201a8\"],[0.3333333333333333,\"#9c179e\"],[0.4444444444444444,\"#bd3786\"],[0.5555555555555556,\"#d8576b\"],[0.6666666666666666,\"#ed7953\"],[0.7777777777777778,\"#fb9f3a\"],[0.8888888888888888,\"#fdca26\"],[1.0,\"#f0f921\"]],\"type\":\"surface\"}],\"table\":[{\"cells\":{\"fill\":{\"color\":\"#506784\"},\"line\":{\"color\":\"rgb(17,17,17)\"}},\"header\":{\"fill\":{\"color\":\"#2a3f5f\"},\"line\":{\"color\":\"rgb(17,17,17)\"}},\"type\":\"table\"}]},\"layout\":{\"annotationdefaults\":{\"arrowcolor\":\"#f2f5fa\",\"arrowhead\":0,\"arrowwidth\":1},\"autotypenumbers\":\"strict\",\"coloraxis\":{\"colorbar\":{\"outlinewidth\":0,\"ticks\":\"\"}},\"colorscale\":{\"diverging\":[[0,\"#8e0152\"],[0.1,\"#c51b7d\"],[0.2,\"#de77ae\"],[0.3,\"#f1b6da\"],[0.4,\"#fde0ef\"],[0.5,\"#f7f7f7\"],[0.6,\"#e6f5d0\"],[0.7,\"#b8e186\"],[0.8,\"#7fbc41\"],[0.9,\"#4d9221\"],[1,\"#276419\"]],\"sequential\":[[0.0,\"#0d0887\"],[0.1111111111111111,\"#46039f\"],[0.2222222222222222,\"#7201a8\"],[0.3333333333333333,\"#9c179e\"],[0.4444444444444444,\"#bd3786\"],[0.5555555555555556,\"#d8576b\"],[0.6666666666666666,\"#ed7953\"],[0.7777777777777778,\"#fb9f3a\"],[0.8888888888888888,\"#fdca26\"],[1.0,\"#f0f921\"]],\"sequentialminus\":[[0.0,\"#0d0887\"],[0.1111111111111111,\"#46039f\"],[0.2222222222222222,\"#7201a8\"],[0.3333333333333333,\"#9c179e\"],[0.4444444444444444,\"#bd3786\"],[0.5555555555555556,\"#d8576b\"],[0.6666666666666666,\"#ed7953\"],[0.7777777777777778,\"#fb9f3a\"],[0.8888888888888888,\"#fdca26\"],[1.0,\"#f0f921\"]]},\"colorway\":[\"#636efa\",\"#EF553B\",\"#00cc96\",\"#ab63fa\",\"#FFA15A\",\"#19d3f3\",\"#FF6692\",\"#B6E880\",\"#FF97FF\",\"#FECB52\"],\"font\":{\"color\":\"#f2f5fa\"},\"geo\":{\"bgcolor\":\"rgb(17,17,17)\",\"lakecolor\":\"rgb(17,17,17)\",\"landcolor\":\"rgb(17,17,17)\",\"showlakes\":true,\"showland\":true,\"subunitcolor\":\"#506784\"},\"hoverlabel\":{\"align\":\"left\"},\"hovermode\":\"closest\",\"mapbox\":{\"style\":\"dark\"},\"paper_bgcolor\":\"rgb(17,17,17)\",\"plot_bgcolor\":\"rgb(17,17,17)\",\"polar\":{\"angularaxis\":{\"gridcolor\":\"#506784\",\"linecolor\":\"#506784\",\"ticks\":\"\"},\"bgcolor\":\"rgb(17,17,17)\",\"radialaxis\":{\"gridcolor\":\"#506784\",\"linecolor\":\"#506784\",\"ticks\":\"\"}},\"scene\":{\"xaxis\":{\"backgroundcolor\":\"rgb(17,17,17)\",\"gridcolor\":\"#506784\",\"gridwidth\":2,\"linecolor\":\"#506784\",\"showbackground\":true,\"ticks\":\"\",\"zerolinecolor\":\"#C8D4E3\"},\"yaxis\":{\"backgroundcolor\":\"rgb(17,17,17)\",\"gridcolor\":\"#506784\",\"gridwidth\":2,\"linecolor\":\"#506784\",\"showbackground\":true,\"ticks\":\"\",\"zerolinecolor\":\"#C8D4E3\"},\"zaxis\":{\"backgroundcolor\":\"rgb(17,17,17)\",\"gridcolor\":\"#506784\",\"gridwidth\":2,\"linecolor\":\"#506784\",\"showbackground\":true,\"ticks\":\"\",\"zerolinecolor\":\"#C8D4E3\"}},\"shapedefaults\":{\"line\":{\"color\":\"#f2f5fa\"}},\"sliderdefaults\":{\"bgcolor\":\"#C8D4E3\",\"bordercolor\":\"rgb(17,17,17)\",\"borderwidth\":1,\"tickwidth\":0},\"ternary\":{\"aaxis\":{\"gridcolor\":\"#506784\",\"linecolor\":\"#506784\",\"ticks\":\"\"},\"baxis\":{\"gridcolor\":\"#506784\",\"linecolor\":\"#506784\",\"ticks\":\"\"},\"bgcolor\":\"rgb(17,17,17)\",\"caxis\":{\"gridcolor\":\"#506784\",\"linecolor\":\"#506784\",\"ticks\":\"\"}},\"title\":{\"x\":0.05},\"updatemenudefaults\":{\"bgcolor\":\"#506784\",\"borderwidth\":0},\"xaxis\":{\"automargin\":true,\"gridcolor\":\"#283442\",\"linecolor\":\"#506784\",\"ticks\":\"\",\"title\":{\"standoff\":15},\"zerolinecolor\":\"#283442\",\"zerolinewidth\":2},\"yaxis\":{\"automargin\":true,\"gridcolor\":\"#283442\",\"linecolor\":\"#506784\",\"ticks\":\"\",\"title\":{\"standoff\":15},\"zerolinecolor\":\"#283442\",\"zerolinewidth\":2}}},\"xaxis\":{\"anchor\":\"y\",\"domain\":[0.0,1.0]},\"yaxis\":{\"anchor\":\"x\",\"domain\":[0.0,1.0]},\"width\":600,\"height\":400,\"showlegend\":false},                        {\"responsive\": true}                    ).then(function(){\n",
              "                            \n",
              "var gd = document.getElementById('06913139-12ec-4df7-b49a-48c07eb7ea22');\n",
              "var x = new MutationObserver(function (mutations, observer) {{\n",
              "        var display = window.getComputedStyle(gd).display;\n",
              "        if (!display || display === 'none') {{\n",
              "            console.log([gd, 'removed!']);\n",
              "            Plotly.purge(gd);\n",
              "            observer.disconnect();\n",
              "        }}\n",
              "}});\n",
              "\n",
              "// Listen for the removal of the full notebook cells\n",
              "var notebookContainer = gd.closest('#notebook-container');\n",
              "if (notebookContainer) {{\n",
              "    x.observe(notebookContainer, {childList: true});\n",
              "}}\n",
              "\n",
              "// Listen for the clearing of the current output cell\n",
              "var outputEl = gd.closest('.output');\n",
              "if (outputEl) {{\n",
              "    x.observe(outputEl, {childList: true});\n",
              "}}\n",
              "\n",
              "                        })                };                            </script>        </div>\n",
              "</body>\n",
              "</html>"
            ]
          },
          "metadata": {}
        }
      ]
    },
    {
      "cell_type": "code",
      "source": [
        "#ITAE\n",
        "PA, PB = 0.586, -0.916\n",
        "IA, IB = 1.03, -0.165\n",
        "Y = PA*(ftheta/ftau)**PB\n",
        "Kc = Y/fK\n",
        "taui = ftau/(IA + IB*(ftheta/ftau))\n",
        "\n",
        "#ZN method\n",
        "# Kc = 0.45 * Ku\n",
        "# taui = 0.83*Tu\n",
        "\n",
        "Gp = TF\n",
        "Gc = Kc*(1+1/(taui*s))\n",
        "Gm = 1.\n",
        "Gfb = Gc*Gp/(1+Gp*Gc*Gm)\n",
        "Gfb=simplify(Gfb)"
      ],
      "metadata": {
        "id": "6uwhq4S8XukS"
      },
      "execution_count": 17,
      "outputs": []
    },
    {
      "cell_type": "code",
      "source": [
        "t,y=sim(Gfb, lambda t: 1., N=500, dt=0.1)"
      ],
      "metadata": {
        "id": "dcvSGwJqYfkE"
      },
      "execution_count": 18,
      "outputs": []
    },
    {
      "cell_type": "code",
      "source": [
        "fig4=make_subplots()\n",
        "fig4.add_scatter(x=t, y= y)\n",
        "fig4.update_layout(width=600, height=400, template='plotly_dark')"
      ],
      "metadata": {
        "colab": {
          "base_uri": "https://localhost:8080/",
          "height": 417
        },
        "id": "J8BezOUObQ7r",
        "outputId": "26677c64-0f55-4f7c-8f20-8a3b96e19c60"
      },
      "execution_count": 19,
      "outputs": [
        {
          "output_type": "display_data",
          "data": {
            "text/html": [
              "<html>\n",
              "<head><meta charset=\"utf-8\" /></head>\n",
              "<body>\n",
              "    <div>            <script src=\"https://cdnjs.cloudflare.com/ajax/libs/mathjax/2.7.5/MathJax.js?config=TeX-AMS-MML_SVG\"></script><script type=\"text/javascript\">if (window.MathJax && window.MathJax.Hub && window.MathJax.Hub.Config) {window.MathJax.Hub.Config({SVG: {font: \"STIX-Web\"}});}</script>                <script type=\"text/javascript\">window.PlotlyConfig = {MathJaxConfig: 'local'};</script>\n",
              "        <script charset=\"utf-8\" src=\"https://cdn.plot.ly/plotly-2.35.2.min.js\"></script>                <div id=\"3191882e-844c-407f-ae8b-f8bf9c994c26\" class=\"plotly-graph-div\" style=\"height:400px; width:600px;\"></div>            <script type=\"text/javascript\">                                    window.PLOTLYENV=window.PLOTLYENV || {};                                    if (document.getElementById(\"3191882e-844c-407f-ae8b-f8bf9c994c26\")) {                    Plotly.newPlot(                        \"3191882e-844c-407f-ae8b-f8bf9c994c26\",                        [{\"x\":[0.0,0.1,0.2,0.30000000000000004,0.4,0.5,0.6000000000000001,0.7000000000000001,0.8,0.9,1.0,1.1,1.2000000000000002,1.3,1.4000000000000001,1.5,1.6,1.7000000000000002,1.8,1.9000000000000001,2.0,2.1,2.2,2.3000000000000003,2.4000000000000004,2.5,2.6,2.7,2.8000000000000003,2.9000000000000004,3.0,3.1,3.2,3.3000000000000003,3.4000000000000004,3.5,3.6,3.7,3.8000000000000003,3.9000000000000004,4.0,4.1000000000000005,4.2,4.3,4.4,4.5,4.6000000000000005,4.7,4.800000000000001,4.9,5.0,5.1000000000000005,5.2,5.300000000000001,5.4,5.5,5.6000000000000005,5.7,5.800000000000001,5.9,6.0,6.1000000000000005,6.2,6.300000000000001,6.4,6.5,6.6000000000000005,6.7,6.800000000000001,6.9,7.0,7.1000000000000005,7.2,7.300000000000001,7.4,7.5,7.6000000000000005,7.7,7.800000000000001,7.9,8.0,8.1,8.200000000000001,8.3,8.4,8.5,8.6,8.700000000000001,8.8,8.9,9.0,9.1,9.200000000000001,9.3,9.4,9.5,9.600000000000001,9.700000000000001,9.8,9.9,10.0,10.100000000000001,10.200000000000001,10.3,10.4,10.5,10.600000000000001,10.700000000000001,10.8,10.9,11.0,11.100000000000001,11.200000000000001,11.3,11.4,11.5,11.600000000000001,11.700000000000001,11.8,11.9,12.0,12.100000000000001,12.200000000000001,12.3,12.4,12.5,12.600000000000001,12.700000000000001,12.8,12.9,13.0,13.100000000000001,13.200000000000001,13.3,13.4,13.5,13.600000000000001,13.700000000000001,13.8,13.9,14.0,14.100000000000001,14.200000000000001,14.3,14.4,14.5,14.600000000000001,14.700000000000001,14.8,14.9,15.0,15.100000000000001,15.200000000000001,15.3,15.4,15.5,15.600000000000001,15.700000000000001,15.8,15.9,16.0,16.1,16.2,16.3,16.400000000000002,16.5,16.6,16.7,16.8,16.900000000000002,17.0,17.1,17.2,17.3,17.400000000000002,17.5,17.6,17.7,17.8,17.900000000000002,18.0,18.1,18.2,18.3,18.400000000000002,18.5,18.6,18.7,18.8,18.900000000000002,19.0,19.1,19.200000000000003,19.3,19.400000000000002,19.5,19.6,19.700000000000003,19.8,19.900000000000002,20.0,20.1,20.200000000000003,20.3,20.400000000000002,20.5,20.6,20.700000000000003,20.8,20.900000000000002,21.0,21.1,21.200000000000003,21.3,21.400000000000002,21.5,21.6,21.700000000000003,21.8,21.900000000000002,22.0,22.1,22.200000000000003,22.3,22.400000000000002,22.5,22.6,22.700000000000003,22.8,22.900000000000002,23.0,23.1,23.200000000000003,23.3,23.400000000000002,23.5,23.6,23.700000000000003,23.8,23.900000000000002,24.0,24.1,24.200000000000003,24.3,24.400000000000002,24.5,24.6,24.700000000000003,24.8,24.900000000000002,25.0,25.1,25.200000000000003,25.3,25.400000000000002,25.5,25.6,25.700000000000003,25.8,25.900000000000002,26.0,26.1,26.200000000000003,26.3,26.400000000000002,26.5,26.6,26.700000000000003,26.8,26.900000000000002,27.0,27.1,27.200000000000003,27.3,27.400000000000002,27.5,27.6,27.700000000000003,27.8,27.900000000000002,28.0,28.1,28.200000000000003,28.3,28.400000000000002,28.5,28.6,28.700000000000003,28.8,28.900000000000002,29.0,29.1,29.200000000000003,29.3,29.400000000000002,29.5,29.6,29.700000000000003,29.8,29.900000000000002,30.0,30.1,30.200000000000003,30.3,30.400000000000002,30.5,30.6,30.700000000000003,30.8,30.900000000000002,31.0,31.1,31.200000000000003,31.3,31.400000000000002,31.5,31.6,31.700000000000003,31.8,31.900000000000002,32.0,32.1,32.2,32.300000000000004,32.4,32.5,32.6,32.7,32.800000000000004,32.9,33.0,33.1,33.2,33.300000000000004,33.4,33.5,33.6,33.7,33.800000000000004,33.9,34.0,34.1,34.2,34.300000000000004,34.4,34.5,34.6,34.7,34.800000000000004,34.9,35.0,35.1,35.2,35.300000000000004,35.4,35.5,35.6,35.7,35.800000000000004,35.9,36.0,36.1,36.2,36.300000000000004,36.4,36.5,36.6,36.7,36.800000000000004,36.9,37.0,37.1,37.2,37.300000000000004,37.4,37.5,37.6,37.7,37.800000000000004,37.9,38.0,38.1,38.2,38.300000000000004,38.400000000000006,38.5,38.6,38.7,38.800000000000004,38.900000000000006,39.0,39.1,39.2,39.300000000000004,39.400000000000006,39.5,39.6,39.7,39.800000000000004,39.900000000000006,40.0,40.1,40.2,40.300000000000004,40.400000000000006,40.5,40.6,40.7,40.800000000000004,40.900000000000006,41.0,41.1,41.2,41.300000000000004,41.400000000000006,41.5,41.6,41.7,41.800000000000004,41.900000000000006,42.0,42.1,42.2,42.300000000000004,42.400000000000006,42.5,42.6,42.7,42.800000000000004,42.900000000000006,43.0,43.1,43.2,43.300000000000004,43.400000000000006,43.5,43.6,43.7,43.800000000000004,43.900000000000006,44.0,44.1,44.2,44.300000000000004,44.400000000000006,44.5,44.6,44.7,44.800000000000004,44.900000000000006,45.0,45.1,45.2,45.300000000000004,45.400000000000006,45.5,45.6,45.7,45.800000000000004,45.900000000000006,46.0,46.1,46.2,46.300000000000004,46.400000000000006,46.5,46.6,46.7,46.800000000000004,46.900000000000006,47.0,47.1,47.2,47.300000000000004,47.400000000000006,47.5,47.6,47.7,47.800000000000004,47.900000000000006,48.0,48.1,48.2,48.300000000000004,48.400000000000006,48.5,48.6,48.7,48.800000000000004,48.900000000000006,49.0,49.1,49.2,49.300000000000004,49.400000000000006,49.5,49.6,49.7,49.800000000000004,49.900000000000006],\"y\":[0.0,6.635926179991454e-7,0.000010114644275172412,0.00004878920017486602,0.00014694885102692996,0.0003419587620321579,0.0006759996836195497,0.001194158452214133,0.0019428476408365383,0.002968510576912997,0.004316572955804768,0.006030606788215417,0.008151676470175642,0.010717840395501091,0.013763784779639798,0.01732056926529934,0.02141546646632119,0.026071879906713964,0.0313093268540421,0.0371434743557836,0.043586218387044,0.05064579742941736,0.058326933043259685,0.06663099108691332,0.07555615819262013,0.08509762894463065,0.09524779993362287,0.10599646749498458,0.11733102648761168,0.12923666794438407,0.14169657383416123,0.15469210752585655,0.16820299884494222,0.18220752286789488,0.19668267181622973,0.21160431959388154,0.22694737866420844,0.24268594908976057,0.258793459662639,0.2752428011388539,0.2920064516592715,0.30905659449490125,0.32636522829749526,0.34390427006954505,0.3616456510923394,0.3795614060681922,0.39762375574444664,0.4158051832934508,0.4340785047252808,0.452416933609311,0.4707941403774716,0.48918430647673017,0.5075621736314732,0.5259030884684348,0.5441830427479574,0.5623787094359533,0.5804674748411924,0.5984274670326564,0.6162375807418186,0.6338774989449703,0.6513277113111772,0.668569529692232,0.685585100822071,0.7023574163846273,0.7188703206010003,0.7351085154791397,0.7510575638620013,0.7667038904032999,0.7820347805935761,0.7970383779532841,0.8117036795039836,0.8260205296234675,0.8399796123857486,0.8535724424822524,0.8667913548162927,0.8796294928589183,0.8920807958504953,0.9041399849289131,0.9158025482620383,0.927064725258991,0.9379234899319382,0.9483765334774055,0.9584222461435463,0.9680596984473917,0.9772886218038082,0.9861093886256982,0.9945229919528904,1.0025310246651513,1.0101356583328245,1.0173396217567348,1.024146179247186,1.0305591086901278,1.0365826794468527,1.042221630131919,1.0474811463123486,1.0523668381695568,1.0568847181638765,1.061041178739997,1.0648429701100979,1.068297178149944,1.0714112024417148,1.074192734495859,1.0766497361828011,1.0787904184038788,1.080623220029454,1.0821567871307214,1.0833999525303324,1.0843617156955592,1.0850512229963534,1.0854777483492861,1.0856506742670162,1.0855794733316122,1.085273690108728,1.0847429235183617,1.0839968096766375,1.083045005221814,1.08189717113648,1.0805629570767006,1.079051986217683,1.0773738406243814,1.0755380471543075,1.0735540638987207,1.071431267167272,1.0691789390201263,1.0668062553505573,1.0643222745200054,1.0617359265466182,1.0590560028473488,1.056291146532781,1.0534498432529604,1.0505404125916653,1.047571000005731,1.0445495693052536,1.0414838956697459,1.038381559194592,1.035249938961456,1.0320962076256504,1.0289273265128305,1.0257500412168041,1.0225708776896654,1.0193961388149566,1.0162319014540446,1.013084013955445,1.0099580941163968,1.0068595275855792,1.0037934666954997,1.0007648297127447,0.9977783004939647,0.9948383285352004,0.9919491294018935,0.9891146855267106,0.9863387473621191,0.9836248348744802,0.9809762393662901,0.9783960256130927,0.9758870343014916,0.9734518847546363,0.9710929779315186,0.9688124996863962,0.9666124242746833,0.9644945180916649,0.9624603436304568,0.9605112636457019,0.9586484455095865,0.9568728657468788,0.955185314735817,0.9535864015618266,0.9520765590112105,0.9506560486921405,0.9493249662704675,0.9480832468080871,0.9469306701918179,0.9458668666409809,0.9448913222821287,0.944003384779623,0.9432022690110329,0.9424870627766054,0.9418567325323501,0.9413101291365685,0.9408459935999743,0.9404629628298485,0.9401595753589981,0.9399342770506017,0.9397854267703563,0.9397113020176614,0.9397101045079184,0.9397799656983469,0.9399189522500624,0.9401250714194997,0.9403962763725932,0.9407304714154772,0.9411255171357964,0.9415792354490576,0.9420894145447889,0.942653813727601,0.9432701681485816,0.9439361934227753,0.9446495901288285,0.9454080481871937,0.946209251113612,0.9470508801448919,0.9479306182343155,0.9488461539143018,0.94979518502425,0.9507754223017724,0.9517845928358167,0.9528204433804409,0.9538807435282809,0.9549632887430144,0.9560659032503682,0.9571864427874768,0.9583227972106286,0.9594728929616737,0.9606346953935886,0.9618062109559116,0.9629854892409654,0.9641706248919859,0.9653597593744725,0.9665510826122469,0.96774283448989,0.9689333062233956,0.9701208416010249,0.971303838096512,0.9724807478568955,0.9736500785674005,0.9748103941959021,0.9759603156196379,0.9770985211369256,0.9782237468667595,0.9793347870392386,0.9804304941798749,0.981509779190896,0.9825716113327362,0.9836150181089652,0.9846390850579602,0.9856429554546742,0.9866258299258942,0.9875869659824154,0.9885256774715838,0.9894413339536838,0.990333360005653,0.9912012344556217,0.9920444895517744,0.9928627100690217,0.9936555323569689,0.9944226433326433,0.9951637794214314,0.9958787254496433,0.9965673134920967,0.9972294216780762,0.9978649729589812,0.9984739338409391,0.9990563130856072,0.9996121603823362,1.0001415649948162,1.0006446543852643,1.0011215928191535,1.0015725799534194,1.0019978494110093,1.0023976673445745,1.00277233099203,1.0031221672266342,1.0034475311041628,1.0037488044096758,1.004026394206293,1.0042807313883175,1.0045122692409583,1.0047214820088248,1.0049088634752792,1.0050749255546478,1.0052201968992094,1.0053452215227858,1.0054505574426837,1.0055367753416424,1.0056044572513576,1.0056541952590679,1.0056865902386034,1.005702250607207,1.0057017911093624,1.0056858316287678,1.005654996029522,1.0056099110275,1.005551205092815,1.0054795073841871,1.0053954467159556,1.0052996505583958,1.0051927440719288,1.0050753491757305,1.0049480836511777,1.0048115602804997,1.0046663860209264,1.0045131612145668,1.0043524788341716,1.0041849237648834,1.0040110721220055,1.0038314906047636,1.003646735885977,1.0034573540374967,1.0032638799912126,1.00306683703539,1.0028667363460233,1.0026640765528743,1.0024593433397917,1.0022530090788815,1.0020455324980444,1.0018373583813693,1.001628917301816,1.0014206253856086,1.001212884107704,1.0010060801176848,1.0008005850953923,1.0005967556355837,1.0003949331608797,1.00019544386224,0.9999985986661871,0.9998046932279759,0.999614007949895,0.9994268080238634,0.9992433434974777,0.9990638493626552,0.9988885456659997,0.9987176376400194,0.9985513158543134,0.9983897563858406,0.9982331210073806,0.9980815573932976,0.9979351993417154,0.9977941670122124,0.9976585671781538,0.9975284934927766,0.9974040267681481,0.9972852352661356,0.9971721750005171,0.9970648900493876,0.9969634128770131,0.9968677646643069,0.9967779556471066,0.996693985461447,0.9966158434950413,0.996543509244191,0.9964769526753673,0.9964161345907216,0.996361006996797,0.9963115134757358,0.9962675895582915,0.9962291630979787,0.996196154645704,0.9961684778242569,0.9961460397020423,0.99612874116547,0.9961164772894315,0.9961091377053188,0.9961066069660571,0.9961087649076527,0.9961154870067688,0.9961266447338758,0.9961421059015327,0.9961617350073881,0.9961853935715058,0.9962129404676421,0.9962442322481296,0.9962791234620335,0.9963174669662769,0.996359114229452,0.9964039156280509,0.9964517207348716,0.9965023785993818,0.9965557380198335,0.9966116478069492,0.9966699570390185,0.9967305153082591,0.9967931729583203,0.9968577813128248,0.996924192894859,0.9969922616373431,0.997061843084231,0.9971327945825,0.9972049754649159,0.9972782472235665,0.9973524736741767,0.997427521111232,0.9975032584539522,0.9975795573831653,0.9976562924691577,0.9977333412905728,0.9978105845444556,0.9978879061475469,0.9979651933289411,0.9980423367142345,0.9981192304012987,0.9981957720278265,0.9982718628308022,0.9983474076980597,0.9984223152120982,0.9984964976863338,0.9985698711939702,0.9986423555896796,0.9987138745242903,0.9987843554526808,0.9988537296350901,0.9989219321320484,0.9989889017931495,0.9990545812398766,0.9991189168427046,0.9991818586926997,0.9992433605678424,0.9993033798942984,0.9993618777028646,0.9994188185808179,0.9994741706193954,0.9995279053571323,0.9995799977192846,0.9996304259535658,0.9996791715624187,0.9997262192320489,0.9997715567584394,0.9998151749705696,0.9998570676510506,0.9998972314543964,0.9999356658231376,0.999972372901991,1.0000073574502852,1.0000406267528446,1.00007219052953,1.0001020608436286,1.00013025200928,1.0001567804981237,1.000181664845348,1.000204925555316,1.0002265850069332,1.0002466673589296,1.000265198455208,1.000282205730419,1.0002977181159083,1.0003117659461793,1.0003243808660136,1.000335595738375,1.0003454445532325,1.0003539623374154,1.0003611850656222,1.0003671495726913,1.000371893467238,1.000375455046757,1.0003778732142836,1.0003791873967036,1.0003794374647887,1.0003786636550402,1.0003769064934096,1.0003742067209607,1.0003706052215364,1.0003661429514845,1.000360860871492,1.0003547998805729,1.0003480007522514,1.000340504072975,1.0003323501827839,1.0003235791182696,1.0003142305578383,1.0003043437692967,1.000293957559773,1.0002831102279819,1.0002718395188357,1.0002601825804027,1.000248175923208,1.0002358553818682,1.0002232560790516,1.000210412391746,1.0001973579198162,1.000184125456833,1.000170746963145,1.000157253541167,1.0001436754128585,1.0001300418993537,1.0001163814027136,1.0001027213897558,1.0000890883779299,1.0000755079231893,1.0000620046098223,1.000048602042189,1.0000353228383243,1.0000221886253529,1.0000092200366675,0.9999964367108205,0.9999838572920714,0.9999714994325412,0.9999593797959165,0.9999475140626474,0.9999359169365842,0.9999246021529951,0.999913582487908,0.9999028697687181,0.9998924748860059,0.9998824078065015,0.9998726775871467,0.9998632923901863,0.9998542594992396,0.999845585336289,0.9998372754795296,0.9998293346820258,0.9998217668911142],\"type\":\"scatter\"}],                        {\"template\":{\"data\":{\"barpolar\":[{\"marker\":{\"line\":{\"color\":\"rgb(17,17,17)\",\"width\":0.5},\"pattern\":{\"fillmode\":\"overlay\",\"size\":10,\"solidity\":0.2}},\"type\":\"barpolar\"}],\"bar\":[{\"error_x\":{\"color\":\"#f2f5fa\"},\"error_y\":{\"color\":\"#f2f5fa\"},\"marker\":{\"line\":{\"color\":\"rgb(17,17,17)\",\"width\":0.5},\"pattern\":{\"fillmode\":\"overlay\",\"size\":10,\"solidity\":0.2}},\"type\":\"bar\"}],\"carpet\":[{\"aaxis\":{\"endlinecolor\":\"#A2B1C6\",\"gridcolor\":\"#506784\",\"linecolor\":\"#506784\",\"minorgridcolor\":\"#506784\",\"startlinecolor\":\"#A2B1C6\"},\"baxis\":{\"endlinecolor\":\"#A2B1C6\",\"gridcolor\":\"#506784\",\"linecolor\":\"#506784\",\"minorgridcolor\":\"#506784\",\"startlinecolor\":\"#A2B1C6\"},\"type\":\"carpet\"}],\"choropleth\":[{\"colorbar\":{\"outlinewidth\":0,\"ticks\":\"\"},\"type\":\"choropleth\"}],\"contourcarpet\":[{\"colorbar\":{\"outlinewidth\":0,\"ticks\":\"\"},\"type\":\"contourcarpet\"}],\"contour\":[{\"colorbar\":{\"outlinewidth\":0,\"ticks\":\"\"},\"colorscale\":[[0.0,\"#0d0887\"],[0.1111111111111111,\"#46039f\"],[0.2222222222222222,\"#7201a8\"],[0.3333333333333333,\"#9c179e\"],[0.4444444444444444,\"#bd3786\"],[0.5555555555555556,\"#d8576b\"],[0.6666666666666666,\"#ed7953\"],[0.7777777777777778,\"#fb9f3a\"],[0.8888888888888888,\"#fdca26\"],[1.0,\"#f0f921\"]],\"type\":\"contour\"}],\"heatmapgl\":[{\"colorbar\":{\"outlinewidth\":0,\"ticks\":\"\"},\"colorscale\":[[0.0,\"#0d0887\"],[0.1111111111111111,\"#46039f\"],[0.2222222222222222,\"#7201a8\"],[0.3333333333333333,\"#9c179e\"],[0.4444444444444444,\"#bd3786\"],[0.5555555555555556,\"#d8576b\"],[0.6666666666666666,\"#ed7953\"],[0.7777777777777778,\"#fb9f3a\"],[0.8888888888888888,\"#fdca26\"],[1.0,\"#f0f921\"]],\"type\":\"heatmapgl\"}],\"heatmap\":[{\"colorbar\":{\"outlinewidth\":0,\"ticks\":\"\"},\"colorscale\":[[0.0,\"#0d0887\"],[0.1111111111111111,\"#46039f\"],[0.2222222222222222,\"#7201a8\"],[0.3333333333333333,\"#9c179e\"],[0.4444444444444444,\"#bd3786\"],[0.5555555555555556,\"#d8576b\"],[0.6666666666666666,\"#ed7953\"],[0.7777777777777778,\"#fb9f3a\"],[0.8888888888888888,\"#fdca26\"],[1.0,\"#f0f921\"]],\"type\":\"heatmap\"}],\"histogram2dcontour\":[{\"colorbar\":{\"outlinewidth\":0,\"ticks\":\"\"},\"colorscale\":[[0.0,\"#0d0887\"],[0.1111111111111111,\"#46039f\"],[0.2222222222222222,\"#7201a8\"],[0.3333333333333333,\"#9c179e\"],[0.4444444444444444,\"#bd3786\"],[0.5555555555555556,\"#d8576b\"],[0.6666666666666666,\"#ed7953\"],[0.7777777777777778,\"#fb9f3a\"],[0.8888888888888888,\"#fdca26\"],[1.0,\"#f0f921\"]],\"type\":\"histogram2dcontour\"}],\"histogram2d\":[{\"colorbar\":{\"outlinewidth\":0,\"ticks\":\"\"},\"colorscale\":[[0.0,\"#0d0887\"],[0.1111111111111111,\"#46039f\"],[0.2222222222222222,\"#7201a8\"],[0.3333333333333333,\"#9c179e\"],[0.4444444444444444,\"#bd3786\"],[0.5555555555555556,\"#d8576b\"],[0.6666666666666666,\"#ed7953\"],[0.7777777777777778,\"#fb9f3a\"],[0.8888888888888888,\"#fdca26\"],[1.0,\"#f0f921\"]],\"type\":\"histogram2d\"}],\"histogram\":[{\"marker\":{\"pattern\":{\"fillmode\":\"overlay\",\"size\":10,\"solidity\":0.2}},\"type\":\"histogram\"}],\"mesh3d\":[{\"colorbar\":{\"outlinewidth\":0,\"ticks\":\"\"},\"type\":\"mesh3d\"}],\"parcoords\":[{\"line\":{\"colorbar\":{\"outlinewidth\":0,\"ticks\":\"\"}},\"type\":\"parcoords\"}],\"pie\":[{\"automargin\":true,\"type\":\"pie\"}],\"scatter3d\":[{\"line\":{\"colorbar\":{\"outlinewidth\":0,\"ticks\":\"\"}},\"marker\":{\"colorbar\":{\"outlinewidth\":0,\"ticks\":\"\"}},\"type\":\"scatter3d\"}],\"scattercarpet\":[{\"marker\":{\"colorbar\":{\"outlinewidth\":0,\"ticks\":\"\"}},\"type\":\"scattercarpet\"}],\"scattergeo\":[{\"marker\":{\"colorbar\":{\"outlinewidth\":0,\"ticks\":\"\"}},\"type\":\"scattergeo\"}],\"scattergl\":[{\"marker\":{\"line\":{\"color\":\"#283442\"}},\"type\":\"scattergl\"}],\"scattermapbox\":[{\"marker\":{\"colorbar\":{\"outlinewidth\":0,\"ticks\":\"\"}},\"type\":\"scattermapbox\"}],\"scatterpolargl\":[{\"marker\":{\"colorbar\":{\"outlinewidth\":0,\"ticks\":\"\"}},\"type\":\"scatterpolargl\"}],\"scatterpolar\":[{\"marker\":{\"colorbar\":{\"outlinewidth\":0,\"ticks\":\"\"}},\"type\":\"scatterpolar\"}],\"scatter\":[{\"marker\":{\"line\":{\"color\":\"#283442\"}},\"type\":\"scatter\"}],\"scatterternary\":[{\"marker\":{\"colorbar\":{\"outlinewidth\":0,\"ticks\":\"\"}},\"type\":\"scatterternary\"}],\"surface\":[{\"colorbar\":{\"outlinewidth\":0,\"ticks\":\"\"},\"colorscale\":[[0.0,\"#0d0887\"],[0.1111111111111111,\"#46039f\"],[0.2222222222222222,\"#7201a8\"],[0.3333333333333333,\"#9c179e\"],[0.4444444444444444,\"#bd3786\"],[0.5555555555555556,\"#d8576b\"],[0.6666666666666666,\"#ed7953\"],[0.7777777777777778,\"#fb9f3a\"],[0.8888888888888888,\"#fdca26\"],[1.0,\"#f0f921\"]],\"type\":\"surface\"}],\"table\":[{\"cells\":{\"fill\":{\"color\":\"#506784\"},\"line\":{\"color\":\"rgb(17,17,17)\"}},\"header\":{\"fill\":{\"color\":\"#2a3f5f\"},\"line\":{\"color\":\"rgb(17,17,17)\"}},\"type\":\"table\"}]},\"layout\":{\"annotationdefaults\":{\"arrowcolor\":\"#f2f5fa\",\"arrowhead\":0,\"arrowwidth\":1},\"autotypenumbers\":\"strict\",\"coloraxis\":{\"colorbar\":{\"outlinewidth\":0,\"ticks\":\"\"}},\"colorscale\":{\"diverging\":[[0,\"#8e0152\"],[0.1,\"#c51b7d\"],[0.2,\"#de77ae\"],[0.3,\"#f1b6da\"],[0.4,\"#fde0ef\"],[0.5,\"#f7f7f7\"],[0.6,\"#e6f5d0\"],[0.7,\"#b8e186\"],[0.8,\"#7fbc41\"],[0.9,\"#4d9221\"],[1,\"#276419\"]],\"sequential\":[[0.0,\"#0d0887\"],[0.1111111111111111,\"#46039f\"],[0.2222222222222222,\"#7201a8\"],[0.3333333333333333,\"#9c179e\"],[0.4444444444444444,\"#bd3786\"],[0.5555555555555556,\"#d8576b\"],[0.6666666666666666,\"#ed7953\"],[0.7777777777777778,\"#fb9f3a\"],[0.8888888888888888,\"#fdca26\"],[1.0,\"#f0f921\"]],\"sequentialminus\":[[0.0,\"#0d0887\"],[0.1111111111111111,\"#46039f\"],[0.2222222222222222,\"#7201a8\"],[0.3333333333333333,\"#9c179e\"],[0.4444444444444444,\"#bd3786\"],[0.5555555555555556,\"#d8576b\"],[0.6666666666666666,\"#ed7953\"],[0.7777777777777778,\"#fb9f3a\"],[0.8888888888888888,\"#fdca26\"],[1.0,\"#f0f921\"]]},\"colorway\":[\"#636efa\",\"#EF553B\",\"#00cc96\",\"#ab63fa\",\"#FFA15A\",\"#19d3f3\",\"#FF6692\",\"#B6E880\",\"#FF97FF\",\"#FECB52\"],\"font\":{\"color\":\"#f2f5fa\"},\"geo\":{\"bgcolor\":\"rgb(17,17,17)\",\"lakecolor\":\"rgb(17,17,17)\",\"landcolor\":\"rgb(17,17,17)\",\"showlakes\":true,\"showland\":true,\"subunitcolor\":\"#506784\"},\"hoverlabel\":{\"align\":\"left\"},\"hovermode\":\"closest\",\"mapbox\":{\"style\":\"dark\"},\"paper_bgcolor\":\"rgb(17,17,17)\",\"plot_bgcolor\":\"rgb(17,17,17)\",\"polar\":{\"angularaxis\":{\"gridcolor\":\"#506784\",\"linecolor\":\"#506784\",\"ticks\":\"\"},\"bgcolor\":\"rgb(17,17,17)\",\"radialaxis\":{\"gridcolor\":\"#506784\",\"linecolor\":\"#506784\",\"ticks\":\"\"}},\"scene\":{\"xaxis\":{\"backgroundcolor\":\"rgb(17,17,17)\",\"gridcolor\":\"#506784\",\"gridwidth\":2,\"linecolor\":\"#506784\",\"showbackground\":true,\"ticks\":\"\",\"zerolinecolor\":\"#C8D4E3\"},\"yaxis\":{\"backgroundcolor\":\"rgb(17,17,17)\",\"gridcolor\":\"#506784\",\"gridwidth\":2,\"linecolor\":\"#506784\",\"showbackground\":true,\"ticks\":\"\",\"zerolinecolor\":\"#C8D4E3\"},\"zaxis\":{\"backgroundcolor\":\"rgb(17,17,17)\",\"gridcolor\":\"#506784\",\"gridwidth\":2,\"linecolor\":\"#506784\",\"showbackground\":true,\"ticks\":\"\",\"zerolinecolor\":\"#C8D4E3\"}},\"shapedefaults\":{\"line\":{\"color\":\"#f2f5fa\"}},\"sliderdefaults\":{\"bgcolor\":\"#C8D4E3\",\"bordercolor\":\"rgb(17,17,17)\",\"borderwidth\":1,\"tickwidth\":0},\"ternary\":{\"aaxis\":{\"gridcolor\":\"#506784\",\"linecolor\":\"#506784\",\"ticks\":\"\"},\"baxis\":{\"gridcolor\":\"#506784\",\"linecolor\":\"#506784\",\"ticks\":\"\"},\"bgcolor\":\"rgb(17,17,17)\",\"caxis\":{\"gridcolor\":\"#506784\",\"linecolor\":\"#506784\",\"ticks\":\"\"}},\"title\":{\"x\":0.05},\"updatemenudefaults\":{\"bgcolor\":\"#506784\",\"borderwidth\":0},\"xaxis\":{\"automargin\":true,\"gridcolor\":\"#283442\",\"linecolor\":\"#506784\",\"ticks\":\"\",\"title\":{\"standoff\":15},\"zerolinecolor\":\"#283442\",\"zerolinewidth\":2},\"yaxis\":{\"automargin\":true,\"gridcolor\":\"#283442\",\"linecolor\":\"#506784\",\"ticks\":\"\",\"title\":{\"standoff\":15},\"zerolinecolor\":\"#283442\",\"zerolinewidth\":2}}},\"xaxis\":{\"anchor\":\"y\",\"domain\":[0.0,1.0]},\"yaxis\":{\"anchor\":\"x\",\"domain\":[0.0,1.0]},\"width\":600,\"height\":400},                        {\"responsive\": true}                    ).then(function(){\n",
              "                            \n",
              "var gd = document.getElementById('3191882e-844c-407f-ae8b-f8bf9c994c26');\n",
              "var x = new MutationObserver(function (mutations, observer) {{\n",
              "        var display = window.getComputedStyle(gd).display;\n",
              "        if (!display || display === 'none') {{\n",
              "            console.log([gd, 'removed!']);\n",
              "            Plotly.purge(gd);\n",
              "            observer.disconnect();\n",
              "        }}\n",
              "}});\n",
              "\n",
              "// Listen for the removal of the full notebook cells\n",
              "var notebookContainer = gd.closest('#notebook-container');\n",
              "if (notebookContainer) {{\n",
              "    x.observe(notebookContainer, {childList: true});\n",
              "}}\n",
              "\n",
              "// Listen for the clearing of the current output cell\n",
              "var outputEl = gd.closest('.output');\n",
              "if (outputEl) {{\n",
              "    x.observe(outputEl, {childList: true});\n",
              "}}\n",
              "\n",
              "                        })                };                            </script>        </div>\n",
              "</body>\n",
              "</html>"
            ]
          },
          "metadata": {}
        }
      ]
    },
    {
      "cell_type": "code",
      "source": [
        "Gp = fK*exp(-ftheta*s)/(ftau*s+1)\n",
        "Gc =2.8\n",
        "Gm = 1\n",
        "Gfb = Gc*Gp/(1+Gp*Gc*Gm)\n",
        "Gfb=simplify(Gfb)\n",
        "t,y=sim(Gfb, lambda t: 1., N=500, dt=0.1)\n",
        "fig4=make_subplots()\n",
        "fig4.add_scatter(x=t, y= y)\n",
        "fig4.update_layout(width=600, height=400, template='plotly_dark')"
      ],
      "metadata": {
        "colab": {
          "base_uri": "https://localhost:8080/",
          "height": 417
        },
        "id": "JkJZ8nVwbSqS",
        "outputId": "4e0bfd41-7446-41b3-a6c9-99ce585cee72"
      },
      "execution_count": 22,
      "outputs": [
        {
          "output_type": "display_data",
          "data": {
            "text/html": [
              "<html>\n",
              "<head><meta charset=\"utf-8\" /></head>\n",
              "<body>\n",
              "    <div>            <script src=\"https://cdnjs.cloudflare.com/ajax/libs/mathjax/2.7.5/MathJax.js?config=TeX-AMS-MML_SVG\"></script><script type=\"text/javascript\">if (window.MathJax && window.MathJax.Hub && window.MathJax.Hub.Config) {window.MathJax.Hub.Config({SVG: {font: \"STIX-Web\"}});}</script>                <script type=\"text/javascript\">window.PlotlyConfig = {MathJaxConfig: 'local'};</script>\n",
              "        <script charset=\"utf-8\" src=\"https://cdn.plot.ly/plotly-2.35.2.min.js\"></script>                <div id=\"c6a99960-d83e-40ab-9917-2ed4dc2c3f57\" class=\"plotly-graph-div\" style=\"height:400px; width:600px;\"></div>            <script type=\"text/javascript\">                                    window.PLOTLYENV=window.PLOTLYENV || {};                                    if (document.getElementById(\"c6a99960-d83e-40ab-9917-2ed4dc2c3f57\")) {                    Plotly.newPlot(                        \"c6a99960-d83e-40ab-9917-2ed4dc2c3f57\",                        [{\"x\":[0.0,0.1,0.2,0.30000000000000004,0.4,0.5,0.6000000000000001,0.7000000000000001,0.8,0.9,1.0,1.1,1.2000000000000002,1.3,1.4000000000000001,1.5,1.6,1.7000000000000002,1.8,1.9000000000000001,2.0,2.1,2.2,2.3000000000000003,2.4000000000000004,2.5,2.6,2.7,2.8000000000000003,2.9000000000000004,3.0,3.1,3.2,3.3000000000000003,3.4000000000000004,3.5,3.6,3.7,3.8000000000000003,3.9000000000000004,4.0,4.1000000000000005,4.2,4.3,4.4,4.5,4.6000000000000005,4.7,4.800000000000001,4.9,5.0,5.1000000000000005,5.2,5.300000000000001,5.4,5.5,5.6000000000000005,5.7,5.800000000000001,5.9,6.0,6.1000000000000005,6.2,6.300000000000001,6.4,6.5,6.6000000000000005,6.7,6.800000000000001,6.9,7.0,7.1000000000000005,7.2,7.300000000000001,7.4,7.5,7.6000000000000005,7.7,7.800000000000001,7.9,8.0,8.1,8.200000000000001,8.3,8.4,8.5,8.6,8.700000000000001,8.8,8.9,9.0,9.1,9.200000000000001,9.3,9.4,9.5,9.600000000000001,9.700000000000001,9.8,9.9,10.0,10.100000000000001,10.200000000000001,10.3,10.4,10.5,10.600000000000001,10.700000000000001,10.8,10.9,11.0,11.100000000000001,11.200000000000001,11.3,11.4,11.5,11.600000000000001,11.700000000000001,11.8,11.9,12.0,12.100000000000001,12.200000000000001,12.3,12.4,12.5,12.600000000000001,12.700000000000001,12.8,12.9,13.0,13.100000000000001,13.200000000000001,13.3,13.4,13.5,13.600000000000001,13.700000000000001,13.8,13.9,14.0,14.100000000000001,14.200000000000001,14.3,14.4,14.5,14.600000000000001,14.700000000000001,14.8,14.9,15.0,15.100000000000001,15.200000000000001,15.3,15.4,15.5,15.600000000000001,15.700000000000001,15.8,15.9,16.0,16.1,16.2,16.3,16.400000000000002,16.5,16.6,16.7,16.8,16.900000000000002,17.0,17.1,17.2,17.3,17.400000000000002,17.5,17.6,17.7,17.8,17.900000000000002,18.0,18.1,18.2,18.3,18.400000000000002,18.5,18.6,18.7,18.8,18.900000000000002,19.0,19.1,19.200000000000003,19.3,19.400000000000002,19.5,19.6,19.700000000000003,19.8,19.900000000000002,20.0,20.1,20.200000000000003,20.3,20.400000000000002,20.5,20.6,20.700000000000003,20.8,20.900000000000002,21.0,21.1,21.200000000000003,21.3,21.400000000000002,21.5,21.6,21.700000000000003,21.8,21.900000000000002,22.0,22.1,22.200000000000003,22.3,22.400000000000002,22.5,22.6,22.700000000000003,22.8,22.900000000000002,23.0,23.1,23.200000000000003,23.3,23.400000000000002,23.5,23.6,23.700000000000003,23.8,23.900000000000002,24.0,24.1,24.200000000000003,24.3,24.400000000000002,24.5,24.6,24.700000000000003,24.8,24.900000000000002,25.0,25.1,25.200000000000003,25.3,25.400000000000002,25.5,25.6,25.700000000000003,25.8,25.900000000000002,26.0,26.1,26.200000000000003,26.3,26.400000000000002,26.5,26.6,26.700000000000003,26.8,26.900000000000002,27.0,27.1,27.200000000000003,27.3,27.400000000000002,27.5,27.6,27.700000000000003,27.8,27.900000000000002,28.0,28.1,28.200000000000003,28.3,28.400000000000002,28.5,28.6,28.700000000000003,28.8,28.900000000000002,29.0,29.1,29.200000000000003,29.3,29.400000000000002,29.5,29.6,29.700000000000003,29.8,29.900000000000002,30.0,30.1,30.200000000000003,30.3,30.400000000000002,30.5,30.6,30.700000000000003,30.8,30.900000000000002,31.0,31.1,31.200000000000003,31.3,31.400000000000002,31.5,31.6,31.700000000000003,31.8,31.900000000000002,32.0,32.1,32.2,32.300000000000004,32.4,32.5,32.6,32.7,32.800000000000004,32.9,33.0,33.1,33.2,33.300000000000004,33.4,33.5,33.6,33.7,33.800000000000004,33.9,34.0,34.1,34.2,34.300000000000004,34.4,34.5,34.6,34.7,34.800000000000004,34.9,35.0,35.1,35.2,35.300000000000004,35.4,35.5,35.6,35.7,35.800000000000004,35.9,36.0,36.1,36.2,36.300000000000004,36.4,36.5,36.6,36.7,36.800000000000004,36.9,37.0,37.1,37.2,37.300000000000004,37.4,37.5,37.6,37.7,37.800000000000004,37.9,38.0,38.1,38.2,38.300000000000004,38.400000000000006,38.5,38.6,38.7,38.800000000000004,38.900000000000006,39.0,39.1,39.2,39.300000000000004,39.400000000000006,39.5,39.6,39.7,39.800000000000004,39.900000000000006,40.0,40.1,40.2,40.300000000000004,40.400000000000006,40.5,40.6,40.7,40.800000000000004,40.900000000000006,41.0,41.1,41.2,41.300000000000004,41.400000000000006,41.5,41.6,41.7,41.800000000000004,41.900000000000006,42.0,42.1,42.2,42.300000000000004,42.400000000000006,42.5,42.6,42.7,42.800000000000004,42.900000000000006,43.0,43.1,43.2,43.300000000000004,43.400000000000006,43.5,43.6,43.7,43.800000000000004,43.900000000000006,44.0,44.1,44.2,44.300000000000004,44.400000000000006,44.5,44.6,44.7,44.800000000000004,44.900000000000006,45.0,45.1,45.2,45.300000000000004,45.400000000000006,45.5,45.6,45.7,45.800000000000004,45.900000000000006,46.0,46.1,46.2,46.300000000000004,46.400000000000006,46.5,46.6,46.7,46.800000000000004,46.900000000000006,47.0,47.1,47.2,47.300000000000004,47.400000000000006,47.5,47.6,47.7,47.800000000000004,47.900000000000006,48.0,48.1,48.2,48.300000000000004,48.400000000000006,48.5,48.6,48.7,48.800000000000004,48.900000000000006,49.0,49.1,49.2,49.300000000000004,49.400000000000006,49.5,49.6,49.7,49.800000000000004,49.900000000000006],\"y\":[0.0,0.0,0.0,0.0,0.0,0.0,0.0,0.0,0.0,0.0,0.0,0.0,0.0,0.0,0.0,0.0,0.0,0.0,0.0,0.0,0.0,0.0,0.0,0.0,0.0,0.0,0.0007124685454301801,0.07873773834749834,0.15486829441959818,0.22915014672911121,0.3016281879679881,0.3723462206839231,0.44134698375268944,0.5086721782076422,0.5743624924419923,0.6384576267990858,0.7009963175655504,0.7620163603818051,0.821554633084089,0.8796471179918062,0.9363289236536599,0.9916343060657219,1.0455966893742479,1.0982486860757699,1.149622116726657,1.1997480291740594,1.2486567173198717,1.2963777394290301,1.3429399359932377,1.388371447160887,1.432699729743734,1.4759508113535715,1.5179856118533874,1.5499108512426645,1.575194952811384,1.5941416288166081,1.607043757371097,1.614183729528461,1.6158337859002314,1.6122563431085684,1.6037043103697668,1.5904213964953702,1.57264240758959,1.5505935357138527,1.5244926387816253,1.4945495119392074,1.4609661506809495,1.4239370059402978,1.3836492313912125,1.3402829231878646,1.2940113523640235,1.2450011901072566,1.1934127261169614,1.1394000802492588,1.083111407646053,1.0246890975398812,0.964269966736704,0.9019857105910715,0.8379914590970228,0.7734592689699912,0.7087855133845729,0.6444561144161912,0.5809227692129614,0.5186045856928254,0.457889652667326,0.3991365467655096,0.34267577845111646,0.28881117934846756,0.23782123301725439,0.18996035124362368,0.14546009784453215,0.10453036191418709,0.06736048237544492,0.03412032563525662,0.004961318081516506,-0.019982564901028222,-0.04059385177591603,-0.056770667997140124,-0.06842586793838065,-0.0754862041515967,-0.07789153254785709,-0.07559405214304768,-0.06855757843392156,-0.05675690968804502,-0.04018156098929479,-0.018951422863268425,0.006815610417066325,0.036963144864216625,0.07130469625759954,0.10962689899832534,0.15169251711920595,0.197243267092009,0.2460024616640521,0.29767748356227575,0.35196209752425994,0.40853860875179043,0.46707987553296887,0.5272511834429129,0.5887119882104391,0.6511175340281149,0.7141203537853762,0.7773716574185294,0.840522614296887,0.9032255353007727,0.9651349599940311,1.0259086540508817,1.085208521863803,1.1427014390359675,1.198060009355477,1.2509632622128057,1.301097913846033,1.3481727041228269,1.3919126101497423,1.43206301978896,1.4683912544169995,1.5006880063965926,1.5287685145374068,1.5524734982117372,1.5716698695852866,1.5862512422765234,1.5961382536683204,1.601278717059991,1.6016476188641835,1.597246975118952,1.5881055606985306,1.574278523764777,1.5558468972028638,1.5329170180276253,1.5056198650291683,1.474110324246133,1.4385663912105693,1.3991883182982217,1.356197714940434,1.3098366079072263,1.2603664683292428,1.2080672096274043,1.1532360754626592,1.0961849497080904,1.0372389539212796,0.9767343693213625,0.9150165933902809,0.8524380375020977,0.789355994299373,0.7261304935632443,0.6631221633980418,0.6006901117591285,0.5391898416870481,0.4789712120644392,0.42037645427774406,0.36373825383730296,0.3093779047802514,0.25760354354547654,0.20870846796272535,0.16296954603364916,0.12064571829629524,0.0819765967511574,0.04718116258233231,0.016456564226980313,-0.010022983273770691,-0.03210719727277472,-0.049670624999677504,-0.06261343979853919,-0.07086212528439509,-0.07436987306479903,-0.0731169106088274,-0.06711063279206532,-0.056385572056268596,-0.04100320289736907,-0.021051583478887165,0.003355161826259228,0.0320775140189014,0.06495137925363259,0.10178905005498984,0.1423803005127179,0.18649360742690912,0.23387748891517193,0.284261951638378,0.3373600375393879,0.3928694608117314,0.45047432571383705,0.5098469158117686,0.5706495452620229,0.6325364628292099,0.6951557994653669,0.7581515504521279,0.821165583319162,0.883839662996016,0.9458174858762802,1.0067467132233665,1.066280975042441,1.124081847957396,1.179820787529808,1.2331810048830645,1.283859275891333,1.3315676719723588,1.3760352021264346,1.4170093565468596,1.4542575428637543,1.4875684068609094,1.516753030313035,1.5416459994187006,1.5621063381433167,1.5780183016287481,1.5892920256648482,1.5958640290468467,1.5976975664560455,1.5947828302947955,1.5871370006763326,1.574804143512291,1.5578549573526894,1.5363863703125908,1.5105209890644262,1.4804064024839894,1.4462143431173118,1.4081397103748716,1.366399462233032,1.3212313805479932,1.272892717377266,1.2216587299507957,1.1678211127260951,1.1116863355813953,1.0535738977650884,0.9938145077140601,0.9327481992758768,0.8707223952199153,0.8080899291997192,0.745207037533893,0.6824313323072393,0.6201197673587178,0.5586266087212021,0.4983014210119331,0.43948708114520263,0.3825178305536762,0.3277173768646061,0.2753970556864431,0.22585406282305978,0.179369766851011,0.13620811157402163,0.09661411741142303,0.06081249028703661,0.02900634604026145,0.001376057547414862,-0.02192176876894061,-0.040755181193514144,-0.05501763063427018,-0.06462857391406443,-0.06953392898647635,-0.06970637948123383,-0.06514552685652407,-0.05587788931623862,-0.041956747534057544,-0.023461838107347456,-0.0004988965367141074,0.026800947613701612,0.058281919879322616,0.09376449006823744,0.13304639634100895,0.17590379833538808,0.22209255275103834,0.27134960412452935,0.32339448288149153,0.3779309021534153,0.4346484442930133,0.49322432751674966,0.5533252426468777,0.6146092495199549,0.676727722278233,0.7393273324939349,0.8020520588445416,0.864545211907469,0.9264514625520834,0.987418862384792,1.0471008447470846,1.105158194877597,1.16126097802599,1.2150904145482162,1.2663406913177382,1.3147206991532487,1.3599556863887232,1.4017888191927048,1.4399826397782431,1.474320414229262,1.5046073622997074,1.53067176221526,1.552365924219259,1.5695670273511333,1.5821778147226733,1.5901271433605904,1.5933703855089267,1.591889679127341,1.5856940261770303,1.574819238150576,1.5593277291706782,1.5393081578478016,1.5148749199475042,1.4861674947664882,1.4533496489487119,1.4166085022841384,1.3761534608179542,1.332215023353102,1.2850434681491638,1.2349074273017986,1.1820923569254675,1.1268989118538948,1.0696412341148303,1.010645164924594,0.9502463903812893,0.8887885314107083,0.8266211888340103,0.7640979546794322,0.7015744010501034,0.6394060579857533,0.5779463918167657,0.517544795504601,0.4585446023930348,0.4012811346602179,0.34607979756324797,0.2932542303054645,0.2431045240337069,0.19591551709027066,0.15195517720400012,0.11147307980978317,0.0746989911381227,0.041841564119791806,0.013087154508142662,-0.01140123606296793,-0.031484884090375864,-0.04705013004350943,-0.058009021585095924,-0.06429981053053672,-0.06588730073819908,-0.06276304497104618,-0.05494538962923749,-0.042479367118607975,-0.025436436486404444,-0.003914073818352968,0.02196478525478067,0.05205244775250003,0.0861773062307263,0.12414481754846057,0.16573861193267914,0.2107217260189981,0.2588379528416906,0.30981330108234123,0.3633575552662733,0.41916592802281016,0.47692079500290463,0.5362935025789607,0.5969462380386817,0.6585339516308232,0.7207063195270386,0.7831097365325397,0.8453893272106912,0.907190963983013,0.9681632807280324,1.027959670429348,1.086240255515325,1.1426738196897839,1.196939690273154,1.248729560356602,1.297749240415178,1.3437203294283808,1.386381796015714,1.4254914606074325,1.4608273702347334,1.4921890581352004,1.5193986810252433,1.5423020275877857,1.5607693924565134,1.5746963107435223,1.584004148950784,1.5886405489229722,1.5885797223352724,1.5838225940599666,1.5743967936151373,1.5603564947627782,1.5417821041870658,1.5187798010416422,1.4914809300025307,1.4600412512960481,1.424640051983928,1.385479123576302,1.3427816118026918,1.2967907450973748,1.247768449044388,1.1959938546749962,1.1417617091130603,1.0853806976179945,1.0271716865776674,0.9674658974519523,0.9066030220590103,0.8449292899286228,0.7827954987182417,0.7205550188958572,0.6585617840390375,0.5971682781796441,0.5367235316392032,0.47757113675031826,0.4200472947447874,0.3644789049107817,0.3111817068794879,0.2604584865982585,0.21259735618394376,0.16787011742851896,0.12653071825249382,0.08881381087171643,0.05493341986380392,0.02508172769453702,-0.0005720154044306214,-0.02188245102298222,-0.038728936184667447,-0.051016226316966305,-0.05867501371341123,-0.06166231844353962,-0.05996172950599431,-0.05358349487198014,-0.04256445992568176,-0.026967854670397546,-0.0068829309290361716,0.017575548379517122,0.0462679649657849,0.07903064215029965,0.11567677855006704,0.15599751314485805,0.19976311565074398,0.24672429541660099,0.29661362138616243,0.3491470450374791,0.4040255176272615,0.4609366925321729,0.5195567029965531,0.5795520051684157,0.6405812759354559,0.7022973547627183,0.7643492184844132,0.8263839778165574,0.8880488842349218,0.9489933358051259,1.0088708705593334,1.0673411360859177,1.1240718241353571,1.178740559245854,1.231036730654896,1.280663257087024,1.3273382743907631,1.370796736437834,1.4107919201920718,1.4470968264014856,1.4795054679616106,1.50783403863783,1.5319219555157266,1.5516327692672907,1.5668549370731646,1.577502453822815,1.5835153380208233,1.5848599696542107,1.5815292781178076,1.5735427791475398,1.560946460570229,1.54381251753821,1.5222389387728608,1.4963489461881603,1.4662902910988742,1.4322344110329834,1.3943754519602476,1.3529291615133996,1.3081316595113885,1.2602380927910677,1.2095211820105778,1.156269668701202,1.100786671410528,1.0433879602956393,0.9844001599877097,0.924158890955835,0.8630068599466416,0.8012919103642873,0.7393650436819836,0.677578423139621,0.6162833710811811,0.5558283713206844],\"type\":\"scatter\"}],                        {\"template\":{\"data\":{\"barpolar\":[{\"marker\":{\"line\":{\"color\":\"rgb(17,17,17)\",\"width\":0.5},\"pattern\":{\"fillmode\":\"overlay\",\"size\":10,\"solidity\":0.2}},\"type\":\"barpolar\"}],\"bar\":[{\"error_x\":{\"color\":\"#f2f5fa\"},\"error_y\":{\"color\":\"#f2f5fa\"},\"marker\":{\"line\":{\"color\":\"rgb(17,17,17)\",\"width\":0.5},\"pattern\":{\"fillmode\":\"overlay\",\"size\":10,\"solidity\":0.2}},\"type\":\"bar\"}],\"carpet\":[{\"aaxis\":{\"endlinecolor\":\"#A2B1C6\",\"gridcolor\":\"#506784\",\"linecolor\":\"#506784\",\"minorgridcolor\":\"#506784\",\"startlinecolor\":\"#A2B1C6\"},\"baxis\":{\"endlinecolor\":\"#A2B1C6\",\"gridcolor\":\"#506784\",\"linecolor\":\"#506784\",\"minorgridcolor\":\"#506784\",\"startlinecolor\":\"#A2B1C6\"},\"type\":\"carpet\"}],\"choropleth\":[{\"colorbar\":{\"outlinewidth\":0,\"ticks\":\"\"},\"type\":\"choropleth\"}],\"contourcarpet\":[{\"colorbar\":{\"outlinewidth\":0,\"ticks\":\"\"},\"type\":\"contourcarpet\"}],\"contour\":[{\"colorbar\":{\"outlinewidth\":0,\"ticks\":\"\"},\"colorscale\":[[0.0,\"#0d0887\"],[0.1111111111111111,\"#46039f\"],[0.2222222222222222,\"#7201a8\"],[0.3333333333333333,\"#9c179e\"],[0.4444444444444444,\"#bd3786\"],[0.5555555555555556,\"#d8576b\"],[0.6666666666666666,\"#ed7953\"],[0.7777777777777778,\"#fb9f3a\"],[0.8888888888888888,\"#fdca26\"],[1.0,\"#f0f921\"]],\"type\":\"contour\"}],\"heatmapgl\":[{\"colorbar\":{\"outlinewidth\":0,\"ticks\":\"\"},\"colorscale\":[[0.0,\"#0d0887\"],[0.1111111111111111,\"#46039f\"],[0.2222222222222222,\"#7201a8\"],[0.3333333333333333,\"#9c179e\"],[0.4444444444444444,\"#bd3786\"],[0.5555555555555556,\"#d8576b\"],[0.6666666666666666,\"#ed7953\"],[0.7777777777777778,\"#fb9f3a\"],[0.8888888888888888,\"#fdca26\"],[1.0,\"#f0f921\"]],\"type\":\"heatmapgl\"}],\"heatmap\":[{\"colorbar\":{\"outlinewidth\":0,\"ticks\":\"\"},\"colorscale\":[[0.0,\"#0d0887\"],[0.1111111111111111,\"#46039f\"],[0.2222222222222222,\"#7201a8\"],[0.3333333333333333,\"#9c179e\"],[0.4444444444444444,\"#bd3786\"],[0.5555555555555556,\"#d8576b\"],[0.6666666666666666,\"#ed7953\"],[0.7777777777777778,\"#fb9f3a\"],[0.8888888888888888,\"#fdca26\"],[1.0,\"#f0f921\"]],\"type\":\"heatmap\"}],\"histogram2dcontour\":[{\"colorbar\":{\"outlinewidth\":0,\"ticks\":\"\"},\"colorscale\":[[0.0,\"#0d0887\"],[0.1111111111111111,\"#46039f\"],[0.2222222222222222,\"#7201a8\"],[0.3333333333333333,\"#9c179e\"],[0.4444444444444444,\"#bd3786\"],[0.5555555555555556,\"#d8576b\"],[0.6666666666666666,\"#ed7953\"],[0.7777777777777778,\"#fb9f3a\"],[0.8888888888888888,\"#fdca26\"],[1.0,\"#f0f921\"]],\"type\":\"histogram2dcontour\"}],\"histogram2d\":[{\"colorbar\":{\"outlinewidth\":0,\"ticks\":\"\"},\"colorscale\":[[0.0,\"#0d0887\"],[0.1111111111111111,\"#46039f\"],[0.2222222222222222,\"#7201a8\"],[0.3333333333333333,\"#9c179e\"],[0.4444444444444444,\"#bd3786\"],[0.5555555555555556,\"#d8576b\"],[0.6666666666666666,\"#ed7953\"],[0.7777777777777778,\"#fb9f3a\"],[0.8888888888888888,\"#fdca26\"],[1.0,\"#f0f921\"]],\"type\":\"histogram2d\"}],\"histogram\":[{\"marker\":{\"pattern\":{\"fillmode\":\"overlay\",\"size\":10,\"solidity\":0.2}},\"type\":\"histogram\"}],\"mesh3d\":[{\"colorbar\":{\"outlinewidth\":0,\"ticks\":\"\"},\"type\":\"mesh3d\"}],\"parcoords\":[{\"line\":{\"colorbar\":{\"outlinewidth\":0,\"ticks\":\"\"}},\"type\":\"parcoords\"}],\"pie\":[{\"automargin\":true,\"type\":\"pie\"}],\"scatter3d\":[{\"line\":{\"colorbar\":{\"outlinewidth\":0,\"ticks\":\"\"}},\"marker\":{\"colorbar\":{\"outlinewidth\":0,\"ticks\":\"\"}},\"type\":\"scatter3d\"}],\"scattercarpet\":[{\"marker\":{\"colorbar\":{\"outlinewidth\":0,\"ticks\":\"\"}},\"type\":\"scattercarpet\"}],\"scattergeo\":[{\"marker\":{\"colorbar\":{\"outlinewidth\":0,\"ticks\":\"\"}},\"type\":\"scattergeo\"}],\"scattergl\":[{\"marker\":{\"line\":{\"color\":\"#283442\"}},\"type\":\"scattergl\"}],\"scattermapbox\":[{\"marker\":{\"colorbar\":{\"outlinewidth\":0,\"ticks\":\"\"}},\"type\":\"scattermapbox\"}],\"scatterpolargl\":[{\"marker\":{\"colorbar\":{\"outlinewidth\":0,\"ticks\":\"\"}},\"type\":\"scatterpolargl\"}],\"scatterpolar\":[{\"marker\":{\"colorbar\":{\"outlinewidth\":0,\"ticks\":\"\"}},\"type\":\"scatterpolar\"}],\"scatter\":[{\"marker\":{\"line\":{\"color\":\"#283442\"}},\"type\":\"scatter\"}],\"scatterternary\":[{\"marker\":{\"colorbar\":{\"outlinewidth\":0,\"ticks\":\"\"}},\"type\":\"scatterternary\"}],\"surface\":[{\"colorbar\":{\"outlinewidth\":0,\"ticks\":\"\"},\"colorscale\":[[0.0,\"#0d0887\"],[0.1111111111111111,\"#46039f\"],[0.2222222222222222,\"#7201a8\"],[0.3333333333333333,\"#9c179e\"],[0.4444444444444444,\"#bd3786\"],[0.5555555555555556,\"#d8576b\"],[0.6666666666666666,\"#ed7953\"],[0.7777777777777778,\"#fb9f3a\"],[0.8888888888888888,\"#fdca26\"],[1.0,\"#f0f921\"]],\"type\":\"surface\"}],\"table\":[{\"cells\":{\"fill\":{\"color\":\"#506784\"},\"line\":{\"color\":\"rgb(17,17,17)\"}},\"header\":{\"fill\":{\"color\":\"#2a3f5f\"},\"line\":{\"color\":\"rgb(17,17,17)\"}},\"type\":\"table\"}]},\"layout\":{\"annotationdefaults\":{\"arrowcolor\":\"#f2f5fa\",\"arrowhead\":0,\"arrowwidth\":1},\"autotypenumbers\":\"strict\",\"coloraxis\":{\"colorbar\":{\"outlinewidth\":0,\"ticks\":\"\"}},\"colorscale\":{\"diverging\":[[0,\"#8e0152\"],[0.1,\"#c51b7d\"],[0.2,\"#de77ae\"],[0.3,\"#f1b6da\"],[0.4,\"#fde0ef\"],[0.5,\"#f7f7f7\"],[0.6,\"#e6f5d0\"],[0.7,\"#b8e186\"],[0.8,\"#7fbc41\"],[0.9,\"#4d9221\"],[1,\"#276419\"]],\"sequential\":[[0.0,\"#0d0887\"],[0.1111111111111111,\"#46039f\"],[0.2222222222222222,\"#7201a8\"],[0.3333333333333333,\"#9c179e\"],[0.4444444444444444,\"#bd3786\"],[0.5555555555555556,\"#d8576b\"],[0.6666666666666666,\"#ed7953\"],[0.7777777777777778,\"#fb9f3a\"],[0.8888888888888888,\"#fdca26\"],[1.0,\"#f0f921\"]],\"sequentialminus\":[[0.0,\"#0d0887\"],[0.1111111111111111,\"#46039f\"],[0.2222222222222222,\"#7201a8\"],[0.3333333333333333,\"#9c179e\"],[0.4444444444444444,\"#bd3786\"],[0.5555555555555556,\"#d8576b\"],[0.6666666666666666,\"#ed7953\"],[0.7777777777777778,\"#fb9f3a\"],[0.8888888888888888,\"#fdca26\"],[1.0,\"#f0f921\"]]},\"colorway\":[\"#636efa\",\"#EF553B\",\"#00cc96\",\"#ab63fa\",\"#FFA15A\",\"#19d3f3\",\"#FF6692\",\"#B6E880\",\"#FF97FF\",\"#FECB52\"],\"font\":{\"color\":\"#f2f5fa\"},\"geo\":{\"bgcolor\":\"rgb(17,17,17)\",\"lakecolor\":\"rgb(17,17,17)\",\"landcolor\":\"rgb(17,17,17)\",\"showlakes\":true,\"showland\":true,\"subunitcolor\":\"#506784\"},\"hoverlabel\":{\"align\":\"left\"},\"hovermode\":\"closest\",\"mapbox\":{\"style\":\"dark\"},\"paper_bgcolor\":\"rgb(17,17,17)\",\"plot_bgcolor\":\"rgb(17,17,17)\",\"polar\":{\"angularaxis\":{\"gridcolor\":\"#506784\",\"linecolor\":\"#506784\",\"ticks\":\"\"},\"bgcolor\":\"rgb(17,17,17)\",\"radialaxis\":{\"gridcolor\":\"#506784\",\"linecolor\":\"#506784\",\"ticks\":\"\"}},\"scene\":{\"xaxis\":{\"backgroundcolor\":\"rgb(17,17,17)\",\"gridcolor\":\"#506784\",\"gridwidth\":2,\"linecolor\":\"#506784\",\"showbackground\":true,\"ticks\":\"\",\"zerolinecolor\":\"#C8D4E3\"},\"yaxis\":{\"backgroundcolor\":\"rgb(17,17,17)\",\"gridcolor\":\"#506784\",\"gridwidth\":2,\"linecolor\":\"#506784\",\"showbackground\":true,\"ticks\":\"\",\"zerolinecolor\":\"#C8D4E3\"},\"zaxis\":{\"backgroundcolor\":\"rgb(17,17,17)\",\"gridcolor\":\"#506784\",\"gridwidth\":2,\"linecolor\":\"#506784\",\"showbackground\":true,\"ticks\":\"\",\"zerolinecolor\":\"#C8D4E3\"}},\"shapedefaults\":{\"line\":{\"color\":\"#f2f5fa\"}},\"sliderdefaults\":{\"bgcolor\":\"#C8D4E3\",\"bordercolor\":\"rgb(17,17,17)\",\"borderwidth\":1,\"tickwidth\":0},\"ternary\":{\"aaxis\":{\"gridcolor\":\"#506784\",\"linecolor\":\"#506784\",\"ticks\":\"\"},\"baxis\":{\"gridcolor\":\"#506784\",\"linecolor\":\"#506784\",\"ticks\":\"\"},\"bgcolor\":\"rgb(17,17,17)\",\"caxis\":{\"gridcolor\":\"#506784\",\"linecolor\":\"#506784\",\"ticks\":\"\"}},\"title\":{\"x\":0.05},\"updatemenudefaults\":{\"bgcolor\":\"#506784\",\"borderwidth\":0},\"xaxis\":{\"automargin\":true,\"gridcolor\":\"#283442\",\"linecolor\":\"#506784\",\"ticks\":\"\",\"title\":{\"standoff\":15},\"zerolinecolor\":\"#283442\",\"zerolinewidth\":2},\"yaxis\":{\"automargin\":true,\"gridcolor\":\"#283442\",\"linecolor\":\"#506784\",\"ticks\":\"\",\"title\":{\"standoff\":15},\"zerolinecolor\":\"#283442\",\"zerolinewidth\":2}}},\"xaxis\":{\"anchor\":\"y\",\"domain\":[0.0,1.0]},\"yaxis\":{\"anchor\":\"x\",\"domain\":[0.0,1.0]},\"width\":600,\"height\":400},                        {\"responsive\": true}                    ).then(function(){\n",
              "                            \n",
              "var gd = document.getElementById('c6a99960-d83e-40ab-9917-2ed4dc2c3f57');\n",
              "var x = new MutationObserver(function (mutations, observer) {{\n",
              "        var display = window.getComputedStyle(gd).display;\n",
              "        if (!display || display === 'none') {{\n",
              "            console.log([gd, 'removed!']);\n",
              "            Plotly.purge(gd);\n",
              "            observer.disconnect();\n",
              "        }}\n",
              "}});\n",
              "\n",
              "// Listen for the removal of the full notebook cells\n",
              "var notebookContainer = gd.closest('#notebook-container');\n",
              "if (notebookContainer) {{\n",
              "    x.observe(notebookContainer, {childList: true});\n",
              "}}\n",
              "\n",
              "// Listen for the clearing of the current output cell\n",
              "var outputEl = gd.closest('.output');\n",
              "if (outputEl) {{\n",
              "    x.observe(outputEl, {childList: true});\n",
              "}}\n",
              "\n",
              "                        })                };                            </script>        </div>\n",
              "</body>\n",
              "</html>"
            ]
          },
          "metadata": {}
        }
      ]
    },
    {
      "cell_type": "code",
      "source": [
        "Ku = 2.8\n",
        "Tu = 19.5 - 12.4"
      ],
      "metadata": {
        "id": "eqHTqkvMb-pZ"
      },
      "execution_count": 23,
      "outputs": []
    },
    {
      "cell_type": "code",
      "source": [],
      "metadata": {
        "id": "ZzipEpaMcz40"
      },
      "execution_count": 21,
      "outputs": []
    }
  ]
}