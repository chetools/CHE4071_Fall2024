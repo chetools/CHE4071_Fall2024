{
  "nbformat": 4,
  "nbformat_minor": 0,
  "metadata": {
    "colab": {
      "provenance": [],
      "authorship_tag": "ABX9TyMmDJ+1c3fhNSBfQN6waeNw",
      "include_colab_link": true
    },
    "kernelspec": {
      "name": "python3",
      "display_name": "Python 3"
    },
    "language_info": {
      "name": "python"
    }
  },
  "cells": [
    {
      "cell_type": "markdown",
      "metadata": {
        "id": "view-in-github",
        "colab_type": "text"
      },
      "source": [
        "<a href=\"https://colab.research.google.com/github/chetools/CHE4071_Fall2024/blob/main/TanksInSeriesLT_vs_NonLinearModel.ipynb\" target=\"_parent\"><img src=\"https://colab.research.google.com/assets/colab-badge.svg\" alt=\"Open In Colab\"/></a>"
      ]
    },
    {
      "cell_type": "code",
      "execution_count": 19,
      "metadata": {
        "colab": {
          "base_uri": "https://localhost:8080/"
        },
        "id": "2IVvN85dWumt",
        "outputId": "8a90fb2f-eeab-457d-f3fa-7062b9e4230c"
      },
      "outputs": [
        {
          "output_type": "stream",
          "name": "stdout",
          "text": [
            "Requirement already satisfied: importnb in /usr/local/lib/python3.10/dist-packages (2023.11.1)\n"
          ]
        }
      ],
      "source": [
        "!wget -N -q https://raw.githubusercontent.com/chetools/chetools/main/tools/che5.ipynb -O che5.ipynb\n",
        "!pip install importnb"
      ]
    },
    {
      "cell_type": "code",
      "source": [
        "from importnb import Notebook\n",
        "with Notebook():\n",
        "    from che5 import sim, pid, TF1, TF2, shift\n",
        "\n",
        "import numpy as np\n",
        "import jax\n",
        "import jax.numpy as jnp\n",
        "jax.config.update(\"jax_enable_x64\", True)\n",
        "\n",
        "from plotly.subplots import make_subplots\n",
        "\n",
        "import sympy\n",
        "from sympy.abc import s\n",
        "from sympy import exp, Symbol, simplify\n",
        "import scipy as sp\n",
        "import scipy.signal as sig\n",
        "from scipy.integrate import solve_ivp\n",
        "from scipy.optimize import root, minimize"
      ],
      "metadata": {
        "id": "W0bo2gMdWwAr"
      },
      "execution_count": 74,
      "outputs": []
    },
    {
      "cell_type": "code",
      "source": [
        "Ac = 0.9\n",
        "Ah = 0.2\n",
        "g = 9.8\n",
        "\n",
        "def rhs(t, v, qin):\n",
        "    qin1, qin2 = qin\n",
        "    h1, h2, h3 = v\n",
        "    q12 = Ah*jnp.sqrt(2*g*h1)\n",
        "    q23 = Ah*jnp.sqrt(2*g*h2)\n",
        "    q3 = Ah*jnp.sqrt(2*g*h3)\n",
        "\n",
        "    dh1  = (qin1 - q12)/Ac\n",
        "    dh2 = (q12 - q23 + qin2)/Ac\n",
        "    dh3 = (q23 - q3 )/Ac\n",
        "    return jnp.array([dh1, dh2, dh3])"
      ],
      "metadata": {
        "id": "-7L45cEz2nye"
      },
      "execution_count": 84,
      "outputs": []
    },
    {
      "cell_type": "code",
      "source": [
        "qin_initial_ss = np.array([0.5, 0.1])\n",
        "h_initial_ss= minimize(lambda x: 0., np.array([10., 10., 10.]), constraints=dict(type='eq', fun = lambda h: rhs(0.,h, qin_initial_ss)),\n",
        "         bounds = [[0,np.inf]]*3).x"
      ],
      "metadata": {
        "id": "jtudOqQNgY2S"
      },
      "execution_count": 85,
      "outputs": []
    },
    {
      "cell_type": "code",
      "source": [
        "A=jax.jacobian(rhs, 1)(0., h_initial_ss, qin_initial_ss)\n",
        "B=jax.jacobian(rhs, 2)(0., h_initial_ss, qin_initial_ss)"
      ],
      "metadata": {
        "id": "zXgB9dtM4KEh"
      },
      "execution_count": 86,
      "outputs": []
    },
    {
      "cell_type": "code",
      "source": [
        "TF=((s*sympy.eye(3)-sympy.Matrix(A))**-1) @ sympy.Matrix(B)\n",
        "TF"
      ],
      "metadata": {
        "colab": {
          "base_uri": "https://localhost:8080/",
          "height": 99
        },
        "id": "8TYQhTeBIuAi",
        "outputId": "bd3b8e57-74ba-463f-a1ab-f3576cf165c7"
      },
      "execution_count": 88,
      "outputs": [
        {
          "output_type": "execute_result",
          "data": {
            "text/plain": [
              "Matrix([\n",
              "[1.11111111111111*(1.0*s**2 + 1.45185185187319*s + 0.5269684499469)/(1.0*s**3 + 2.32296296299412*s**2 + 1.79169272981514*s + 0.459048071958921),                                                                                                                                                0],\n",
              "[        1.11111111111111*(0.871111111120935*s + 0.632362139934119)/(1.0*s**3 + 2.32296296299412*s**2 + 1.79169272981514*s + 0.459048071958921), 1.11111111111111*(1.0*s**2 + 1.59703703705753*s + 0.632362139934119)/(1.0*s**3 + 2.32296296299412*s**2 + 1.79169272981514*s + 0.459048071958921)],\n",
              "[                                                 0.702624599926799/(1.0*s**3 + 2.32296296299412*s**2 + 1.79169272981514*s + 0.459048071958921),           1.11111111111111*(0.725925925936593*s + 0.632362139934119)/(1.0*s**3 + 2.32296296299412*s**2 + 1.79169272981514*s + 0.459048071958921)]])"
            ],
            "text/latex": "$\\displaystyle \\left[\\begin{matrix}\\frac{1.11111111111111 \\left(1.0 s^{2} + 1.45185185187319 s + 0.5269684499469\\right)}{1.0 s^{3} + 2.32296296299412 s^{2} + 1.79169272981514 s + 0.459048071958921} & 0\\\\\\frac{1.11111111111111 \\left(0.871111111120935 s + 0.632362139934119\\right)}{1.0 s^{3} + 2.32296296299412 s^{2} + 1.79169272981514 s + 0.459048071958921} & \\frac{1.11111111111111 \\left(1.0 s^{2} + 1.59703703705753 s + 0.632362139934119\\right)}{1.0 s^{3} + 2.32296296299412 s^{2} + 1.79169272981514 s + 0.459048071958921}\\\\\\frac{0.702624599926799}{1.0 s^{3} + 2.32296296299412 s^{2} + 1.79169272981514 s + 0.459048071958921} & \\frac{1.11111111111111 \\left(0.725925925936593 s + 0.632362139934119\\right)}{1.0 s^{3} + 2.32296296299412 s^{2} + 1.79169272981514 s + 0.459048071958921}\\end{matrix}\\right]$"
          },
          "metadata": {},
          "execution_count": 88
        }
      ]
    },
    {
      "cell_type": "code",
      "source": [
        "t, h3_dev = sim(TF[2,0], lambda t: 1.)\n",
        "res = solve_ivp(lambda t, v: rhs(t, v, qin_initial_ss + np.array([1.,0.])), (0, t[-1]), h_initial_ss, method='Radau', dense_output=True)"
      ],
      "metadata": {
        "id": "gHLp2E2pPGZb"
      },
      "execution_count": 96,
      "outputs": []
    },
    {
      "cell_type": "code",
      "source": [
        "fig=make_subplots()\n",
        "fig.add_scatter(x=t,y=h3_dev+h_initial_ss[2])\n",
        "fig.add_scatter(x=t, y= res.sol(t)[2])"
      ],
      "metadata": {
        "colab": {
          "base_uri": "https://localhost:8080/",
          "height": 542
        },
        "id": "TJKk9CPfVQyt",
        "outputId": "5355a1ee-ad1b-40bf-96d8-4e4fb3025eb1"
      },
      "execution_count": 101,
      "outputs": [
        {
          "output_type": "display_data",
          "data": {
            "text/html": [
              "<html>\n",
              "<head><meta charset=\"utf-8\" /></head>\n",
              "<body>\n",
              "    <div>            <script src=\"https://cdnjs.cloudflare.com/ajax/libs/mathjax/2.7.5/MathJax.js?config=TeX-AMS-MML_SVG\"></script><script type=\"text/javascript\">if (window.MathJax && window.MathJax.Hub && window.MathJax.Hub.Config) {window.MathJax.Hub.Config({SVG: {font: \"STIX-Web\"}});}</script>                <script type=\"text/javascript\">window.PlotlyConfig = {MathJaxConfig: 'local'};</script>\n",
              "        <script charset=\"utf-8\" src=\"https://cdn.plot.ly/plotly-2.35.2.min.js\"></script>                <div id=\"5b54d0c7-8ed0-433b-8e47-cf9542d0759f\" class=\"plotly-graph-div\" style=\"height:525px; width:100%;\"></div>            <script type=\"text/javascript\">                                    window.PLOTLYENV=window.PLOTLYENV || {};                                    if (document.getElementById(\"5b54d0c7-8ed0-433b-8e47-cf9542d0759f\")) {                    Plotly.newPlot(                        \"5b54d0c7-8ed0-433b-8e47-cf9542d0759f\",                        [{\"x\":[0.0,0.1,0.2,0.30000000000000004,0.4,0.5,0.6000000000000001,0.7000000000000001,0.8,0.9,1.0,1.1,1.2000000000000002,1.3,1.4000000000000001,1.5,1.6,1.7000000000000002,1.8,1.9000000000000001,2.0,2.1,2.2,2.3000000000000003,2.4000000000000004,2.5,2.6,2.7,2.8000000000000003,2.9000000000000004,3.0,3.1,3.2,3.3000000000000003,3.4000000000000004,3.5,3.6,3.7,3.8000000000000003,3.9000000000000004,4.0,4.1000000000000005,4.2,4.3,4.4,4.5,4.6000000000000005,4.7,4.800000000000001,4.9,5.0,5.1000000000000005,5.2,5.300000000000001,5.4,5.5,5.6000000000000005,5.7,5.800000000000001,5.9,6.0,6.1000000000000005,6.2,6.300000000000001,6.4,6.5,6.6000000000000005,6.7,6.800000000000001,6.9,7.0,7.1000000000000005,7.2,7.300000000000001,7.4,7.5,7.6000000000000005,7.7,7.800000000000001,7.9,8.0,8.1,8.200000000000001,8.3,8.4,8.5,8.6,8.700000000000001,8.8,8.9,9.0,9.1,9.200000000000001,9.3,9.4,9.5],\"y\":[0.4592941834101658,0.4600181662282387,0.46184274879082754,0.46513598184723143,0.4701651191509261,0.47711258755781205,0.4860899096091533,0.4971498125006154,0.5102967324973444,0.5254959015228313,0.5426811825819725,0.5617618026550412,0.5826281155190014,0.60515651243455,0.6292135856175773,0.6546596377441865,0.6813516202849832,0.7091455741059287,0.7378986374001646,0.7674706785290022,0.7977256046614001,0.8285323911291163,0.8597658710865269,0.8913073203142066,0.9230448677745193,0.9548737587622838,0.9866964941459104,1.01842286622089,1.049969909059071,1.0812617788986438,1.1122295780494775,1.1428111339579716,1.1729507434592734,1.202598890819578,1.231711946916571,1.2602518558033533,1.2881858139337339,1.3154859464796487,1.342128984431253,1.3680959455249637,1.3933718214836233,1.4179452735664095,1.4418083380055366,1.464956142544476,1.487386634981521,1.509100324356906,1.5301000351958913,1.5503906750293954,1.5699790152535615,1.5888734852562245,1.6070839796281913,1.6246216781875418,1.6414988784730613,1.6577288403061226,1.6733256419766624,1.6883040475765556,1.702679384980992,1.7164674339639998,1.729684323926739,1.7423464407155325,1.7544703420098047,1.7660726807673333,1.7771701362247458,1.7877793519643543,1.7979168805736827,1.8075991344409048,1.816842342247471,1.8256625107381137,1.8340753913678607,1.8420964514454294,1.8497408494121705,1.8570234139154387,1.8639586263547023,1.870560606597771,1.8768431015831046,1.8828194765422088,1.8885027085935198,1.8939053824759575,1.8990396882063816,1.9039174204605267,1.908549979491626,1.9129483734148185,1.9171232216986025,1.9210847597170353,1.9248428442281265,1.9284069596549152,1.9317862250560962,1.934989401682789,1.9380249010271506,1.9409007932770215,1.9436248160987377,1.9462043836775982,1.948646595952346,1.9509582479863725,1.9531458394242411,1.9552155839875682,1.9571734189693228,1.959025014690237],\"type\":\"scatter\"},{\"x\":[0.0,0.1,0.2,0.30000000000000004,0.4,0.5,0.6000000000000001,0.7000000000000001,0.8,0.9,1.0,1.1,1.2000000000000002,1.3,1.4000000000000001,1.5,1.6,1.7000000000000002,1.8,1.9000000000000001,2.0,2.1,2.2,2.3000000000000003,2.4000000000000004,2.5,2.6,2.7,2.8000000000000003,2.9000000000000004,3.0,3.1,3.2,3.3000000000000003,3.4000000000000004,3.5,3.6,3.7,3.8000000000000003,3.9000000000000004,4.0,4.1000000000000005,4.2,4.3,4.4,4.5,4.6000000000000005,4.7,4.800000000000001,4.9,5.0,5.1000000000000005,5.2,5.300000000000001,5.4,5.5,5.6000000000000005,5.7,5.800000000000001,5.9,6.0,6.1000000000000005,6.2,6.300000000000001,6.4,6.5,6.6000000000000005,6.7,6.800000000000001,6.9,7.0,7.1000000000000005,7.2,7.300000000000001,7.4,7.5,7.6000000000000005,7.7,7.800000000000001,7.9,8.0,8.1,8.200000000000001,8.3,8.4,8.5,8.6,8.700000000000001,8.8,8.9,9.0,9.1,9.200000000000001,9.3,9.4,9.5],\"y\":[0.4591836734558931,0.45928492350692446,0.4599627939195419,0.46157098750697506,0.46437412177885046,0.4685216376983435,0.4740541864481148,0.48099992485023596,0.48935069463551695,0.49904978399889255,0.510029898736657,0.5222237446451049,0.5355691222052867,0.549967638491304,0.5653401093498287,0.5816196326068753,0.5987393060884589,0.6166322276205943,0.6352314950292961,0.654479199523206,0.674321050456017,0.6946679779716487,0.7154832775656229,0.7367302447334613,0.7583721749706857,0.7803723637728177,0.8026941066353793,0.8253006990538921,0.848155436523878,0.8712335191164774,0.8945176570972374,0.9179396474267176,0.9414842310535707,0.9651361489264496,0.988880141994007,1.0127009512048957,1.0365833175077686,1.0605119818512785,1.084471685184078,1.1084471684548203,1.1324231726121579,1.1563844386047437,1.1803157073812307,1.2042017198902712,1.228060084446959,1.251844437450718,1.2755422843366087,1.2991488290743227,1.3226592756335533,1.3460688279839927,1.3693726900953334,1.392566065937268,1.4156441594794889,1.4386021746916888,1.46143531554356,1.484138786004795,1.5067077900450865,1.529137531634127,1.5514232147416092,1.573560043337225,1.5955432213906673,1.6173679528716287,1.6390294417498017,1.6605228919948787,1.6818534794211533,1.7030301596835882,1.7240235689443637,1.7448335079719233,1.765459777534711,1.78590217840117,1.8061605113397443,1.826234577118878,1.8461241765070138,1.8658291102725963,1.8853491791840686,1.904684184009875,1.9238339255184587,1.9427982044782632,1.961576821657733,1.9801695778253112,1.9985762737494415,2.0167967101985678,2.0348306879411338,2.052678007745583,2.070338470380359,2.087811876613906,2.1050980272146678,2.122196722951087,2.1391077645916083,2.155830952904675,2.1723660886587313,2.18871297262222,2.2048714055635856,2.220841188251271,2.236622117383895,2.2522168979590957],\"type\":\"scatter\"}],                        {\"template\":{\"data\":{\"histogram2dcontour\":[{\"type\":\"histogram2dcontour\",\"colorbar\":{\"outlinewidth\":0,\"ticks\":\"\"},\"colorscale\":[[0.0,\"#0d0887\"],[0.1111111111111111,\"#46039f\"],[0.2222222222222222,\"#7201a8\"],[0.3333333333333333,\"#9c179e\"],[0.4444444444444444,\"#bd3786\"],[0.5555555555555556,\"#d8576b\"],[0.6666666666666666,\"#ed7953\"],[0.7777777777777778,\"#fb9f3a\"],[0.8888888888888888,\"#fdca26\"],[1.0,\"#f0f921\"]]}],\"choropleth\":[{\"type\":\"choropleth\",\"colorbar\":{\"outlinewidth\":0,\"ticks\":\"\"}}],\"histogram2d\":[{\"type\":\"histogram2d\",\"colorbar\":{\"outlinewidth\":0,\"ticks\":\"\"},\"colorscale\":[[0.0,\"#0d0887\"],[0.1111111111111111,\"#46039f\"],[0.2222222222222222,\"#7201a8\"],[0.3333333333333333,\"#9c179e\"],[0.4444444444444444,\"#bd3786\"],[0.5555555555555556,\"#d8576b\"],[0.6666666666666666,\"#ed7953\"],[0.7777777777777778,\"#fb9f3a\"],[0.8888888888888888,\"#fdca26\"],[1.0,\"#f0f921\"]]}],\"heatmap\":[{\"type\":\"heatmap\",\"colorbar\":{\"outlinewidth\":0,\"ticks\":\"\"},\"colorscale\":[[0.0,\"#0d0887\"],[0.1111111111111111,\"#46039f\"],[0.2222222222222222,\"#7201a8\"],[0.3333333333333333,\"#9c179e\"],[0.4444444444444444,\"#bd3786\"],[0.5555555555555556,\"#d8576b\"],[0.6666666666666666,\"#ed7953\"],[0.7777777777777778,\"#fb9f3a\"],[0.8888888888888888,\"#fdca26\"],[1.0,\"#f0f921\"]]}],\"heatmapgl\":[{\"type\":\"heatmapgl\",\"colorbar\":{\"outlinewidth\":0,\"ticks\":\"\"},\"colorscale\":[[0.0,\"#0d0887\"],[0.1111111111111111,\"#46039f\"],[0.2222222222222222,\"#7201a8\"],[0.3333333333333333,\"#9c179e\"],[0.4444444444444444,\"#bd3786\"],[0.5555555555555556,\"#d8576b\"],[0.6666666666666666,\"#ed7953\"],[0.7777777777777778,\"#fb9f3a\"],[0.8888888888888888,\"#fdca26\"],[1.0,\"#f0f921\"]]}],\"contourcarpet\":[{\"type\":\"contourcarpet\",\"colorbar\":{\"outlinewidth\":0,\"ticks\":\"\"}}],\"contour\":[{\"type\":\"contour\",\"colorbar\":{\"outlinewidth\":0,\"ticks\":\"\"},\"colorscale\":[[0.0,\"#0d0887\"],[0.1111111111111111,\"#46039f\"],[0.2222222222222222,\"#7201a8\"],[0.3333333333333333,\"#9c179e\"],[0.4444444444444444,\"#bd3786\"],[0.5555555555555556,\"#d8576b\"],[0.6666666666666666,\"#ed7953\"],[0.7777777777777778,\"#fb9f3a\"],[0.8888888888888888,\"#fdca26\"],[1.0,\"#f0f921\"]]}],\"surface\":[{\"type\":\"surface\",\"colorbar\":{\"outlinewidth\":0,\"ticks\":\"\"},\"colorscale\":[[0.0,\"#0d0887\"],[0.1111111111111111,\"#46039f\"],[0.2222222222222222,\"#7201a8\"],[0.3333333333333333,\"#9c179e\"],[0.4444444444444444,\"#bd3786\"],[0.5555555555555556,\"#d8576b\"],[0.6666666666666666,\"#ed7953\"],[0.7777777777777778,\"#fb9f3a\"],[0.8888888888888888,\"#fdca26\"],[1.0,\"#f0f921\"]]}],\"mesh3d\":[{\"type\":\"mesh3d\",\"colorbar\":{\"outlinewidth\":0,\"ticks\":\"\"}}],\"scatter\":[{\"fillpattern\":{\"fillmode\":\"overlay\",\"size\":10,\"solidity\":0.2},\"type\":\"scatter\"}],\"parcoords\":[{\"type\":\"parcoords\",\"line\":{\"colorbar\":{\"outlinewidth\":0,\"ticks\":\"\"}}}],\"scatterpolargl\":[{\"type\":\"scatterpolargl\",\"marker\":{\"colorbar\":{\"outlinewidth\":0,\"ticks\":\"\"}}}],\"bar\":[{\"error_x\":{\"color\":\"#2a3f5f\"},\"error_y\":{\"color\":\"#2a3f5f\"},\"marker\":{\"line\":{\"color\":\"#E5ECF6\",\"width\":0.5},\"pattern\":{\"fillmode\":\"overlay\",\"size\":10,\"solidity\":0.2}},\"type\":\"bar\"}],\"scattergeo\":[{\"type\":\"scattergeo\",\"marker\":{\"colorbar\":{\"outlinewidth\":0,\"ticks\":\"\"}}}],\"scatterpolar\":[{\"type\":\"scatterpolar\",\"marker\":{\"colorbar\":{\"outlinewidth\":0,\"ticks\":\"\"}}}],\"histogram\":[{\"marker\":{\"pattern\":{\"fillmode\":\"overlay\",\"size\":10,\"solidity\":0.2}},\"type\":\"histogram\"}],\"scattergl\":[{\"type\":\"scattergl\",\"marker\":{\"colorbar\":{\"outlinewidth\":0,\"ticks\":\"\"}}}],\"scatter3d\":[{\"type\":\"scatter3d\",\"line\":{\"colorbar\":{\"outlinewidth\":0,\"ticks\":\"\"}},\"marker\":{\"colorbar\":{\"outlinewidth\":0,\"ticks\":\"\"}}}],\"scattermapbox\":[{\"type\":\"scattermapbox\",\"marker\":{\"colorbar\":{\"outlinewidth\":0,\"ticks\":\"\"}}}],\"scatterternary\":[{\"type\":\"scatterternary\",\"marker\":{\"colorbar\":{\"outlinewidth\":0,\"ticks\":\"\"}}}],\"scattercarpet\":[{\"type\":\"scattercarpet\",\"marker\":{\"colorbar\":{\"outlinewidth\":0,\"ticks\":\"\"}}}],\"carpet\":[{\"aaxis\":{\"endlinecolor\":\"#2a3f5f\",\"gridcolor\":\"white\",\"linecolor\":\"white\",\"minorgridcolor\":\"white\",\"startlinecolor\":\"#2a3f5f\"},\"baxis\":{\"endlinecolor\":\"#2a3f5f\",\"gridcolor\":\"white\",\"linecolor\":\"white\",\"minorgridcolor\":\"white\",\"startlinecolor\":\"#2a3f5f\"},\"type\":\"carpet\"}],\"table\":[{\"cells\":{\"fill\":{\"color\":\"#EBF0F8\"},\"line\":{\"color\":\"white\"}},\"header\":{\"fill\":{\"color\":\"#C8D4E3\"},\"line\":{\"color\":\"white\"}},\"type\":\"table\"}],\"barpolar\":[{\"marker\":{\"line\":{\"color\":\"#E5ECF6\",\"width\":0.5},\"pattern\":{\"fillmode\":\"overlay\",\"size\":10,\"solidity\":0.2}},\"type\":\"barpolar\"}],\"pie\":[{\"automargin\":true,\"type\":\"pie\"}]},\"layout\":{\"autotypenumbers\":\"strict\",\"colorway\":[\"#636efa\",\"#EF553B\",\"#00cc96\",\"#ab63fa\",\"#FFA15A\",\"#19d3f3\",\"#FF6692\",\"#B6E880\",\"#FF97FF\",\"#FECB52\"],\"font\":{\"color\":\"#2a3f5f\"},\"hovermode\":\"closest\",\"hoverlabel\":{\"align\":\"left\"},\"paper_bgcolor\":\"white\",\"plot_bgcolor\":\"#E5ECF6\",\"polar\":{\"bgcolor\":\"#E5ECF6\",\"angularaxis\":{\"gridcolor\":\"white\",\"linecolor\":\"white\",\"ticks\":\"\"},\"radialaxis\":{\"gridcolor\":\"white\",\"linecolor\":\"white\",\"ticks\":\"\"}},\"ternary\":{\"bgcolor\":\"#E5ECF6\",\"aaxis\":{\"gridcolor\":\"white\",\"linecolor\":\"white\",\"ticks\":\"\"},\"baxis\":{\"gridcolor\":\"white\",\"linecolor\":\"white\",\"ticks\":\"\"},\"caxis\":{\"gridcolor\":\"white\",\"linecolor\":\"white\",\"ticks\":\"\"}},\"coloraxis\":{\"colorbar\":{\"outlinewidth\":0,\"ticks\":\"\"}},\"colorscale\":{\"sequential\":[[0.0,\"#0d0887\"],[0.1111111111111111,\"#46039f\"],[0.2222222222222222,\"#7201a8\"],[0.3333333333333333,\"#9c179e\"],[0.4444444444444444,\"#bd3786\"],[0.5555555555555556,\"#d8576b\"],[0.6666666666666666,\"#ed7953\"],[0.7777777777777778,\"#fb9f3a\"],[0.8888888888888888,\"#fdca26\"],[1.0,\"#f0f921\"]],\"sequentialminus\":[[0.0,\"#0d0887\"],[0.1111111111111111,\"#46039f\"],[0.2222222222222222,\"#7201a8\"],[0.3333333333333333,\"#9c179e\"],[0.4444444444444444,\"#bd3786\"],[0.5555555555555556,\"#d8576b\"],[0.6666666666666666,\"#ed7953\"],[0.7777777777777778,\"#fb9f3a\"],[0.8888888888888888,\"#fdca26\"],[1.0,\"#f0f921\"]],\"diverging\":[[0,\"#8e0152\"],[0.1,\"#c51b7d\"],[0.2,\"#de77ae\"],[0.3,\"#f1b6da\"],[0.4,\"#fde0ef\"],[0.5,\"#f7f7f7\"],[0.6,\"#e6f5d0\"],[0.7,\"#b8e186\"],[0.8,\"#7fbc41\"],[0.9,\"#4d9221\"],[1,\"#276419\"]]},\"xaxis\":{\"gridcolor\":\"white\",\"linecolor\":\"white\",\"ticks\":\"\",\"title\":{\"standoff\":15},\"zerolinecolor\":\"white\",\"automargin\":true,\"zerolinewidth\":2},\"yaxis\":{\"gridcolor\":\"white\",\"linecolor\":\"white\",\"ticks\":\"\",\"title\":{\"standoff\":15},\"zerolinecolor\":\"white\",\"automargin\":true,\"zerolinewidth\":2},\"scene\":{\"xaxis\":{\"backgroundcolor\":\"#E5ECF6\",\"gridcolor\":\"white\",\"linecolor\":\"white\",\"showbackground\":true,\"ticks\":\"\",\"zerolinecolor\":\"white\",\"gridwidth\":2},\"yaxis\":{\"backgroundcolor\":\"#E5ECF6\",\"gridcolor\":\"white\",\"linecolor\":\"white\",\"showbackground\":true,\"ticks\":\"\",\"zerolinecolor\":\"white\",\"gridwidth\":2},\"zaxis\":{\"backgroundcolor\":\"#E5ECF6\",\"gridcolor\":\"white\",\"linecolor\":\"white\",\"showbackground\":true,\"ticks\":\"\",\"zerolinecolor\":\"white\",\"gridwidth\":2}},\"shapedefaults\":{\"line\":{\"color\":\"#2a3f5f\"}},\"annotationdefaults\":{\"arrowcolor\":\"#2a3f5f\",\"arrowhead\":0,\"arrowwidth\":1},\"geo\":{\"bgcolor\":\"white\",\"landcolor\":\"#E5ECF6\",\"subunitcolor\":\"white\",\"showland\":true,\"showlakes\":true,\"lakecolor\":\"white\"},\"title\":{\"x\":0.05},\"mapbox\":{\"style\":\"light\"}}},\"xaxis\":{\"anchor\":\"y\",\"domain\":[0.0,1.0]},\"yaxis\":{\"anchor\":\"x\",\"domain\":[0.0,1.0]}},                        {\"responsive\": true}                    ).then(function(){\n",
              "                            \n",
              "var gd = document.getElementById('5b54d0c7-8ed0-433b-8e47-cf9542d0759f');\n",
              "var x = new MutationObserver(function (mutations, observer) {{\n",
              "        var display = window.getComputedStyle(gd).display;\n",
              "        if (!display || display === 'none') {{\n",
              "            console.log([gd, 'removed!']);\n",
              "            Plotly.purge(gd);\n",
              "            observer.disconnect();\n",
              "        }}\n",
              "}});\n",
              "\n",
              "// Listen for the removal of the full notebook cells\n",
              "var notebookContainer = gd.closest('#notebook-container');\n",
              "if (notebookContainer) {{\n",
              "    x.observe(notebookContainer, {childList: true});\n",
              "}}\n",
              "\n",
              "// Listen for the clearing of the current output cell\n",
              "var outputEl = gd.closest('.output');\n",
              "if (outputEl) {{\n",
              "    x.observe(outputEl, {childList: true});\n",
              "}}\n",
              "\n",
              "                        })                };                            </script>        </div>\n",
              "</body>\n",
              "</html>"
            ]
          },
          "metadata": {}
        }
      ]
    },
    {
      "cell_type": "code",
      "source": [
        "H3 = TF[2,0] U1 + TF[2,1] U2"
      ],
      "metadata": {
        "id": "L_L4pMpNUWqS"
      },
      "execution_count": null,
      "outputs": []
    }
  ]
}